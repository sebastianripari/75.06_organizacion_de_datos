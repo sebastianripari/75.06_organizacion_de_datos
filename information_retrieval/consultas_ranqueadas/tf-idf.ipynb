{
 "cells": [
  {
   "cell_type": "markdown",
   "metadata": {},
   "source": [
    "# TF-IDF (Term frequency – Inverse document frequency)"
   ]
  },
  {
   "cell_type": "markdown",
   "metadata": {},
   "source": [
    "#### Definicion"
   ]
  },
  {
   "cell_type": "markdown",
   "metadata": {},
   "source": [
    "<img src=\"imagenes/idf.png\">"
   ]
  },
  {
   "cell_type": "markdown",
   "metadata": {},
   "source": [
    "<img src=\"imagenes/ranking.png\">"
   ]
  },
  {
   "cell_type": "markdown",
   "metadata": {},
   "source": [
    "#### Ejemplo"
   ]
  },
  {
   "cell_type": "code",
   "execution_count": 3,
   "metadata": {},
   "outputs": [],
   "source": [
    "#    D\n",
    "# Documento 1: vw vw ford fiat\n",
    "# Documento 2: alfaromero lancia alfaromero\n",
    "# Documento 3: ferrari fiat alfaromero lancia \n",
    "# Documento 4: ford ford fiat chevrolet fiat \n",
    "# Documento 5: chevrolet vm chevrolet vw vw \n",
    "# Documento 6: fiat ferrari ferrari \n",
    "\n",
    "#    Q\n",
    "# Consulta: ferrari fiat"
   ]
  },
  {
   "cell_type": "markdown",
   "metadata": {},
   "source": [
    "Terminos Diferentes: vm ford fiat alfaromero lancia ferrari chevrolet => N = 7"
   ]
  },
  {
   "cell_type": "code",
   "execution_count": 5,
   "metadata": {},
   "outputs": [],
   "source": [
    "# IDF(\"ferrari\") = log( (7 + 1) / (frecuencia(\"ferarri\") + 1) )\n",
    "#                = log( 8 / (2 + 1) ) = log( 8 / 3 ) "
   ]
  },
  {
   "cell_type": "code",
   "execution_count": null,
   "metadata": {},
   "outputs": [],
   "source": [
    "# IDF(\"fiat\") = log( (7 + 1) / (frecuencia(\"fiat\") + 1) )\n",
    "#                = log( 8 / (4 + 1) ) = log( 8 / 5 ) "
   ]
  },
  {
   "cell_type": "code",
   "execution_count": 7,
   "metadata": {},
   "outputs": [],
   "source": [
    "# R(Q, D1) = f(\"ferrari\",D1) * IDF(\"ferrari\") + f(\"fiat\",D1) * IDF(\"fiat\") = 0 + 1*log(8/5) = log(8/5)\n",
    "# R(Q, D2) = f(\"ferrari\",D2) * IDF(\"ferrari\") + f(\"fiat\",D2) * IDF(\"fiat\") = 0 + 0\n",
    "# R(Q, D3) = f(\"ferrari\",D3) * IDF(\"ferrari\") + f(\"fiat\",D3) * IDF(\"fiat\") = 1*log(8/3)  + 1*log(8/5)\n",
    "# R(Q, D4) = f(\"ferrari\",D4) * IDF(\"ferrari\") + f(\"fiat\",D4) * IDF(\"fiat\") = 0 + 2*log(8/5)\n",
    "# R(Q, D5) = f(\"ferrari\",D5) * IDF(\"ferrari\") + f(\"fiat\",D5) * IDF(\"fiat\") = 0 + 0\n",
    "# R(Q, D6) = f(\"ferrari\",D6) * IDF(\"ferrari\") + f(\"fiat\",D6) * IDF(\"fiat\") = 2*log(8/3)  + 1*log(8/5)"
   ]
  },
  {
   "cell_type": "code",
   "execution_count": 8,
   "metadata": {},
   "outputs": [],
   "source": [
    "# R(Q, D1) = 0.2\n",
    "# R(Q, D2) = 0\n",
    "# R(Q, D3) = 0.42\n",
    "# R(Q, D4) = 0.4\n",
    "# R(Q, D5) = 0\n",
    "# R(Q, D6) = 1.05"
   ]
  },
  {
   "cell_type": "code",
   "execution_count": 9,
   "metadata": {},
   "outputs": [],
   "source": [
    "# Ranking\n",
    "# 1. D6\n",
    "# 2. D3\n",
    "# 3. D4\n",
    "# 4. D1\n",
    "# 5. D2 y D5"
   ]
  }
 ],
 "metadata": {
  "kernelspec": {
   "display_name": "Python 3",
   "language": "python",
   "name": "python3"
  },
  "language_info": {
   "codemirror_mode": {
    "name": "ipython",
    "version": 3
   },
   "file_extension": ".py",
   "mimetype": "text/x-python",
   "name": "python",
   "nbconvert_exporter": "python",
   "pygments_lexer": "ipython3",
   "version": "3.6.4"
  }
 },
 "nbformat": 4,
 "nbformat_minor": 2
}
