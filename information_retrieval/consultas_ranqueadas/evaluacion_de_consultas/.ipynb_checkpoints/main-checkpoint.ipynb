{
 "cells": [
  {
   "cell_type": "markdown",
   "metadata": {},
   "source": [
    "# Evaluacion de Consultas"
   ]
  },
  {
   "cell_type": "markdown",
   "metadata": {},
   "source": [
    "En esta seccion analizaremos de que forma <b>evaluar</b> el funcionamiento de un sistema de consultas rankeadas o como comparar dos sistemas y decidir cual es mejor. Cuando comparamos no siempre estaremos hablando de sistemas diferentes sino que puede tratarse del mismo sistema usando diferentes parametros, es la unica forma de realizar la sintonia fina necesaria para encontrar los parametros que mejor funcionen con nuestro set de datos."
   ]
  },
  {
   "cell_type": "markdown",
   "metadata": {},
   "source": [
    "En un sistema de consultas rankeadas la clave es la relevancia de cada documento por lo que sera necesaria la intervencion humana para determinar cuales documento son relevantes y cuales no de acuerdo a una consulta. Si podemos hacer esto entonces podemos medir la <b>precision</b> y el <b>recall</b> de una consulta. "
   ]
  },
  {
   "cell_type": "markdown",
   "metadata": {},
   "source": [
    "### Precision, Recall y F1 "
   ]
  },
  {
   "cell_type": "markdown",
   "metadata": {},
   "source": [
    "La <b>precision</b> mide la proporcion de <b>documentos relevantes recuperados</b> de los <b>documentos recuperados</b>. <br>\n",
    "El <b>recall</b> mide la proporcion de <b>documentos relevantes recuperados</b> de los <b>documentos relevantes</b>. <br>"
   ]
  },
  {
   "cell_type": "markdown",
   "metadata": {},
   "source": [
    "Podemos combinar precision <b>P</b> y recall <b>R</b> segun un parametro <b>beta</b> de acuerdo a la siguiente formula:"
   ]
  },
  {
   "cell_type": "markdown",
   "metadata": {},
   "source": [
    "<img src=\"imagenes/F.png\">"
   ]
  },
  {
   "cell_type": "markdown",
   "metadata": {},
   "source": [
    "Cuando beta = 1 se obtiene la medida <b>F1</b> que es una de las metricas mas populares para evaluar consultas."
   ]
  },
  {
   "cell_type": "markdown",
   "metadata": {},
   "source": [
    "<img src=\"imagenes/F1.png\">"
   ]
  }
 ],
 "metadata": {
  "kernelspec": {
   "display_name": "Python 3",
   "language": "python",
   "name": "python3"
  },
  "language_info": {
   "codemirror_mode": {
    "name": "ipython",
    "version": 3
   },
   "file_extension": ".py",
   "mimetype": "text/x-python",
   "name": "python",
   "nbconvert_exporter": "python",
   "pygments_lexer": "ipython3",
   "version": "3.6.4"
  }
 },
 "nbformat": 4,
 "nbformat_minor": 2
}
