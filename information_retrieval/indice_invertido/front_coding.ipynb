{
 "cells": [
  {
   "cell_type": "markdown",
   "metadata": {},
   "source": [
    "# Front Coding"
   ]
  },
  {
   "cell_type": "markdown",
   "metadata": {},
   "source": [
    "Este es un metodo para comprimir el lexico. Para aplicarlo necesitamos que los terminos esten ordenados albaticamente."
   ]
  },
  {
   "cell_type": "markdown",
   "metadata": {},
   "source": [
    "#### Ejemplo"
   ]
  },
  {
   "cell_type": "markdown",
   "metadata": {},
   "source": [
    "advance <br>\n",
    "advanced <br>\n",
    "advantage <br>\n",
    "advert <br>\n",
    "advertise <br>\n",
    "advertisement <br>\n",
    "advertising <br>"
   ]
  },
  {
   "cell_type": "code",
   "execution_count": null,
   "metadata": {},
   "outputs": [],
   "source": [
    "# chars iguales | chars diferentes | chars\n",
    "# ----------------------------------------\n",
    "# 0             | 8                | advance\n",
    "# 8             | 1                | d\n",
    "# 5             | 4                | tage\n",
    "# 3             | 6                | enture\n",
    "# ----------------------------------------\n",
    "# 0             | 6                | advert\n",
    "# 6             | 3                | ise\n",
    "# 9             | 4                | ment\n",
    "# 8             | 3                | ing"
   ]
  },
  {
   "cell_type": "markdown",
   "metadata": {},
   "source": [
    "En realidad la tercer columna no tiene directamente las palabras sino un puntero a ellas. En una tira como esta: <b>advancedtagentureadvertisementing</b>"
   ]
  }
 ],
 "metadata": {
  "kernelspec": {
   "display_name": "Python 3",
   "language": "python",
   "name": "python3"
  },
  "language_info": {
   "codemirror_mode": {
    "name": "ipython",
    "version": 3
   },
   "file_extension": ".py",
   "mimetype": "text/x-python",
   "name": "python",
   "nbconvert_exporter": "python",
   "pygments_lexer": "ipython3",
   "version": "3.6.4"
  }
 },
 "nbformat": 4,
 "nbformat_minor": 2
}
