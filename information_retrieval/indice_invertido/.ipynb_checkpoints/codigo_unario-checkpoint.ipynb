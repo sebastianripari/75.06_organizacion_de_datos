{
 "cells": [
  {
   "cell_type": "markdown",
   "metadata": {},
   "source": [
    "# Codigo Unario"
   ]
  },
  {
   "cell_type": "code",
   "execution_count": null,
   "metadata": {},
   "outputs": [],
   "source": [
    "# Distancia: 1 -> 1\n",
    "# Distancia: 2 -> 01\n",
    "# Distancia: 3 -> 001\n",
    "#      .\n",
    "#      .\n",
    "#      .\n",
    "# Distancia: n -> (n-1 0`s)1"
   ]
  },
  {
   "cell_type": "raw",
   "metadata": {},
   "source": [
    "Entonces para la distancia n el codigo unario ocupa exactamente n bits."
   ]
  },
  {
   "cell_type": "markdown",
   "metadata": {},
   "source": [
    "El codigo unario es muy eficiente cuando tenemos distancias muy chicas, ya que solo ocupa 1 bit para la distancia 1 y dos bits para la distancia 2."
   ]
  },
  {
   "cell_type": "markdown",
   "metadata": {},
   "source": [
    "Sin embargo el crecimento es muy violento en distancias grandes, una distancia de 10000 ocuparia 10000 bits."
   ]
  }
 ],
 "metadata": {
  "kernelspec": {
   "display_name": "Python 3",
   "language": "python",
   "name": "python3"
  },
  "language_info": {
   "codemirror_mode": {
    "name": "ipython",
    "version": 3
   },
   "file_extension": ".py",
   "mimetype": "text/x-python",
   "name": "python",
   "nbconvert_exporter": "python",
   "pygments_lexer": "ipython3",
   "version": "3.6.4"
  }
 },
 "nbformat": 4,
 "nbformat_minor": 2
}
