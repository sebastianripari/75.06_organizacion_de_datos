{
 "cells": [
  {
   "cell_type": "markdown",
   "metadata": {},
   "source": [
    "# Almacenamiento de Punteros"
   ]
  },
  {
   "cell_type": "markdown",
   "metadata": {},
   "source": [
    "En el set de Reuters por ejemplo teniamos un total de 100 millones de punteros. Cada puntero es un numero de documento, como tenemos 800 000 documentos cada puntero debe ocupar log2(800 000) = 20 bits, 20 * 100 millones = 2 000 millones de bits = 250 millones de bytes = 250 Mb. Esto implica mucha memoria. Asi que hay que ver como achicar este numero."
   ]
  },
  {
   "cell_type": "markdown",
   "metadata": {},
   "source": [
    "#### Almacenar Distancias"
   ]
  },
  {
   "cell_type": "code",
   "execution_count": 1,
   "metadata": {},
   "outputs": [],
   "source": [
    "# elefante: 1, 2, 3, 6, 7, 10, 11"
   ]
  },
  {
   "cell_type": "markdown",
   "metadata": {},
   "source": [
    "Guardo las distancias. De esta forma los numeros son mas chicos, y se repiten mas."
   ]
  },
  {
   "cell_type": "code",
   "execution_count": null,
   "metadata": {},
   "outputs": [],
   "source": [
    "# elefante: 1, 1, 1, 3, 1, 3, 1"
   ]
  },
  {
   "cell_type": "markdown",
   "metadata": {},
   "source": [
    "#### Almacenar cada puntero"
   ]
  },
  {
   "cell_type": "markdown",
   "metadata": {},
   "source": [
    "Uso el primer bit de cada byte, para indicar si el numero sigue o no en el siguiente byte."
   ]
  },
  {
   "cell_type": "code",
   "execution_count": 2,
   "metadata": {},
   "outputs": [],
   "source": [
    "# distancia | VBcode\n",
    "# ------------------\n",
    "# 1         | 00000001\n",
    "# 130       | 10000001 00000010           | 2^7 + 2^1 = 130\n",
    "# 22567     | 10000001 10110000 10100111"
   ]
  }
 ],
 "metadata": {
  "kernelspec": {
   "display_name": "Python 3",
   "language": "python",
   "name": "python3"
  },
  "language_info": {
   "codemirror_mode": {
    "name": "ipython",
    "version": 3
   },
   "file_extension": ".py",
   "mimetype": "text/x-python",
   "name": "python",
   "nbconvert_exporter": "python",
   "pygments_lexer": "ipython3",
   "version": "3.6.4"
  }
 },
 "nbformat": 4,
 "nbformat_minor": 2
}
