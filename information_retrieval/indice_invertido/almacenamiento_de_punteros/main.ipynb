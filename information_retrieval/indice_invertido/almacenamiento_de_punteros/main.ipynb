{
 "cells": [
  {
   "cell_type": "markdown",
   "metadata": {},
   "source": [
    "# Almacenamiento de Punteros"
   ]
  },
  {
   "cell_type": "markdown",
   "metadata": {},
   "source": [
    "En el set de Reuters por ejemplo teniamos un total de 100 millones de punteros. Cada puntero es un numero de documento, como tenemos 800 000 documentos cada puntero debe ocupar log2(800 000) = 20 bits, 20 * 100 millones = 2 000 millones de bits = 250 millones de bytes = 250 Mb. Esto implica mucha memoria. Asi que hay que ver como achicar este numero."
   ]
  },
  {
   "cell_type": "markdown",
   "metadata": {},
   "source": [
    "### Usar distancias"
   ]
  },
  {
   "cell_type": "code",
   "execution_count": 1,
   "metadata": {},
   "outputs": [],
   "source": [
    "# elefante: 1, 2, 3, 6, 7, 10, 11"
   ]
  },
  {
   "cell_type": "markdown",
   "metadata": {},
   "source": [
    "Guardo las distancias. De esta forma los numeros son mas chicos, y se repiten mas."
   ]
  },
  {
   "cell_type": "code",
   "execution_count": null,
   "metadata": {},
   "outputs": [],
   "source": [
    "# elefante: 1, 1, 1, 3, 1, 3, 1"
   ]
  },
  {
   "cell_type": "markdown",
   "metadata": {},
   "source": [
    "### VBcode"
   ]
  },
  {
   "cell_type": "markdown",
   "metadata": {},
   "source": [
    "Uso el primer bit de cada byte, para indicar si el numero sigue o no en el siguiente byte."
   ]
  },
  {
   "cell_type": "code",
   "execution_count": 1,
   "metadata": {},
   "outputs": [],
   "source": [
    "# distancia | VBcode\n",
    "# ------------------\n",
    "# 1         | 00000001\n",
    "# 130       | 10000001 00000010           | 2^7 + 2^1 = 130\n",
    "# 22567     | 10000001 10110000 10100111"
   ]
  },
  {
   "cell_type": "markdown",
   "metadata": {},
   "source": [
    "### Codigo Unario"
   ]
  },
  {
   "cell_type": "code",
   "execution_count": null,
   "metadata": {},
   "outputs": [],
   "source": [
    "# Distancia: 1 -> 1\n",
    "# Distancia: 2 -> 01\n",
    "# Distancia: 3 -> 001\n",
    "#      .\n",
    "#      .\n",
    "#      .\n",
    "# Distancia: n -> (n-1 0`s)1"
   ]
  },
  {
   "cell_type": "markdown",
   "metadata": {},
   "source": [
    "Entonces para la distancia n el codigo unario ocupa exactamente n bits."
   ]
  },
  {
   "cell_type": "markdown",
   "metadata": {},
   "source": [
    "El codigo unario es muy eficiente cuando tenemos distancias muy chicas, ya que solo ocupa 1 bit para la distancia 1 y dos bits para la distancia 2."
   ]
  },
  {
   "cell_type": "markdown",
   "metadata": {},
   "source": [
    "Sin embargo el crecimento es muy violento en distancias grandes, una distancia de 10000 ocuparia 10000 bits."
   ]
  },
  {
   "cell_type": "markdown",
   "metadata": {},
   "source": [
    "### Codigos Gamma"
   ]
  },
  {
   "cell_type": "markdown",
   "metadata": {},
   "source": [
    "#### Definicion:"
   ]
  },
  {
   "cell_type": "markdown",
   "metadata": {},
   "source": [
    "<img src=\"imagenes/codigos_gamma.png\">"
   ]
  },
  {
   "cell_type": "markdown",
   "metadata": {},
   "source": [
    "#### Ejemplo:"
   ]
  },
  {
   "cell_type": "code",
   "execution_count": 2,
   "metadata": {},
   "outputs": [],
   "source": [
    "#  gamma(19) = | log2(19) + 1 en unario\n",
    "#              | 19 - 2^log2(19) en binario de log2(19) bits"
   ]
  },
  {
   "cell_type": "code",
   "execution_count": 3,
   "metadata": {},
   "outputs": [],
   "source": [
    "#  gamma(19) = | 4 + 1 en unario\n",
    "#              | 19 - 2^4 en binario de 4 bits"
   ]
  },
  {
   "cell_type": "code",
   "execution_count": 4,
   "metadata": {},
   "outputs": [],
   "source": [
    "#  gamma(19) = | 5 en unario\n",
    "#              | 19 - 16 en binario de 4 bits"
   ]
  },
  {
   "cell_type": "code",
   "execution_count": 5,
   "metadata": {},
   "outputs": [],
   "source": [
    "#  gamma(19) = | 5 en unario\n",
    "#              | 3 en binario de 4 bits"
   ]
  },
  {
   "cell_type": "code",
   "execution_count": 6,
   "metadata": {},
   "outputs": [],
   "source": [
    "#  gamma(19) = | 00001\n",
    "#              | 0011"
   ]
  },
  {
   "cell_type": "code",
   "execution_count": 7,
   "metadata": {},
   "outputs": [],
   "source": [
    "#  gamma(19) = 000010011"
   ]
  },
  {
   "cell_type": "markdown",
   "metadata": {},
   "source": [
    "#### Decodificacion:"
   ]
  },
  {
   "cell_type": "markdown",
   "metadata": {},
   "source": [
    "Se lee primero la parte unaria, hasta encontrar el primer 1, en le caso de gamma(19) = 000010011 leemos hasta el uno que es 5 en unario. Sabemos entonces que x - 2^log2(x) = 3 => x = 3 + 2^log2(x) = 3 + 2^4 = 19."
   ]
  },
  {
   "cell_type": "markdown",
   "metadata": {},
   "source": [
    "### Codigos Delta"
   ]
  },
  {
   "cell_type": "markdown",
   "metadata": {},
   "source": [
    "#### Definicion"
   ]
  },
  {
   "cell_type": "markdown",
   "metadata": {},
   "source": [
    "<img src=\"imagenes/codigos_delta.png\">"
   ]
  }
 ],
 "metadata": {
  "kernelspec": {
   "display_name": "Python 3",
   "language": "python",
   "name": "python3"
  },
  "language_info": {
   "codemirror_mode": {
    "name": "ipython",
    "version": 3
   },
   "file_extension": ".py",
   "mimetype": "text/x-python",
   "name": "python",
   "nbconvert_exporter": "python",
   "pygments_lexer": "ipython3",
   "version": "3.6.4"
  }
 },
 "nbformat": 4,
 "nbformat_minor": 2
}
