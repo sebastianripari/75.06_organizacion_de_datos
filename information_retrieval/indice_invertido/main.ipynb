{
 "cells": [
  {
   "cell_type": "markdown",
   "metadata": {},
   "source": [
    "# Indice Invertido (II)"
   ]
  },
  {
   "cell_type": "markdown",
   "metadata": {},
   "source": [
    "Un Indice Invertido (II) es aquel que tiene para cada palabra una lista de numeros indicando a en que documentos aparece esa palabra. A el conjunto de palabras del II se le denomina <b>Lexico</b>, y a los numeros que indican los documentos en donde aparecen las palabras se le denomina <b>Punteros</b>."
   ]
  },
  {
   "cell_type": "markdown",
   "metadata": {},
   "source": [
    "#### Ejemplo"
   ]
  },
  {
   "cell_type": "markdown",
   "metadata": {},
   "source": [
    "Documento 1: La historia de Singapur  <br>\n",
    "Documento 2: El precio de la historia <br>\n",
    "Documento 3: Turismo en Singapur"
   ]
  },
  {
   "cell_type": "markdown",
   "metadata": {},
   "source": [
    "de: 1, 2 <br>\n",
    "el: 2 <br>\n",
    "en: 3 <br>\n",
    "historia: 1, 2 <br>\n",
    "la: 1, 2 <br>\n",
    "precio: 2 <br>\n",
    "singapur: 1, 3 <br>\n",
    "turismo: 3 <br>"
   ]
  }
 ],
 "metadata": {
  "kernelspec": {
   "display_name": "Python 3",
   "language": "python",
   "name": "python3"
  },
  "language_info": {
   "codemirror_mode": {
    "name": "ipython",
    "version": 3
   },
   "file_extension": ".py",
   "mimetype": "text/x-python",
   "name": "python",
   "nbconvert_exporter": "python",
   "pygments_lexer": "ipython3",
   "version": "3.6.4"
  }
 },
 "nbformat": 4,
 "nbformat_minor": 2
}
