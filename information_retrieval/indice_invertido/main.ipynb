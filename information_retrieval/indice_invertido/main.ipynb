{
 "cells": [
  {
   "cell_type": "markdown",
   "metadata": {},
   "source": [
    "# Indice Invertido (II)"
   ]
  },
  {
   "cell_type": "markdown",
   "metadata": {},
   "source": [
    "### Definicion: "
   ]
  },
  {
   "cell_type": "markdown",
   "metadata": {},
   "source": [
    "Un <b>Indice Invertido (II)</b> es aquel que tiene para cada palabra una lista de numeros indicando a en que documentos aparece esa palabra. A el conjunto de palabras del II se le denomina <b>Lexico</b>, y a los numeros que indican los documentos en donde aparecen las palabras se le denomina <b>Punteros</b>."
   ]
  },
  {
   "cell_type": "markdown",
   "metadata": {},
   "source": [
    "#### Ejemplo"
   ]
  },
  {
   "cell_type": "markdown",
   "metadata": {},
   "source": [
    "Documento 1: La historia de Singapur  <br>\n",
    "Documento 2: El precio de la historia <br>\n",
    "Documento 3: Turismo en Singapur"
   ]
  },
  {
   "cell_type": "markdown",
   "metadata": {},
   "source": [
    "de: 1, 2 <br>\n",
    "el: 2 <br>\n",
    "en: 3 <br>\n",
    "historia: 1, 2 <br>\n",
    "la: 1, 2 <br>\n",
    "precio: 2 <br>\n",
    "singapur: 1, 3 <br>\n",
    "turismo: 3 <br>"
   ]
  },
  {
   "cell_type": "markdown",
   "metadata": {},
   "source": [
    "### Construccion: "
   ]
  },
  {
   "cell_type": "markdown",
   "metadata": {},
   "source": [
    "Para la construccion de un II vamos a seguir un proceso basado en recorrer los datos secuencialmente, generar un archivo auxiliar, ordenarlo y recorriendo el archivo auxiliar ordenado construir el indice invertido."
   ]
  },
  {
   "cell_type": "markdown",
   "metadata": {},
   "source": [
    "Usemos el siguiente <b>ejemplo</b>:"
   ]
  },
  {
   "cell_type": "markdown",
   "metadata": {},
   "source": [
    "Documento 1: La historia de Singapur  <br>\n",
    "Documento 2: El precio de la historia <br>\n",
    "Documento 3: Turismo en Singapur"
   ]
  },
  {
   "cell_type": "markdown",
   "metadata": {},
   "source": [
    "En la primera fase vamos a recorrer secuencialmente la coleccion armando un archivo auxiliar en donde indiquemos el termino y su documento. "
   ]
  },
  {
   "cell_type": "markdown",
   "metadata": {},
   "source": [
    "<img src=\"construir_indice_invertido_tabla_uno.png\">"
   ]
  },
  {
   "cell_type": "markdown",
   "metadata": {},
   "source": [
    "<b>Ordenando</b> el archivo por <b>termino</b> y <b>documento</b>."
   ]
  },
  {
   "cell_type": "markdown",
   "metadata": {},
   "source": [
    "<img src=\"construir_indice_invertido_tabla_dos.png\">"
   ]
  },
  {
   "cell_type": "markdown",
   "metadata": {},
   "source": [
    "Luego recorriendo este archivo secuencialmente podemos construir el indice. El primer termino es \"de\" y ocurre en los documentos 1 y 2, por lo tanto sus distancias son 1 y 1, etc..."
   ]
  },
  {
   "cell_type": "markdown",
   "metadata": {},
   "source": [
    "### Que Indexar"
   ]
  },
  {
   "cell_type": "markdown",
   "metadata": {},
   "source": [
    "#### Parsing"
   ]
  },
  {
   "cell_type": "markdown",
   "metadata": {},
   "source": [
    "El proceso de <b>extraccion de terminos</b> a partir de los documentos no es trivial, hay muchas consideraciones a hacer, en primer lugar hay que determinar cuales son los <b>separadores</b> que nos permiten seperar los terminos, espacios en blanco, puntuacion, etc. "
   ]
  },
  {
   "cell_type": "markdown",
   "metadata": {},
   "source": [
    "#### Case Folding"
   ]
  },
  {
   "cell_type": "markdown",
   "metadata": {},
   "source": [
    "Es posible tambien decidir eliminar de nuestro indice las denominadas <b>stop words</b> que son palabras muy frecuentes como \"a\",\"que\" o en ingles \"is\", \"that\", \"the\", etc. En algunas aplicaciones eliminar stop words es fundamental para el correcto funcionamiento del algoritmo mientras que en otras los stop words ayudan a que el algoritmo funcione mucho mejor."
   ]
  },
  {
   "cell_type": "markdown",
   "metadata": {},
   "source": [
    "#### Stemming "
   ]
  },
  {
   "cell_type": "markdown",
   "metadata": {},
   "source": [
    "Finalmente podemos decidir aplicar <b>stemming</b> que consiste en reducir a las palabras a su raiz idiomatica, aplicando stemming cosas como \"advertise\" y \"advertisement\" se convierten en un mismo termino. "
   ]
  }
 ],
 "metadata": {
  "kernelspec": {
   "display_name": "Python 3",
   "language": "python",
   "name": "python3"
  },
  "language_info": {
   "codemirror_mode": {
    "name": "ipython",
    "version": 3
   },
   "file_extension": ".py",
   "mimetype": "text/x-python",
   "name": "python",
   "nbconvert_exporter": "python",
   "pygments_lexer": "ipython3",
   "version": "3.6.4"
  }
 },
 "nbformat": 4,
 "nbformat_minor": 2
}
