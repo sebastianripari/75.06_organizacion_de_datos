{
 "cells": [
  {
   "cell_type": "markdown",
   "metadata": {},
   "source": [
    "# Almacenamiento del Lexico"
   ]
  },
  {
   "cell_type": "markdown",
   "metadata": {},
   "source": [
    "Pongamosnos en tema para entender con un ejemplo:"
   ]
  },
  {
   "cell_type": "markdown",
   "metadata": {},
   "source": [
    "La coleccion de articulos de Reuters tiene un total de <b>400 000 terminos diferentes</b>, supongamos que la logitud promedio de cada termino es de 6 bytes."
   ]
  },
  {
   "cell_type": "markdown",
   "metadata": {},
   "source": [
    "<img src=\"imagenes/reuters.png\">"
   ]
  },
  {
   "cell_type": "markdown",
   "metadata": {},
   "source": [
    "### Lexico Concatenado"
   ]
  },
  {
   "cell_type": "markdown",
   "metadata": {},
   "source": [
    "La cuestion es como almacenamos todos estos terminos. Empecemos con una estructura super trivial, <b>concatenar todos los terminos, uno despues de otro</b>, si hacemos esto ya estariamos ocupando un espacio de 400 000 * 6 bytes = 2 400 000 bytes = 2.4 Mb. Es necesario alguna logica para saber donde se encuentra cada termino en este almacenamiento continuo de los datos, una forma es <b>almacenar el offset en el que esta cada termino</b>, entonces <b>armamos una tabla</b> indicando el offset que tiene cada termino. Para el offset necesitamos log2(2 400 000) = 22 bits, por lo tanto 24 bits osea 3 bytes, y como son 400 000 terminos, quedaria 3 * 400 000 = 1 200 000 bytes = 1.2 Mb. Asi que tenemos un total de 2.4 Mb + 1.2 Mb = 3.6 Mb para almacenar todo el lexico."
   ]
  },
  {
   "cell_type": "markdown",
   "metadata": {},
   "source": [
    "### Front Coding"
   ]
  },
  {
   "cell_type": "markdown",
   "metadata": {},
   "source": [
    "Este es un metodo para comprimir el lexico. Para aplicarlo necesitamos que los terminos esten ordenados albaticamente."
   ]
  },
  {
   "cell_type": "markdown",
   "metadata": {},
   "source": [
    "#### Ejemplo"
   ]
  },
  {
   "cell_type": "markdown",
   "metadata": {},
   "source": [
    "advance <br>\n",
    "advanced <br>\n",
    "advantage <br>\n",
    "advert <br>\n",
    "advertise <br>\n",
    "advertisement <br>\n",
    "advertising <br>"
   ]
  },
  {
   "cell_type": "code",
   "execution_count": 1,
   "metadata": {},
   "outputs": [],
   "source": [
    "# chars iguales | chars diferentes | chars\n",
    "# ----------------------------------------\n",
    "# 0             | 8                | advance\n",
    "# 8             | 1                | d\n",
    "# 5             | 4                | tage\n",
    "# 3             | 6                | enture\n",
    "# ----------------------------------------\n",
    "# 0             | 6                | advert\n",
    "# 6             | 3                | ise\n",
    "# 9             | 4                | ment\n",
    "# 8             | 3                | ing"
   ]
  },
  {
   "cell_type": "markdown",
   "metadata": {},
   "source": [
    "En realidad la tercer columna no tiene directamente las palabras sino un puntero a ellas. En una tira como esta: <b>advancedtagentureadvertisementing</b>"
   ]
  }
 ],
 "metadata": {
  "kernelspec": {
   "display_name": "Python 3",
   "language": "python",
   "name": "python3"
  },
  "language_info": {
   "codemirror_mode": {
    "name": "ipython",
    "version": 3
   },
   "file_extension": ".py",
   "mimetype": "text/x-python",
   "name": "python",
   "nbconvert_exporter": "python",
   "pygments_lexer": "ipython3",
   "version": "3.6.4"
  }
 },
 "nbformat": 4,
 "nbformat_minor": 2
}
