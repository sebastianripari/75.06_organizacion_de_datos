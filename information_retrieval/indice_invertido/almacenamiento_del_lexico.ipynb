{
 "cells": [
  {
   "cell_type": "markdown",
   "metadata": {},
   "source": [
    "# Almacenamiento del Lexico"
   ]
  },
  {
   "cell_type": "markdown",
   "metadata": {},
   "source": [
    "Pongamosnos en tema para entender con un ejemplo:"
   ]
  },
  {
   "cell_type": "markdown",
   "metadata": {},
   "source": [
    "La coleccion de articulos de Reuters tiene un total de 400 000 terminos diferentes, supongamos que la logitud promedio de cada termino es de 6 bytes."
   ]
  },
  {
   "cell_type": "markdown",
   "metadata": {},
   "source": [
    "<img src=\"reuters.png\">"
   ]
  },
  {
   "cell_type": "markdown",
   "metadata": {},
   "source": [
    "La cuestion es como almacenamos todos estos terminos. Empecemos con una estructura super trivial, concatenar todos los terminos, uno despues de otro, si hacemos esto ya estariamos ocupando un espacio de 400 000 * 6 bytes = 2 400 000 bytes = 2.4 Mb. Es necesario alguna logica para saber donde se encuentra cada termino en este almacenamiento continuo de los datos, una forma es almacenar el offset en el que esta cada termino, entonces armamos una tabla indicando el offset que tiene cada termino. Para el offset necesitamos log2(2 400 000) = 22 bits, por lo tanto 24 bits osea 3 bytes, y como son 400 000 terminos, quedaria 3 * 400 000 = 1 200 000 bytes = 1.2 Mb. Asi que tenemos un total de 2.4 Mb + 1.2 Mb = 3.6 Mb para almacenar todo el lexico."
   ]
  }
 ],
 "metadata": {
  "kernelspec": {
   "display_name": "Python 3",
   "language": "python",
   "name": "python3"
  },
  "language_info": {
   "codemirror_mode": {
    "name": "ipython",
    "version": 3
   },
   "file_extension": ".py",
   "mimetype": "text/x-python",
   "name": "python",
   "nbconvert_exporter": "python",
   "pygments_lexer": "ipython3",
   "version": "3.6.4"
  }
 },
 "nbformat": 4,
 "nbformat_minor": 2
}
