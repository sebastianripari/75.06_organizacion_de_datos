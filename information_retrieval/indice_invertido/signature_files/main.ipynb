{
 "cells": [
  {
   "cell_type": "markdown",
   "metadata": {},
   "source": [
    "# Signature Files"
   ]
  },
  {
   "cell_type": "markdown",
   "metadata": {},
   "source": [
    "En los casos en los cuales un indice invertido no puede usarse por no haber espacio suficiente podemos recurrir a un indice que tiene un costo aun menor en espacio que son los <b>signature files</b>. En un signature file vamos a usar <b>funciones de hashing</b> para obtener una representacion de cada documento. La representacion de cada documento surge de la representacion mediante hashing de cada termino, a esto lo llamamos el <b>signature del termino</b>. "
   ]
  },
  {
   "cell_type": "markdown",
   "metadata": {},
   "source": [
    "Para obtener el signature de un termino necesitamos <b>k</b> funciones de hashing cuyo espacio de direcciones sea <b>b</b> bits. Por ejemplo si b = 8 cada funcion de hashing devuelve un numero entre 0 y 7. El signature consiste simplemente en prender los bits indicados por las funciones de hashing."
   ]
  },
  {
   "cell_type": "markdown",
   "metadata": {},
   "source": [
    "Por <b>ejemplo</b> si tenemos el termino \"hola\" y <b>b = 8</b> y decidimos usar dos funciones de hashing tales que h1(\"hola\") = 3 y h2(\"hola\") = 0 el signature nos queda s(\"hola\") = 10010000. Las colisiones, si ocurren simplemente se ignoran."
   ]
  },
  {
   "cell_type": "markdown",
   "metadata": {},
   "source": [
    "<b>Para un documento D el signature del documento es el resultado de realizar un \"or\" de los signatures de todos sus terminos.</b>"
   ]
  },
  {
   "cell_type": "markdown",
   "metadata": {},
   "source": [
    "<img src=\"imagenes/signature_documento.png\">"
   ]
  },
  {
   "cell_type": "markdown",
   "metadata": {},
   "source": [
    "Por <b>ejemplo</b> si tenemos el documento D=\"hola mundo\" y usamos las mismas funciones de hashing que antes. Y sabemos que s(\"mundo\") = 10000010. Hacemos el <b>or</b>: <br> s(\"hola\") = 10010000 <b>or</b> s(\"mundo\") = 10000010 => s(\"hola mundo\") = 10010010"
   ]
  },
  {
   "cell_type": "markdown",
   "metadata": {},
   "source": [
    "## Consultas"
   ]
  },
  {
   "cell_type": "markdown",
   "metadata": {},
   "source": [
    "Para realizar una consulta puntual sobre un signature file partimos de un cierto termino \"t\" al cual le aplicamos las funciones de hashing para obtener su signature, una vez que tenemos el signature tenemos que recuperar todos lso documentos para los cuales hay un 1 en las posiciones para las cuales hay un 1 en el signature del termino. Estos documentos son los candidatos a tener el termino. Puede haber <b>falsos positivos</b> ya que en algun documento los bits pueden haber sido encendidos por otros terminos diferentes al que estamos buscando (colisiones)"
   ]
  }
 ],
 "metadata": {
  "kernelspec": {
   "display_name": "Python 3",
   "language": "python",
   "name": "python3"
  },
  "language_info": {
   "codemirror_mode": {
    "name": "ipython",
    "version": 3
   },
   "file_extension": ".py",
   "mimetype": "text/x-python",
   "name": "python",
   "nbconvert_exporter": "python",
   "pygments_lexer": "ipython3",
   "version": "3.6.4"
  }
 },
 "nbformat": 4,
 "nbformat_minor": 2
}
