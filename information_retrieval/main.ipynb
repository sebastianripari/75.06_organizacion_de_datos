{
 "cells": [
  {
   "cell_type": "markdown",
   "metadata": {},
   "source": [
    "# Information Retrieval"
   ]
  },
  {
   "cell_type": "markdown",
   "metadata": {},
   "source": [
    "Se conoce como <b>Information Retrieval</b> a la rama de la computacion que se encarga de recuperar informacion almacenada en computadoras. En otras palabras hacer consultas sobre informacion almacenada. "
   ]
  },
  {
   "cell_type": "markdown",
   "metadata": {},
   "source": [
    "### Consultas Puntuales y el Dominio de Trabajo"
   ]
  },
  {
   "cell_type": "markdown",
   "metadata": {},
   "source": [
    "Vamos a definir el dominio de un sistema de <b>information retrieval</b> como un conjunto de <b>documentos</b> en donde cada documento esta compuesto por una secuencia de <b>terminos</b>, en general un documento sera un archivo de texto o una pagina web, identificados por un <b>id</b> mientras que los terminos seran palabras."
   ]
  },
  {
   "cell_type": "markdown",
   "metadata": {},
   "source": [
    "Una <b>consulta puntual</b> consiste en recuperar todos los documentos que contienen una determinada palabra. Por ejemplo queremos todos los textos que contienen la palabra \"Singapur\". La aproximacion por fuerza bruta consiste en buscar la palabra \"Singapur\" en cada documento de nuestra coleccion y luego simplemente devolver los ids de los documentos que matchearon la consulta. Este proceso implica recorrer cada palabra de cada documento en la coleccion por lo que solo sirve para colecciones realmente muy pequenias. Para colecciones de un tamanio mediano necesitamos alguna estructura de tipo indice que nos permita resolver la consulta sin recorrer todos los documentos. La estructura mas popular para este tipo de consultas son los llamados <b>indices invertidos</b>."
   ]
  }
 ],
 "metadata": {
  "kernelspec": {
   "display_name": "Python 3",
   "language": "python",
   "name": "python3"
  },
  "language_info": {
   "codemirror_mode": {
    "name": "ipython",
    "version": 3
   },
   "file_extension": ".py",
   "mimetype": "text/x-python",
   "name": "python",
   "nbconvert_exporter": "python",
   "pygments_lexer": "ipython3",
   "version": "3.6.4"
  }
 },
 "nbformat": 4,
 "nbformat_minor": 2
}
