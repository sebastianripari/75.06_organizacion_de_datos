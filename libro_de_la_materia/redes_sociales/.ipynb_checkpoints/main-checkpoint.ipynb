{
 "cells": [
  {
   "cell_type": "markdown",
   "metadata": {},
   "source": [
    "# Red Social"
   ]
  },
  {
   "cell_type": "markdown",
   "metadata": {},
   "source": [
    "Una red social es basicamente un <b>grafo</b>, donde los <b>nodos</b> son los <b>usuarios</b> y las <b>aristas</b> las <b>relaciones</b> que estos tienen. Esta relaciones pueden ser unidireccionales o bidireccionales, por ejemplo en Facebook son bidireccionales pero en Twitter no necesariamente, ya que un usuario puede seguir a otro, pero este otro puede no seguirlo."
   ]
  }
 ],
 "metadata": {
  "kernelspec": {
   "display_name": "Python 3",
   "language": "python",
   "name": "python3"
  },
  "language_info": {
   "codemirror_mode": {
    "name": "ipython",
    "version": 3
   },
   "file_extension": ".py",
   "mimetype": "text/x-python",
   "name": "python",
   "nbconvert_exporter": "python",
   "pygments_lexer": "ipython3",
   "version": "3.7.0"
  }
 },
 "nbformat": 4,
 "nbformat_minor": 2
}
