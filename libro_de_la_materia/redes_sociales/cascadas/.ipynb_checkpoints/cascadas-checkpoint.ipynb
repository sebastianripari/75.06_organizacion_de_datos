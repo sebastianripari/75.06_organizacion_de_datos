{
 "cells": [
  {
   "cell_type": "markdown",
   "metadata": {},
   "source": [
    "# Cascadas"
   ]
  },
  {
   "cell_type": "markdown",
   "metadata": {},
   "source": [
    "Esta es la seccion que estudia el <b>flujo</b> de la informacion en las redes sociales. Estudia particularmente como se difunde, propaga una noticia x, a traves de los usuarios. Esto es suma importancia para temas como <b>marketing</b>. "
   ]
  },
  {
   "cell_type": "markdown",
   "metadata": {},
   "source": [
    "Nosotros vamos a usar un <b>modelo de difusion</b>, un criterio que hace que un nodo comparta la informacion que le ha llegado. "
   ]
  },
  {
   "cell_type": "markdown",
   "metadata": {},
   "source": [
    "<b>Modelo: </b> \"si al menos q% de mis vecinos difunden algo yo tambien lo hago\". <b>Cascada q</b>."
   ]
  },
  {
   "cell_type": "markdown",
   "metadata": {},
   "source": [
    "Tambien es interesante estudiar cuando se detiene una cascada en una red social y como maximizar la influencia, es decir, como llegar a la mayor cantidad de nodos posibles."
   ]
  }
 ],
 "metadata": {
  "kernelspec": {
   "display_name": "Python 3",
   "language": "python",
   "name": "python3"
  },
  "language_info": {
   "codemirror_mode": {
    "name": "ipython",
    "version": 3
   },
   "file_extension": ".py",
   "mimetype": "text/x-python",
   "name": "python",
   "nbconvert_exporter": "python",
   "pygments_lexer": "ipython3",
   "version": "3.6.4"
  }
 },
 "nbformat": 4,
 "nbformat_minor": 2
}
