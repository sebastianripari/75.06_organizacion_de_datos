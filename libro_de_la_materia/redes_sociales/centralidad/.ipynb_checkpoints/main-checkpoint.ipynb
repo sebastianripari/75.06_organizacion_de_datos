{
 "cells": [
  {
   "cell_type": "markdown",
   "metadata": {},
   "source": [
    "# Centralidad"
   ]
  },
  {
   "cell_type": "markdown",
   "metadata": {},
   "source": [
    "El concepto de <b>centralidad</b> en Redes Sociales es una <b>medida</b> de la <b>importancia</b> que cada nodo tiene en la Red. Hay diversas formas de medir la centralidad y cada metrica es util para diferentes tipos de redes. Se analizaran diferentes definicioens que puede haber para calcular la centradlidad de un nodo y sus aplicaciones."
   ]
  },
  {
   "cell_type": "markdown",
   "metadata": {},
   "source": [
    "<img src=\"imagenes/centralidad.png\">"
   ]
  },
  {
   "cell_type": "markdown",
   "metadata": {},
   "source": [
    "##  "
   ]
  },
  {
   "cell_type": "markdown",
   "metadata": {},
   "source": [
    "##  Grado"
   ]
  },
  {
   "cell_type": "markdown",
   "metadata": {},
   "source": [
    "El <b>grado</b> de un nodo es la medida mas simple de centralidad, a mayor cantidad de vecinos (amigos) mas importante es el nodo. "
   ]
  },
  {
   "cell_type": "markdown",
   "metadata": {},
   "source": [
    "Para la comparacion es recomendable normalizar los grados, esto se logra dividiendo el grado de los nodos por el grado maximo. Que sabemos que es N - 1."
   ]
  },
  {
   "cell_type": "markdown",
   "metadata": {},
   "source": [
    "<img src=\"imagenes/grado_normalizado.png\">"
   ]
  },
  {
   "cell_type": "markdown",
   "metadata": {},
   "source": [
    "<b>Observacion: </b> el grado no captura la importancia que tiene un nodo como nexo de dos o mas comunidades <b>(brokerage)</b>. En la figura se ve tanto Y como X tienen grado 2. Sin embargo, es logico pensar que si hay una red de comercio el nodo X es mucho mas importante y que permite comunicar a los nodos que estan a cada lado de el. Para medir esto se usa el concepto de <b>betweenness</b>"
   ]
  },
  {
   "cell_type": "markdown",
   "metadata": {},
   "source": [
    "<img src=\"imagenes/brokerage.png\">"
   ]
  },
  {
   "cell_type": "markdown",
   "metadata": {},
   "source": [
    "## Betweenness"
   ]
  },
  {
   "cell_type": "markdown",
   "metadata": {},
   "source": [
    "La definicion de <b>betweenness</b> se interpreta como la cantidad de caminos minimos que pasan por un nodo o arista."
   ]
  },
  {
   "cell_type": "markdown",
   "metadata": {},
   "source": [
    "Es decir que puede usarse tanto para calcular la <b>importancia</b> de los <b>nodos</b> como la de las <b>aristas</b>."
   ]
  },
  {
   "cell_type": "markdown",
   "metadata": {},
   "source": [
    "<b>Definicion</b> formal:"
   ]
  },
  {
   "cell_type": "markdown",
   "metadata": {},
   "source": [
    "<img src=\"imagenes/betweenness.png\">"
   ]
  },
  {
   "cell_type": "markdown",
   "metadata": {},
   "source": [
    "En donde <b>Gjk</b> es la cantidad de caminos minimos que conectan <b>j</b> con <b>k</b>, y <b>Gjk(i)</b> es la cantidad de caminos minimos entre j y k de los que participa i."
   ]
  },
  {
   "cell_type": "markdown",
   "metadata": {},
   "source": [
    "<img src=\"imagenes/betweenness_ejemplo.png\">"
   ]
  },
  {
   "cell_type": "code",
   "execution_count": 1,
   "metadata": {},
   "outputs": [],
   "source": [
    "# A-B = A-B\n",
    "# A-C = A-B-C (B suma 1 punto)\n",
    "# A-D = A-B-D (B suma 1 punto)\n",
    "# A-E = A-B-C-E o A-B-D-E (B suma 1 punto, C y D suman 1/2 punto)\n",
    "\n",
    "# B-C = B-C\n",
    "# B-D = B-D\n",
    "# B-E = B-C-E o B-D-E (C y D suman 1/2 punto)\n",
    "\n",
    "# C-D = C-B-D o C-E-D (B y E suman 1/2 punto)\n",
    "# C-E = C-E"
   ]
  },
  {
   "cell_type": "code",
   "execution_count": null,
   "metadata": {},
   "outputs": [],
   "source": [
    "# A = 0\n",
    "# B = 1 + 1 + 1 + 0.5 = 3.5\n",
    "# C = 0.5 + 0.5 = 1\n",
    "# D = 0.5 + 0.5 = 1\n",
    "# E = 0.5"
   ]
  },
  {
   "cell_type": "markdown",
   "metadata": {},
   "source": [
    "## Closeness"
   ]
  },
  {
   "cell_type": "markdown",
   "metadata": {},
   "source": [
    "En la figura que se muestra abajo se ve como el nodo amarillo, si bien tiene <b>grado</b> 1, tiene la particularidad de que se encuentra cerca del <b>centro</b> del grafo. El concepto de <b>closeness</b> esta basado en el promedio de los camininos minimos entre el nodo y todos los demas nodos de la red. Y este valor sera mas chico mientras mas central es el nodo. Por lo tanto, usaremos el reciproco en la definicion de closeness, a mayor promedio de distancias menor closeness."
   ]
  },
  {
   "cell_type": "markdown",
   "metadata": {},
   "source": [
    "<img src=\"imagenes/closeness.png\">"
   ]
  },
  {
   "cell_type": "markdown",
   "metadata": {},
   "source": [
    "#### Definicion:"
   ]
  },
  {
   "cell_type": "markdown",
   "metadata": {},
   "source": [
    "<img src=\"imagenes/closeness_definicion.png\">"
   ]
  }
 ],
 "metadata": {
  "kernelspec": {
   "display_name": "Python 3",
   "language": "python",
   "name": "python3"
  },
  "language_info": {
   "codemirror_mode": {
    "name": "ipython",
    "version": 3
   },
   "file_extension": ".py",
   "mimetype": "text/x-python",
   "name": "python",
   "nbconvert_exporter": "python",
   "pygments_lexer": "ipython3",
   "version": "3.6.4"
  }
 },
 "nbformat": 4,
 "nbformat_minor": 2
}
