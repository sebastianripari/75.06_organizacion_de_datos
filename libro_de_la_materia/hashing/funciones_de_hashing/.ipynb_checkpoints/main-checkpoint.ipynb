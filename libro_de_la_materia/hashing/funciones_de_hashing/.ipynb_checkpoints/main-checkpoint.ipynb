{
 "cells": [
  {
   "cell_type": "markdown",
   "metadata": {},
   "source": [
    "# Funciones de Hashing"
   ]
  },
  {
   "cell_type": "markdown",
   "metadata": {},
   "source": [
    "Hemos usado funciones de hashing pero hasta el momento no hemos hablado de como construir una, solo hemos mencionado las funcions de tipo fold and add pero hemos dicho que no son muy eficientes. En esta seccion vamos a estudiar algunas funciones de hashing eficientes para strings por lo que empezaremos describiendo cuales son las <b>propiedades</b> que debe cumplir una <b>funcion de hashing</b>."
   ]
  },
  {
   "cell_type": "markdown",
   "metadata": {},
   "source": [
    "#### Propiedades de una funcion de hashing"
   ]
  },
  {
   "cell_type": "markdown",
   "metadata": {},
   "source": [
    "1) La funcion tiene que ser muy <b>eficiente</b>, es decir, generar el resultado en muy poco tiempo. <br>\n",
    "2) La funcion tiene que producir la menor cantidad de colisiones posibles. "
   ]
  },
  {
   "cell_type": "markdown",
   "metadata": {},
   "source": [
    "El primer punto es muy importante y a menudo pasado por alto. El motivo por el cual usamos una funcion de hashing es para poder recuperar un dato de forma muy <b>eficiente</b> en tiempo similar a <b>O(1)</b>. Si la funcion de hashing fuera muy compleja e ineficiente podria pasar que buscar linealmente en el vector tarde menos tiempo que usar la funcion de hashing y acceder a la posicion indicada, lo cual invalidaria el uso de la funcion de hashing por completo."
   ]
  },
  {
   "cell_type": "markdown",
   "metadata": {},
   "source": [
    "El segundo punto pide <b>minimizar las colisiones</b>, lo cual no solo implica evitar, en lo posible, que nuestras claves colisionen sino que debemos intentar que la distribucion de las claves en el espacio de direcciones sea lo mas pareja posible. Es decir que si tenemos 20 datos y nuestro espacio de direcciones es 10, lo deseable es tener 10 colisiones. Si todas las claves fueran a parar a la misma posicion tendriamos 19 colisiones que seria la peor funcion de hashing posible."
   ]
  },
  {
   "cell_type": "markdown",
   "metadata": {},
   "source": [
    "En la siguientes secciones explicaremos brevemente algunas funciones de hashing que son muy eficientes y producen pocas colisiones para strings."
   ]
  }
 ],
 "metadata": {
  "kernelspec": {
   "display_name": "Python 3",
   "language": "python",
   "name": "python3"
  },
  "language_info": {
   "codemirror_mode": {
    "name": "ipython",
    "version": 3
   },
   "file_extension": ".py",
   "mimetype": "text/x-python",
   "name": "python",
   "nbconvert_exporter": "python",
   "pygments_lexer": "ipython3",
   "version": "3.6.4"
  }
 },
 "nbformat": 4,
 "nbformat_minor": 2
}
