{
 "cells": [
  {
   "cell_type": "markdown",
   "metadata": {},
   "source": [
    "# Funciones de Hashing Elementales"
   ]
  },
  {
   "cell_type": "markdown",
   "metadata": {},
   "source": [
    "En su mas basica definicion una <b>funcion de hashing</b> debe ser capaz de recibir como <b>input</b> un cierto dato cualquiera y devolver un numero acotado a un cierto intervalo. Al conjunto de claves posibles (input) lo denominaremos <b>espacio de claves</b> y al conjunto de numeros que la funcion de hashing puede devolver lo llamaremos <b>espacio de direcciones</b>. "
   ]
  },
  {
   "cell_type": "markdown",
   "metadata": {},
   "source": [
    "Por <b>ejemplo</b> consideremos una funcion de hashing que transforma un numero de patente en formato (AAA999) en un numero entre 0 y 50000. Como todas las patentes son posibles el espacio de claves es de 26^3 * 1000 = 17576000 y el espacio de direcciones es evidentemente 50000."
   ]
  },
  {
   "cell_type": "markdown",
   "metadata": {},
   "source": [
    "Analicemos ahora los dos casos posibles:\n",
    "- <b>El espacio de claves es mayor al espacio de direcciones</b>: Este suele ser el <b>caso mas frecuente</b> y es un buen motivo para justificar la necesidad de una funcion de hashing.\n",
    "- <b>El espacio de direcciones es mayor al espacio de claves</b>: Este caso es <b>menos frecuente</b> pero tambien podria llegar a darse."
   ]
  },
  {
   "cell_type": "markdown",
   "metadata": {},
   "source": [
    "### Construccion de la funcion de hashing"
   ]
  },
  {
   "cell_type": "markdown",
   "metadata": {},
   "source": [
    "Para construir una funcion de hashing necesitamos alguna forma de convertir un dato cualquiera en un numero entre 0 y m, una forma de lograr esto es convertir el dato en un numero z y luego aplicar la funcion modulo: <b>z mod m</b>. Cuando los datos son numericos esto puede hacerse directamente. Si los datos son, por ejemplo, strings de longitud fija, podemos convetir cada caracter en un codigo ASCII o tomar el binario que corresponde cada 2 caracteres y sumar para obtener un numero. Si los datos fueran de longitud variable podriamos ir tomando de a 2 bytes en binario e ir sumando y calculando modulo m, esto evita el overflow y permite reducir una tira de bits de cualquier longitud a un numero entre 0 y m que es lo que queremos. Este tipo de funciones de hashing se denominan <b>fold and add</b>, son muy faciles de entender pero desafortunadamente no son muy eficientes, suelen generar muchas mas colisiones que las deseadas y ademas no son muy rapidas. Sin embargo son utiles para entender quee slo que una funcion de hashing debe hacer."
   ]
  },
  {
   "cell_type": "markdown",
   "metadata": {},
   "source": [
    "### Tablas de Hash Elementales"
   ]
  },
  {
   "cell_type": "markdown",
   "metadata": {},
   "source": [
    "Supongamos que contamos con alguna funcion de hashing para un cierto tipo de datos. Una <b>aplicacion directa</b> de esta funcion es construir una estructura de datos muy simple y eficiente que se denomina <b>Tabla de Hash</b>. Una tabla de hash no es mas que un vector de tamanio m en el cual almacenamos los datos en la posicion indicada por la funcion de hashing aplicada al dato. De esta forma si queremos almacenar \"Roma\" en nustra tabla de hash calculamos h(\"Roma\") y si el resultado nos da por ejemplo 19 almacenamos el string en la posicion 19 de la tabla. De la misma forma usaremos la funcion de hashing para buscar datos en nuestra tabla sin tener que recorrerla ni mantenerla ordenada."
   ]
  },
  {
   "cell_type": "markdown",
   "metadata": {},
   "source": [
    "En un caso ideal una tabla de hash permite almacenar y recuperar datos O(1) lo cual es, evidentemente, muy bueno. Sin embargo esto requiere que la funcion de hashing sea <b>perfecta</b>, es decir que no produzca colisiones. Una colision se produce cuando para dos claves (datos) diferentes la funcion de hashing genera el mismo valor. Como no podemos almacenar dos datos diferentes en una misma posicion de nuestro vector necesitamos algun mecanismo para resolver las <b>colisiones</b>."
   ]
  },
  {
   "cell_type": "markdown",
   "metadata": {},
   "source": [
    "### Resolucion de Colisiones"
   ]
  },
  {
   "cell_type": "markdown",
   "metadata": {},
   "source": [
    "En esta seccion haremos un repaso muy breve de algunos metodos basicos para resolver colisiones: <b>la busqueda lineal</b> y el <b>encadenamiento de sinonimos</b>."
   ]
  },
  {
   "cell_type": "markdown",
   "metadata": {},
   "source": [
    "#### Busqueda Lineal (direccionamiento abierto o hashing cerrado)"
   ]
  },
  {
   "cell_type": "markdown",
   "metadata": {},
   "source": [
    "La <b>busqueda lineal</b> es una solucion muy sencilla al problema de las <b>colisiones</b>. Cuando queremos almacenar un dato pero su posicion esta ocupada buscamos linealmente y de forma ciclica hasta encontrar un lugar libre o bien hasta volver al lugar original en cuyo caso la tabla esta llena. Cuando queremos recuperar un dato tenemos que tener en cuenta que si en la posicion indicada por la funcion de hashing encontramos otro dato entonces el dato que buscamos podria estar en otra posicion por lo que tenemos que buscar linealmente hasta encontrar el dato o bien un lugar vacio. Notemos que si se permiten bajas no podemos detenernos al encontrar una posicion dada de baja. La busqueda lineal es sencilla pero a medida que aumenta la cantidad de datos en la tabla degrada muy rapidamente y se parece mucho a una simple busqueda lineal que es O(n) en lugar de O(1)."
   ]
  },
  {
   "cell_type": "markdown",
   "metadata": {},
   "source": [
    "#### Encadenamiento de Sinonimos (direccionamiento cerrado o hashing abierto)"
   ]
  },
  {
   "cell_type": "markdown",
   "metadata": {},
   "source": [
    "En este metodo vamos a generar una <b>lista enlazada</b> en cada posicion de nuestra <b>tabla de hash</b> para almacenar alli claves que colisionen. Nuestra estructura es entonces un <b>vector de listas</b>. Cuando queremos almacenar un dato simplemente lo agregamos a la lista que esta en la posicion indicada por la funcion de hashing. Cuando queremos buscar un dato accedemos a la lista indicada por la funcion de hashing y buscamos en la lista."
   ]
  },
  {
   "cell_type": "markdown",
   "metadata": {},
   "source": [
    "Este metodo es muy sencillo y es un poco mas eficiente que la busqueda lineal pero cuando existen muchas colisiones las listas pueden volverse bastante largas por lo que las busquedas puede tender a O(n) en lugar de O(1). No obstante es un metodo muy usado y que debemos tener en cuenta ya que tiene varias aplicaciones interesantes."
   ]
  },
  {
   "cell_type": "markdown",
   "metadata": {},
   "source": [
    "<img src=\"encadenamiento_de_sinonimos.png\">"
   ]
  }
 ],
 "metadata": {
  "kernelspec": {
   "display_name": "Python 3",
   "language": "python",
   "name": "python3"
  },
  "language_info": {
   "codemirror_mode": {
    "name": "ipython",
    "version": 3
   },
   "file_extension": ".py",
   "mimetype": "text/x-python",
   "name": "python",
   "nbconvert_exporter": "python",
   "pygments_lexer": "ipython3",
   "version": "3.6.4"
  }
 },
 "nbformat": 4,
 "nbformat_minor": 2
}
