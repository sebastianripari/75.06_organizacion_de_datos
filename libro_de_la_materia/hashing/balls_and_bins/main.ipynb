{
 "cells": [
  {
   "cell_type": "markdown",
   "metadata": {},
   "source": [
    "# Balls & Bins"
   ]
  },
  {
   "cell_type": "markdown",
   "metadata": {},
   "source": [
    "Es posible generalizar el metodo de <b>Cuckoo Hashing</b> a un esquema generico en el cual usemos <b>multiples</b> funciones de hashing. Consideremos primero el caso mas simple en el cual tenemos una tabla de hash en donde cada bucket tiene capacidad para <b>k</b> datos. Usando dos funciones de hashing tenemos dos buckets candidatos para cada clave y podemos tomar como heuristica almacenar el dato en el bucket  que tenga menor cantidad de datos. Este esquema se denomina <b>Two-Way hashing</b>. Es un esquema bastante eficiente y que requiere muy pocos detalles de programacion."
   ]
  },
  {
   "cell_type": "markdown",
   "metadata": {},
   "source": [
    "Si se quisiera buscar aun mas eficiencia se podria desarrollar un <b>grafo similar al del Cuckoo en donde indicamos por cada dato cuales son sus posiciones alternativas con una arista</b>. Con este grafo es posible realizar un balanceo de buckets de forma tal que tengan todos una cantidad pareja de datos. Esto se logra simplemente realizando moviminetos en el grafo que con consisten en invertir la direccion de las aristas."
   ]
  },
  {
   "cell_type": "markdown",
   "metadata": {},
   "source": [
    "Por ejemplo, consideremos el caso en el cual queremos insertar un dato cuyas posiciones alternativas son 3 y 5 y tenemos 2 datos en cada una de estas posiciones. Si existe alguna otra posicion con 1 solo dato es posible que exista una secuencia de movimientos que permita liberar la posicion 3 y 5 alguno de sus datos. Es facil determinar esta cadena de movimientos observando el grafo formado. "
   ]
  },
  {
   "cell_type": "markdown",
   "metadata": {},
   "source": [
    "Por ejemplo, supongamos que luego de una inserccion obtenemos el siguiente grafo. Vemos que uno de los buckets tiene 3 registros (notar que 3 flechas apuntan hacia el nodo de arriba de todo) pero hay otros que tienen solo una."
   ]
  },
  {
   "cell_type": "markdown",
   "metadata": {},
   "source": [
    "<img src=\"balls_and_bins_antes.png\">"
   ]
  },
  {
   "cell_type": "markdown",
   "metadata": {},
   "source": [
    "Observar como invirtiendo el sentido de la arista UV logramos que ninguno de los buckets tenga mas de 2 registros. Esta operacion consiste simplemente en mover un dato a su posicion alternativa. En otros casos hace falta realizar mas de un movimiento para lograr el balanceo."
   ]
  },
  {
   "cell_type": "markdown",
   "metadata": {},
   "source": [
    "<img src=\"balls_and_bins_despues.png\">"
   ]
  }
 ],
 "metadata": {
  "kernelspec": {
   "display_name": "Python 3",
   "language": "python",
   "name": "python3"
  },
  "language_info": {
   "codemirror_mode": {
    "name": "ipython",
    "version": 3
   },
   "file_extension": ".py",
   "mimetype": "text/x-python",
   "name": "python",
   "nbconvert_exporter": "python",
   "pygments_lexer": "ipython3",
   "version": "3.7.0"
  }
 },
 "nbformat": 4,
 "nbformat_minor": 2
}
