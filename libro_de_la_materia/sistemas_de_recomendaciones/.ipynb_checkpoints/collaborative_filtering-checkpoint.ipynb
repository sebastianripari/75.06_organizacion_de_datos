{
 "cells": [
  {
   "cell_type": "markdown",
   "metadata": {},
   "source": [
    "# Collaborative Filtering"
   ]
  },
  {
   "cell_type": "markdown",
   "metadata": {},
   "source": [
    "Sean <b>n</b> usuarios y <b>m</b> items. Los usuarios califican los items con un numero de 1 a 5. Podemos representar esto en una matriz de: <b>n x m</b> que denominaremos <b>matriz de utilidad</b>."
   ]
  },
  {
   "cell_type": "markdown",
   "metadata": {},
   "source": [
    "<img src=\"imagenes/matriz_de_utilidad.png\">"
   ]
  },
  {
   "cell_type": "markdown",
   "metadata": {},
   "source": [
    "Notemos que la matriz tiene muchos <b>huecos</b>. Esto se debe a que de todas las calificaciones posibles solo existen algunas pocas. Esto es en cierta forma similar a decir que la matriz es <b>dispersa</b> pero no es exactamente lo mismo: Los elementos que faltan <b>no son ceros sino que son numeros desconocidos</b>."
   ]
  },
  {
   "cell_type": "markdown",
   "metadata": {},
   "source": [
    "El objetivo de <b>Collaborative Filtering (CF)</b> es estimar las calificaciones que nos faltan en la matriz de utilidad. "
   ]
  },
  {
   "cell_type": "markdown",
   "metadata": {},
   "source": [
    "<b>CF</b> tiene dos formas de estimar las calificaciones que faltan:\n",
    "- Semejanza entre usuarios.\n",
    "- Semejanza entre items."
   ]
  },
  {
   "cell_type": "markdown",
   "metadata": {},
   "source": [
    "### Semejanza entre usuarios (User User)"
   ]
  },
  {
   "cell_type": "markdown",
   "metadata": {},
   "source": [
    "Supongamos que queremos <b>estimar las calificaciones</b> que le faltan al usuario <b>i</b>. Lo que hacemos es buscar los usuarios mas similares a <b>i</b> y luego estimar las calificaciones faltantes en base a un promedio ponderado de las calificaciones de los demas usuarios ponderadas de acuerdo a la semejanza que tengan con nuestro usuario <b>i</b>."
   ]
  },
  {
   "cell_type": "markdown",
   "metadata": {},
   "source": [
    "Necesitamos entonces una <b>funcion de semejanza</b> entre usuarios <b>sim(u,v)</b> que calcule cuan similares son dos usuarios en base a las calificaciones que han realizado los mismos. Cuanto mas parecidas sean estas calificaciones mas parecidos seran los usuarios. Usuarios que han calificado conjuntos de items disjuntos tendran semejanza nula."
   ]
  },
  {
   "cell_type": "markdown",
   "metadata": {},
   "source": [
    "Una de las funciones mas usadas para calcular la semejanza es la funcion de <b>correlacion de Pearson</b>:"
   ]
  },
  {
   "cell_type": "markdown",
   "metadata": {},
   "source": [
    "<img src=\"imagenes/correlacion_de_pearson.png\">"
   ]
  }
 ],
 "metadata": {
  "kernelspec": {
   "display_name": "Python 3",
   "language": "python",
   "name": "python3"
  },
  "language_info": {
   "codemirror_mode": {
    "name": "ipython",
    "version": 3
   },
   "file_extension": ".py",
   "mimetype": "text/x-python",
   "name": "python",
   "nbconvert_exporter": "python",
   "pygments_lexer": "ipython3",
   "version": "3.6.4"
  }
 },
 "nbformat": 4,
 "nbformat_minor": 2
}
