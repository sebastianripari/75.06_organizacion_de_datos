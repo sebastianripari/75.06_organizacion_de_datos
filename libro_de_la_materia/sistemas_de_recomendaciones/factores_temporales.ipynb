{
 "cells": [
  {
   "cell_type": "markdown",
   "metadata": {},
   "source": [
    "# Factores Temporales"
   ]
  },
  {
   "cell_type": "markdown",
   "metadata": {},
   "source": [
    "Habiamos mencionado, ya hace un buen tiempo, en este mismo apunte que los factores temporales son muy importantes en un sistema de recomendaciones. Afortunadamente es sencillo incorporar el tiempo en nuestro algoritmo. Los parametros que se ven afectados por el tiempo son bx y bi es decir la desviacion de la pelicula. Los usuarios cambian de opinion a lo largo de del tiempo y la percepcion de una pelicula tambien cambia a lo largo del tiempo."
   ]
  },
  {
   "cell_type": "markdown",
   "metadata": {},
   "source": [
    "Lo que hacemos es dividir nuestro set de entrenamiento (el 80% de los datos) en intervalos de tiempo de una cierta duracion fija, por ejemplo 10 semanas, vamos a tener entonces tantos valores de bx y bi como intervalos de tiempo tengamos en total. Al ir optimizando los parametros vamos a usar bx y el bi que correspondan segun la fecha en que fue realizada cada calificacion.  "
   ]
  },
  {
   "cell_type": "markdown",
   "metadata": {},
   "source": [
    "Planteamos entonces:"
   ]
  },
  {
   "cell_type": "markdown",
   "metadata": {},
   "source": [
    "<img src=\"imagenes/recomendacion_con_variable_temporal.png\">"
   ]
  }
 ],
 "metadata": {
  "kernelspec": {
   "display_name": "Python 3",
   "language": "python",
   "name": "python3"
  },
  "language_info": {
   "codemirror_mode": {
    "name": "ipython",
    "version": 3
   },
   "file_extension": ".py",
   "mimetype": "text/x-python",
   "name": "python",
   "nbconvert_exporter": "python",
   "pygments_lexer": "ipython3",
   "version": "3.7.0"
  }
 },
 "nbformat": 4,
 "nbformat_minor": 2
}
