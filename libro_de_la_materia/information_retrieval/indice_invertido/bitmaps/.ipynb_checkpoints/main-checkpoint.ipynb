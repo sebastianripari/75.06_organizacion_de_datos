{
 "cells": [
  {
   "cell_type": "markdown",
   "metadata": {},
   "source": [
    "# Bitmaps"
   ]
  },
  {
   "cell_type": "markdown",
   "metadata": {},
   "source": [
    "Un <b>bitmap</b> es una forma de indice muy particular, para construir un bitmap que sirva para un para un archivo de texto tenemos que tener una entrada por termino (igual que en un archivo invetido), pero lo que se guarda para cada termino es un vector de N bits (siendo N la cantidad de documentos del texto) donde cada bit es 0 o 1 segun se encuentre o no el termino en el documento. Por ejemplo tomando cada linea como documento y cada palabra como termino:"
   ]
  },
  {
   "cell_type": "markdown",
   "metadata": {},
   "source": [
    "Pedro y Pablo <br>\n",
    "Pedro corre <br>\n",
    "Pablo respira <br>\n",
    "Pedro corre y respira <br>\n",
    "Pedro corre Pedro"
   ]
  },
  {
   "cell_type": "markdown",
   "metadata": {},
   "source": [
    "El bitmap correspondiente es:"
   ]
  },
  {
   "cell_type": "markdown",
   "metadata": {},
   "source": [
    "<img src=\"imagenes/bitmap.png\">"
   ]
  },
  {
   "cell_type": "markdown",
   "metadata": {},
   "source": [
    "Los bitsmaps son excepcionalemnte comodos cuando se los utiliza para resolver consultas, por ejemplo para las consultas booleanas basta con operar haciendo ORs y ANDs de los bitmaps de los terminos buscados para obtener los documentos que son resultado de la consulta. El problema es que son un tanto extravagantes en cuanto al espacio que consumen, para TREC por ejemplo un bitmap ocuparia unos 40gb, aproximadamente 20 veces mas que el texto que indexa. Por ello si se usan bitmaps debe usarselos comprimidos."
   ]
  },
  {
   "cell_type": "markdown",
   "metadata": {},
   "source": [
    "### Compresion de Bitmaps"
   ]
  },
  {
   "cell_type": "markdown",
   "metadata": {},
   "source": [
    "Cada entrada de un indice del tipo bitmap tiene la particular caracterisitica de estar formada por algunos unos y una enorme cantidad de ceros, para comprimir este tipo de informacion puede usarse un arbol de derivacion binaria. "
   ]
  }
 ],
 "metadata": {
  "kernelspec": {
   "display_name": "Python 3",
   "language": "python",
   "name": "python3"
  },
  "language_info": {
   "codemirror_mode": {
    "name": "ipython",
    "version": 3
   },
   "file_extension": ".py",
   "mimetype": "text/x-python",
   "name": "python",
   "nbconvert_exporter": "python",
   "pygments_lexer": "ipython3",
   "version": "3.6.4"
  }
 },
 "nbformat": 4,
 "nbformat_minor": 2
}
