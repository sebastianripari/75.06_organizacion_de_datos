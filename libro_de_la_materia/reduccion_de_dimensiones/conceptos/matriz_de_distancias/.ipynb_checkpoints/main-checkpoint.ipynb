{
 "cells": [
  {
   "cell_type": "markdown",
   "metadata": {},
   "source": [
    "# Matriz de Distancias"
   ]
  },
  {
   "cell_type": "markdown",
   "metadata": {},
   "source": [
    "#### Definicion"
   ]
  },
  {
   "cell_type": "markdown",
   "metadata": {},
   "source": [
    "Es una matriz cuyos elementos \"ij\" representan las distancias entre el elemento \"i\" con el \"j\""
   ]
  },
  {
   "cell_type": "markdown",
   "metadata": {},
   "source": [
    "#### Propiedades "
   ]
  },
  {
   "cell_type": "markdown",
   "metadata": {},
   "source": [
    "Es simetrica"
   ]
  },
  {
   "cell_type": "markdown",
   "metadata": {},
   "source": [
    "#### Ejemplo"
   ]
  },
  {
   "cell_type": "markdown",
   "metadata": {},
   "source": [
    "Sean los puntos x1, x2 y x3. Construir su matriz de distancias."
   ]
  },
  {
   "cell_type": "code",
   "execution_count": 1,
   "metadata": {},
   "outputs": [],
   "source": [
    "#     | d(x1, x1) d(x1,x2) d(x1,x3) |\n",
    "# M = | d(x2, x1) d(x2,x2) d(x2,x3) |\n",
    "#     | d(x3, x1) d(x3,x2) d(x3,x3) |"
   ]
  },
  {
   "cell_type": "markdown",
   "metadata": {},
   "source": [
    "d(x1, x1) = d(x2, x2) = d(x3, x3) = 0 <br>"
   ]
  },
  {
   "cell_type": "markdown",
   "metadata": {},
   "source": [
    "d(x1, x2) = d(x2,x1)"
   ]
  },
  {
   "cell_type": "markdown",
   "metadata": {},
   "source": [
    "d(x1,x3) = d(x3,x1)"
   ]
  },
  {
   "cell_type": "markdown",
   "metadata": {},
   "source": [
    "d(x2,x3) = d(x3,x2)"
   ]
  },
  {
   "cell_type": "code",
   "execution_count": 5,
   "metadata": {},
   "outputs": [],
   "source": [
    "#     | 0         d(x1,x2) d(x1,x3) |\n",
    "# M = | d(x1, x2) 0        d(x2,x3) |\n",
    "#     | d(x1, x3) d(x2,x3) 0        |"
   ]
  }
 ],
 "metadata": {
  "kernelspec": {
   "display_name": "Python 3",
   "language": "python",
   "name": "python3"
  },
  "language_info": {
   "codemirror_mode": {
    "name": "ipython",
    "version": 3
   },
   "file_extension": ".py",
   "mimetype": "text/x-python",
   "name": "python",
   "nbconvert_exporter": "python",
   "pygments_lexer": "ipython3",
   "version": "3.6.4"
  }
 },
 "nbformat": 4,
 "nbformat_minor": 2
}
