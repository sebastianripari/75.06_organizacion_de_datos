{
 "cells": [
  {
   "cell_type": "markdown",
   "metadata": {},
   "source": [
    "# Text Rank"
   ]
  },
  {
   "cell_type": "markdown",
   "metadata": {},
   "source": [
    "Habiendo aplicado PageRank a imagenes podemos aplicar el algoritmo sobre textos. El resultado de este experimento se llama <b>TextRank</b> y es uno de los algoritmos mas efectivos para realizar resumenes automaticos. Un resumen automatico consiste en extraer de un texto sus frases mas significativas y presentarlas luego en orden de aparicion."
   ]
  },
  {
   "cell_type": "markdown",
   "metadata": {},
   "source": [
    "Por ejemplo aqui mostramos un resumen automatico del guion de Star Wars realizado por TextRank."
   ]
  },
  {
   "cell_type": "markdown",
   "metadata": {},
   "source": [
    "The Jedi Council led by Yoda reluctantly allows Obi-Wan to\n",
    "train Anakin after Qui-Gon is killed by Palpatines first appren-\n",
    "tice Darth Maul during the Battle of Naboo...When Luke asks\n",
    "about his father whom he has never met Obi-Wan tells him that\n",
    "Anakin Skywalker was a great Jedi who was betrayed and mur-\n",
    "dered by Vader..."
   ]
  },
  {
   "cell_type": "markdown",
   "metadata": {},
   "source": [
    "Para extraer las frases mas significativas TextRank arma un grafo con todas las frases del texto y usa alguna metrica de distancia entre frases para calcular la distancia entre frases, por ejemplo da buenos resultados usar TF-IDF o BM25."
   ]
  }
 ],
 "metadata": {
  "kernelspec": {
   "display_name": "Python 3",
   "language": "python",
   "name": "python3"
  },
  "language_info": {
   "codemirror_mode": {
    "name": "ipython",
    "version": 3
   },
   "file_extension": ".py",
   "mimetype": "text/x-python",
   "name": "python",
   "nbconvert_exporter": "python",
   "pygments_lexer": "ipython3",
   "version": "3.6.4"
  }
 },
 "nbformat": 4,
 "nbformat_minor": 2
}
