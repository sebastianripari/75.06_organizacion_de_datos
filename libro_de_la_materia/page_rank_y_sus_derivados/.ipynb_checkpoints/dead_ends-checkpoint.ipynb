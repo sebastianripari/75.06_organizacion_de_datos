{
 "cells": [
  {
   "cell_type": "markdown",
   "metadata": {},
   "source": [
    "# Dead Ends"
   ]
  },
  {
   "cell_type": "markdown",
   "metadata": {},
   "source": [
    "Consideremos el siguiente grafo:"
   ]
  },
  {
   "cell_type": "markdown",
   "metadata": {},
   "source": [
    "<img src=\"imagenes/dead_ends.png\">"
   ]
  },
  {
   "cell_type": "markdown",
   "metadata": {},
   "source": [
    "Y su matriz asociada:"
   ]
  },
  {
   "cell_type": "code",
   "execution_count": 1,
   "metadata": {},
   "outputs": [],
   "source": [
    "# | 0    0.5 0 0 | \n",
    "# | 0.33 0   1 0 |\n",
    "# | 0.33 0   0 0 |\n",
    "# | 0.33 0.5 0 0 |"
   ]
  },
  {
   "cell_type": "markdown",
   "metadata": {},
   "source": [
    "La pagina D es un dead-end es decir una pagina desde la cual no se puede ir a ninguna otra pagina. En esta situacion, nuestro navegante aleatorio eventualmente va a caer en D y quedara atrapado en esa pagina. Por lo tanto D va a capturar todo el PageRank y las otras paginas van a quedar en cero. El problema se hace evidente al analizar la matriz y ver que la misma no es estocastica, dado que toda la columna correspodndiente a D se encuentra en 0."
   ]
  },
  {
   "cell_type": "markdown",
   "metadata": {},
   "source": [
    "Para que PageRank funcione, la matriz siempre tiene que ser estocastica, por lo que cuando una pagina es un dead-end tenemos que corregirla. La forma usual de hacerlo es agregando links a todos las otras paginas con probabilidad 1/n, indicandole al navegante aleatorio que puede visitar cualquiera de las paginas disponibles desde alli."
   ]
  },
  {
   "cell_type": "code",
   "execution_count": 2,
   "metadata": {},
   "outputs": [],
   "source": [
    "# | 0    0.5 0 1/4 | \n",
    "# | 0.33 0   1 1/4 |\n",
    "# | 0.33 0   0 1/4 |\n",
    "# | 0.33 0.5 0 1/4 |"
   ]
  },
  {
   "cell_type": "markdown",
   "metadata": {},
   "source": [
    "Luego de la correcion el PageRank final de cada pagina converge a: [0.2308;0.3077;0.1538;0.3077]"
   ]
  },
  {
   "cell_type": "markdown",
   "metadata": {},
   "source": [
    "Es decir que las paginas mas importantes son B y D luego A y finalmente C."
   ]
  },
  {
   "cell_type": "markdown",
   "metadata": {},
   "source": [
    "Siempre que encontremos Dead Ends el primer paso es corregirlos para asegurar que la matriz sea estocastica."
   ]
  }
 ],
 "metadata": {
  "kernelspec": {
   "display_name": "Python 3",
   "language": "python",
   "name": "python3"
  },
  "language_info": {
   "codemirror_mode": {
    "name": "ipython",
    "version": 3
   },
   "file_extension": ".py",
   "mimetype": "text/x-python",
   "name": "python",
   "nbconvert_exporter": "python",
   "pygments_lexer": "ipython3",
   "version": "3.7.0"
  }
 },
 "nbformat": 4,
 "nbformat_minor": 2
}
