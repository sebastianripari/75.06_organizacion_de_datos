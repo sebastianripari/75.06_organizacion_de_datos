{
 "cells": [
  {
   "cell_type": "markdown",
   "metadata": {},
   "source": [
    "# Sim Rank"
   ]
  },
  {
   "cell_type": "markdown",
   "metadata": {},
   "source": [
    "Continuando con las variantes posibles para la teletransportacion tenemos el caso en el cual solo podemos teletransportarnos a una unica pagina. Lo que obtenemos entonces es una serie de random walks en los cuales siempre  volvemos al mismo punto de partida. El PageRank de cada pagina representa entonces la probabilidad de llegar a cada pagina desde una cierta pagina origen y a esto lo llamamos SimRank."
   ]
  },
  {
   "cell_type": "markdown",
   "metadata": {},
   "source": [
    "<img src=\"imagenes/sim_rank.png\">"
   ]
  },
  {
   "cell_type": "markdown",
   "metadata": {},
   "source": [
    "En el ejemplo tenemos un grafo en donde queremos calcular el SimRank con respecto a la pagina A, el proceso sera igual al que hicimos hasta ahora, en la teletransportacion vamos a sumarle (1 - beta) a la pagina A unicamente. Es decir que cualquier teletransportacion nos lleva a \"A\"."
   ]
  },
  {
   "cell_type": "code",
   "execution_count": 1,
   "metadata": {},
   "outputs": [],
   "source": [
    "#      | 0   0 0 1/2 |                | 1 |\n",
    "# beta | 1/2 0 0 1/2 | r + (1 - beta) | 0 |\n",
    "#      | 1/2 1 0 0   |                | 0 | \n",
    "#      | 0   0 1 0   |                | 0 |"
   ]
  },
  {
   "cell_type": "markdown",
   "metadata": {},
   "source": [
    "El resultado es A=0.2897, B=0.2056, C=0.2804,D=0.2243."
   ]
  }
 ],
 "metadata": {
  "kernelspec": {
   "display_name": "Python 3",
   "language": "python",
   "name": "python3"
  },
  "language_info": {
   "codemirror_mode": {
    "name": "ipython",
    "version": 3
   },
   "file_extension": ".py",
   "mimetype": "text/x-python",
   "name": "python",
   "nbconvert_exporter": "python",
   "pygments_lexer": "ipython3",
   "version": "3.7.0"
  }
 },
 "nbformat": 4,
 "nbformat_minor": 2
}
