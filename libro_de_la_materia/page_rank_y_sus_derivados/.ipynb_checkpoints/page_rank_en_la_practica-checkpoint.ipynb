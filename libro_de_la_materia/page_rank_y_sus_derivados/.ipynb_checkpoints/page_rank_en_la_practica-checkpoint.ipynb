{
 "cells": [
  {
   "cell_type": "markdown",
   "metadata": {},
   "source": [
    "# Page Rank en la practica"
   ]
  },
  {
   "cell_type": "markdown",
   "metadata": {},
   "source": [
    "Si tenemos una matriz con billones de nodos no podemos pensar en calcular el producto de la matriz por el vector de PageRank de las paginas ya que incluso para una sola iteracion este proceso seria inviable. Afortunadamente, como en tatnos otros casos, hay otra forma de hacer lo mismo."
   ]
  },
  {
   "cell_type": "markdown",
   "metadata": {},
   "source": [
    "Existe una relacion casi simbiotica entre PageRank y MapReduce, esto explica el gran exito de Google ya que MapReduce surge, precisamente, como la solucion al problema de aplicar PageRank para toda la Web."
   ]
  }
 ],
 "metadata": {
  "kernelspec": {
   "display_name": "Python 3",
   "language": "python",
   "name": "python3"
  },
  "language_info": {
   "codemirror_mode": {
    "name": "ipython",
    "version": 3
   },
   "file_extension": ".py",
   "mimetype": "text/x-python",
   "name": "python",
   "nbconvert_exporter": "python",
   "pygments_lexer": "ipython3",
   "version": "3.6.4"
  }
 },
 "nbformat": 4,
 "nbformat_minor": 2
}
