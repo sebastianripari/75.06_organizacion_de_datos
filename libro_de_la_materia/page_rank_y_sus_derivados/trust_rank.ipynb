{
 "cells": [
  {
   "cell_type": "markdown",
   "metadata": {},
   "source": [
    "# Trust Rank"
   ]
  },
  {
   "cell_type": "markdown",
   "metadata": {},
   "source": [
    "<b>Trust Rank</b> es una variante de <b>Page Rank</b> para lograr disminuir el efecto de las <b>spamfarms</b>. El objetivo de una <b>SpamFarm</b> es aumentar, el PageRank de una determinada pagina. Para lograr esto los spammers crean una gran cantidad de paginas que linkean a la pagina en cuestion y links desde la pagina a estas otras, formando una \"red\". Luego insertan links en paginas publicas que lleven a la pagina objetivo."
   ]
  },
  {
   "cell_type": "markdown",
   "metadata": {},
   "source": [
    "<img src=\"imagenes/spam_farms.png\">"
   ]
  },
  {
   "cell_type": "markdown",
   "metadata": {},
   "source": [
    "Los links a la pagina se pueden lograr insertando links en comentarios en sitios confiables que admiten comentarios de los usuarios, por ejemplo los comentarios de noticias en algun diario, foros, comentarios en Redes Sociales, etc."
   ]
  },
  {
   "cell_type": "markdown",
   "metadata": {},
   "source": [
    "Todos estos links publicos permiten que los robots que indexan las paginas descubran la pagina objetivo. Una ez que esto ocurre el robot va a descubrir los links desde esta pagina a todos las que estan dentro del spam farm y el link desde esta a la pagina objetivo. Con algo dee trabajo este metodo logra aumentar artificialmente el PageRank de una pagina."
   ]
  },
  {
   "cell_type": "markdown",
   "metadata": {},
   "source": [
    "La forma en que TrustRank combate los SpamFarms es, nuevamente, mediante la manipulacion de la teletransportacion. La idea es simple: Solo nos podemos teletransportar a paginas confiables. Esto es equivalente a tener un TopicRank en donde el \"topic\" es que la pagina es confiable."
   ]
  },
  {
   "cell_type": "markdown",
   "metadata": {},
   "source": [
    "Determinar que paginas son confiables no es una tarea sencilla, podemos definir ciertos dominios como confiables como por ejemplo .gov, .edu, .mil, etc. Y luego para el resto de los dominios recurrir a la clasificacion manual."
   ]
  },
  {
   "cell_type": "markdown",
   "metadata": {},
   "source": [
    "Al usar TrustRank cada pagina tieneun valor de TrustRank y un valor de PageRank, lo que nos importa es la diferencia entre ambos. Si llamamos TR al valor de TrustRank y PR al valor de PageRank podemos determinar la \"masa de spam\" de una pagina como:"
   ]
  },
  {
   "cell_type": "markdown",
   "metadata": {},
   "source": [
    "SpamMass = (PR - TR) / PR"
   ]
  },
  {
   "cell_type": "markdown",
   "metadata": {},
   "source": [
    "A partir de la masa de spam podemos establecer un cierto umbral y eliminar las paginas que esten por encima del mismo. O marcar las paginas que un humano supervise y decida si deben ser eliminadas del indice o no."
   ]
  }
 ],
 "metadata": {
  "kernelspec": {
   "display_name": "Python 3",
   "language": "python",
   "name": "python3"
  },
  "language_info": {
   "codemirror_mode": {
    "name": "ipython",
    "version": 3
   },
   "file_extension": ".py",
   "mimetype": "text/x-python",
   "name": "python",
   "nbconvert_exporter": "python",
   "pygments_lexer": "ipython3",
   "version": "3.7.0"
  }
 },
 "nbformat": 4,
 "nbformat_minor": 2
}
