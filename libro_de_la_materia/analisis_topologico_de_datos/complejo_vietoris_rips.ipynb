{
 "cells": [
  {
   "cell_type": "markdown",
   "metadata": {},
   "source": [
    "# Complejo Vietoris-Rips"
   ]
  },
  {
   "cell_type": "markdown",
   "metadata": {},
   "source": [
    "Es un <b>metodo</b> para <b>transformar</b> los <b>datos</b> en un <b>complejo simplicial</b>."
   ]
  },
  {
   "cell_type": "markdown",
   "metadata": {},
   "source": [
    "Se <b>construye</b> en base a un <b>parametro \"e\"</b>, que es la distancia maxima para que dos puntos sean vecinos. Es decir que cada nodo queda conectado con todos los nodos que esten a distancia \"e\" o menos. Esto es equivalente a construir <b>esferas</b> de radio \"e/2\" alrededor de cada punto y luego tender una aristas con todos los nodos que queden comprendidos dentro de esta esfera <b>(solapamiento de esferas creo arista)</b>."
   ]
  },
  {
   "cell_type": "markdown",
   "metadata": {},
   "source": [
    "<img src=\"complejo_vietoris_rips.png\">"
   ]
  }
 ],
 "metadata": {
  "kernelspec": {
   "display_name": "Python 3",
   "language": "python",
   "name": "python3"
  },
  "language_info": {
   "codemirror_mode": {
    "name": "ipython",
    "version": 3
   },
   "file_extension": ".py",
   "mimetype": "text/x-python",
   "name": "python",
   "nbconvert_exporter": "python",
   "pygments_lexer": "ipython3",
   "version": "3.6.4"
  }
 },
 "nbformat": 4,
 "nbformat_minor": 2
}
