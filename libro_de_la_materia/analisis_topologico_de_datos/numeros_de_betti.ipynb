{
 "cells": [
  {
   "cell_type": "markdown",
   "metadata": {},
   "source": [
    "# Numeros de Betti"
   ]
  },
  {
   "cell_type": "markdown",
   "metadata": {},
   "source": [
    "Los <b>numeros de betti</b> miden la cantidad de <b>agujeros</b> i-dimensionales en un complejo simplicial. Resulta que los <b>agujeros</b> son la clave para estudiar la <b>topologia</b> de los objetos ya que son lo que hacen a la forma de los mismos."
   ]
  },
  {
   "cell_type": "markdown",
   "metadata": {},
   "source": [
    "- b0 es el número de componentes conectadas.\n",
    "- b1 es el número de agujeros «circulares» bidimensionales.\n",
    "- b2 es el número de agujeros o «vacíos» tridimensionales.\n",
    ".\n",
    ".\n",
    ".\n",
    "- bn es el numero de agujeros n-dimensionales"
   ]
  },
  {
   "cell_type": "markdown",
   "metadata": {},
   "source": [
    "<img src=\"numeros_de_betti.png\">"
   ]
  }
 ],
 "metadata": {
  "kernelspec": {
   "display_name": "Python 3",
   "language": "python",
   "name": "python3"
  },
  "language_info": {
   "codemirror_mode": {
    "name": "ipython",
    "version": 3
   },
   "file_extension": ".py",
   "mimetype": "text/x-python",
   "name": "python",
   "nbconvert_exporter": "python",
   "pygments_lexer": "ipython3",
   "version": "3.6.4"
  }
 },
 "nbformat": 4,
 "nbformat_minor": 2
}
