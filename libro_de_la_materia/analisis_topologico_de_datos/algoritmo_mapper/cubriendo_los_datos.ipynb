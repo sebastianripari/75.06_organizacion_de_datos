{
 "cells": [
  {
   "cell_type": "markdown",
   "metadata": {},
   "source": [
    "# Cubriendo los Datos"
   ]
  },
  {
   "cell_type": "markdown",
   "metadata": {},
   "source": [
    "Una ves que aplicamos el filtro tenemos a nuestros datos representados por numeros reales. El siguiente paso consiste en particionar los datos en \"r\" grupos con solapamiento."
   ]
  },
  {
   "cell_type": "markdown",
   "metadata": {},
   "source": [
    "A \"r\" lo vamos a denominar \"resolucion\" y al nivel de solapamiento \"s\" siendo el mismo un numero entre 0 y 1. Si usamos, por ejemplo, r=20 y s=0.2 estamos indicando que queremos particionar a nustros datos en 20 grupos con 20% de solapamiento entre los mismos. "
   ]
  },
  {
   "cell_type": "markdown",
   "metadata": {},
   "source": [
    "Por ejemplo supongamos que tenemos los siguientes valores para un conjunto de 14 datos:"
   ]
  },
  {
   "cell_type": "markdown",
   "metadata": {},
   "source": [
    "1,3,5,8,11,12,13,21,23,24,28,31,32,40"
   ]
  },
  {
   "cell_type": "markdown",
   "metadata": {},
   "source": [
    "El intervalo total que tenemos es el [1,40] ahora queremos subdividir este itnervalo en una cierta cantidad de grupos con solapamiento. "
   ]
  },
  {
   "cell_type": "markdown",
   "metadata": {},
   "source": [
    "Con 10 intervalos y 25% de solapamiento el segmento es de longitud 5.0323. Es decir que nuestro primer grupo es [1; 6.0323] el segundo grupo empieza en 1+(5.0323*(1-0.25)) es decir 4.7742 entonces el segundo intervalo es: [4.7742;9.8065] los diez intervalos son entonces:"
   ]
  },
  {
   "cell_type": "markdown",
   "metadata": {},
   "source": [
    "[1,6.0323] <br>\n",
    "[4.7742,9.8065] <br>\n",
    "[8.5485,13.5808] <br>\n",
    "[12.3227,17.3550] <br>\n",
    "[16.0969,21.1292] <br>\n",
    "[19.8711,24.9034] <br>\n",
    "[23.6454,28.6777] <br>\n",
    "[27.4196,32.4519] <br>\n",
    "[31.1938,36.2261] <br>\n",
    "[34.9680,40] <br>"
   ]
  },
  {
   "cell_type": "markdown",
   "metadata": {},
   "source": [
    "[1,6.0323] {1,3,5} <br>\n",
    "[4.7742,9.8065] {5,8} <br>\n",
    "[8.5485,13.5808] {11,12,13} <br>\n",
    "[12.3227,17.3550] {13} <br>\n",
    "[16.0969,21.1292] {21} <br>\n",
    "[19.8711,24.9034] {21, 23,24} <br>\n",
    "[23.6454,28.6777] {24,28} <br>\n",
    "[27.4196,32.4519] {28,31,32} <br>\n",
    "[31.1938,36.2261] {32} <br>\n",
    "[34.9680,40] {40} <br> "
   ]
  }
 ],
 "metadata": {
  "kernelspec": {
   "display_name": "Python 3",
   "language": "python",
   "name": "python3"
  },
  "language_info": {
   "codemirror_mode": {
    "name": "ipython",
    "version": 3
   },
   "file_extension": ".py",
   "mimetype": "text/x-python",
   "name": "python",
   "nbconvert_exporter": "python",
   "pygments_lexer": "ipython3",
   "version": "3.6.4"
  }
 },
 "nbformat": 4,
 "nbformat_minor": 2
}
