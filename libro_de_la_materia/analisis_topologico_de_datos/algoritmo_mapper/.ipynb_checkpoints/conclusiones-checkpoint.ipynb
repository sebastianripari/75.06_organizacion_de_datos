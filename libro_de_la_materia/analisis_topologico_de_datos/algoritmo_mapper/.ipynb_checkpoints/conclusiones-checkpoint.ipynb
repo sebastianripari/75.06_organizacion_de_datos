{
 "cells": [
  {
   "cell_type": "markdown",
   "metadata": {},
   "source": [
    "# Conclusiones"
   ]
  },
  {
   "cell_type": "markdown",
   "metadata": {},
   "source": [
    "<b>Mapper</b> nos permite obtener una <b>representacion topologica</b> de nuestros datos que luego podemos usar para detectar patrones que ocurren en los datos, entender la forma de los mismos  y poder en base a observaciones detectar cosas que son muy dificiles de observar sobre los datos en crudo."
   ]
  },
  {
   "cell_type": "markdown",
   "metadata": {},
   "source": [
    "Estas <b>herramientas</b> se han aplicado con <b>exito</b> al estudio del padron electoral, la deteccion de fraudes en transacciones financieras, el estudio genetico de diferentes patologias en el area de salud e incluso en el deporte analizando de que forma podemos clasificar o agrupar a los jugadores de un determinado deporte en base a sus caracteristicas topologicas, descubriendo posiciones o categorias que no sabiamos que existian pero que se ponen de manifiesto mediante los datos."
   ]
  }
 ],
 "metadata": {
  "kernelspec": {
   "display_name": "Python 3",
   "language": "python",
   "name": "python3"
  },
  "language_info": {
   "codemirror_mode": {
    "name": "ipython",
    "version": 3
   },
   "file_extension": ".py",
   "mimetype": "text/x-python",
   "name": "python",
   "nbconvert_exporter": "python",
   "pygments_lexer": "ipython3",
   "version": "3.6.4"
  }
 },
 "nbformat": 4,
 "nbformat_minor": 2
}
