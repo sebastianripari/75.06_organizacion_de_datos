{
 "cells": [
  {
   "cell_type": "markdown",
   "metadata": {},
   "source": [
    "# El metodo de las proyecciones aleatorias"
   ]
  },
  {
   "cell_type": "markdown",
   "metadata": {},
   "source": [
    "La idea es similar a la usada para la distancia angular. Vamos a usar <b>proyecciones aleatorias</b>, en este caso los hiperplanos aleatorios surgiran de una distribucion p-estable, una distribucion normal funciona perfectamente. <b>Cada vector lo vamos a multiplicar por un hiperplano aleatorio para obtener un numero</b>. Y el numero obtenido lo vamos a discretizar a un numero de bucket dividiendo por un cierto <b>parametro w</b>. El resultado es el numero de bucket o minhash para la distancia euclideana."
   ]
  },
  {
   "cell_type": "markdown",
   "metadata": {},
   "source": [
    "<img src=\"lsh_dist_euclidea.png\">"
   ]
  },
  {
   "cell_type": "markdown",
   "metadata": {},
   "source": [
    "La formula para calcular el minhash es entonces:"
   ]
  },
  {
   "cell_type": "markdown",
   "metadata": {},
   "source": [
    "<img src=\"formula_minhash.png\">"
   ]
  },
  {
   "cell_type": "markdown",
   "metadata": {},
   "source": [
    "Donde:\n",
    "- w es un hiper-parametro que depende de los datos.\n",
    "- a es un numero entre 0 y w-1.\n",
    "- Vi es un vector aleatorio de igual dimensionalidad que nuestros puntos."
   ]
  }
 ],
 "metadata": {
  "kernelspec": {
   "display_name": "Python 3",
   "language": "python",
   "name": "python3"
  },
  "language_info": {
   "codemirror_mode": {
    "name": "ipython",
    "version": 3
   },
   "file_extension": ".py",
   "mimetype": "text/x-python",
   "name": "python",
   "nbconvert_exporter": "python",
   "pygments_lexer": "ipython3",
   "version": "3.6.4"
  }
 },
 "nbformat": 4,
 "nbformat_minor": 2
}
