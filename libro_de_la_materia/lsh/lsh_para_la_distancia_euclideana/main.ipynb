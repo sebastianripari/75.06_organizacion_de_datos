{
 "cells": [
  {
   "cell_type": "markdown",
   "metadata": {},
   "source": [
    "# LSH para la distancia euclideana"
   ]
  },
  {
   "cell_type": "markdown",
   "metadata": {},
   "source": [
    "La <b>distancia euclideana</b> es sin dudas una de las metricas mas usadas. En esta seccion vamos a explicar mecanismos para <b>aproximar la distancia euclideana usando LSH</b>. Algunos de estos mecanismos tambien sirven para la distancia Manhattan o norma L1."
   ]
  },
  {
   "cell_type": "markdown",
   "metadata": {},
   "source": [
    "Vamos a ver un metodo similar al que vimos para la distancia angular basado en <b>proyecciones aleatorias</b> y luego otro metodo basado en el <b>algoritmo de clustering k-means</b>."
   ]
  }
 ],
 "metadata": {
  "kernelspec": {
   "display_name": "Python 3",
   "language": "python",
   "name": "python3"
  },
  "language_info": {
   "codemirror_mode": {
    "name": "ipython",
    "version": 3
   },
   "file_extension": ".py",
   "mimetype": "text/x-python",
   "name": "python",
   "nbconvert_exporter": "python",
   "pygments_lexer": "ipython3",
   "version": "3.6.4"
  }
 },
 "nbformat": 4,
 "nbformat_minor": 2
}
