{
 "cells": [
  {
   "cell_type": "markdown",
   "metadata": {},
   "source": [
    "# LSH (Locality Sensitive Hashing)"
   ]
  },
  {
   "cell_type": "markdown",
   "metadata": {},
   "source": [
    "<b>LSH (Locality Sensitive Hashing)</b> es una solucion muy eficiente al problema de los vecinos mas cercanos <b>(nearest neighbors)</b>."
   ]
  },
  {
   "cell_type": "markdown",
   "metadata": {},
   "source": [
    "Anteriormente vimos que la solucion por fuerza bruta es muy ineficiente, esto es, calcular todas las distancias para conocer los mas cercanos."
   ]
  },
  {
   "cell_type": "markdown",
   "metadata": {},
   "source": [
    "<img src=\"imagenes/vecinos_mas_cercanos.png\">"
   ]
  },
  {
   "cell_type": "markdown",
   "metadata": {},
   "source": [
    "El concepto detras de LSH es muy simple: aplicar a los puntos una <b>funcion de hashing</b> de forma tal que los puntos que son parecidos (cercanos) colisionen. "
   ]
  },
  {
   "cell_type": "markdown",
   "metadata": {},
   "source": [
    "Si logramos construir esta funcion es entonces sencillo resolver el problema de los vecinos mas cercanos."
   ]
  },
  {
   "cell_type": "markdown",
   "metadata": {},
   "source": [
    "Dado un punto <b>query</b> aplicamos la funcion de hashing y accedemos al bucket de la tabla de hash indicado por la misma, luego calculamos la distancia entre nuestro punto \"query\" y todos los puntos dentro del bucket devolviendo el mas cercano o los k mas cercanos segun el caso."
   ]
  },
  {
   "cell_type": "markdown",
   "metadata": {},
   "source": [
    "Nuestra funcion de hashing debe procesar cualquier punto en d dimensiones y darnos como resultado un numero de bucket. "
   ]
  },
  {
   "cell_type": "markdown",
   "metadata": {},
   "source": [
    "Queremos que la funcion LSH tenga una alta probabilidad de encontrar buckets con puntos cercanos y una probabilidad baja de encontrar buckets con puntos lejanos. Necesitamos entonces <b>dos distancias</b> y <b>dos probabilidades</b>. "
   ]
  },
  {
   "cell_type": "markdown",
   "metadata": {},
   "source": [
    "Llamaremos:\n",
    "- <b>d1</b> a la distancia para la cual queremos que dos puntos sean similares.\n",
    "- <b>p1</b> a la probabilidad de que la funcion LSH nos de una colision si la distancia entre dos puntos es menor o igual a <b>d1</b>.\n",
    "- <b>d2</b> a la distancia para la cual queremos que dos puntos no sean similares.\n",
    "- <b>p2</b> a la probabilidad de que la funcion LSH nos de una colision si la distancia entre dos puntos es mayor a <b>d2</b>."
   ]
  },
  {
   "cell_type": "markdown",
   "metadata": {},
   "source": [
    "<img src=\"imagenes/lsh.png\">"
   ]
  },
  {
   "cell_type": "markdown",
   "metadata": {},
   "source": [
    "En general fijamos d2 = c * d1 para una cierta constante c y queremos que p1 > p2. Cuanto mayor es la diferencia entre p1 y p2 mejor sera la funcion LSH. Una forma de evaluar esto es usando:"
   ]
  },
  {
   "cell_type": "markdown",
   "metadata": {},
   "source": [
    "<img src=\"imagenes/ro.png\">"
   ]
  },
  {
   "cell_type": "markdown",
   "metadata": {},
   "source": [
    "De esta manera podemos comparar diferentes funciones LSH buscando maximizar el valor de <b>ro</b> de forma empirica."
   ]
  }
 ],
 "metadata": {
  "kernelspec": {
   "display_name": "Python 3",
   "language": "python",
   "name": "python3"
  },
  "language_info": {
   "codemirror_mode": {
    "name": "ipython",
    "version": 3
   },
   "file_extension": ".py",
   "mimetype": "text/x-python",
   "name": "python",
   "nbconvert_exporter": "python",
   "pygments_lexer": "ipython3",
   "version": "3.6.4"
  }
 },
 "nbformat": 4,
 "nbformat_minor": 2
}
