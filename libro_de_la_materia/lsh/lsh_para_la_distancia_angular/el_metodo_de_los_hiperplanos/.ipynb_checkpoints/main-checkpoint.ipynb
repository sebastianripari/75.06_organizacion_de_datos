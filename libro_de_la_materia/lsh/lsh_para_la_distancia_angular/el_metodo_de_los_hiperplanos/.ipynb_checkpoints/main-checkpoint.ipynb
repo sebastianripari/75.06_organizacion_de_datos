{
 "cells": [
  {
   "cell_type": "markdown",
   "metadata": {},
   "source": [
    "# El metodo de los hiperplanos"
   ]
  },
  {
   "cell_type": "markdown",
   "metadata": {},
   "source": [
    "Para generar un minhash valido para la distancia angular vamos a calcular el <b>producto interno</b> entre <b>nuestro vector</b> y un <b>vector aleatorio</b>. Este vector aleatorio puede estar formado simplemente por valores +1 y -1, ya que estos son suficientes para definir el hiperplano aleatorio."
   ]
  },
  {
   "cell_type": "markdown",
   "metadata": {},
   "source": [
    "<b>El valor del minhash va a ser 1 si el resultado del producto interno es positivo y -1 si el resultado es negativo.</b>"
   ]
  },
  {
   "cell_type": "markdown",
   "metadata": {},
   "source": [
    "Por ejemplo, si nuestro vector es (3,-2,3,4), generamos un vector al azar (1,-1,-1,1) y el producto interno entre los vectores es 6. Por lo tanto, el valor del minhash es +1."
   ]
  },
  {
   "cell_type": "markdown",
   "metadata": {},
   "source": [
    "Interpretemos ahora el significado del minhash. La probabilidad de que dos vectores proyectados al azar sobre un hiperplano tengan diferente signo es igual al angulo entre ellos dividido 180. tita/180 ya que cuanto mas chico es el angulo mas probable es que las proyecciones tengan igual sentido. Por lo tanto, la probabilidad de que los minhashes coincidan para dos vectores es: <b>(1 - tita)/180</b>"
   ]
  },
  {
   "cell_type": "markdown",
   "metadata": {},
   "source": [
    "Por lo tanto con un solo minhash el metodo de las proyecciones aleatorias nos define la siguiente familia de funciones LSH: <b>(d1,d2,1-d1/pi,1-d2/pi)</b>. En donde <b>d1</b> y <b>d2</b> son las distancias angulares entre los vectores."
   ]
  },
  {
   "cell_type": "markdown",
   "metadata": {},
   "source": [
    "En la practica como cada minhash nos define un valor +-1 podemos decir que cada minhash nos define un bit y calculamos un hashmin de k bits usando <b>k hiperplanos aleatorios</b>. <b>De esta forma tenemos un minhash que puede devolvernos valores entre 0 y 2^k</b>, siendo este el valor de cada una de las b tablas de hash que vamos a usar. "
   ]
  },
  {
   "cell_type": "markdown",
   "metadata": {},
   "source": [
    "<b>La distancia angular se puede estimar en funcion de la cantidad de minhashes que coinciden.</b>"
   ]
  },
  {
   "cell_type": "markdown",
   "metadata": {},
   "source": [
    "<b>Por ejemplo</b>, si usamos 4 minhash, tenemos 4 posibles casos:"
   ]
  },
  {
   "cell_type": "markdown",
   "metadata": {},
   "source": [
    "<img src=\"tabla_minhashes.png\">"
   ]
  },
  {
   "cell_type": "markdown",
   "metadata": {},
   "source": [
    "En realidad ni el angulo ni el coseno realmente importan ya que lo que usaremos es la familia LSH de la misma fomra que lo haciamos con la distancia de Jaccard: usando b grupos y r minhashes cada uno."
   ]
  }
 ],
 "metadata": {
  "kernelspec": {
   "display_name": "Python 3",
   "language": "python",
   "name": "python3"
  },
  "language_info": {
   "codemirror_mode": {
    "name": "ipython",
    "version": 3
   },
   "file_extension": ".py",
   "mimetype": "text/x-python",
   "name": "python",
   "nbconvert_exporter": "python",
   "pygments_lexer": "ipython3",
   "version": "3.6.4"
  }
 },
 "nbformat": 4,
 "nbformat_minor": 2
}
