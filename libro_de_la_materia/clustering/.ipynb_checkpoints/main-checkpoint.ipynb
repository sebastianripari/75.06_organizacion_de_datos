{
 "cells": [
  {
   "cell_type": "markdown",
   "metadata": {},
   "source": [
    "# Clustering"
   ]
  },
  {
   "cell_type": "markdown",
   "metadata": {},
   "source": [
    "Clustering es el proceso de clasificar datos en grupos, donde los datos que pertenecen a cada grupo poseen caractereisticas similares, y muy diferentes a la del resto de los demas grupos. Es un aprendizaje no supervisado, ya que se conocen los labels donde realmente pertenecen los datos. Los algoritmos de clustering clasificaran estos datos, y nosotros no tendremos los labels como para comprobar el score del algoritmo. "
   ]
  },
  {
   "cell_type": "markdown",
   "metadata": {},
   "source": [
    "Estudios dicen que la clasificacion la forma principal de aprendizaje del cerebro humano."
   ]
  },
  {
   "cell_type": "markdown",
   "metadata": {},
   "source": [
    "Las aplicaciones de este campo son muchisimas, como por ejemplo en una tienda online, si un usuario compra un producto, podriamos recomendarle los productos que son similares a ese, si los tuviesemos todos en un mismo grupo."
   ]
  }
 ],
 "metadata": {
  "kernelspec": {
   "display_name": "Python 3",
   "language": "python",
   "name": "python3"
  },
  "language_info": {
   "codemirror_mode": {
    "name": "ipython",
    "version": 3
   },
   "file_extension": ".py",
   "mimetype": "text/x-python",
   "name": "python",
   "nbconvert_exporter": "python",
   "pygments_lexer": "ipython3",
   "version": "3.7.0"
  }
 },
 "nbformat": 4,
 "nbformat_minor": 2
}
