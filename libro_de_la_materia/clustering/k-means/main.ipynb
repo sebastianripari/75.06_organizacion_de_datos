{
 "cells": [
  {
   "cell_type": "markdown",
   "metadata": {},
   "source": [
    "# K-Means"
   ]
  },
  {
   "cell_type": "markdown",
   "metadata": {},
   "source": [
    "Es uno de los algoritmos mas populares de clustering. Nunca funciona muy mal y a veces funciona muy bien. El unico <b>hiperparametro</b> que necesita es la <b>cantidad de clusters</b>."
   ]
  },
  {
   "cell_type": "markdown",
   "metadata": {},
   "source": [
    "## El Problema general"
   ]
  },
  {
   "cell_type": "markdown",
   "metadata": {},
   "source": [
    "- El problema general de clustering recibe una serie de <b>n</b> puntos de <b>m</b> dimensiones.\n",
    "- El objetivo del problema es encontrar como repartir los m puntos en <b>k</b> clusters de <b>la mejor forma posible</b>."
   ]
  },
  {
   "cell_type": "markdown",
   "metadata": {},
   "source": [
    "## La mejor forma posible "
   ]
  },
  {
   "cell_type": "markdown",
   "metadata": {},
   "source": [
    "Vamos a indicar que significa esto. Calculemos el <b>centroide</b> de cada cluster, una ves que tenemos eso, la mejor forma de repartir los clusters, es la que minimiza la suma de las distancias de cada punto con un cluster (con el centroide)."
   ]
  },
  {
   "cell_type": "markdown",
   "metadata": {},
   "source": [
    "Esto mismo matematicamente se escribe asi:"
   ]
  },
  {
   "cell_type": "markdown",
   "metadata": {},
   "source": [
    "<img src=\"clustering_minimizar_distancias.png\">"
   ]
  },
  {
   "cell_type": "markdown",
   "metadata": {},
   "source": [
    "<b>Observacion: </b>Hay <b>k</b> centroides."
   ]
  },
  {
   "cell_type": "markdown",
   "metadata": {},
   "source": [
    "El <b>objetivo</b> es encontrar la posicion optima para cada uno de estos centroides. Si hemos entendido hasta aqui, entonces entendimos el problema generico de clustering."
   ]
  }
 ],
 "metadata": {
  "kernelspec": {
   "display_name": "Python 3",
   "language": "python",
   "name": "python3"
  },
  "language_info": {
   "codemirror_mode": {
    "name": "ipython",
    "version": 3
   },
   "file_extension": ".py",
   "mimetype": "text/x-python",
   "name": "python",
   "nbconvert_exporter": "python",
   "pygments_lexer": "ipython3",
   "version": "3.7.0"
  }
 },
 "nbformat": 4,
 "nbformat_minor": 2
}
