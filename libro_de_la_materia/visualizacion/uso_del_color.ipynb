{
 "cells": [
  {
   "cell_type": "markdown",
   "metadata": {},
   "source": [
    "# Uso del color"
   ]
  },
  {
   "cell_type": "markdown",
   "metadata": {},
   "source": [
    "Una visualicacion tiene que ser totalmente entendible y apreciable sin uso del color, es decir en blanco y negro. Por varios motivos, para que la visualizacion pueda verse en un e-reader, pueda imprimirse en blanco y negro. Y que los daltonicos no tengan inconvenientes. Ahora bien, podemos decidir agregarle color, para potenciarla mas y que sea mas bonita y ilustrativa, pero solo es un plus. No agrega nueva informacion, la visualizacion ya era totalemente entendible sin color, y ahora con color solo se ve mejor."
   ]
  },
  {
   "cell_type": "markdown",
   "metadata": {},
   "source": [
    "Las visualizaciones tienen que ser totalmente entendibles en blanco y negro."
   ]
  }
 ],
 "metadata": {
  "kernelspec": {
   "display_name": "Python 3",
   "language": "python",
   "name": "python3"
  },
  "language_info": {
   "codemirror_mode": {
    "name": "ipython",
    "version": 3
   },
   "file_extension": ".py",
   "mimetype": "text/x-python",
   "name": "python",
   "nbconvert_exporter": "python",
   "pygments_lexer": "ipython3",
   "version": "3.6.4"
  }
 },
 "nbformat": 4,
 "nbformat_minor": 2
}
