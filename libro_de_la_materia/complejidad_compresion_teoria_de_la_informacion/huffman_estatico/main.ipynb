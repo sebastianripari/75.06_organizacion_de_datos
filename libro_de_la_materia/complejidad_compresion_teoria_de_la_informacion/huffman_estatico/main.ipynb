{
 "cells": [
  {
   "cell_type": "markdown",
   "metadata": {},
   "source": [
    "# Huffman Estatico"
   ]
  },
  {
   "cell_type": "markdown",
   "metadata": {},
   "source": [
    "Este algoritmo realiza una pasada sobre todo el archivo y cuenta la cantidad de ocurrencias de cada carácter. Una vez que tiene que esto, crea un nodo por cada carácter que contiene la frecuencia del mismo. Y a partir de aquí va agarrando los dos nodos con menor frecuencia y los une hacia uno padre que le asigna la suma de la frecuencia de los dos hijos. Va haciendo así sucesivamente hasta que llega a unir todos los nodos que teníamos al empezar formando un árbol binario. "
   ]
  },
  {
   "cell_type": "markdown",
   "metadata": {},
   "source": [
    "### Ejemplo"
   ]
  },
  {
   "cell_type": "markdown",
   "metadata": {},
   "source": [
    "Sea el archivo AEBEGCEAEDBEAFG se lo desea comprimir usando el Huffman Estatico"
   ]
  },
  {
   "cell_type": "code",
   "execution_count": 1,
   "metadata": {},
   "outputs": [],
   "source": [
    "# Armamos la tabla de frecuencias: \n",
    "\n",
    "# Caracter | Frecuencia\n",
    "# -------------------\n",
    "# A        | 3\n",
    "# B        | 2\n",
    "# C        | 1\n",
    "# D        | 1\n",
    "# E        | 5\n",
    "# F        | 1\n",
    "# G        | 2"
   ]
  },
  {
   "cell_type": "markdown",
   "metadata": {},
   "source": [
    "Creamos un nodo por cada carácter y le asignamos su frecuencia:"
   ]
  },
  {
   "cell_type": "markdown",
   "metadata": {},
   "source": [
    "<img src=\"huffman_estatico_1.png\">"
   ]
  },
  {
   "cell_type": "markdown",
   "metadata": {},
   "source": [
    "Tomamos los dos nodos con menor frecuencias y los unimos a uno padre que posee de frecuencia la suma de las frecuencias de los hijos."
   ]
  },
  {
   "cell_type": "markdown",
   "metadata": {},
   "source": [
    "<img src=\"huffman_estatico_2.png\">"
   ]
  },
  {
   "cell_type": "markdown",
   "metadata": {},
   "source": [
    "Continuo haciendo lo mismo"
   ]
  },
  {
   "cell_type": "markdown",
   "metadata": {},
   "source": [
    "<img src=\"huffman_estatico_3.png\">"
   ]
  },
  {
   "cell_type": "markdown",
   "metadata": {},
   "source": [
    "<img src=\"huffman_estatico_4.png\">"
   ]
  },
  {
   "cell_type": "markdown",
   "metadata": {},
   "source": [
    "<img src=\"huffman_estatico_5.png\">"
   ]
  },
  {
   "cell_type": "markdown",
   "metadata": {},
   "source": [
    "<img src=\"huffman_estatico_6.png\">"
   ]
  },
  {
   "cell_type": "markdown",
   "metadata": {},
   "source": [
    "<img src=\"huffman_estatico_7.png\">"
   ]
  },
  {
   "cell_type": "markdown",
   "metadata": {},
   "source": [
    "Una vez que tengo el árbol terminado tengo que decidir qué rama del árbol es la cero y cual es la uno. Suponiendo que elijo la izquierda como la cero y la derecha como la uno el árbol me queda así:"
   ]
  },
  {
   "cell_type": "markdown",
   "metadata": {},
   "source": [
    "<img src=\"huffman_estatico_8.png\">"
   ]
  },
  {
   "cell_type": "markdown",
   "metadata": {},
   "source": [
    "Ahora arrancando por la raíz y bajando hacia cada uno de los caracteres, encontramos el código que corresponde a cada uno de ellos."
   ]
  },
  {
   "cell_type": "code",
   "execution_count": 8,
   "metadata": {},
   "outputs": [],
   "source": [
    "# A = 00\n",
    "# C = 0100\n",
    "# D = 0101\n",
    "# F = 011\n",
    "# B = 100\n",
    "# G = 101\n",
    "# E = 11"
   ]
  },
  {
   "cell_type": "markdown",
   "metadata": {},
   "source": [
    "Ahora usemos estos códigos para codificar nuestro archivo:"
   ]
  },
  {
   "cell_type": "code",
   "execution_count": 9,
   "metadata": {},
   "outputs": [],
   "source": [
    "# AEBEGCEAEDBEAFG        ->         001110011101010011001101011001100011101"
   ]
  },
  {
   "cell_type": "markdown",
   "metadata": {},
   "source": [
    "Para guardar la comprensión también hace falta que guardemos la tabla de frecuencias. Así que:"
   ]
  },
  {
   "cell_type": "code",
   "execution_count": 10,
   "metadata": {},
   "outputs": [],
   "source": [
    "# COMPRIMIDO = TABLA_FRECUENCIAS + 001110011101010011001101011001100011101"
   ]
  },
  {
   "cell_type": "markdown",
   "metadata": {},
   "source": [
    "Observación: el algoritmo solo realiza una pasada sobre los datos."
   ]
  },
  {
   "cell_type": "markdown",
   "metadata": {},
   "source": [
    "#### Descompresor"
   ]
  },
  {
   "cell_type": "markdown",
   "metadata": {},
   "source": [
    "El descompresor lee la tabla de frecuencias y realiza el mismo árbol que el compresor, y luego con el código binario va recuperando los caracteres. A medida que va encontrando los caracteres lo va anotando, lo que se quiere remarcar es que el compresor conoce cuantos caracteres hay de cada tipo, entonces cuando ya recuperó a todos deja de leer la tira binaria que representa los mensajes codificados."
   ]
  }
 ],
 "metadata": {
  "kernelspec": {
   "display_name": "Python 3",
   "language": "python",
   "name": "python3"
  },
  "language_info": {
   "codemirror_mode": {
    "name": "ipython",
    "version": 3
   },
   "file_extension": ".py",
   "mimetype": "text/x-python",
   "name": "python",
   "nbconvert_exporter": "python",
   "pygments_lexer": "ipython3",
   "version": "3.6.4"
  }
 },
 "nbformat": 4,
 "nbformat_minor": 2
}
