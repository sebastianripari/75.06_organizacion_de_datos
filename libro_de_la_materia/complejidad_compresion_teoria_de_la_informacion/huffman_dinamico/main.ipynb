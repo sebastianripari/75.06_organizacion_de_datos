{
 "cells": [
  {
   "cell_type": "markdown",
   "metadata": {},
   "source": [
    "# Huffman Dinamico"
   ]
  },
  {
   "cell_type": "markdown",
   "metadata": {},
   "source": [
    "Este metodo a diferencia del Huffman Estatico, no construye una tabla de frecuencias ni le hace una pasada al archivo antes de armar el arbol. Sino que, a medida que va leyendo los caracteres va construyendo el arbol. Esta diferencia hace que pueda ir comprimiendo datos a medida que le van llegando de otro lugar, por ejemplo, y los va comprimiendo sin conocer cuando termina el archivo."
   ]
  },
  {
   "cell_type": "markdown",
   "metadata": {},
   "source": [
    "El algoritmo arranca diciendo que todos caracteres son equiprobables, es decir todos los caracteres tienen frecuencia 1 inicialmente, por lo tanto, tenemos los 256 caracteres con frecuencia 1. Y armamos un arbol el arbol binario, completamente hasta que solo quede un nodo raíz. Luego cuando tomamos un nuevo carácter procedemos a reflejar esto en el árbol. Es importante aclarar que solo se modifica en el árbol lo que se necesita, no es que se vuelve a rearmar todo el árbol de vuelta."
   ]
  },
  {
   "cell_type": "markdown",
   "metadata": {},
   "source": [
    "El método dinámico nunca puede comprimir mejor que el método estático, en el mejor de los casos y en forma excepcional es igual."
   ]
  },
  {
   "cell_type": "markdown",
   "metadata": {},
   "source": [
    "#### Ejemplo "
   ]
  },
  {
   "cell_type": "markdown",
   "metadata": {},
   "source": [
    "Supongamos que en vez de 256 caracteres existen solo 4, tomemos “A, B, C, D” para hacer los árboles más pequeños.\n",
    "Y el string que tenemos que comprimir es <b>BCDBEOF</b>"
   ]
  },
  {
   "cell_type": "markdown",
   "metadata": {},
   "source": [
    "Es importante aclarar que en este caso, como no tenemos la tabla de frecuencias necesitamos alguna manera para decretar el fin de archivo, una forma común de hacerlo es mediante un carácter EOF (End of LIne)."
   ]
  },
  {
   "cell_type": "markdown",
   "metadata": {},
   "source": [
    "Árbol inicialmente:"
   ]
  },
  {
   "cell_type": "markdown",
   "metadata": {},
   "source": [
    "<img src=\"huffman_dinamico_1.png\">"
   ]
  },
  {
   "cell_type": "markdown",
   "metadata": {},
   "source": [
    "Ahora tomemos el primer carácter, la B"
   ]
  },
  {
   "cell_type": "markdown",
   "metadata": {},
   "source": [
    "<img src=\"huffman_dinamico_2.png\">"
   ]
  },
  {
   "cell_type": "markdown",
   "metadata": {},
   "source": [
    "Ahora tomemos el segundo carácter, la C"
   ]
  },
  {
   "cell_type": "markdown",
   "metadata": {},
   "source": [
    "<img src=\"huffman_dinamico_3.png\">"
   ]
  },
  {
   "cell_type": "markdown",
   "metadata": {},
   "source": [
    "Ahora tomemos el cuarto carácter, la D"
   ]
  },
  {
   "cell_type": "markdown",
   "metadata": {},
   "source": [
    "<img src=\"huffman_dinamico_4.png\">"
   ]
  },
  {
   "cell_type": "markdown",
   "metadata": {},
   "source": [
    "Ahora tomemos el quinto caracter, osea el EOF"
   ]
  },
  {
   "cell_type": "markdown",
   "metadata": {},
   "source": [
    "<img src=\"huffman_dinamico_5.png\">"
   ]
  },
  {
   "cell_type": "code",
   "execution_count": 8,
   "metadata": {},
   "outputs": [],
   "source": [
    "# Por lo tanto BCDBEOF -> 11100111001"
   ]
  },
  {
   "cell_type": "code",
   "execution_count": 9,
   "metadata": {},
   "outputs": [],
   "source": [
    "# COMPRIMIDO = 11100111001"
   ]
  }
 ],
 "metadata": {
  "kernelspec": {
   "display_name": "Python 3",
   "language": "python",
   "name": "python3"
  },
  "language_info": {
   "codemirror_mode": {
    "name": "ipython",
    "version": 3
   },
   "file_extension": ".py",
   "mimetype": "text/x-python",
   "name": "python",
   "nbconvert_exporter": "python",
   "pygments_lexer": "ipython3",
   "version": "3.6.4"
  }
 },
 "nbformat": 4,
 "nbformat_minor": 2
}
