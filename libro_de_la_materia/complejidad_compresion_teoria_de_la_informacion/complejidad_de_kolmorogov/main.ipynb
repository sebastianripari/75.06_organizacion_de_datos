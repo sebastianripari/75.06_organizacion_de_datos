{
 "cells": [
  {
   "cell_type": "markdown",
   "metadata": {},
   "source": [
    "# Complejidad de Kolmorogov"
   ]
  },
  {
   "cell_type": "markdown",
   "metadata": {},
   "source": [
    "#### Desarrollada por Andrey Kolmorogov"
   ]
  },
  {
   "cell_type": "markdown",
   "metadata": {},
   "source": [
    "<img src=\"andrey_kolmorogov.jpg\">"
   ]
  },
  {
   "cell_type": "markdown",
   "metadata": {},
   "source": [
    "### Definicion (Complejidad de Kolmorogov):"
   ]
  },
  {
   "cell_type": "markdown",
   "metadata": {},
   "source": [
    "Sea x un string, K(x) es igual a la cantidad de bits minimos que debe tener un programa que genera x."
   ]
  },
  {
   "cell_type": "markdown",
   "metadata": {},
   "source": [
    "### Ejemplos"
   ]
  },
  {
   "cell_type": "code",
   "execution_count": null,
   "metadata": {},
   "outputs": [],
   "source": [
    "# x1 = 00000000000000000000\n",
    "# x2 = 87490423166544426710\n",
    "# x3 = 94482553797747268471"
   ]
  },
  {
   "cell_type": "markdown",
   "metadata": {},
   "source": [
    "Tenemos esos 3 strings. Un programa que genera <b>x1</b> es simplemente un for de 0 a el len de ese string y que haga print 0 es un programa de muy pocos bits asi que decimos que la <b>complejidad es 0</b>. Ahora tomando <b>x2</b> vemos que esa tira de digitos no sigue ninguna logica, entonces para crear un programa que imprima eso tenemos que hacer print de ese numero entonces la logitud del programa es la longitud del string por lo tanto decimos que la complejidad del string es la <b>maxima posible</b>. Para <b>x3</b> uno diria a simple vista que la complejidad tambien es maxima porque no tiene ninguna logica el string a simple vista, pero si tiene y son los digitos de pi luego de un cierto offset, por lo tanto para generar un programa que imprima este string es imprimir algunos digitos de pi, por lo tanto la complejidad de este string es muy baja."
   ]
  },
  {
   "cell_type": "markdown",
   "metadata": {},
   "source": [
    "### Definicion (Datos Aleatorios):"
   ]
  },
  {
   "cell_type": "markdown",
   "metadata": {},
   "source": [
    "Sea x un string, se dice que x es random/aleatorio si y solo si K(x)=|x|. Es decir que la complejidad del string es igual a la longitud del mismo."
   ]
  },
  {
   "cell_type": "markdown",
   "metadata": {},
   "source": [
    "### Propiedades de K(x):"
   ]
  },
  {
   "cell_type": "markdown",
   "metadata": {},
   "source": [
    "En esta seccion se varan algunas propiedades de la complejidad de Kolmorogov."
   ]
  },
  {
   "cell_type": "markdown",
   "metadata": {},
   "source": [
    "Observacion: Se denota xy como la concatenacion de los strings x e y."
   ]
  },
  {
   "cell_type": "markdown",
   "metadata": {},
   "source": [
    "#### 1. K(x) >= 0"
   ]
  },
  {
   "cell_type": "markdown",
   "metadata": {},
   "source": [
    "La complejidad es mayor a 0, es decir no puede ser negativa, esto resulta obvio porque la complejidad es la cantidad de bits del programa que genera x."
   ]
  },
  {
   "cell_type": "markdown",
   "metadata": {},
   "source": [
    "#### 2. K(x) <= |x|"
   ]
  },
  {
   "cell_type": "markdown",
   "metadata": {},
   "source": [
    "La complejidad es menor o igual que la cantidad de bits que ocupa el string, esto tambien resulta obvio ya que el programa mas grande que genera x, es hacer un print de x. Y este ultimo es el caso de K(x) = |x|"
   ]
  },
  {
   "cell_type": "markdown",
   "metadata": {},
   "source": [
    "#### 3. K(xy) <= K(x) + K(y)"
   ]
  },
  {
   "cell_type": "markdown",
   "metadata": {},
   "source": [
    "La complejidad de la concactenacion de dos strings es menor o igual que la suma de la complejidad de cada uno de los strings. Esto muestra que como minimo la complejidad de la concatenacion es la suma de la complejidad de cada string, pero puede que resulte menor. Pero nunca mayor."
   ]
  },
  {
   "cell_type": "markdown",
   "metadata": {},
   "source": [
    "#### 4. K(xy) >= K(x), K(y)"
   ]
  },
  {
   "cell_type": "markdown",
   "metadata": {},
   "source": [
    "La complejidad de la concatenacion de dos strings es siempre mayor que la complejidad de cada uno por separado."
   ]
  },
  {
   "cell_type": "markdown",
   "metadata": {},
   "source": [
    "#### 5. K(xy) = K(yx)"
   ]
  },
  {
   "cell_type": "markdown",
   "metadata": {},
   "source": [
    "No importa el orden de la concatenacion, la complejidad es la misma."
   ]
  },
  {
   "cell_type": "markdown",
   "metadata": {},
   "source": [
    "#### 6. K(xx) = K(x)"
   ]
  },
  {
   "cell_type": "markdown",
   "metadata": {},
   "source": [
    "La complejidad de un string repetido dos veces la misma que la del string."
   ]
  },
  {
   "cell_type": "markdown",
   "metadata": {},
   "source": [
    "#### 7. K(xy) + K(z) <= K(xz) + K(yz)"
   ]
  },
  {
   "cell_type": "markdown",
   "metadata": {},
   "source": [
    "### Distancia de Kolmorogov "
   ]
  },
  {
   "cell_type": "markdown",
   "metadata": {},
   "source": [
    "<img src=\"kd.png\">"
   ]
  },
  {
   "cell_type": "markdown",
   "metadata": {},
   "source": [
    "### Distancia Normalizada de Kolmorogov "
   ]
  },
  {
   "cell_type": "markdown",
   "metadata": {},
   "source": [
    "<img src=\"knd.png\">"
   ]
  },
  {
   "cell_type": "markdown",
   "metadata": {},
   "source": [
    "### Intractabilidad de K(x)"
   ]
  },
  {
   "cell_type": "markdown",
   "metadata": {},
   "source": [
    "Se ha visto que la complejidad de Kolmorogov sirve para analizar la complejidad de un string, y luego vimos tambien que nos sirve para calcular la distancia entre dos strings. Lamentablemente confesamos que K(x) es intractable o incomputable, es decir, no existe forma de calcular, K(x), esto es porque nunca vamos a saber si hemos encontrado el minimo programa que sirve para generar x, uno podria decir que lo encontro, pero luego alguien podria encontrar uno de menos bits, osea un nuevo K(x). Entonces no hay manera de conocer el ideal. Ya que nadie puede asegurar que uno lo sea."
   ]
  },
  {
   "cell_type": "markdown",
   "metadata": {},
   "source": [
    "### Aproximar K(x) por C(x)"
   ]
  },
  {
   "cell_type": "markdown",
   "metadata": {},
   "source": [
    "Lo que se puede hacer es usar C(x) en lugar de K(x) esto es simplemente definir C(x) como la cantidad de bits de la version comprimida de x usando el mejor compresor posible."
   ]
  },
  {
   "cell_type": "markdown",
   "metadata": {},
   "source": [
    "### Distancia Normalizada de Compresion"
   ]
  },
  {
   "cell_type": "markdown",
   "metadata": {},
   "source": [
    "<img src=\"ncd.png\">"
   ]
  }
 ],
 "metadata": {
  "kernelspec": {
   "display_name": "Python 3",
   "language": "python",
   "name": "python3"
  },
  "language_info": {
   "codemirror_mode": {
    "name": "ipython",
    "version": 3
   },
   "file_extension": ".py",
   "mimetype": "text/x-python",
   "name": "python",
   "nbconvert_exporter": "python",
   "pygments_lexer": "ipython3",
   "version": "3.6.4"
  }
 },
 "nbformat": 4,
 "nbformat_minor": 2
}
