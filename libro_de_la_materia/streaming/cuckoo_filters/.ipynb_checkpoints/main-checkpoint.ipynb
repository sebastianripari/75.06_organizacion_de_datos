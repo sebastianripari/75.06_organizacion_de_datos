{
 "cells": [
  {
   "cell_type": "markdown",
   "metadata": {},
   "source": [
    "# Cuckoo Filters"
   ]
  },
  {
   "cell_type": "markdown",
   "metadata": {},
   "source": [
    "Una variante muy interesante a los filtros de Bloom son los <b>Cuckoo Filters</b> que implementan una estructura del estilo de los filtros de Bloom, para responder si un objeto es miembro de un conjunto, usando Cuckoo hashing como estructura principal. "
   ]
  },
  {
   "cell_type": "markdown",
   "metadata": {},
   "source": [
    "Las diferencias entre los filtros Cuckoo y los filtros de Bloom son las siguientes:\n",
    "- Los filtros Cuckoo requieren menos espacio que los filtros de Bloom. <br>\n",
    "- Los filtros Cuckoo son mas rapidos para consultas. <br>\n",
    "- Los filtros Cuckoo son mas lentos para inserciones. <br>\n",
    "- Los filtros Cuckoo permiten la operaecion de borrado, los filtros de Bloom no. <br>"
   ]
  },
  {
   "cell_type": "markdown",
   "metadata": {},
   "source": [
    "Al igual en un filtro de Bloom la idea de los filtros Cuckoo es poder responder la pregunta: Es x miembro del conjunto S? de forma eficiente y usando una estructura de datos compacta. Almacenar las claves usando Cuckoo hashing es una opcion pero entonces la estructura ocuparia una cantidad de espacio que depende del tamanio de las claves y la cantidad de claves lo cual haria que un filtro de Bloom sea mucho mas compacto. Para solucionar este problema en los Cuckoo Filters no se almacena la clave sino un hash de la misma llamado figerprint, los figerprint son pequenios en general en el orden de los 6 y 8 bits. Para almacenar estos figerprint usaremos una tabla Cuckoo de m buckets en donde cada bucket puede almacenar b figerprint. Como vimos al estudiar Cuckoo hashing b determina que tanto podemos llenar la tabla antes de que las insercciones fallen, para los filtros Cuckoo es tipico usar b = 4 con lo cual podemos usar en promedio un 95% de la tabla antes de tener problemas con las insercciones."
   ]
  },
  {
   "cell_type": "markdown",
   "metadata": {},
   "source": [
    "Al igual que Cuckoo Hashing necesitamos 2 posiciones alternativas para las claves, la primera posicion estara determinada por aplicarle a la clave una funcion de hashing f(x) = [0...m] esta funcion de hashing se aplica a la clave (no al figerprint) y nos indica en que bucket almacenar la clave. Si el bucket tiene lugar libre entonces calculamos el figerprint de la clave, tipicamente con otra funcion de hashing lo almacenamos. Si el bucket no tiene lugar entonces procedemos al igual que en el metodo del Cuckoo, guardamos el <b>figerprint</b> de la clave en el bucket indicado por f(x) y aleatoriamente removemos algun figerprint. Pero ahora tenemos un problema: no podemos aplicar una segunda funcion de hashing a la clave porque no tenemos clave, lo que tenemos es un figerprint. La solucion es aplicar una funcion de hashing al figerprint y hacer un XOR entre la posicion original y el hash del figerprint. Por lo tanto las posiciones alternativas son:"
   ]
  },
  {
   "cell_type": "markdown",
   "metadata": {},
   "source": [
    "1) hash(x) <br>\n",
    "2) hash(x) XOR hash(figerprint) <br>"
   ]
  },
  {
   "attachments": {},
   "cell_type": "markdown",
   "metadata": {},
   "source": [
    "<img src=\"algoritmo_cuckoo_filters.png\">"
   ]
  }
 ],
 "metadata": {
  "kernelspec": {
   "display_name": "Python 3",
   "language": "python",
   "name": "python3"
  },
  "language_info": {
   "codemirror_mode": {
    "name": "ipython",
    "version": 3
   },
   "file_extension": ".py",
   "mimetype": "text/x-python",
   "name": "python",
   "nbconvert_exporter": "python",
   "pygments_lexer": "ipython3",
   "version": "3.7.0"
  }
 },
 "nbformat": 4,
 "nbformat_minor": 2
}
