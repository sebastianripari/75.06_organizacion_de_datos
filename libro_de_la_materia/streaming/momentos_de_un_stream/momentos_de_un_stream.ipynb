{
 "cells": [
  {
   "cell_type": "markdown",
   "metadata": {},
   "source": [
    "# Momentos de un Stream (Frecuency Moments)"
   ]
  },
  {
   "cell_type": "markdown",
   "metadata": {},
   "source": [
    "Ya sabemos que un Stream es una coleccion de elementos. Llamemos $M_i$ a la cantidad de veces que elemento i ocurrio en el Stream. Osea $M_i$ es la <b>frecuencia</b> de i. Por ejemplo si el stream es 1,2,3,2,4 entonces $M_1 = 1$, $M_2 = 2$, $M_3 = 1$ y $M_4 = 1$. Observemos que el dato no necesariamente tiene que ser un numero, el stream podria ser a,b,c,b,d y los valores seria los mismos: $M_a = 1$, $M_b = 2$, $M_c = 1$ y $M_d = 1$"
   ]
  },
  {
   "cell_type": "markdown",
   "metadata": {},
   "source": [
    "Ahora si definamos el <b>momento de orden k de un Stream (Frecuency Moments)</b>:"
   ]
  },
  {
   "cell_type": "markdown",
   "metadata": {},
   "source": [
    "<img src=\"momento_de_orden_k_stream.png\">"
   ]
  },
  {
   "cell_type": "markdown",
   "metadata": {},
   "source": [
    "<b>Observacion</b>: Es hacer la sumatoria de los $M_i$ elevados a la k."
   ]
  },
  {
   "cell_type": "markdown",
   "metadata": {},
   "source": [
    "### Casos de interes: "
   ]
  },
  {
   "cell_type": "markdown",
   "metadata": {},
   "source": [
    "<b>k = 0</b> Cuenta la cantidad de elementos diferentes que hay en el Stream."
   ]
  },
  {
   "cell_type": "markdown",
   "metadata": {},
   "source": [
    "<b>k = 1</b> Cuenta la cantidad de elementos que hay en el Stream."
   ]
  },
  {
   "cell_type": "markdown",
   "metadata": {},
   "source": [
    "<b>k = 2</b> es mas dificil de interpretar y se lo concoe como <b>numero sorpresa</b> del stream. Es indicador de si los datos del stream se distribuyen de forma pareja o de si hay un elemento que predomina sobre los demas."
   ]
  },
  {
   "cell_type": "markdown",
   "metadata": {},
   "source": [
    "#### Ejemplos Frecuency Moments:"
   ]
  },
  {
   "cell_type": "markdown",
   "metadata": {},
   "source": [
    "$S_1 = (1,2,3,4,5,6,7,8,9,1)$ <br> $S_2 = (1,1,2,3,1,1,4,5,1,7)$"
   ]
  },
  {
   "cell_type": "markdown",
   "metadata": {},
   "source": [
    "$ M_0(S_1) = 9 $ <br>\n",
    "$ M_1(S_1) = 10 $ <br>\n",
    "$ M_2(S_1) = 12 $ <br>\n",
    "\n",
    "$ M_0(S_2) = 6 $ <br>\n",
    "$ M_1(S_2) = 10 $ <br>\n",
    "$ M_2(S_2) = 37 $ <br>"
   ]
  }
 ],
 "metadata": {
  "kernelspec": {
   "display_name": "Python 3",
   "language": "python",
   "name": "python3"
  },
  "language_info": {
   "codemirror_mode": {
    "name": "ipython",
    "version": 3
   },
   "file_extension": ".py",
   "mimetype": "text/x-python",
   "name": "python",
   "nbconvert_exporter": "python",
   "pygments_lexer": "ipython3",
   "version": "3.6.4"
  }
 },
 "nbformat": 4,
 "nbformat_minor": 2
}
