{
 "cells": [
  {
   "cell_type": "markdown",
   "metadata": {},
   "source": [
    "# Filtros de Bloom"
   ]
  },
  {
   "cell_type": "markdown",
   "metadata": {},
   "source": [
    "Dado un stream queremos saber si los elementos que observamos en el mismo pertenecen o no a un cierto conjunto de elementos predefinidos. Por ejemplo podemos tener una base de direcciones de email confiables y queremos analizar si un email puede ser spam o no verificando si su emisor esta o no esta en la lista de direcciones confiables."
   ]
  },
  {
   "cell_type": "markdown",
   "metadata": {},
   "source": [
    "La <b>base</b> de elementos contra los cuales verificamos es siempre muy grande, no sirve mantenerlas en memoria en un hash o estructura similar."
   ]
  },
  {
   "cell_type": "markdown",
   "metadata": {},
   "source": [
    "El metodo de filtrado mas popular consiste en usar los llamados <b>Filtros de Bloom</b>. Un <b>Filtro de Bloom</b> es un vector binario de B bits y k funciones de hashing 0..B. Para agregar un elemento al filtro le aplicamos las funciones de hashing y luego encendemos en 1 los bits apuntados por las funciones. Se prenden k o menos bits segun haya o no colisiones."
   ]
  },
  {
   "cell_type": "markdown",
   "metadata": {},
   "source": [
    "Para verificar si un dato del stream pertenece a nuestro conjunto le aplicamos funciones de hashing y verificamos si los bits estan todos en 1. Si alguno esta en 0 entonces el elemento no pertenece al conjunto. Si todos los bits estan en 1 entonces el elemento pertenece al mismo con una cierta probabilidad ya que podria haber un falso positivo si alguno de esos bits fue encendido por algun otro elemento."
   ]
  },
  {
   "cell_type": "markdown",
   "metadata": {},
   "source": [
    "Si tenemos <b>k</b> funciones de hashing, <b>n</b> elementos a hashear y <b>m</b> bits. Luego de hashear todos los elementos. Cuantos bits quedan en 1 y cuantos en 0 en el vector? Cual es la probabilidad de un falso positivo?"
   ]
  },
  {
   "cell_type": "markdown",
   "metadata": {},
   "source": [
    "Comenzamos con algunos calculos basicos:"
   ]
  },
  {
   "cell_type": "markdown",
   "metadata": {},
   "source": [
    "La probabilidad de que una funcion encienda un cierto bit es <b>1/m</b>. <br>\n",
    "La probabilidad de que una funcion no encienda un cierto bit es <b>1 - (1/m)</b> <br>\n",
    "Si tenemos <b>k</b> funciones de hashing la probabilidad de que ninguna encienda un cierto bit es: <br>"
   ]
  },
  {
   "cell_type": "markdown",
   "metadata": {},
   "source": [
    "\\begin{equation}\n",
    "[1 - (1/m)]^k\n",
    "\\end{equation}"
   ]
  },
  {
   "cell_type": "markdown",
   "metadata": {},
   "source": [
    "Luego de insertar <b>n</b> elementos la probabilidad de que un cierto bit siga siendo 0 es:"
   ]
  },
  {
   "cell_type": "markdown",
   "metadata": {},
   "source": [
    "\\begin{equation}\n",
    "[1 - (1/m)]^{kn}\n",
    "\\end{equation}"
   ]
  },
  {
   "cell_type": "markdown",
   "metadata": {},
   "source": [
    "La probabilidad de que las k posiciones posiciones a testear sean 1 entonces es:"
   ]
  },
  {
   "cell_type": "markdown",
   "metadata": {},
   "source": [
    "\\begin{equation}\n",
    "(1 - [1 - (1/m)]^{kn})^k\n",
    "\\end{equation}"
   ]
  },
  {
   "cell_type": "markdown",
   "metadata": {},
   "source": [
    "Y una estimacion para la formula es:"
   ]
  },
  {
   "cell_type": "markdown",
   "metadata": {},
   "source": [
    "\\begin{equation}\n",
    "(1 - e^{kn/m})^k\n",
    "\\end{equation}"
   ]
  },
  {
   "cell_type": "markdown",
   "metadata": {},
   "source": [
    "Esta funcion se puede graficar para probar valores de n,m y k que funcionen correctamente."
   ]
  },
  {
   "cell_type": "markdown",
   "metadata": {},
   "source": [
    "Para valores de n y m fijos es valor optimo de k se puede calcular de la forma:"
   ]
  },
  {
   "cell_type": "markdown",
   "metadata": {},
   "source": [
    "\\begin{equation}\n",
    "k = \\frac{m}{n} * log(2)\n",
    "\\end{equation}"
   ]
  },
  {
   "cell_type": "markdown",
   "metadata": {},
   "source": [
    "Para valores de n y m fijos el grafico de k segun segun la probabilidad de falsos positivos es:"
   ]
  },
  {
   "cell_type": "markdown",
   "metadata": {},
   "source": [
    "<img src=\"k_vs_falsos_positivos.png\">"
   ]
  },
  {
   "cell_type": "markdown",
   "metadata": {},
   "source": [
    "Como podemos ver la probabilidad de un falso positivo va bajando hasta llegar al optimo y luego sube ya que hay demasiados bits en 1 en el filtro. "
   ]
  },
  {
   "cell_type": "markdown",
   "metadata": {},
   "source": [
    "Si usamos el k optimo entonces la cantidad de bits a usar puede calcularse como:"
   ]
  },
  {
   "cell_type": "markdown",
   "metadata": {},
   "source": [
    "\\begin{equation}\n",
    "m = \\frac{n * ln(p)}{ln(2)^2}\n",
    "\\end{equation}"
   ]
  },
  {
   "cell_type": "markdown",
   "metadata": {},
   "source": [
    "Siendo <b>p</b> la probabilidad que queremos para un falso positivo."
   ]
  },
  {
   "cell_type": "markdown",
   "metadata": {},
   "source": [
    "<b>Ejemplo</b>:"
   ]
  },
  {
   "cell_type": "markdown",
   "metadata": {},
   "source": [
    "Si tenemos mil millones de direcciones de email y queremos que la probabilidad de un falso positivo sea: p = 0.01 entonces:"
   ]
  },
  {
   "cell_type": "markdown",
   "metadata": {},
   "source": [
    "\\begin{equation}\n",
    "m = -\\frac{1000000000 * ln(0.01)}{ln(2)^2} = 9585 000 000\n",
    "\\end{equation}"
   ]
  },
  {
   "cell_type": "markdown",
   "metadata": {},
   "source": [
    "m = 9585 millones de bits"
   ]
  },
  {
   "cell_type": "markdown",
   "metadata": {},
   "source": [
    "\\begin{equation}\n",
    "k = \\frac{9585 000 000}{1000 000 000} * log(2) = 2.88\n",
    "\\end{equation}"
   ]
  },
  {
   "cell_type": "markdown",
   "metadata": {},
   "source": [
    "Es decir 3 funciones de hashing."
   ]
  },
  {
   "cell_type": "markdown",
   "metadata": {},
   "source": [
    "Algo interesante de los filtros de Bloom es que puede usarse el filtro para estimar la cantidad de elementos que han sido insertados en el mismo."
   ]
  },
  {
   "cell_type": "markdown",
   "metadata": {},
   "source": [
    "\\begin{equation}\n",
    "n \\approx - \\frac{m * ln(1 - x/m)}{k}\n",
    "\\end{equation}"
   ]
  },
  {
   "cell_type": "markdown",
   "metadata": {},
   "source": [
    "M = Cantidad de bits del filtro <br>\n",
    "X = Cantidad de bits en 1"
   ]
  },
  {
   "cell_type": "markdown",
   "metadata": {},
   "source": [
    "Los filtros de Bloom son muy sencillos en su concepto pero aplicarlos correctamente requiere el uso de estas formulas y no todo el mundo las conoce."
   ]
  }
 ],
 "metadata": {
  "kernelspec": {
   "display_name": "Python 3",
   "language": "python",
   "name": "python3"
  },
  "language_info": {
   "codemirror_mode": {
    "name": "ipython",
    "version": 3
   },
   "file_extension": ".py",
   "mimetype": "text/x-python",
   "name": "python",
   "nbconvert_exporter": "python",
   "pygments_lexer": "ipython3",
   "version": "3.6.4"
  }
 },
 "nbformat": 4,
 "nbformat_minor": 2
}
