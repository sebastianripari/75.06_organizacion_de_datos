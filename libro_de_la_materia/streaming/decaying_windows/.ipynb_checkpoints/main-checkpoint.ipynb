{
 "cells": [
  {
   "cell_type": "markdown",
   "metadata": {},
   "source": [
    "# Decaying Windows"
   ]
  },
  {
   "cell_type": "markdown",
   "metadata": {},
   "source": [
    "Otra forma de analizar el problema de contar cuantos 1s aparecen en los ultimos bits de un stream consiste en aplicar una funcion que vaya decayendo el peso de cada bit en 1 ya observado a medida que procesamos el stream. \n",
    "Si nos interesan los ultimos <b>n</b> bits del stream entonces usamos una constante c = 10^-n, llevamos un contador que comienza en 0 y por cada bit del stream multiplicamos el contador por <b>1 - c</b> y luego sumamos el bit (1 o 0)."
   ]
  },
  {
   "cell_type": "markdown",
   "metadata": {},
   "source": [
    "<b>Ejemplo:</b>"
   ]
  },
  {
   "cell_type": "markdown",
   "metadata": {},
   "source": [
    "Sea c = 0.1 (1 - c = 0.9) <br>\n",
    "1 (1) <br> \n",
    "n = 10^\n",
    "<br>\n",
    "10 (0.9) <br>\n",
    "<br>\n",
    "100 (0.81) <br>\n",
    "<br>\n",
    "1001 (1.729) <br>\n",
    "<br>\n",
    "10011 (2.5561) <br>\n",
    "<br>\n",
    "100110 (2.30049) <br>\n",
    "<br>\n",
    "1001100 (2.070441) <br>\n",
    "<br>\n",
    "10011001 (2.8633969) <br>"
   ]
  }
 ],
 "metadata": {
  "kernelspec": {
   "display_name": "Python 3",
   "language": "python",
   "name": "python3"
  },
  "language_info": {
   "codemirror_mode": {
    "name": "ipython",
    "version": 3
   },
   "file_extension": ".py",
   "mimetype": "text/x-python",
   "name": "python",
   "nbconvert_exporter": "python",
   "pygments_lexer": "ipython3",
   "version": "3.7.0"
  }
 },
 "nbformat": 4,
 "nbformat_minor": 2
}
