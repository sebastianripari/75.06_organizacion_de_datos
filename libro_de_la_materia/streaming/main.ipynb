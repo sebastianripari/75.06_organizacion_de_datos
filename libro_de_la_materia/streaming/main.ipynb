{
 "cells": [
  {
   "cell_type": "markdown",
   "metadata": {},
   "source": [
    "# Streaming"
   ]
  },
  {
   "cell_type": "markdown",
   "metadata": {},
   "source": [
    "<b>Un Stream es un flujo de datos que no tiene fin</b>. Los streams son muy comunes hoy en dia: Los paquetes de una red, las publicaciones en redes sociales como Twitter o Facebook, los comentarios en un foro, las ventas en sitios como Amazon o Ebay, todos estos casos representan flujos de datos continuos."
   ]
  },
  {
   "cell_type": "markdown",
   "metadata": {},
   "source": [
    "Los algoritmos tradicionales tienen graves problemas al procesar streams. En primer lugar es muy dificil calcular estadisticas, rankings, y otras metricas interesantes si los datos cambian constantemente. Esto se debe a cuando calculamos un cierto valor este ya ha perdido actualidad por la cantidad de nueva informacion recibida. Por otro lado practicamenete ningun algoritmo puede procesar una cantidad de datos infinitos."
   ]
  },
  {
   "cell_type": "markdown",
   "metadata": {},
   "source": [
    "Los algoritmos de streaming estan diseniados para solucionar estos problemas, son algoritmos que trabajan en memoria y procesan datos a medidad que estos ocurren actualizando constantemente su resultado. Esto permite obtener en tiempo real datos sobre un determinado stream, permitiendo saber que esta ocurriendo y dejandonos tomar decisiones."
   ]
  },
  {
   "cell_type": "markdown",
   "metadata": {},
   "source": [
    "Imaginemos por un momento que somos Amazon, la cantidad de estadisticas y datos que puedan interesarnos son enormes. Por ejemplo:\n",
    "- Cuales son los productos mas vendidos en las ultimas horas?\n",
    "- Cuantos productos diferentes se han vendido?\n",
    "- Hay algun producto que se este vendiendo mas de lo habitual?\n",
    "- Cuantos Iphone vendimos en las ultimas 24 horas?\n",
    "- Etc."
   ]
  },
  {
   "cell_type": "markdown",
   "metadata": {},
   "source": [
    "Todas esas preguntas son practicamente imposibles de resolver sin usar algoritmos de streaming por el simple hecho de que en 2015 Amazon generaba 12000USD en ventas cada 5 segundos."
   ]
  }
 ],
 "metadata": {
  "kernelspec": {
   "display_name": "Python 3",
   "language": "python",
   "name": "python3"
  },
  "language_info": {
   "codemirror_mode": {
    "name": "ipython",
    "version": 3
   },
   "file_extension": ".py",
   "mimetype": "text/x-python",
   "name": "python",
   "nbconvert_exporter": "python",
   "pygments_lexer": "ipython3",
   "version": "3.6.4"
  }
 },
 "nbformat": 4,
 "nbformat_minor": 2
}
