{
 "cells": [
  {
   "cell_type": "markdown",
   "metadata": {},
   "source": [
    "# Las 5 V"
   ]
  },
  {
   "cell_type": "markdown",
   "metadata": {},
   "source": [
    "## Definicion"
   ]
  },
  {
   "cell_type": "markdown",
   "metadata": {},
   "source": [
    "Los datos que son clasificados como <b>Big Data</b> poseen algunas de las siguientes <b>V</b>:"
   ]
  },
  {
   "cell_type": "markdown",
   "metadata": {},
   "source": [
    "## Volumen"
   ]
  },
  {
   "cell_type": "markdown",
   "metadata": {},
   "source": [
    "Esta V refiere al hecho de que en algunos casos el tamanio de los datos es enorme. Se hace imposible que vivan en una unica PC. Sino que deben estar repartidos en un <b>cluster</b>, que es un conjunto de computadoras que trabajan en conjunto repartiendose los datos, pero que se puede ver como un sistema unico."
   ]
  },
  {
   "cell_type": "markdown",
   "metadata": {},
   "source": [
    "## Velocidad"
   ]
  },
  {
   "cell_type": "markdown",
   "metadata": {},
   "source": [
    "Esta V refiere al hecho de que en algunos casos la velocidad con la que se genera informacion es muy alta, por ejemplo Facebook, entonces se debe tener algoritmos especiales que puedan agarrar y procesar esos datos con baja latencia. Estos algoritmos son los denominados <b>Streaming</b>."
   ]
  },
  {
   "cell_type": "markdown",
   "metadata": {},
   "source": [
    "## Variedad"
   ]
  },
  {
   "cell_type": "markdown",
   "metadata": {},
   "source": [
    "Esta V refiere a que en algunos casos, los datos no son del mismo tipo, podemos tener fotos, videos, base de datos, sonido, etc. Los llamados <b>Data Lake</b>."
   ]
  },
  {
   "cell_type": "markdown",
   "metadata": {},
   "source": [
    "## Veracidad"
   ]
  },
  {
   "cell_type": "markdown",
   "metadata": {},
   "source": [
    "Esta V refiere al hecho de los datos que no estan bien cargados, por ejemplo que tienen campos incompletos, estan fuera de escala, filas duplicadas. Entonces se deben realizar procedimientos especiales para acomodar y arreglar estos datos."
   ]
  },
  {
   "cell_type": "markdown",
   "metadata": {},
   "source": [
    "## Valencia"
   ]
  },
  {
   "cell_type": "markdown",
   "metadata": {},
   "source": [
    "Esta V refiere al grado de coneccion que tiene los datos. Por ejemplo en Redes Sociales a medida que pasa el tiempo  los nodos se van relacionando cada vez mas. Hay que tener cuidado con esto porque algunos algoritmos pueden enlentecerse mucho cuando los nodos poseen muchas aristas, se necesitan algortimos especiales."
   ]
  }
 ],
 "metadata": {
  "kernelspec": {
   "display_name": "Python 3",
   "language": "python",
   "name": "python3"
  },
  "language_info": {
   "codemirror_mode": {
    "name": "ipython",
    "version": 3
   },
   "file_extension": ".py",
   "mimetype": "text/x-python",
   "name": "python",
   "nbconvert_exporter": "python",
   "pygments_lexer": "ipython3",
   "version": "3.6.4"
  }
 },
 "nbformat": 4,
 "nbformat_minor": 2
}
