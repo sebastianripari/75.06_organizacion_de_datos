{
 "cells": [
  {
   "cell_type": "markdown",
   "metadata": {},
   "source": [
    "# Teorema No Free Launch"
   ]
  },
  {
   "cell_type": "markdown",
   "metadata": {},
   "source": [
    "#### Creado por Wolpert."
   ]
  },
  {
   "cell_type": "markdown",
   "metadata": {},
   "source": [
    "### Teorema"
   ]
  },
  {
   "cell_type": "markdown",
   "metadata": {},
   "source": [
    "Dos algoritmos de optimizacion cualesquiera son equivalentes si los promediamos sobre el set de  todos los problemas posibles."
   ]
  },
  {
   "cell_type": "markdown",
   "metadata": {},
   "source": [
    "### Colorario"
   ]
  },
  {
   "cell_type": "markdown",
   "metadata": {},
   "source": [
    "Dado un problema de optimizacion, si un algoritmo funciona muy bien, entonces existe un problema en el cual es algoritmo funciona igual de mal."
   ]
  },
  {
   "cell_type": "markdown",
   "metadata": {},
   "source": [
    "### Colorario del Colorario "
   ]
  },
  {
   "cell_type": "markdown",
   "metadata": {},
   "source": [
    "No existe un algoritmo que sea optimo para cualquier problema de optimizacion."
   ]
  },
  {
   "cell_type": "markdown",
   "metadata": {},
   "source": [
    "### Ejemplo"
   ]
  },
  {
   "cell_type": "markdown",
   "metadata": {},
   "source": [
    "Set de Entrenamiento:\n",
    "\n",
    "(0,0,0) -> 0<br>\n",
    "(0,1,0) -> 0<br>\n",
    "(0,1,1) -> 1<br>\n",
    "(1,0,0) -> 0<br>\n",
    "(1,0,1) -> 1<br>\n",
    "(1,1,1) -> 1<br>"
   ]
  },
  {
   "cell_type": "markdown",
   "metadata": {},
   "source": [
    "Modelo predictor generado:<br>\n",
    "• Si nos gustaron 2 o más pelı́culas anteriores entonces nos va a gustar la 4.<br>\n",
    "• Si nos gustó solo una o ninguna entonces no nos va a gustar la 4."
   ]
  },
  {
   "cell_type": "markdown",
   "metadata": {},
   "source": [
    "Set de Test:\n",
    "\n",
    "(0,0,1) -> 0<br>\n",
    "(1,1,0) -> 1"
   ]
  },
  {
   "cell_type": "markdown",
   "metadata": {},
   "source": [
    "Nuestro modelo predictor funciona perfecto para este problema, 100% de efectividad. Ahora supongamos que cambiamos el set de test, invertimos el valor de los labels. Entonces nuestro modelo predictor tendra un 0% de efectividad. Aqui queda ejemplificado el Colorario, y el teorema."
   ]
  },
  {
   "cell_type": "markdown",
   "metadata": {},
   "source": [
    "### Analogia con los metodos de Compresion de Archivos"
   ]
  },
  {
   "cell_type": "markdown",
   "metadata": {},
   "source": [
    "Asi como no existe un metodo que logre predecir con igual efectividad todos los problemas, tampoco hay un compresor que comprima con igual efectividad cualquier archivo."
   ]
  }
 ],
 "metadata": {
  "kernelspec": {
   "display_name": "Python 3",
   "language": "python",
   "name": "python3"
  },
  "language_info": {
   "codemirror_mode": {
    "name": "ipython",
    "version": 3
   },
   "file_extension": ".py",
   "mimetype": "text/x-python",
   "name": "python",
   "nbconvert_exporter": "python",
   "pygments_lexer": "ipython3",
   "version": "3.6.4"
  }
 },
 "nbformat": 4,
 "nbformat_minor": 2
}
