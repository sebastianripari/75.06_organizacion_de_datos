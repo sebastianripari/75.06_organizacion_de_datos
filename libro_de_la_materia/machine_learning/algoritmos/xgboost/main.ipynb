{
 "cells": [
  {
   "cell_type": "markdown",
   "metadata": {},
   "source": [
    "# XGBoost"
   ]
  },
  {
   "cell_type": "markdown",
   "metadata": {},
   "source": [
    "Este algoritmo es Random Forest con una diferencia. En Random Forest, los arboles generados son independientes, es decir, uno no depende para nada del otro. En cambio en XGBoost no es asi, luego de la generacion del primer arbol, se procede a ver que tan bien clasifico, y el algoritmo mira en que casos clasifico mal, para decirle al siguiente arbol que se enfoque en esas clasificaciones que fallo. Y asi sucesivamente con el tercer, cuarto ... n arbol."
   ]
  },
  {
   "cell_type": "code",
   "execution_count": null,
   "metadata": {},
   "outputs": [],
   "source": []
  }
 ],
 "metadata": {
  "kernelspec": {
   "display_name": "Python 3",
   "language": "python",
   "name": "python3"
  },
  "language_info": {
   "codemirror_mode": {
    "name": "ipython",
    "version": 3
   },
   "file_extension": ".py",
   "mimetype": "text/x-python",
   "name": "python",
   "nbconvert_exporter": "python",
   "pygments_lexer": "ipython3",
   "version": "3.6.4"
  }
 },
 "nbformat": 4,
 "nbformat_minor": 2
}
