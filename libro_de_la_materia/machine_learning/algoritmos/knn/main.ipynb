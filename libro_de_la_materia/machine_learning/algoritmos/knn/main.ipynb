{
 "cells": [
  {
   "cell_type": "markdown",
   "metadata": {},
   "source": [
    "# K-Nearest Neighbors"
   ]
  },
  {
   "cell_type": "markdown",
   "metadata": {},
   "source": [
    "<img src=\"knn.png\">"
   ]
  },
  {
   "cell_type": "markdown",
   "metadata": {},
   "source": [
    "## Explicacion del metodo"
   ]
  },
  {
   "cell_type": "markdown",
   "metadata": {},
   "source": [
    "#### En caso de clasificacion el algoritmo lo que hace es dado un elemento del cual no conocemos la clase por ejemplo mirando la imagen de arriba, el punto verde, se desea saber si es un cuadrado azul o un triangulo rojo. El algoritmo KNN para responder a esta pregunta se fija en los elementos cercanos, si encuentra mas cuadrados azules que triangulos rojos entonces dira que el punto verde es un cuadrado azul, caso contrario dira que es un triangulo rojo."
   ]
  },
  {
   "cell_type": "markdown",
   "metadata": {},
   "source": [
    "#### Es necesario que le especifiquemos al algoritmo cuantos elementos cercanos debe analizar, a este parametro se le llama \"k\", y lo otro a especificar es con que distancia debe trabajar el algoritmo para determinar las cercanias. La mas usada es la distancia euclidea."
   ]
  },
  {
   "cell_type": "markdown",
   "metadata": {},
   "source": [
    "## Ejemplo"
   ]
  },
  {
   "cell_type": "markdown",
   "metadata": {},
   "source": [
    "#### Por ejemplo si elejimos k = 3 y la distancia euclideana, entonces el algoritmo respondera que el punto verde es un triangulo rojo."
   ]
  },
  {
   "cell_type": "markdown",
   "metadata": {},
   "source": [
    "## Apliquemoslo ahora al dataset de mnist"
   ]
  },
  {
   "cell_type": "code",
   "execution_count": 1,
   "metadata": {},
   "outputs": [
    {
     "name": "stderr",
     "output_type": "stream",
     "text": [
      "/home/sebastian/anaconda3/lib/python3.6/site-packages/h5py/__init__.py:36: FutureWarning: Conversion of the second argument of issubdtype from `float` to `np.floating` is deprecated. In future, it will be treated as `np.float64 == np.dtype(float).type`.\n",
      "  from ._conv import register_converters as _register_converters\n",
      "Using TensorFlow backend.\n"
     ]
    }
   ],
   "source": [
    "# IGNORAR WARNINGS\n",
    "from __future__ import print_function\n",
    "# IMPORTO EL DATASET DE LOS NUMEROS\n",
    "from keras.datasets import mnist\n",
    "# IMPORTO EL PLOTER\n",
    "import matplotlib.pyplot as plt\n",
    "# IMPORTO NUMPY\n",
    "import numpy as np\n",
    "#IMPORTO PANDAS\n",
    "import pandas as pd\n",
    "# IMPORTO KNN\n",
    "from sklearn.neighbors import KNeighborsClassifier"
   ]
  },
  {
   "cell_type": "code",
   "execution_count": 2,
   "metadata": {},
   "outputs": [],
   "source": [
    "# Usage Keras\n",
    "# from keras.datasets import cifar10\n",
    "# (x_train, y_train), (x_test, y_test) = cifar10.load_data()"
   ]
  },
  {
   "cell_type": "code",
   "execution_count": 3,
   "metadata": {},
   "outputs": [],
   "source": [
    "# Cargamos el set de datos de MNIST\n",
    "(x_train, y_train), (x_test, y_test) = mnist.load_data()"
   ]
  },
  {
   "cell_type": "code",
   "execution_count": 4,
   "metadata": {},
   "outputs": [],
   "source": [
    "x_train = x_train.reshape(60000, 784)\n",
    "x_test = x_test.reshape(10000, 784)"
   ]
  },
  {
   "cell_type": "code",
   "execution_count": 5,
   "metadata": {},
   "outputs": [],
   "source": [
    "#SOLO PORQUE ES UN EJEMPLO, VOY A TOMAR 5.000 REGISTROS PARA 'TRAIN' y 1.000 PARA TEST\n",
    "x_train = x_train[:5000]\n",
    "y_train = y_train[:5000]\n",
    "x_test = x_test[:1000]\n",
    "y_test = y_test[:1000]"
   ]
  },
  {
   "cell_type": "code",
   "execution_count": 6,
   "metadata": {},
   "outputs": [
    {
     "name": "stdout",
     "output_type": "stream",
     "text": [
      "Ejemplos de imagenes del set de datos\n"
     ]
    },
    {
     "data": {
      "image/png": "[encoded data removed]",
      "text/plain": [
       "<matplotlib.figure.Figure at 0x7f827845aeb8>"
      ]
     },
     "metadata": {},
     "output_type": "display_data"
    },
    {
     "data": {
      "image/png": "[encoded data removed]",
      "text/plain": [
       "<matplotlib.figure.Figure at 0x7f826dec1eb8>"
      ]
     },
     "metadata": {},
     "output_type": "display_data"
    },
    {
     "name": "stdout",
     "output_type": "stream",
     "text": [
      "Puntos de x_train: 5000\n",
      "Puntos de x_test: 1000\n"
     ]
    }
   ],
   "source": [
    "print(\"Ejemplos de imagenes del set de datos\")\n",
    "\n",
    "plt.imshow(np.array(x_train[1], dtype='float32').reshape((28, 28)), cmap='gray')\n",
    "plt.show()\n",
    "plt.imshow(np.array(x_train[2], dtype='float32').reshape((28, 28)), cmap='gray')\n",
    "plt.show()\n",
    "\n",
    "print(\"Puntos de x_train: {}\".format(len(y_train)))\n",
    "print(\"Puntos de x_test: {}\".format(len(y_test)))"
   ]
  },
  {
   "cell_type": "code",
   "execution_count": 7,
   "metadata": {},
   "outputs": [],
   "source": [
    "k_values = range(1, 5)\n",
    "accuracies = pd.DataFrame(columns=['k','accuracy'])"
   ]
  },
  {
   "cell_type": "code",
   "execution_count": 8,
   "metadata": {},
   "outputs": [
    {
     "name": "stdout",
     "output_type": "stream",
     "text": [
      "k=1, accuracy=100.00%\n",
      "k=2, accuracy=96.40%\n",
      "k=3, accuracy=96.30%\n",
      "k=4, accuracy=95.90%\n"
     ]
    }
   ],
   "source": [
    "for k in k_values:\n",
    "    model = KNeighborsClassifier(n_neighbors=k)\n",
    "    model.fit(x_train, y_train);\n",
    "    score = model.score(x_train[:1000], y_train[:1000])\n",
    "    accuracies = accuracies.append({'k': k, 'accuracy': score}, ignore_index=True)\n",
    "    print(\"k=%d, accuracy=%.2f%%\" % (k, score * 100))"
   ]
  },
  {
   "cell_type": "code",
   "execution_count": 9,
   "metadata": {},
   "outputs": [
    {
     "data": {
      "text/html": [
       "<div>\n",
       "<style scoped>\n",
       "    .dataframe tbody tr th:only-of-type {\n",
       "        vertical-align: middle;\n",
       "    }\n",
       "\n",
       "    .dataframe tbody tr th {\n",
       "        vertical-align: top;\n",
       "    }\n",
       "\n",
       "    .dataframe thead th {\n",
       "        text-align: right;\n",
       "    }\n",
       "</style>\n",
       "<table border=\"1\" class=\"dataframe\">\n",
       "  <thead>\n",
       "    <tr style=\"text-align: right;\">\n",
       "      <th></th>\n",
       "      <th>k</th>\n",
       "      <th>accuracy</th>\n",
       "    </tr>\n",
       "  </thead>\n",
       "  <tbody>\n",
       "    <tr>\n",
       "      <th>0</th>\n",
       "      <td>1.0</td>\n",
       "      <td>1.000</td>\n",
       "    </tr>\n",
       "    <tr>\n",
       "      <th>1</th>\n",
       "      <td>2.0</td>\n",
       "      <td>0.964</td>\n",
       "    </tr>\n",
       "    <tr>\n",
       "      <th>2</th>\n",
       "      <td>3.0</td>\n",
       "      <td>0.963</td>\n",
       "    </tr>\n",
       "    <tr>\n",
       "      <th>3</th>\n",
       "      <td>4.0</td>\n",
       "      <td>0.959</td>\n",
       "    </tr>\n",
       "  </tbody>\n",
       "</table>\n",
       "</div>"
      ],
      "text/plain": [
       "     k  accuracy\n",
       "0  1.0     1.000\n",
       "1  2.0     0.964\n",
       "2  3.0     0.963\n",
       "3  4.0     0.959"
      ]
     },
     "execution_count": 9,
     "metadata": {},
     "output_type": "execute_result"
    }
   ],
   "source": [
    "accuracies"
   ]
  },
  {
   "cell_type": "code",
   "execution_count": 10,
   "metadata": {},
   "outputs": [
    {
     "data": {
      "image/png": "[encoded data removed]",
      "text/plain": [
       "<matplotlib.figure.Figure at 0x7f826dda9860>"
      ]
     },
     "metadata": {},
     "output_type": "display_data"
    }
   ],
   "source": [
    "ax = plt.gca()\n",
    "ax.set_ylabel('k')\n",
    "accuracies['accuracy'].plot(ax = ax, legend = True, title=\"Accuracy VS K in KNN\");"
   ]
  },
  {
   "cell_type": "markdown",
   "metadata": {},
   "source": [
    "## Otro ejemplo"
   ]
  },
  {
   "cell_type": "code",
   "execution_count": 11,
   "metadata": {},
   "outputs": [],
   "source": [
    "from sklearn.datasets.samples_generator import make_blobs\n",
    "from sklearn.model_selection import train_test_split\n",
    "import matplotlib.pyplot as plt\n",
    "from sklearn.metrics import accuracy_score"
   ]
  },
  {
   "cell_type": "code",
   "execution_count": 12,
   "metadata": {},
   "outputs": [],
   "source": [
    "x, y = make_blobs(n_samples=100, centers=4, n_features=2, random_state=0)"
   ]
  },
  {
   "cell_type": "code",
   "execution_count": 13,
   "metadata": {},
   "outputs": [],
   "source": [
    "x_train, x_test, y_train, y_test = train_test_split(x, y, test_size=0.20, random_state=42)"
   ]
  },
  {
   "cell_type": "code",
   "execution_count": 14,
   "metadata": {},
   "outputs": [
    {
     "data": {
      "image/png": "[encoded data removed]",
      "text/plain": [
       "<matplotlib.figure.Figure at 0x7f826d1e5eb8>"
      ]
     },
     "metadata": {},
     "output_type": "display_data"
    },
    {
     "data": {
      "image/png": "[encoded data removed]",
      "text/plain": [
       "<matplotlib.figure.Figure at 0x7f82757547f0>"
      ]
     },
     "metadata": {},
     "output_type": "display_data"
    }
   ],
   "source": [
    "#GENERO ALGUNOS PUNTOS PARA MOSTRAR DE QUÉ SE TRATA EL PROBLEMA\n",
    "queryData, queryLabels = make_blobs(n_samples=4, centers=4, n_features=2, random_state=0)\n",
    "\n",
    "#EN ESTE GRAFICO SE MUESTRAN LOS PUNTOS DE LOS CLUSTER Y LOS 4 PUNTOS QUE QUISIERA CLASIFICAR\n",
    "plt.scatter(x_train[:,0], x_train[:,1], alpha=0.4, c=y_train)\n",
    "plt.scatter(queryData[:,0], queryData[:,1], marker='^', alpha=1, color=['black'])\n",
    "plt.title(\"Datos de 'entrenamiento'\");\n",
    "plt.show()\n",
    "\n",
    "#EN ESTE GRAFICO SE MUESTRAN LOS PUNTOS DEL SET DE TEST\n",
    "plt.scatter(x_test[:,0], x_test[:,1], alpha=0.4, marker=',', c=y_test)\n",
    "plt.title(\"Datos del set de prueba\")\n",
    "plt.show()"
   ]
  },
  {
   "cell_type": "code",
   "execution_count": 15,
   "metadata": {},
   "outputs": [
    {
     "name": "stdout",
     "output_type": "stream",
     "text": [
      "k=1, accuracy=100.00%\n",
      "k=3, accuracy=95.00%\n",
      "k=5, accuracy=91.25%\n",
      "k=7, accuracy=90.00%\n",
      "k=9, accuracy=91.25%\n",
      "k=11, accuracy=90.00%\n",
      "k=13, accuracy=90.00%\n",
      "k=15, accuracy=90.00%\n",
      "k=17, accuracy=88.75%\n",
      "k=19, accuracy=90.00%\n",
      "k=21, accuracy=88.75%\n",
      "k=23, accuracy=88.75%\n",
      "k=25, accuracy=88.75%\n",
      "k=27, accuracy=90.00%\n",
      "k=29, accuracy=90.00%\n",
      "k=31, accuracy=90.00%\n",
      "k=33, accuracy=91.25%\n",
      "k=35, accuracy=90.00%\n",
      "k=37, accuracy=90.00%\n",
      "k=39, accuracy=91.25%\n",
      "k=41, accuracy=91.25%\n",
      "k=43, accuracy=91.25%\n",
      "k=45, accuracy=87.50%\n",
      "k=47, accuracy=86.25%\n",
      "k=49, accuracy=72.50%\n",
      "k=51, accuracy=71.25%\n",
      "k=53, accuracy=66.25%\n",
      "k=55, accuracy=51.25%\n",
      "k=57, accuracy=50.00%\n",
      "k=59, accuracy=51.25%\n",
      "k=61, accuracy=51.25%\n",
      "k=63, accuracy=50.00%\n",
      "k=65, accuracy=48.75%\n",
      "k=67, accuracy=47.50%\n",
      "k=69, accuracy=47.50%\n",
      "k=71, accuracy=46.25%\n",
      "k=73, accuracy=46.25%\n",
      "k=75, accuracy=46.25%\n",
      "k=77, accuracy=45.00%\n",
      "k=79, accuracy=38.75%\n"
     ]
    }
   ],
   "source": [
    "kVals = range(1, 80, 2)\n",
    "accuracies = []\n",
    "\n",
    "#En este loop vamos a ver la precision del algoritmo en funcion de K\n",
    "\n",
    "for k in kVals:\n",
    "    #Inicializacion del modelo\n",
    "    model = KNeighborsClassifier(n_neighbors=k)\n",
    "    model.fit(x_train, y_train)\n",
    "\n",
    "    #A diferencia de otros algoritmos, en KNN no es necesario usar un set de validacion sino que se pueden usar los mismos datos\n",
    "    score = model.score(x_train, y_train)\n",
    "    print(\"k=%d, accuracy=%.2f%%\" % (k, score * 100))\n",
    "    accuracies.append(score)"
   ]
  },
  {
   "cell_type": "code",
   "execution_count": 16,
   "metadata": {},
   "outputs": [
    {
     "data": {
      "image/png": "[encoded data removed]",
      "text/plain": [
       "<matplotlib.figure.Figure at 0x7f826de43470>"
      ]
     },
     "metadata": {},
     "output_type": "display_data"
    }
   ],
   "source": [
    "#Grafico la precisión vs el valor de K\n",
    "plt.plot(kVals, accuracies)\n",
    "plt.ylabel('Accuracy')\n",
    "plt.xlabel('K')\n",
    "plt.title('Accuracy vs K')\n",
    "plt.show()"
   ]
  },
  {
   "cell_type": "code",
   "execution_count": 17,
   "metadata": {},
   "outputs": [
    {
     "name": "stdout",
     "output_type": "stream",
     "text": [
      "Accuracy para el set de Test: 95.00%\n",
      "Accuracy para los 4 puntos Query: 100.00%\n"
     ]
    }
   ],
   "source": [
    "#PROBAMOS CON K=31\n",
    "\n",
    "model = KNeighborsClassifier(n_neighbors=31)\n",
    "model.fit(x_train, y_train)\n",
    "\n",
    "predictions = model.predict(x_test)\n",
    "\n",
    "# Evaluate performance of model for each of the digits\n",
    "print(\"Accuracy para el set de Test: %.2f%%\" % (100 * accuracy_score(y_test, predictions)))\n",
    "\n",
    "#PODEMOS TAMBIEN PREDECIR LOS 4 PUNTOS QUE HABIAMOS GENERADO PARA EXPLICAR DE QUE TRATABA KNN\n",
    "predictionsQueryPoints = model.predict(queryData)\n",
    "print(\"Accuracy para los 4 puntos Query: %.2f%%\" % (100 * accuracy_score(queryLabels, predictionsQueryPoints)))"
   ]
  }
 ],
 "metadata": {
  "kernelspec": {
   "display_name": "Python 3",
   "language": "python",
   "name": "python3"
  },
  "language_info": {
   "codemirror_mode": {
    "name": "ipython",
    "version": 3
   },
   "file_extension": ".py",
   "mimetype": "text/x-python",
   "name": "python",
   "nbconvert_exporter": "python",
   "pygments_lexer": "ipython3",
   "version": "3.7.0"
  }
 },
 "nbformat": 4,
 "nbformat_minor": 2
}
