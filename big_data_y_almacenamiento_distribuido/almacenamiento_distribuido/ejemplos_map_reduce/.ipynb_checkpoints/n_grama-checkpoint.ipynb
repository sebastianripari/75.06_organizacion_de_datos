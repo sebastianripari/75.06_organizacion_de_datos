{
 "cells": [
  {
   "cell_type": "markdown",
   "metadata": {},
   "source": [
    "# N-Grama"
   ]
  },
  {
   "cell_type": "code",
   "execution_count": 1,
   "metadata": {},
   "outputs": [],
   "source": [
    "# Datos\n",
    "kdata = [\"this is a test\", \"test this thing\", \"this and that\", \"I like this\"]"
   ]
  },
  {
   "cell_type": "code",
   "execution_count": 2,
   "metadata": {},
   "outputs": [],
   "source": [
    "#IMPORT SPARK\n",
    "import pyspark\n",
    "\n",
    "try: \n",
    "    type(sc)\n",
    "except NameError:\n",
    "    sc = pyspark.SparkContext('local[*]')"
   ]
  },
  {
   "cell_type": "code",
   "execution_count": 3,
   "metadata": {},
   "outputs": [],
   "source": [
    "rsk = sc.parallelize(kdata, 4)"
   ]
  },
  {
   "cell_type": "code",
   "execution_count": 4,
   "metadata": {},
   "outputs": [
    {
     "data": {
      "text/plain": [
       "['this is a test', 'test this thing', 'this and that', 'I like this']"
      ]
     },
     "execution_count": 4,
     "metadata": {},
     "output_type": "execute_result"
    }
   ],
   "source": [
    "rsk.take(4)"
   ]
  },
  {
   "cell_type": "code",
   "execution_count": 5,
   "metadata": {},
   "outputs": [],
   "source": [
    "def trigrams(t):\n",
    "    t = t.lower()\n",
    "    return [t[i:i+3] for i in range(0, len(t) - 2)]"
   ]
  },
  {
   "cell_type": "code",
   "execution_count": 6,
   "metadata": {},
   "outputs": [],
   "source": [
    "rsk = rsk.flatMap(lambda x:trigrams(x))"
   ]
  },
  {
   "cell_type": "code",
   "execution_count": 9,
   "metadata": {},
   "outputs": [
    {
     "data": {
      "text/plain": [
       "['thi',\n",
       " 'his',\n",
       " 'is ',\n",
       " 's i',\n",
       " ' is',\n",
       " 'is ',\n",
       " 's a',\n",
       " ' a ',\n",
       " 'a t',\n",
       " ' te',\n",
       " 'tes',\n",
       " 'est',\n",
       " 'tes',\n",
       " 'est',\n",
       " 'st ',\n",
       " 't t',\n",
       " ' th',\n",
       " 'thi',\n",
       " 'his',\n",
       " 'is ',\n",
       " 's t']"
      ]
     },
     "execution_count": 9,
     "metadata": {},
     "output_type": "execute_result"
    }
   ],
   "source": [
    "rsk.take(21)"
   ]
  },
  {
   "cell_type": "code",
   "execution_count": 10,
   "metadata": {},
   "outputs": [],
   "source": [
    "rsk = rsk.map(lambda x:(x,1)).reduceByKey(lambda x,y: x + y)"
   ]
  },
  {
   "cell_type": "code",
   "execution_count": 11,
   "metadata": {},
   "outputs": [
    {
     "data": {
      "text/plain": [
       "[('thi', 5), ('s a', 2), (' a ', 1)]"
      ]
     },
     "execution_count": 11,
     "metadata": {},
     "output_type": "execute_result"
    }
   ],
   "source": [
    "rsk.take(3)"
   ]
  },
  {
   "cell_type": "code",
   "execution_count": 12,
   "metadata": {},
   "outputs": [],
   "source": [
    "rsk = rsk.sortBy(ascending=False, keyfunc=lambda x: x[1])"
   ]
  },
  {
   "cell_type": "code",
   "execution_count": 15,
   "metadata": {},
   "outputs": [
    {
     "data": {
      "text/plain": [
       "[('thi', 5),\n",
       " (' th', 4),\n",
       " ('his', 4),\n",
       " ('is ', 4),\n",
       " ('s a', 2),\n",
       " ('tes', 2),\n",
       " ('est', 2),\n",
       " (' a ', 1),\n",
       " ('a t', 1),\n",
       " ('hat', 1),\n",
       " ('ike', 1),\n",
       " (' is', 1),\n",
       " (' te', 1),\n",
       " ('st ', 1),\n",
       " ('t t', 1),\n",
       " ('s t', 1),\n",
       " ('hin', 1),\n",
       " ('ing', 1),\n",
       " (' an', 1),\n",
       " ('and', 1)]"
      ]
     },
     "execution_count": 15,
     "metadata": {},
     "output_type": "execute_result"
    }
   ],
   "source": [
    "rsk.take(20)"
   ]
  }
 ],
 "metadata": {
  "kernelspec": {
   "display_name": "Python 3",
   "language": "python",
   "name": "python3"
  },
  "language_info": {
   "codemirror_mode": {
    "name": "ipython",
    "version": 3
   },
   "file_extension": ".py",
   "mimetype": "text/x-python",
   "name": "python",
   "nbconvert_exporter": "python",
   "pygments_lexer": "ipython3",
   "version": "3.6.4"
  }
 },
 "nbformat": 4,
 "nbformat_minor": 2
}
