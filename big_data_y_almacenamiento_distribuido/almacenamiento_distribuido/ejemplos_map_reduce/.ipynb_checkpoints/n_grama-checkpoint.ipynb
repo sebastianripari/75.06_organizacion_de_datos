{
 "cells": [
  {
   "cell_type": "markdown",
   "metadata": {},
   "source": [
    "# N-Grama"
   ]
  },
  {
   "cell_type": "markdown",
   "metadata": {},
   "source": [
    "#### Calcular la probabilidad de cada N-Grama."
   ]
  },
  {
   "cell_type": "code",
   "execution_count": 1,
   "metadata": {},
   "outputs": [],
   "source": [
    "# Datos\n",
    "kdata = [\"this is a test\", \"test this thing\", \"this and that\", \"I like this\"]"
   ]
  },
  {
   "cell_type": "code",
   "execution_count": 2,
   "metadata": {},
   "outputs": [],
   "source": [
    "#IMPORT SPARK\n",
    "import pyspark\n",
    "\n",
    "try: \n",
    "    type(sc)\n",
    "except NameError:\n",
    "    sc = pyspark.SparkContext('local[*]')"
   ]
  },
  {
   "cell_type": "code",
   "execution_count": 3,
   "metadata": {},
   "outputs": [],
   "source": [
    "rsk = sc.parallelize(kdata, 4)"
   ]
  },
  {
   "cell_type": "code",
   "execution_count": 4,
   "metadata": {},
   "outputs": [
    {
     "data": {
      "text/plain": [
       "['this is a test', 'test this thing', 'this and that', 'I like this']"
      ]
     },
     "execution_count": 4,
     "metadata": {},
     "output_type": "execute_result"
    }
   ],
   "source": [
    "rsk.take(4)"
   ]
  },
  {
   "cell_type": "code",
   "execution_count": 5,
   "metadata": {},
   "outputs": [],
   "source": [
    "def trigrams(t):\n",
    "    t = t.lower()\n",
    "    return [t[i:i+3] for i in range(0, len(t) - 2)]"
   ]
  },
  {
   "cell_type": "code",
   "execution_count": 6,
   "metadata": {},
   "outputs": [],
   "source": [
    "rsk = rsk.flatMap(lambda x:trigrams(x))"
   ]
  },
  {
   "cell_type": "code",
   "execution_count": 7,
   "metadata": {},
   "outputs": [
    {
     "data": {
      "text/plain": [
       "['thi',\n",
       " 'his',\n",
       " 'is ',\n",
       " 's i',\n",
       " ' is',\n",
       " 'is ',\n",
       " 's a',\n",
       " ' a ',\n",
       " 'a t',\n",
       " ' te',\n",
       " 'tes',\n",
       " 'est',\n",
       " 'tes',\n",
       " 'est',\n",
       " 'st ',\n",
       " 't t',\n",
       " ' th',\n",
       " 'thi',\n",
       " 'his',\n",
       " 'is ',\n",
       " 's t']"
      ]
     },
     "execution_count": 7,
     "metadata": {},
     "output_type": "execute_result"
    }
   ],
   "source": [
    "rsk.take(21)"
   ]
  },
  {
   "cell_type": "code",
   "execution_count": 8,
   "metadata": {},
   "outputs": [],
   "source": [
    "rsk = rsk.map(lambda x:(x,1)).reduceByKey(lambda x,y: x + y)"
   ]
  },
  {
   "cell_type": "code",
   "execution_count": 9,
   "metadata": {},
   "outputs": [
    {
     "data": {
      "text/plain": [
       "[('thi', 5), ('s a', 2), (' a ', 1)]"
      ]
     },
     "execution_count": 9,
     "metadata": {},
     "output_type": "execute_result"
    }
   ],
   "source": [
    "rsk.take(3)"
   ]
  },
  {
   "cell_type": "code",
   "execution_count": 10,
   "metadata": {},
   "outputs": [],
   "source": [
    "rsk = rsk.sortBy(ascending=False, keyfunc=lambda x: x[1])"
   ]
  },
  {
   "cell_type": "code",
   "execution_count": 11,
   "metadata": {},
   "outputs": [
    {
     "data": {
      "text/plain": [
       "[('thi', 5), (' th', 4), ('his', 4), ('is ', 4), ('s a', 2)]"
      ]
     },
     "execution_count": 11,
     "metadata": {},
     "output_type": "execute_result"
    }
   ],
   "source": [
    "rsk.take(5)"
   ]
  },
  {
   "cell_type": "code",
   "execution_count": 15,
   "metadata": {},
   "outputs": [
    {
     "data": {
      "text/plain": [
       "45"
      ]
     },
     "execution_count": 15,
     "metadata": {},
     "output_type": "execute_result"
    }
   ],
   "source": [
    "total = rsk.map(lambda x: x[1]).reduce(lambda x,y: x + y)\n",
    "total"
   ]
  },
  {
   "cell_type": "code",
   "execution_count": 17,
   "metadata": {},
   "outputs": [],
   "source": [
    "rsk = rsk.map(lambda x: (x[0], x[1]/total))"
   ]
  },
  {
   "cell_type": "code",
   "execution_count": 19,
   "metadata": {},
   "outputs": [
    {
     "data": {
      "text/plain": [
       "[('thi', 0.1111111111111111),\n",
       " (' th', 0.08888888888888889),\n",
       " ('his', 0.08888888888888889),\n",
       " ('is ', 0.08888888888888889),\n",
       " ('s a', 0.044444444444444446),\n",
       " ('tes', 0.044444444444444446),\n",
       " ('est', 0.044444444444444446),\n",
       " (' a ', 0.022222222222222223),\n",
       " ('a t', 0.022222222222222223),\n",
       " ('hat', 0.022222222222222223),\n",
       " ('ike', 0.022222222222222223),\n",
       " (' is', 0.022222222222222223),\n",
       " (' te', 0.022222222222222223),\n",
       " ('st ', 0.022222222222222223),\n",
       " ('t t', 0.022222222222222223)]"
      ]
     },
     "execution_count": 19,
     "metadata": {},
     "output_type": "execute_result"
    }
   ],
   "source": [
    "rsk.take(15)"
   ]
  }
 ],
 "metadata": {
  "kernelspec": {
   "display_name": "Python 3",
   "language": "python",
   "name": "python3"
  },
  "language_info": {
   "codemirror_mode": {
    "name": "ipython",
    "version": 3
   },
   "file_extension": ".py",
   "mimetype": "text/x-python",
   "name": "python",
   "nbconvert_exporter": "python",
   "pygments_lexer": "ipython3",
   "version": "3.6.4"
  }
 },
 "nbformat": 4,
 "nbformat_minor": 2
}
