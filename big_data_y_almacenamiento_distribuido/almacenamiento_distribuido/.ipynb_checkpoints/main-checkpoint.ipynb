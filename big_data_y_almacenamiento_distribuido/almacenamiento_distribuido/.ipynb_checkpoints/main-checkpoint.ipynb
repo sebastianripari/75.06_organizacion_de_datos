{
 "cells": [
  {
   "cell_type": "markdown",
   "metadata": {},
   "source": [
    "# Almacenamiento Distribuido"
   ]
  },
  {
   "cell_type": "markdown",
   "metadata": {},
   "source": [
    "Este tipo de almacenamiento como su nombre lo indica es <b>distribuido</b> esto quiere decir que el almacenamiento de un archivo esta <b>distribuido</b> en varios equipos. A cada archivo se lo divide en una cierta cantidad de <b>bloques</b> tambien llamados <b>registros</b>, y cada uno de estos son almacenados en cada equipo, esto produce que si falla un equipo no se pierda el registro."
   ]
  },
  {
   "cell_type": "markdown",
   "metadata": {},
   "source": [
    "Algo importante a destacar es que los archivos distribuidos son <b>inmutables</b>, esto es: puede leerse o agregarse informacion pero no puede modificarse la existente. Por lo tanto para <b>modificar</b> un archivo hay que crear un nuevo achivo modificado y borrar el anterior."
   ]
  }
 ],
 "metadata": {
  "kernelspec": {
   "display_name": "Python 3",
   "language": "python",
   "name": "python3"
  },
  "language_info": {
   "codemirror_mode": {
    "name": "ipython",
    "version": 3
   },
   "file_extension": ".py",
   "mimetype": "text/x-python",
   "name": "python",
   "nbconvert_exporter": "python",
   "pygments_lexer": "ipython3",
   "version": "3.6.4"
  }
 },
 "nbformat": 4,
 "nbformat_minor": 2
}
