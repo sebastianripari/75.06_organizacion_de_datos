{
 "cells": [
  {
   "cell_type": "markdown",
   "metadata": {},
   "source": [
    "# Ecosistema Hadoop"
   ]
  },
  {
   "cell_type": "markdown",
   "metadata": {},
   "source": [
    "<img src=\"ecosistema.png\">"
   ]
  },
  {
   "cell_type": "markdown",
   "metadata": {},
   "source": [
    "Es todo un sistema para menejar almacenamiento distribuido, creado por <b>Yahoo</b>. Responde al paper desarrollado por <b>Google</b> (<b>Map Reduce</b> y <b>Google File System (GFS)</b>), que detalla el esquema de procesamiento distribuido."
   ]
  },
  {
   "cell_type": "markdown",
   "metadata": {},
   "source": [
    "Este ecosistema hadoop esta compuesto de muchas herramientas que hacen a la solucion. La base de este sistema es el siguiente almacenamiento. "
   ]
  },
  {
   "cell_type": "markdown",
   "metadata": {},
   "source": [
    "## Hadoop filesystem"
   ]
  },
  {
   "cell_type": "markdown",
   "metadata": {},
   "source": [
    "<b>Hadoop filesystem</b>, es un sistema distribuido de almacenamiento, que esta compuesto de <b>nodos</b>. El nodo que maneja todo se llama <b>Name Node</b> o <b>Master Node</b>, este conoce como leer un archivo que esta distribuido. Sabe de donde leer cada uno de los registros del archivo que se encuentra en cada <b>Data Node<b>."
   ]
  },
  {
   "cell_type": "markdown",
   "metadata": {},
   "source": [
    "<img src=\"hdfs.png\">"
   ]
  },
  {
   "cell_type": "markdown",
   "metadata": {},
   "source": [
    "## YARN"
   ]
  },
  {
   "cell_type": "markdown",
   "metadata": {},
   "source": [
    "Funciona sobre HDFS y es el que se encarga del procesamiento. Aplica el <b>Map Reduce</b> sobre el File System distribuido."
   ]
  }
 ],
 "metadata": {
  "kernelspec": {
   "display_name": "Python 3",
   "language": "python",
   "name": "python3"
  },
  "language_info": {
   "codemirror_mode": {
    "name": "ipython",
    "version": 3
   },
   "file_extension": ".py",
   "mimetype": "text/x-python",
   "name": "python",
   "nbconvert_exporter": "python",
   "pygments_lexer": "ipython3",
   "version": "3.6.4"
  }
 },
 "nbformat": 4,
 "nbformat_minor": 2
}
