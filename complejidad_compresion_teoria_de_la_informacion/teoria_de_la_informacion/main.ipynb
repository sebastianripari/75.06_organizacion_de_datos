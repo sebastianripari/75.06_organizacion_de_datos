{
 "cells": [
  {
   "cell_type": "markdown",
   "metadata": {},
   "source": [
    "# Teoria de la informacion"
   ]
  },
  {
   "cell_type": "markdown",
   "metadata": {},
   "source": [
    "Desarrollada por <b>Claude Shannon</b>"
   ]
  },
  {
   "cell_type": "markdown",
   "metadata": {},
   "source": [
    "<img src=\"imagenes/claude_shannon.png\">"
   ]
  },
  {
   "cell_type": "markdown",
   "metadata": {},
   "source": [
    "Tambien conocida como <b>teoria matematica de la comunicacion</b> o <b>teoria matematica de la informacion</b>. Es una teoria que viene a solucionar el problema del envio de un mensaje de un lugar hacia otro y que por mas que halla un ruido o interferencia, este mensaje pueda ser interpretado por el receptor. Esto hace posible por ejemplo una llamada de celular larga distancia, o que un equipo de musica pueda leer un CD rayado, notemos como la presencia del <b>ruido</b> si bien se manifiesta de dibersas maneras existe siempre, pero no es un impedimento para la comunicacion."
   ]
  },
  {
   "cell_type": "markdown",
   "metadata": {},
   "source": [
    "### Esquema de la comunicacion:"
   ]
  },
  {
   "cell_type": "markdown",
   "metadata": {},
   "source": [
    "<img src=\"imagenes/Esquema_de_comunicación_Shannon.png\">"
   ]
  },
  {
   "cell_type": "markdown",
   "metadata": {},
   "source": [
    "#### Fuente"
   ]
  },
  {
   "cell_type": "markdown",
   "metadata": {},
   "source": [
    "Una fuente es todo aquello que emite mensajes. Por ejemplo, una fuente puede ser una computadora y mensajes sus archivos; una fuente puede ser un dispositivo de transmisión de datos y mensajes los datos enviados, etc. Una fuente es en sí misma un conjunto finito de mensajes: todos los posibles mensajes que puede emitir dicha fuente. En compresión de datos se tomará como fuente el archivo a comprimir y como mensajes los caracteres que conforman dicho archivo. \n",
    "Otro ejemplo de fuente puede ser un humano generando movimientos aleatorios con el mouse, en este caso es una fuente aleatoria.\n"
   ]
  },
  {
   "cell_type": "markdown",
   "metadata": {},
   "source": [
    "Por la naturaleza generativa de sus mensajes, una fuente puede ser <b>aleatoria</b> o <b>no aleatoria</b>."
   ]
  },
  {
   "cell_type": "markdown",
   "metadata": {},
   "source": [
    "Las fuentes aleatorias tienen la característica de que sus mensajes no siguen ningun patron, no existe ninguna relación ellos. Este tipo de mensajes no se pueden comprimir, ya que se dice que tienen información pura. En cambio las fuentes no aleatorias, presentan patrones que identificandolos podemos aprovecharlos para eliminar la información redundante y así comprimir el mensaje."
   ]
  },
  {
   "cell_type": "markdown",
   "metadata": {},
   "source": [
    "#### Mensaje"
   ]
  },
  {
   "cell_type": "markdown",
   "metadata": {},
   "source": [
    "Es lo que provee la fuente, puede ser, números, letras, paquetes de datos, etcétera. Como nosotros vamos a trabajar con información digital, vamos a decir que un mensaje es un conjunto de ceros y unos."
   ]
  },
  {
   "cell_type": "markdown",
   "metadata": {},
   "source": [
    "#### Codigo"
   ]
  },
  {
   "cell_type": "markdown",
   "metadata": {},
   "source": [
    "Es un conjunto de ceros y unos que se usan para representar un cierto mensaje. Es la salida que provoca agarrar el mensaje y modificarlo. El porqué de codificar el mensaje lo vamos a ver más adelante."
   ]
  },
  {
   "cell_type": "markdown",
   "metadata": {},
   "source": [
    "#### Información"
   ]
  },
  {
   "cell_type": "markdown",
   "metadata": {},
   "source": [
    "La información contenida en un mensaje es proporcional a la cantidad de bits que se requieren como mínimo para representar el mensaje. Es decir a la cantidad de bits del mensaje codificado habiendo realizado la mejor codificación posible."
   ]
  },
  {
   "cell_type": "markdown",
   "metadata": {},
   "source": [
    "### Entropia"
   ]
  },
  {
   "cell_type": "markdown",
   "metadata": {},
   "source": [
    "La entropía de una fuente se define como la esperanza (valor esperado) de la longitud de sus códigos. Cada mensaje diferente <b>m sub i</b> tiene una probabilidad de ocurrir <b>p sub i</b> y un código asignado <b>c sub i</b> de longitud <b>l sub i</b> la entropía se calcula entonces como:"
   ]
  },
  {
   "cell_type": "markdown",
   "metadata": {},
   "source": [
    "#### Definicion:"
   ]
  },
  {
   "cell_type": "markdown",
   "metadata": {},
   "source": [
    "<img src=\"imagenes/entropia.png\">"
   ]
  },
  {
   "cell_type": "markdown",
   "metadata": {},
   "source": [
    "Es de esperarse que se desee que esta longitud promedio en bits sea lo más pequeña posible. Haciendo el desarrollo matemático de minimizar H se llega a que:"
   ]
  },
  {
   "cell_type": "markdown",
   "metadata": {},
   "source": [
    "<img src=\"imagenes/longitud_minima.png\">"
   ]
  },
  {
   "cell_type": "markdown",
   "metadata": {},
   "source": [
    "Usando que, como dice la fórmula, el largo de cada mensaje codificado este en función de “menos el logaritmo en base dos de la probabilidad de que aparezca ese mensaje” logramos que la entropía sea la mínima. Y lograr que la entropía sea la mínima significa lograr que el mensaje codificado sea el de mínimo tamaño."
   ]
  },
  {
   "cell_type": "markdown",
   "metadata": {},
   "source": [
    "#### Ejemplo:"
   ]
  },
  {
   "cell_type": "markdown",
   "metadata": {},
   "source": [
    "Calcular la <b>entropia</b> del siguiente <b>string</b>: ABAABC"
   ]
  },
  {
   "cell_type": "markdown",
   "metadata": {},
   "source": [
    "P(A) = 3/6 <br>\n",
    "P(B) = 2/6 <br>\n",
    "P(C) = 1/6 "
   ]
  },
  {
   "cell_type": "markdown",
   "metadata": {},
   "source": []
  }
 ],
 "metadata": {
  "kernelspec": {
   "display_name": "Python 3",
   "language": "python",
   "name": "python3"
  },
  "language_info": {
   "codemirror_mode": {
    "name": "ipython",
    "version": 3
   },
   "file_extension": ".py",
   "mimetype": "text/x-python",
   "name": "python",
   "nbconvert_exporter": "python",
   "pygments_lexer": "ipython3",
   "version": "3.6.4"
  }
 },
 "nbformat": 4,
 "nbformat_minor": 2
}
