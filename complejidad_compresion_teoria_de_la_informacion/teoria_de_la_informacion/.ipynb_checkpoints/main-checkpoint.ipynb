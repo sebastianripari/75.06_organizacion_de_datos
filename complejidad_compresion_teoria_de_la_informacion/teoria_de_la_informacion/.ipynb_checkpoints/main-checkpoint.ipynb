{
 "cells": [
  {
   "cell_type": "markdown",
   "metadata": {},
   "source": [
    "# Teoria de la informacion"
   ]
  },
  {
   "cell_type": "markdown",
   "metadata": {},
   "source": [
    "Desarrollada por <b>Claude Shannon</b>"
   ]
  },
  {
   "cell_type": "markdown",
   "metadata": {},
   "source": [
    "<img src=\"claude_shannon.png\">"
   ]
  },
  {
   "cell_type": "markdown",
   "metadata": {},
   "source": [
    "Tambien conocida como teoria matematica de la comunicacion o teoria matematica de la informacion."
   ]
  },
  {
   "cell_type": "markdown",
   "metadata": {},
   "source": [
    "### Esquema de la comunicacion:"
   ]
  },
  {
   "cell_type": "markdown",
   "metadata": {},
   "source": [
    "<img src=\"Esquema_de_comunicación_Shannon.png\">"
   ]
  },
  {
   "cell_type": "markdown",
   "metadata": {},
   "source": [
    "#### Fuente"
   ]
  },
  {
   "cell_type": "markdown",
   "metadata": {},
   "source": [
    "Una fuente es todo aquello que emite mensajes. Por ejemplo, una fuente puede ser una computadora y mensajes sus archivos; una fuente puede ser un dispositivo de transmisión de datos y mensajes los datos enviados, etc. Una fuente es en sí misma un conjunto finito de mensajes: todos los posibles mensajes que puede emitir dicha fuente. En compresión de datos se tomará como fuente el archivo a comprimir y como mensajes los caracteres que conforman dicho archivo. \n",
    "Otro ejemplo de fuente puede ser un humano generando movimientos aleatorios con el mouse, en este caso es una fuente aleatoria.\n"
   ]
  },
  {
   "cell_type": "markdown",
   "metadata": {},
   "source": [
    "Por la naturaleza generativa de sus mensajes, una fuente puede ser <b>aleatoria</b> o <b>no aleatoria</b>."
   ]
  },
  {
   "cell_type": "markdown",
   "metadata": {},
   "source": [
    "Las fuentes aleatorias tienen la característica de que sus mensajes no siguen ningun patron, no existe ninguna relación ellos. Este tipo de mensajes no se pueden comprimir, ya que se dice que tienen información pura. En cambio las fuentes no aleatorias, presentan patrones que identificandolos podemos aprovecharlos para eliminar la información redundante y así comprimir el mensaje."
   ]
  },
  {
   "cell_type": "markdown",
   "metadata": {},
   "source": [
    "#### Mensaje"
   ]
  },
  {
   "cell_type": "markdown",
   "metadata": {},
   "source": [
    "Es lo que provee la fuente, puede ser, números, letras, paquetes de datos, etcétera. Como nosotros vamos a trabajar con información digital, vamos a decir que un mensaje es un conjunto de ceros y unos."
   ]
  },
  {
   "cell_type": "markdown",
   "metadata": {},
   "source": [
    "#### Codigo"
   ]
  },
  {
   "cell_type": "markdown",
   "metadata": {},
   "source": [
    "Es un conjunto de ceros y unos que se usan para representar un cierto mensaje. Es la salida que provoca agarrar el mensaje y modificarlo. El porqué de codificar el mensaje lo vamos a ver más adelante."
   ]
  },
  {
   "cell_type": "markdown",
   "metadata": {},
   "source": [
    "#### Información"
   ]
  },
  {
   "cell_type": "markdown",
   "metadata": {},
   "source": [
    "La información contenida en un mensaje es proporcional a la cantidad de bits que se requieren como mínimo para representar el mensaje. Es decir a la cantidad de bits del mensaje codificado habiendo realizado la mejor codificación posible."
   ]
  }
 ],
 "metadata": {
  "kernelspec": {
   "display_name": "Python 3",
   "language": "python",
   "name": "python3"
  },
  "language_info": {
   "codemirror_mode": {
    "name": "ipython",
    "version": 3
   },
   "file_extension": ".py",
   "mimetype": "text/x-python",
   "name": "python",
   "nbconvert_exporter": "python",
   "pygments_lexer": "ipython3",
   "version": "3.6.4"
  }
 },
 "nbformat": 4,
 "nbformat_minor": 2
}
