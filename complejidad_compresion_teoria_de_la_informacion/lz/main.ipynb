{
 "cells": [
  {
   "cell_type": "markdown",
   "metadata": {},
   "source": [
    "# La Familia LZ de Compresores"
   ]
  },
  {
   "cell_type": "markdown",
   "metadata": {},
   "source": [
    "Los algoritmos de la <b>familia LZ</b> de compresores se basan en el principio de reemplazar secuencias repetidas en el archivo por punteros a la posicion en la cual dichas secuencias fueron observadas previamente. El principio es muy simple y <b>se basa en la suposicion de que secuencias de caracteres previamente observadas pueden volver a ocurrir en el archivo</b>. Cuando esto ocurre podemos reemplazar una enorme cantidad de caracteres por un simple puntero a la posicion previa de la secuencia y su longitud. Esta tecnica, a veces llamada compresion por run-length fue popularizada a partir de 1977 por <b>Lempel</b> y <b>Ziv</b> con los algoritmos <b>LZ77</b> y <b>LZ78</b>. Estos algoritmos dieron origen a lo que se conoce como familia de compresores LZ que incluye una gran cantidad de algoritmos de compresion entre ellos <b>LZ77, LZ78, LZW, LZSS, LZRW, LZFG, LZP, LZMA, Snappy</b> y varios mas."
   ]
  },
  {
   "cell_type": "markdown",
   "metadata": {},
   "source": [
    "<img src=\"imagenes/lz_esquema.png\">"
   ]
  },
  {
   "cell_type": "markdown",
   "metadata": {},
   "source": [
    "Antes de analizar el comportamiento especifico de cada uno de los algoritmos, se puede generalizar el comportamiento de un compresor de la familia LZ de la siguiente forma:"
   ]
  },
  {
   "cell_type": "markdown",
   "metadata": {},
   "source": [
    "1. Es necesario definir la longitud de un buffer o ventana que sera en donde busquemos las repeticiones. Cuando mas grande el buffer mayor cantidad de repeticiones podemos encontrar pero al mismo tiempo mas tiempo podemos tardar en procesar cada caracter. <br>\n",
    "2. De acuerdo a lo anterior suele ser necesario limitar el tamanio del buffer o usar indices para poder buscar rapidamente un string dentro del mismo. <br>\n",
    "3. La velocidad de la compresion en un LZ depende de la tecnica usada para buscar las repeticiones en el buffer y la longitud del mismo. <br>\n",
    "4. El descompresor en todos los LZ es extremadamente rapido ya que solo necesita reemplazar las repeticiones por lo que haya en la posicion del buffer indicado. En general en velocidad de descompresion los algoritmos LZ son imposibles de derrotar. <br>\n",
    "5. Cada repeticion se reemplaza por simbolos que permiten al descompresor determinar la posicion del buffer y la longitud de la repeticion."
   ]
  },
  {
   "cell_type": "markdown",
   "metadata": {},
   "source": [
    "## RLE"
   ]
  },
  {
   "cell_type": "markdown",
   "metadata": {},
   "source": [
    "El primer algoritmo es extremadamente simple y sirve solo como una rapida introduccion. El metodo RLE (Run Length Encoding), tiene como unico objetivo reemplazar secuencias de caracteres iguales repetidos en el archivo por una codificacion mas compacta. Cada vez que un caracter aparezca cuatro o mas veces en el archivo lo vamos a reemplazar por los cuatro caracteres y un numero en 8 bits indicando cuantas repeticiones mas agregar. De esta forma AAAAAAAA se transforma en AAAA4, AAAA se transforma en AAAA0. Este metodo expande un byte por cada repeticion de longitud 4, no gana ni pierde con repeticiones de longitud 5 y ahorra n - 4 bytes por cada repeticion de longitud n."
   ]
  },
  {
   "cell_type": "markdown",
   "metadata": {},
   "source": [
    "ARCHIVO: ABCCCCCCCDDDFFFFAAAAAAAACD <br>\n",
    "COMPRIMIDO: ABCCCC3DDDFFFF0AAAA4CD "
   ]
  },
  {
   "cell_type": "markdown",
   "metadata": {},
   "source": [
    "<b>Descomprimir</b> es muy simple solo hay que ir copiando los caracteres al archivo de salida pero si se observan cuatro caracteres iguales seguidos entonces el byte que se lee a continuacion se lo considera como un numero que indica cuantas veces mas repetir el caracter anterior. "
   ]
  }
 ],
 "metadata": {
  "kernelspec": {
   "display_name": "Python 3",
   "language": "python",
   "name": "python3"
  },
  "language_info": {
   "codemirror_mode": {
    "name": "ipython",
    "version": 3
   },
   "file_extension": ".py",
   "mimetype": "text/x-python",
   "name": "python",
   "nbconvert_exporter": "python",
   "pygments_lexer": "ipython3",
   "version": "3.7.0"
  }
 },
 "nbformat": 4,
 "nbformat_minor": 2
}
