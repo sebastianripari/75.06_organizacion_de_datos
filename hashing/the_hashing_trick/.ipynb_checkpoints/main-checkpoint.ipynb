{
 "cells": [
  {
   "cell_type": "markdown",
   "metadata": {},
   "source": [
    "# The Hashing Trick (THT)"
   ]
  },
  {
   "cell_type": "markdown",
   "metadata": {},
   "source": [
    "En esta seccion vamos a explicar un mecanismo muy ingenioso y importante en Data Science conocido con varios nombres: <b>The Hashing Trick</b>, <b>Feature Hashing</b> o <b>Hash Kernels</b>. Vamos a explicar en primer lugar su funcionamiento desde el punto de vista practico y en la siguiente seccion desarrollaremos una explicacion mas formal y teorica basada en el <b>teorema de Johnson y Lindenstrauss</b>."
   ]
  },
  {
   "cell_type": "markdown",
   "metadata": {},
   "source": [
    "Para entender el funcionamiento de <b>THT</b> tenemos que repasar lo que era <b>Bag Of Words</b>. En <b>BOW</b> cuando queriamos representar un texto, usabamos un vector binario que tiene una cantidad de dimensiones igual a cantidad de palabras alla en TODOS los documentos, ya que cada posicion del vector vale 1 o 0 dependiendo si la palabra existe en el texto. <b>Ejemplo</b>:"
   ]
  },
  {
   "cell_type": "markdown",
   "metadata": {},
   "source": [
    "Tenemos dos textos: <br>\n",
    "Texto 1) Once there was a king. <br>\n",
    "Texto 2) The king was good. <br>"
   ]
  },
  {
   "cell_type": "markdown",
   "metadata": {},
   "source": [
    "<b>Bag Of Words</b>:\n",
    "1. Once\n",
    "2. there\n",
    "3. was \n",
    "4. a \n",
    "5. king\n",
    "6. the\n",
    "7. good"
   ]
  },
  {
   "cell_type": "markdown",
   "metadata": {},
   "source": [
    "BOW(Texto 1) = (1,1,1,1,1,0,0) <br>\n",
    "BOW(Texto 2) = (0,0,1,0,1,1,1)"
   ]
  },
  {
   "cell_type": "markdown",
   "metadata": {},
   "source": [
    "Imaginemos que en un caso normal habria mas textos y por lo tanto, los vectores serian mucho mas grandes y por supuesto <b>dispersos</b>."
   ]
  },
  {
   "cell_type": "markdown",
   "metadata": {},
   "source": [
    "<b>THT</b> consiste en aplicar una funcion de hashing a cada uno de los terminos del texto. "
   ]
  },
  {
   "cell_type": "markdown",
   "metadata": {},
   "source": [
    "<b>Ejemplo: </b>\"You better call Kenny Loggins\""
   ]
  },
  {
   "cell_type": "markdown",
   "metadata": {},
   "source": [
    "- Separamos el texto en terminos:"
   ]
  },
  {
   "cell_type": "markdown",
   "metadata": {},
   "source": [
    "['you','better','call','Kenny','Loggins']"
   ]
  },
  {
   "cell_type": "markdown",
   "metadata": {},
   "source": [
    "- Aplicamos la funcion de hashing a cada termino:"
   ]
  },
  {
   "cell_type": "markdown",
   "metadata": {},
   "source": [
    "[hash('you'),hash('better'),hash('call'),hash('kenny'),hash('loggins')] <br>\n",
    "[832412, 223788, 366226, 81185,835749]"
   ]
  },
  {
   "cell_type": "markdown",
   "metadata": {},
   "source": [
    "Lo que obtuvimos aqui son las posiciones del vector de hay que poner en 1. <br>\n",
    "(0,...,0,1,0,...,0,1,0,...,0,1,0,...,0,1,0,...,0,1)"
   ]
  },
  {
   "cell_type": "markdown",
   "metadata": {},
   "source": [
    "<b>Observacion</b>: Se sigue manteniendo la naturaleza dispersa de los datos. Pero se achica infinitamente el vector que almacenamos."
   ]
  }
 ],
 "metadata": {
  "kernelspec": {
   "display_name": "Python 3",
   "language": "python",
   "name": "python3"
  },
  "language_info": {
   "codemirror_mode": {
    "name": "ipython",
    "version": 3
   },
   "file_extension": ".py",
   "mimetype": "text/x-python",
   "name": "python",
   "nbconvert_exporter": "python",
   "pygments_lexer": "ipython3",
   "version": "3.6.4"
  }
 },
 "nbformat": 4,
 "nbformat_minor": 2
}
