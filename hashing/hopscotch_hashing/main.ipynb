{
 "cells": [
  {
   "cell_type": "markdown",
   "metadata": {},
   "source": [
    "# Hopscotch Hashing"
   ]
  },
  {
   "cell_type": "markdown",
   "metadata": {},
   "source": [
    "El metodo llamado <b>hopscotch</b> tiene como objetivo solucionar algutnos de los problemas que observamos en la busqueda lineal y el encadenamiento de sinonimos. Queremos garantizar O(1) para las busquedas y queremos que la zona en la cual tenemos que buscar el dato sea igual o muy cercana a la indicada por la funcion de hashing para favorecer el uso de datos en memoria cache."
   ]
  },
  {
   "cell_type": "markdown",
   "metadata": {},
   "source": [
    "En <b>Hopscotch</b> partimos de un vector de <b>m</b> elementos que es nuestra tabla de hash, vamos a usar ademas un numero <b>k</b> que indica que tan lejos podemos guardar un dato respecto de la posicion indicada por la funcion de hashing. Si k=3 podemos guardar el dato en h(x), h(x) + 1 o h(x) + 2. Es decir que cada dato tiene k posiciones en las cuales puede almacenarse. Es importante mencionar que esto no quiere decir que si esas k posiciones estan ocupads el dato no puede almacenarse."
   ]
  },
  {
   "cell_type": "markdown",
   "metadata": {},
   "source": [
    "La forma resovler colisiones en <b>Hopscotch</b> es muy interesante y muy simple. En primer lugar consideremos las posiciones h(x), h(x) + 1 hasta h(x) + (k - 1), si alguna de esas posiciones esta libre entonces podemos guardar el dato alli sin ningun problema. Si todas las posiciones estan ocupadas entonces buscamos linealmente hasta encontrar una posicion libre y a partir de esta recorremos hacia  atras viendo si podemos ir moviendo datos hacia adelante de forma de liberar una posicion valida para nuestro dato."
   ]
  },
  {
   "cell_type": "markdown",
   "metadata": {},
   "source": [
    "Veamos un <b>ejemplo</b>:"
   ]
  },
  {
   "cell_type": "markdown",
   "metadata": {},
   "source": [
    "<img src=\"hopscotch_hashing.png\">"
   ]
  },
  {
   "cell_type": "markdown",
   "metadata": {},
   "source": [
    "En nuestro ejemplo <b>m = 21</b>, <b>k = 4</b> y las posiciones en gris estan ocupadas. Analizamos el caso h(x)=6. Observamos que las posiciones 6,7,8 y 9 estan ocupadas por lo que buscamos hacia adelante hasta encontrar la posicion libre, 13. Buscamos hacia atras y vemos que h(d)=11 por lo que podemos mover \"d\" al a posicion 13 liberando la posicion 11, lueho vemos que h(c)=9 por lo que podemove mover \"c\" a la posicion 11 que ahora esta libre. Finalmente podemos almacenar a \"x\" en la posicion 9 que hemos liberado."
   ]
  },
  {
   "cell_type": "markdown",
   "metadata": {},
   "source": [
    "En el caso que no se pueda liberar un espacio en las k posiciones donde puede almacenarse el dato, se debe cambiar el tamanio de la tabla y reubicar los datos de la misma."
   ]
  },
  {
   "cell_type": "markdown",
   "metadata": {},
   "source": [
    "Notemos que usando Hospcotch una busqueda es siempre del tipo <b>O(k) = O(1)</b> ya que el dato, si existe, solo puede estar almacenado en alguna de las k posiicones alternativas para el mismo."
   ]
  },
  {
   "cell_type": "markdown",
   "metadata": {},
   "source": [
    "<b>Hopscotch</b> es un metodo sencillo mucho mas eficiente que la busqueda lineal o el encadenamiento de colisiones para tablas de hash en memoria."
   ]
  }
 ],
 "metadata": {
  "kernelspec": {
   "display_name": "Python 3",
   "language": "python",
   "name": "python3"
  },
  "language_info": {
   "codemirror_mode": {
    "name": "ipython",
    "version": 3
   },
   "file_extension": ".py",
   "mimetype": "text/x-python",
   "name": "python",
   "nbconvert_exporter": "python",
   "pygments_lexer": "ipython3",
   "version": "3.6.4"
  }
 },
 "nbformat": 4,
 "nbformat_minor": 2
}
