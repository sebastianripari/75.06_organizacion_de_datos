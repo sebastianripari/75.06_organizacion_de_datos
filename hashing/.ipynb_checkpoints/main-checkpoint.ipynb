{
 "cells": [
  {
   "cell_type": "markdown",
   "metadata": {},
   "source": [
    "# Hashing"
   ]
  },
  {
   "cell_type": "markdown",
   "metadata": {},
   "source": [
    "El estudio de este tema debe plantearse desde varios puntos de vista distintos.\n",
    "- Por un lado estudiaremos funciones de hashing, funciones que nos permiten convertir un dato de cualquier tipo en un numero lo cual puede eventualmente resultar de gran utilidad.\n",
    "- Por otro lado estudiaremos que usando funciones de hashing podemos acceder de forma muy rapida a una tabla o vector en memoria, de esta forma una funcion de hashing sirve para generar una estructura de datos que denominamos \"tabla de hash\" y que es una de las estructuras de datos mas usadas debido a su eficiencia.\n",
    "- Finalmente veremos que las funciones de hashing estan relacionadas tambien con la posibilidad de representar datos de forma compacta."
   ]
  }
 ],
 "metadata": {
  "kernelspec": {
   "display_name": "Python 3",
   "language": "python",
   "name": "python3"
  },
  "language_info": {
   "codemirror_mode": {
    "name": "ipython",
    "version": 3
   },
   "file_extension": ".py",
   "mimetype": "text/x-python",
   "name": "python",
   "nbconvert_exporter": "python",
   "pygments_lexer": "ipython3",
   "version": "3.6.4"
  }
 },
 "nbformat": 4,
 "nbformat_minor": 2
}
