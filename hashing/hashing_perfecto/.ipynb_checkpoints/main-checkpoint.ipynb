{
 "cells": [
  {
   "cell_type": "markdown",
   "metadata": {},
   "source": [
    "# Hashing Perfecto"
   ]
  },
  {
   "cell_type": "markdown",
   "metadata": {},
   "source": [
    "Una funcion de <b>hashing perfecto</b> es aquella que <b>no tiene colisiones</b>, esto garantiza <b>O(1)</b> para cualquier <b>busqueda</b> de claves. En esta seccion veremos dos mecanismos diferentes para crear una funcion de hashing perfecta."
   ]
  },
  {
   "cell_type": "markdown",
   "metadata": {},
   "source": [
    "### Esquema FKS"
   ]
  },
  {
   "cell_type": "markdown",
   "metadata": {},
   "source": [
    "Empecemos pensando una forma muy ineficiente de realizar hashing perfecto: usando una tabla de hashing muy grande. Por ejemplo si tenemos <b>m</b> claves a insertar queremos saber cual deberia ser el tamanio de una tabla de hash de forma tal que la probabilidad de una colision sea menos a <b>1/2</b>. Haciendo algunas cuentas llegamos a que la tabla debe tener un espacio de direcciones de <b>m^2</b>. Si llamamos <b>m</b> al espacio de claves y <b>n</b> al espacio de direcciones entonces la probabilidad de una colision es m/n. Si n=m^2 entonces la probabilidad de una colision es 1/m, que es lo que queremos."
   ]
  },
  {
   "cell_type": "markdown",
   "metadata": {},
   "source": [
    "El problema es que si tenemos 1 millon de claves no podemos tener una tabla de hash con capacidad para 1 billon de datos porque es un desperdicio muy grande de espacio y probablemente no tengamos lugar suficiente."
   ]
  },
  {
   "cell_type": "markdown",
   "metadata": {},
   "source": [
    "La solucion a este problema es usar dos funciones de hashing es lo que conocemos como <b>esquema FKS</b>. Nuestra primera funcion de hashing va a tener un espacio de direcciones que podemos fijar como parametro, llamemoslo <b>k</b>, siendo k un numero primo cercano a m. A efectos de simplificar suponemos k = m."
   ]
  },
  {
   "cell_type": "markdown",
   "metadata": {},
   "source": [
    "Cada uno de los k = m buckets apuntados por la primera funcion de hashing contiene un numero que es la cantidad de claves que hashearon a esa posicion <b>m sub i</b>. Y una segunda funcion de hashing cuyo espacio de direcciones es <b>m sub i al cuadrado</b>"
   ]
  },
  {
   "cell_type": "markdown",
   "metadata": {},
   "source": [
    "Por <b>ejemplo</b> supongamos que tenemos las claves: 1,2,7,8,9,11,12,13,16,17,46 (11 claves) y usamos como funcion de hashing de primer nivel <b> 2 x mod 11</b>. La siguiente tabla nos muestra la distribucion de claves, y la segunda funcion de hashing asociada a cada bucket."
   ]
  },
  {
   "cell_type": "markdown",
   "metadata": {},
   "source": [
    "<img src=\"tabla_esquema_fks.png\">"
   ]
  },
  {
   "cell_type": "markdown",
   "metadata": {},
   "source": [
    "<img src=\"esquema_fks.png\">"
   ]
  },
  {
   "cell_type": "markdown",
   "metadata": {},
   "source": [
    "Supongamos que buscamos la clave \"12\". Aplicamos la primer funcion de hashing 2x mod 11 y nos da 2 * 2 mod 11 = 2. Accedemos al bucket 2 de la tabla de primer nivel y recuperamos la segunda funcion de hashing: x mod 13 junto con un puntero a la tabla de la segunda funcion. Ahora buscamos 12 mod 13 = 12 de la segunda tabla y lo encontramos en O(2)=O(1). "
   ]
  },
  {
   "cell_type": "markdown",
   "metadata": {},
   "source": [
    "El esquema FKS garantiza O(1) para la recuperacion de claves y el costo de espacio es 2m. "
   ]
  }
 ],
 "metadata": {
  "kernelspec": {
   "display_name": "Python 3",
   "language": "python",
   "name": "python3"
  },
  "language_info": {
   "codemirror_mode": {
    "name": "ipython",
    "version": 3
   },
   "file_extension": ".py",
   "mimetype": "text/x-python",
   "name": "python",
   "nbconvert_exporter": "python",
   "pygments_lexer": "ipython3",
   "version": "3.7.0"
  }
 },
 "nbformat": 4,
 "nbformat_minor": 2
}
