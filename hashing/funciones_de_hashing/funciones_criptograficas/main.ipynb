{
 "cells": [
  {
   "cell_type": "markdown",
   "metadata": {},
   "source": [
    "# Funciones Criptograficas"
   ]
  },
  {
   "cell_type": "markdown",
   "metadata": {},
   "source": [
    "Las funciones de <b>hashing criptograficas</b> son funciones de hashing que deben cumplir requisitos adicionales que hacen a la seguridad de las mismas. Una funcion de hashing criptografica debe cumplir con las siguientes <b>caracteristicas</b>:"
   ]
  },
  {
   "cell_type": "markdown",
   "metadata": {},
   "source": [
    "1) La funcion tiene que producir la menor cantidad de colisiones posibles. <br>\n",
    "2) Dado h(x) tiene que ser muy dificil hallar x. <br>\n",
    "3) Tiene que ser muy dificil hallar x e y de forma tal que h(x)=h(y). <br>\n",
    "4) Un cambio minimo en la clave tiene que producir un cambio significativo en el resultado (efecto avalancha). <br>"
   ]
  },
  {
   "cell_type": "markdown",
   "metadata": {},
   "source": [
    "La construccion de funciones de hashing criptograficas es un asunto muy delicado, hoy en dia la funcion de hashing criptografica mas usada es <b>SHA-256</b> por lo que vamos a explicar el funcionamiento de la misma."
   ]
  },
  {
   "cell_type": "markdown",
   "metadata": {},
   "source": [
    "<b>SHA-256</b> se basa en la conbinacion de dos primitivas criptograficas muy importantes: \n",
    "- La construccion de Merkle-Damgard \n",
    "- La construccion de Davis-Meyer."
   ]
  },
  {
   "cell_type": "markdown",
   "metadata": {},
   "source": [
    "### Construccion de Merkle-Damgard"
   ]
  },
  {
   "cell_type": "markdown",
   "metadata": {},
   "source": [
    "En esta construccion suponemos que existe una funcion <b>f</b> que recibe un bloque de <b>m</b> bits y devuelve un bloque de <b>n</b> bits con <b>n menor a  m</b>. A esta funcion se la llama <b>funcion de compresion</b> aunque no tiene nada que ver con compresion de datos. Simplemente devuelve menos bits que los que recibe."
   ]
  },
  {
   "cell_type": "markdown",
   "metadata": {},
   "source": [
    "El objetivo de la construccion de Merkle-Damgard es dado un string de una cantidad arbitraria de bits emitir un unico resultado de tamanio fijo, es decir que no sea variable."
   ]
  },
  {
   "cell_type": "markdown",
   "metadata": {},
   "source": [
    "Supongamos que <b>n</b> es la cantida de bits que emite nuestra funcion de compresion f, dividimos nuestro mensaje entonces en bloques de \"n\" bits"
   ]
  }
 ],
 "metadata": {
  "kernelspec": {
   "display_name": "Python 3",
   "language": "python",
   "name": "python3"
  },
  "language_info": {
   "codemirror_mode": {
    "name": "ipython",
    "version": 3
   },
   "file_extension": ".py",
   "mimetype": "text/x-python",
   "name": "python",
   "nbconvert_exporter": "python",
   "pygments_lexer": "ipython3",
   "version": "3.6.4"
  }
 },
 "nbformat": 4,
 "nbformat_minor": 2
}
