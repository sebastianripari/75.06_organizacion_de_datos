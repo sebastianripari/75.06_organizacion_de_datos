{
 "cells": [
  {
   "cell_type": "markdown",
   "metadata": {},
   "source": [
    "# Funciones Criptograficas"
   ]
  },
  {
   "cell_type": "markdown",
   "metadata": {},
   "source": [
    "Las funciones de <b>hashing criptograficas</b> son funciones de hashing que deben cumplir requisitos adicionales que hacen a la seguridad de las mismas. Una funcion de hashing criptografica debe cumplir con las siguientes <b>caracteristicas</b>:"
   ]
  },
  {
   "cell_type": "markdown",
   "metadata": {},
   "source": [
    "1) La funcion tiene que producir la menor cantidad de colisiones posibles. <br>\n",
    "2) Dado h(x) tiene que ser muy dificil hallar x. <br>\n",
    "3) Tiene que ser muy dificil hallar x e y de forma tal que h(x)=h(y). <br>\n",
    "4) Un cambio minimo en la clave tiene que producir un cambio significativo en el resultado (efecto avalancha). <br>"
   ]
  },
  {
   "cell_type": "markdown",
   "metadata": {},
   "source": [
    "La construccion de funciones de hashing criptograficas es un asunto muy delicado, hoy en dia la funcion de hashing criptografica mas usada es <b>SHA-256</b> por lo que vamos a explicar el funcionamiento de la misma."
   ]
  },
  {
   "cell_type": "markdown",
   "metadata": {},
   "source": [
    "<b>SHA-256</b> se basa en la conbinacion de dos primitivas criptograficas muy importantes: \n",
    "- <b>La construccion de Merkle-Damgard</b> \n",
    "- <b>La construccion de Davis-Meyer.</b>"
   ]
  },
  {
   "cell_type": "markdown",
   "metadata": {},
   "source": [
    "### Construccion de Merkle-Damgard"
   ]
  },
  {
   "cell_type": "markdown",
   "metadata": {},
   "source": [
    "En esta construccion suponemos que existe una funcion <b>f</b> que recibe un bloque de <b>m</b> bits y devuelve un bloque de <b>n</b> bits con <b>n menor a  m</b>. A esta funcion se la llama <b>funcion de compresion</b> aunque no tiene nada que ver con compresion de datos. Simplemente devuelve menos bits que los que recibe."
   ]
  },
  {
   "cell_type": "markdown",
   "metadata": {},
   "source": [
    "El objetivo de la construccion de Merkle-Damgard es dado un string de una cantidad arbitraria de bits emitir un unico resultado de tamanio fijo, es decir que no sea variable."
   ]
  },
  {
   "cell_type": "markdown",
   "metadata": {},
   "source": [
    "Supongamos que <b>n</b> es la cantida de bits que emite nuestra funcion de compresion f, dividimos nuestro mensaje entonces en bloques de \"n\" bits"
   ]
  },
  {
   "cell_type": "markdown",
   "metadata": {},
   "source": [
    "Entonces, dividimos el mensaje original, osea el string original, en bloques de <b>m</b> bits. Luego aplicamos la funcion de compresion <b>f</b> a cada uno de estos bloques y obtendremos bloques de <b>n</b> bits."
   ]
  },
  {
   "cell_type": "markdown",
   "metadata": {},
   "source": [
    "<img src=\"construccion_de_merkle_damgard.png\">"
   ]
  },
  {
   "cell_type": "markdown",
   "metadata": {},
   "source": [
    "### Construccion de Davis-Meyer"
   ]
  },
  {
   "cell_type": "markdown",
   "metadata": {},
   "source": [
    "La construccion de Davis-Meyer permite generar una funcion de compresion <b>segura</b> a partir de un algoritmo de encriptacion seguro. El procedimiento es muy simple, recibimos dos bloques y usaremos uno como clave para encriptar el otro, finalizando con el xor entre el bloque 1 y el resultado de la encriptacion. "
   ]
  },
  {
   "cell_type": "markdown",
   "metadata": {},
   "source": [
    "<img src=\"construccion_de_davis_meyer.png\">"
   ]
  },
  {
   "cell_type": "markdown",
   "metadata": {},
   "source": [
    "SHA-256 es entonces una construccion de Merkle-Damgard en donde la funcion de compresion es una construccion Davis-Meyer usando SHACAL-2 como algoritmo de encriptacion. Cada bloque del mensaje tiene 512 bits y la funcion de compresion devuelve 256 bits.\n"
   ]
  },
  {
   "cell_type": "markdown",
   "metadata": {},
   "source": [
    "Es importante destacar que es un error muy grave usar una funcion de hashing tradicional cuando se necesita una funcion de hashing criptografica pero tambien es un error grave usar una funcion criptografica cuando solo se necesita una funcion de hashing tradicional. Esto es porque las funciones criptograficas son menos eficientes y estariamos perdiendo velocidad a cambio de propieadades adicionales que no necesitamos."
   ]
  }
 ],
 "metadata": {
  "kernelspec": {
   "display_name": "Python 3",
   "language": "python",
   "name": "python3"
  },
  "language_info": {
   "codemirror_mode": {
    "name": "ipython",
    "version": 3
   },
   "file_extension": ".py",
   "mimetype": "text/x-python",
   "name": "python",
   "nbconvert_exporter": "python",
   "pygments_lexer": "ipython3",
   "version": "3.7.0"
  }
 },
 "nbformat": 4,
 "nbformat_minor": 2
}
