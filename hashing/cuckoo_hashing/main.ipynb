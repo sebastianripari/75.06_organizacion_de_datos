{
 "cells": [
  {
   "cell_type": "markdown",
   "metadata": {},
   "source": [
    "# Cuckoo Hashing"
   ]
  },
  {
   "cell_type": "markdown",
   "metadata": {},
   "source": [
    "Vamos a explicar nuestro primer algoritmo basado en <b>multiples</b> funciones de hashing. El algoritmo llamado <b>Cuckoo Hashing</b> fue creado por <b>Pagh y Rodler</b> en el anio 2001. Se basa en el uso de mas de una funcion de hashing. Para empezar, vamos a usar dos."
   ]
  },
  {
   "cell_type": "markdown",
   "metadata": {},
   "source": [
    "Cada funcion de hashing va a definir una posicion alternativa para nuestro dato en una tabla de hash. El algoritmo de busqueda es muy simple. El dato tiene que estar en alguna de las dos posiciones alternativas o no esta en la tabla, es decir, es O(1). La inserccion funciona de forma muy sencilla: almacenamos el dato en la posicion indicada por la primera funcion de hashing. Si ese lugar estaba ocupado entonces reubicamos ese dato en su posicion alternativa y asi sucesivamente, hasta que no hay mas datos a reubicar o bien entramos en un loop."
   ]
  },
  {
   "cell_type": "markdown",
   "metadata": {},
   "source": [
    "<b>Ejemplo: </b> Definamos una tabla de 6 posiciones (0 a 5) y daremos el valor de dos funciones de hashing h1 y h2 para cada clave a insertar."
   ]
  },
  {
   "cell_type": "code",
   "execution_count": 1,
   "metadata": {},
   "outputs": [],
   "source": [
    "# Tabla inicial: _,_,_,_,_,_"
   ]
  },
  {
   "cell_type": "code",
   "execution_count": 2,
   "metadata": {},
   "outputs": [],
   "source": [
    "# h1(A)=2,h2(A)=0\n",
    "# Tabla actual: _,_,A,_,_,_"
   ]
  },
  {
   "cell_type": "code",
   "execution_count": 3,
   "metadata": {},
   "outputs": [],
   "source": [
    "# h1(B)=4,h2(B)=1\n",
    "# Tabla actual: _,_,A,_,B,_"
   ]
  },
  {
   "cell_type": "code",
   "execution_count": 4,
   "metadata": {},
   "outputs": [],
   "source": [
    "# h1(C)=2,h2(C)=5\n",
    "# Tabla actual: _,_,C,_,B,_ (A)\n",
    "# Tabla actual: A,_,C,_,B,_ (Colocamos a A en su posicion Alternativa)"
   ]
  },
  {
   "cell_type": "code",
   "execution_count": 5,
   "metadata": {},
   "outputs": [],
   "source": [
    "# h1(D)=2, h2(D)=3\n",
    "# Tabla actual: A,_,D,_,B,_ (C)\n",
    "# Tabla actual: A,_,D,_,B,C (Colocamos a C en su posicion Alternativa)"
   ]
  },
  {
   "cell_type": "code",
   "execution_count": 6,
   "metadata": {},
   "outputs": [],
   "source": [
    "# h1(E)=5, h2(E)=0\n",
    "# Tabla actual: A,_,D,_,B,E (C)\n",
    "# Tabla actual: A,_,C,_,B,E (D)\n",
    "# Tabla actual: A,_,C,D,B,E (Colocamos a D en su posicion Alternativa)"
   ]
  },
  {
   "cell_type": "code",
   "execution_count": 8,
   "metadata": {},
   "outputs": [],
   "source": [
    "# h1(F)=3, h2(F)=4\n",
    "# Tabla actual: A,_,C,F,B,E (D)\n",
    "# Tabla actual: A,_,D,F,B,E (C)\n",
    "# Tabla actual: A,_,D,F,B,C (E)\n",
    "# Tabla actual: E,_,D,F,B,C (A)\n",
    "# Tabla actual: E,_,A,F,B,C (D)\n",
    "# Tabla actual: E,_,A,D,B,C (F)\n",
    "# Tabla actual: E,_,A,D,F,C (B)\n",
    "# Tabla actual: E,B,A,D,F,C "
   ]
  }
 ],
 "metadata": {
  "kernelspec": {
   "display_name": "Python 3",
   "language": "python",
   "name": "python3"
  },
  "language_info": {
   "codemirror_mode": {
    "name": "ipython",
    "version": 3
   },
   "file_extension": ".py",
   "mimetype": "text/x-python",
   "name": "python",
   "nbconvert_exporter": "python",
   "pygments_lexer": "ipython3",
   "version": "3.7.0"
  }
 },
 "nbformat": 4,
 "nbformat_minor": 2
}
