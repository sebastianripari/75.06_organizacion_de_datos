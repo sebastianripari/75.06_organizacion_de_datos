{
 "cells": [
  {
   "cell_type": "markdown",
   "metadata": {},
   "source": [
    "# Hashing Universal"
   ]
  },
  {
   "cell_type": "markdown",
   "metadata": {},
   "source": [
    "En muchos algoritmos necesitamos no una sino varias funciones de hashing. Con lo que hemos visto, esto no es una tarea sencilla, ya que podriamos usar <b>Jenkins</b>,<b>FNV</b> y alguna otra, pero tarde o temprano, se nos terminarian las funciones. El concepto de <b>Hashing Universal</b> pasa por construir, no una funcion de hashing, sino una familia de funciones de hashing, de forma tal que podamos elegir las funciones que necesitemos entre el total de funciones que constituyen dicha familia."
   ]
  },
  {
   "cell_type": "markdown",
   "metadata": {},
   "source": [
    "### Definicion de Hashing Universal"
   ]
  },
  {
   "cell_type": "markdown",
   "metadata": {},
   "source": [
    "Sea <b>H</b> una familia de funciones de hashing de la forma:"
   ]
  },
  {
   "cell_type": "markdown",
   "metadata": {},
   "source": [
    "<img src=\"imagenes/forma_hashing_universal.png\">"
   ]
  },
  {
   "cell_type": "markdown",
   "metadata": {},
   "source": [
    "es decir que recibimos una <b>clave</b> cualquiera dentro de <b>U</b> y generamos un numero entre 0 y m - 1."
   ]
  },
  {
   "cell_type": "markdown",
   "metadata": {},
   "source": [
    "Decimos que <b>H</b> es <b>universal</b> si:"
   ]
  },
  {
   "cell_type": "markdown",
   "metadata": {},
   "source": [
    "<img src=\"imagenes/definicion_universal.png\">"
   ]
  },
  {
   "cell_type": "markdown",
   "metadata": {},
   "source": [
    "Es decir que para cualquier funcion de hashing de nuestra familia la probabilidad de que dos claves diferentes colisionen debe ser menor o igual a <b>1/m</b>."
   ]
  },
  {
   "cell_type": "markdown",
   "metadata": {},
   "source": [
    "### Hashing Universal para valores atomicos (numericos)"
   ]
  },
  {
   "cell_type": "markdown",
   "metadata": {},
   "source": [
    "Vamos a ver dos versiones que nos permiten crear una familia de funciones de hashing universal para valores numericos."
   ]
  },
  {
   "cell_type": "markdown",
   "metadata": {},
   "source": [
    "La <b>primer version</b> es la mas clasica y se denomina funcion <b>Carter-Wegman</b>:"
   ]
  },
  {
   "cell_type": "markdown",
   "metadata": {},
   "source": [
    "<img src=\"imagenes/fam_universal_carter_wegman.png\">"
   ]
  },
  {
   "cell_type": "markdown",
   "metadata": {},
   "source": [
    "En donde <b>p</b> es un numero primo mayor o igual a <b>m</b>, <b>a</b> es un numero entre 1 y p - 1 y <b>b</b> es un numero entre 0 y p - 1."
   ]
  },
  {
   "cell_type": "markdown",
   "metadata": {},
   "source": [
    "La <b>segunda version</b> esta basada en <b>FNV</b>"
   ]
  },
  {
   "cell_type": "markdown",
   "metadata": {},
   "source": [
    "<img src=\"imagenes/hashing_universal_fnv.png\">"
   ]
  },
  {
   "cell_type": "markdown",
   "metadata": {},
   "source": [
    "Como podemos ver en la segunda construccion parametrizamos a funcion en base a un numero d."
   ]
  },
  {
   "cell_type": "markdown",
   "metadata": {},
   "source": [
    "### Hashing universal para claves de longitud fija "
   ]
  },
  {
   "cell_type": "markdown",
   "metadata": {},
   "source": [
    "Vamos a plantear ahora una familia de funciones de hashing que funcione para datos de <b>longitud fija</b>, pueden ser numeros, strings de longitud fija o vectores. Sea <b>m</b>, nuestro espacio de direcciones, <b>p</b> un numero primo mayor o igual a <b>m</b> y sean claves <b>x</b> compuestas por <b>r + 1</b> numeros: x0,x1...,xr. Vamos a elegir r + 1 numero <b>a sub i</b> entre 1 y m - 1 y nuestra funcion hashing quedara definida por:"
   ]
  },
  {
   "cell_type": "markdown",
   "metadata": {},
   "source": [
    "<img src=\"imagenes/hash_universal_long_fija.png\">"
   ]
  },
  {
   "cell_type": "markdown",
   "metadata": {},
   "source": [
    "A efectos de simplificar el analisis supongamos que <b>m</b> es primo en cuyo caso podemos usar:"
   ]
  },
  {
   "cell_type": "markdown",
   "metadata": {},
   "source": [
    "<img src=\"imagenes/hash_universal_long_fija_m_primo.png\">"
   ]
  },
  {
   "cell_type": "markdown",
   "metadata": {},
   "source": [
    "Notemos que hemos definido una familia de funciones de hashing ya que por cada seleccion de los parametros <b>a sub i</b> creamos una funcion diferente. En concreto como cada <b>a sub i</b> puede tomar un valor entre 0 y m - 1 hay un total de m^r+1 funciones de hashing en nuestra familia."
   ]
  },
  {
   "cell_type": "markdown",
   "metadata": {},
   "source": [
    "### Hashing Universal para claves de longitud variable"
   ]
  },
  {
   "cell_type": "markdown",
   "metadata": {},
   "source": [
    "Consideremos ahora el caso en el cual nuestras claves tienen <b>longitud variable</b> y no hay una longitud maxima definida. Si existiera una longitud maxima para las claves entonces podriamos simplemente hacer padding y usar la familia de funciones anterior sin perder la universalidad de la misma."
   ]
  },
  {
   "cell_type": "markdown",
   "metadata": {},
   "source": [
    "Planteamos la siguiente familia de funciones de hashing para una clave de longitud <b>l</b>."
   ]
  },
  {
   "cell_type": "markdown",
   "metadata": {},
   "source": [
    "<img src=\"imagenes/hash_universal_long_variable.png\">"
   ]
  },
  {
   "cell_type": "markdown",
   "metadata": {},
   "source": [
    "Donde <b>p</b> es un numero primo grande, <b>a</b> es un numero aleatorio entre 0 y <b>p - 1</b> y <b>h int</b> es una funcion de hashing tomada de la familia universal que definimos anteriormente que recibe un numero entre 0 y p - 1 y devuelve otro numero entre 0 y m - 1."
   ]
  }
 ],
 "metadata": {
  "kernelspec": {
   "display_name": "Python 3",
   "language": "python",
   "name": "python3"
  },
  "language_info": {
   "codemirror_mode": {
    "name": "ipython",
    "version": 3
   },
   "file_extension": ".py",
   "mimetype": "text/x-python",
   "name": "python",
   "nbconvert_exporter": "python",
   "pygments_lexer": "ipython3",
   "version": "3.7.0"
  }
 },
 "nbformat": 4,
 "nbformat_minor": 2
}
