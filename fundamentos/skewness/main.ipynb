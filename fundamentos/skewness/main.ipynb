{
 "cells": [
  {
   "cell_type": "markdown",
   "metadata": {},
   "source": [
    "# Skewness"
   ]
  },
  {
   "cell_type": "markdown",
   "metadata": {},
   "source": [
    "El fenómeno conocido como ”skewness” se da cuando la distribución de las\n",
    "clases en nuestro set de datos está muy desbalanceada. Consideremos el ejemplo\n",
    "tı́pico de una base de datos con emails rotulados como spam o no-spam que\n",
    "queremos usar como set de entrenamiento para un clasificador que nos permita\n",
    "predecir si un email no rotulado es spam o no. En el set de entrenamiento\n",
    "vamos a tener muchos mas emails rotulados como no-spam que como spam\n",
    "ya que afortunadamente el spam es sólo un pequeño porcentaje del total del\n",
    "volumen de emails que circulan diariamente. Por ejemplo podrı́amos tener un\n",
    "set de entrenamiento en el cual un 1% de los mensajes están rotulados como\n",
    "spam.\n"
   ]
  }
 ],
 "metadata": {
  "kernelspec": {
   "display_name": "Python 3",
   "language": "python",
   "name": "python3"
  },
  "language_info": {
   "codemirror_mode": {
    "name": "ipython",
    "version": 3
   },
   "file_extension": ".py",
   "mimetype": "text/x-python",
   "name": "python",
   "nbconvert_exporter": "python",
   "pygments_lexer": "ipython3",
   "version": "3.6.4"
  }
 },
 "nbformat": 4,
 "nbformat_minor": 2
}
