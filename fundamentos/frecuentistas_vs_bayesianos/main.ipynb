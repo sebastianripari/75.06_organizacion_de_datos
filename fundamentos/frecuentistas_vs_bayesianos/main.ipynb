{
 "cells": [
  {
   "cell_type": "markdown",
   "metadata": {},
   "source": [
    "# Frecuentistas vs Bayesianos"
   ]
  },
  {
   "cell_type": "markdown",
   "metadata": {},
   "source": [
    "La diferencia radica en cual es la informacion necesaria para sacar la conclucion estadistica."
   ]
  },
  {
   "cell_type": "markdown",
   "metadata": {},
   "source": [
    "Para los frecuentistas con saber cuales fueron los datos, realiza el calculo de la frecuencia con la que se dio cierto evento, y en base a eso calcula la probabilidad de que vuelva a pasar el evento. En cambio el Bayesiano ademas de eso utiliza la informacion intrinseca, de la entidad que esta fabricando el evento."
   ]
  },
  {
   "cell_type": "markdown",
   "metadata": {},
   "source": [
    "#### Ejemplo"
   ]
  },
  {
   "cell_type": "markdown",
   "metadata": {},
   "source": [
    "Un jugador de basquet, lanza la pelota 3 veces al aro y emboca 3 veces el valon. Entonces su frecuencia de acierto es 3/3 osea un 100%, entonces un frecuentista deduce que ese jugador de basquet en le futuro siempre la enbocara en el aro y nunca fallara, ya que segun los datos el envoca siempre que tira. En cambio para el Bayesiano como mira mas que los datos sino que se basa tambien el jugador, en cosas a priori, como por ejemplo el promedio de triples de jugadores de basquet en esa posicion."
   ]
  },
  {
   "cell_type": "markdown",
   "metadata": {},
   "source": [
    "<img src=\"bayesianos_frecuentistas.png\">"
   ]
  },
  {
   "cell_type": "markdown",
   "metadata": {},
   "source": [
    "El Bayesiano se apoya mucho en su creencia apriori y se comienza a desviar de ella a medida que va viendo datos, a mayor cantidad de datos, mas se desvia de su creencia apriori."
   ]
  }
 ],
 "metadata": {
  "kernelspec": {
   "display_name": "Python 3",
   "language": "python",
   "name": "python3"
  },
  "language_info": {
   "codemirror_mode": {
    "name": "ipython",
    "version": 3
   },
   "file_extension": ".py",
   "mimetype": "text/x-python",
   "name": "python",
   "nbconvert_exporter": "python",
   "pygments_lexer": "ipython3",
   "version": "3.6.4"
  }
 },
 "nbformat": 4,
 "nbformat_minor": 2
}
