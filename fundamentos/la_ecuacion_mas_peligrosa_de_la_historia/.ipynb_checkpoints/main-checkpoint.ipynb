{
 "cells": [
  {
   "cell_type": "markdown",
   "metadata": {},
   "source": [
    "# La ecuacion mas peligrosa de la historia"
   ]
  },
  {
   "cell_type": "markdown",
   "metadata": {},
   "source": [
    "Es la ecuacion mas peligrosa de la historia, porque su desconocimiento conlleva a cometer errores catastroficos. "
   ]
  },
  {
   "cell_type": "markdown",
   "metadata": {},
   "source": [
    "Dado un elemento de la vida real, del cual se quiere realizar alguna medicion, se sabe que esa medicion posee algun error. La cuestion es cuando se quiere medir varios de esos elementos vamos a tener un error asociado total, que es la suma de los errores de cada medicion. Intuitivamente uno pensaria que si esta permitido tener un cierto error, para la medicion de un elemento, llamemoslo \"e\", entonces si medimos \"n\" elementos entonces el error total seria <b>\"n\" multiplicado por \"e\"</b>. Ese razonamiento es el que llamamos <b>el mas peligroso de la historia</b>. Ya que ha conllevado a grandes catastrofes."
   ]
  },
  {
   "cell_type": "markdown",
   "metadata": {},
   "source": [
    "La forma correcta de calcular el error en ese caso es mediante <b>La ecuacion de DeMoivre</b>. Que es la siguiente:"
   ]
  },
  {
   "cell_type": "markdown",
   "metadata": {},
   "source": [
    "<img src=\"Ecuacion_de_DeMoivre.png\">"
   ]
  },
  {
   "cell_type": "markdown",
   "metadata": {},
   "source": [
    "x sombrero: Es la muestra.<br>\n",
    "n: cantida de elementos de la muestra.<br>\n",
    "tita: error"
   ]
  }
 ],
 "metadata": {
  "kernelspec": {
   "display_name": "Python 3",
   "language": "python",
   "name": "python3"
  },
  "language_info": {
   "codemirror_mode": {
    "name": "ipython",
    "version": 3
   },
   "file_extension": ".py",
   "mimetype": "text/x-python",
   "name": "python",
   "nbconvert_exporter": "python",
   "pygments_lexer": "ipython3",
   "version": "3.6.4"
  }
 },
 "nbformat": 4,
 "nbformat_minor": 2
}
