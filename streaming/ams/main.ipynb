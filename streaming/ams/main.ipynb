{
 "cells": [
  {
   "cell_type": "markdown",
   "metadata": {},
   "source": [
    "# AMS"
   ]
  },
  {
   "cell_type": "markdown",
   "metadata": {},
   "source": [
    "Es un algoritmo para estimar el <b>frecuency moment</b> de orden 2 de un stream, es decir su numero sorpresa. Este algoritmo mantiene en memoria k estimadores, cada estimador registra un elemento del stream y la cantidad de veces que aparecio el mismo. Por cada elemento del stream si el mismo si el mismo esta entre los estimadores simplemente aumentamos el contador en 1, si el elemento no esta entre los estimadores entonces ingresa a memoria con probabilidad k/n igual que en reservoir sampling si el estimador ingresa a la memoria reemplaza a otro estimador elegido al azar. "
   ]
  },
  {
   "cell_type": "markdown",
   "metadata": {},
   "source": [
    "Cada estimador estima el modelo de orden 2 del stream mediante:"
   ]
  },
  {
   "cell_type": "markdown",
   "metadata": {},
   "source": [
    "<img src=\"ams.png\">"
   ]
  },
  {
   "cell_type": "markdown",
   "metadata": {},
   "source": [
    "Siendo $C_i$ el contador y n la cantidad de elementos del stream. Al igual que en <b>Flajolet-Martin</b> vamos a agrupar los estimadores en b grupos de m estimadores cada uno siendo el resultado final la mediana del promedio de cada grupo. Notar que esto es al reves que en FM porque ahora los estimadores no son potencia de 2."
   ]
  },
  {
   "cell_type": "markdown",
   "metadata": {},
   "source": [
    "<b>Ejemplo</b>: Usamos 3 estimadores (k=3) y nuestro stream es 1,2,3,2,4,2,5,3,4,4,3,1. Vamos a indicar con * si el estimador ingresa a memoria es decir si salio favorecido en el \"sorteo\" que hacemos para determinar si le toca ingresar."
   ]
  },
  {
   "cell_type": "markdown",
   "metadata": {},
   "source": [
    "Dato = 1 <br>\n",
    "k1.elem = 1 k1.val = 1 <br>\n",
    "<br>\n",
    "Dato = 2 <br>\n",
    "k1.elem = 1 k1.val = 1 | k2.elem = 2 k2.val = 1 <br>\n",
    "<br>\n",
    "Dato = 3 <br>\n",
    "k1.elem = 1 k1.val = 1 | k2.elem = 2 k2.val = 1 | k3.elem = 3 k3.val = 1 <br>\n",
    "<br>\n",
    "Dato = 2 <br>\n",
    "k1.elem = 1 k1.val = 1 | k2.elem = 2 k2.val = 2 | k3.elem = 3 k3.val = 1 <br>\n",
    "<br>\n",
    "Dato = 4 <br>\n",
    "k1.elem = 1 k1.val = 1 | k2.elem = 2 k2.val = 2 | k3.elem = 3 k3.val = 1 <br>\n",
    "<br>\n",
    "Dato = 2 <br>\n",
    "k1.elem = 1 k1.val = 1 | k2.elem = 2 k2.val = 3 | k3.elem = 3 k3.val = 1 <br>\n",
    "<br>\n",
    "Dato = 5 *<br>\n",
    "k1.elem = 1 k1.val = 1 | k2.elem = 2 k2.val = 3 | k3.elem = 5 k3.val = 1 <br>\n",
    "<br>\n",
    "Dato = 3 <br>\n",
    "k1.elem = 1 k1.val = 1 | k2.elem = 2 k2.val = 3 | k3.elem = 5 k3.val = 1 <br>\n",
    "<br>\n",
    "Dato = 4 *<br>\n",
    "k1.elem = 4 k1.val = 1 | k2.elem = 2 k2.val = 3 | k3.elem = 5 k3.val = 1 <br>\n",
    "<br>\n",
    "Dato = 4 <br>\n",
    "k1.elem = 4 k1.val = 2 | k2.elem = 2 k2.val = 3 | k3.elem = 5 k3.val = 1 <br>\n",
    "<br>\n",
    "Dato = 3 <br>\n",
    "k1.elem = 4 k1.val = 2 | k2.elem = 2 k2.val = 3 | k3.elem = 5 k3.val = 1 <br>\n",
    "<br>\n",
    "Dato = 1 <br>\n",
    "k1.elem = 4. k1.val = 2 | k2.elem = 2 k2.val = 3 | k3.elem = 5 k3.val = 1 <br>\n",
    "<br>"
   ]
  },
  {
   "cell_type": "markdown",
   "metadata": {},
   "source": [
    "El numero sorpresa real del stream es: $2^2 + 3^2 + 3^2 + 3^2 + 1^2 = 32$"
   ]
  },
  {
   "cell_type": "markdown",
   "metadata": {},
   "source": [
    "La estimacion para k1 es 12(2 * 1 - 1) = 36. <br>\n",
    "La estimacion para k2 es 12(2 * 3 - 1) = 60. <br>\n",
    "La estimacion para k3 es 12(2 * 1 - 1) = 12."
   ]
  },
  {
   "cell_type": "markdown",
   "metadata": {},
   "source": [
    "Asumiendo que usamos 3 grupos de 1 estimador cada uno la mediana es 36 que se acerca bastante al valor real para el momento de orden 2 del stream. En este caso como cada grupo tiene solo un estimador."
   ]
  }
 ],
 "metadata": {
  "kernelspec": {
   "display_name": "Python 3",
   "language": "python",
   "name": "python3"
  },
  "language_info": {
   "codemirror_mode": {
    "name": "ipython",
    "version": 3
   },
   "file_extension": ".py",
   "mimetype": "text/x-python",
   "name": "python",
   "nbconvert_exporter": "python",
   "pygments_lexer": "ipython3",
   "version": "3.7.0"
  }
 },
 "nbformat": 4,
 "nbformat_minor": 2
}
