{
 "cells": [
  {
   "cell_type": "markdown",
   "metadata": {},
   "source": [
    "# DGIM"
   ]
  },
  {
   "cell_type": "markdown",
   "metadata": {},
   "source": [
    "Para el siguiente problema vamos a considerar Streams binarios, es decir cada dato puede ser 1 o 0. Tomamos una ventana fija de m bits con m realmente muy grande y queremos calcular cuantos bits en 1 vimos en los ultimos k bits k <= m. "
   ]
  },
  {
   "cell_type": "markdown",
   "metadata": {},
   "source": [
    "Este metodo es muy flexible y puede usarse en muchisimas situaciones. Por ejemplo podemos tener un stream por producto y agregar un bit por cada venta realizada indicando con 1 si vendimos el producto y con 0 si fue otro. De esta forma podriamos saber cuantas veces se vendio un cierto producto en las ultimas 100000 ventas o cuantas se uso un cierto termino en Google en las utlimas n busquedas. Etc."
   ]
  },
  {
   "cell_type": "markdown",
   "metadata": {},
   "source": [
    "Para comprender que el algoritmo no es trivial debemos entender que m puede ser un numero muy grande y necesitamos poder calcular la cantidad de unos en cualquier ventana de k <= m. Contar cuantos unos tenemos por cada consulta no es entonces una opcion viable."
   ]
  },
  {
   "cell_type": "markdown",
   "metadata": {},
   "source": [
    "El algoritmo que usaremos fue desarrollado por Datar, Gionis, Indyk y Motwani. A partir de ahora lo llamaremos <b>DGIM</b>. Es un algoritmo cuyo funcionamiento es realmente muy extranio y de todos los que presentamos en el capitulo es el mas complejo de entender sin embargo una ves entendido es un algoritmo bastante simple. Podriamos decir que es algo asi como andar en bicicleta, aprender parece dificil pero una vez que lo hacemos no nos olvidamos mas."
   ]
  },
  {
   "cell_type": "markdown",
   "metadata": {},
   "source": [
    "Sobre la ventana de m bits el algoritmo va a mantener k sub-ventanas que no pueden superponerse. Por cada sub-ventana va a llevar 2 valores: la posicion en la ventana donde comienza la sub-ventana y la cantidad de unos que hay en la misma. Por cada bit procesado a la posicion de cada sub-ventana le sumamos uno (para mantener el offset)."
   ]
  },
  {
   "cell_type": "markdown",
   "metadata": {},
   "source": [
    "Se sabe donde termina cada sub-ventana porque se sabe donde comienza la anterior y la ultima sub-ventana esta acotada a por el fin de la ventana grande m. La posicion donde comienza la ventana se calcula modulo m. En el apunte no lo haremos para no confundir."
   ]
  },
  {
   "cell_type": "markdown",
   "metadata": {},
   "source": [
    "Para ver como se construyen estas sub-ventanas veamos como funciona el algoritmo."
   ]
  },
  {
   "cell_type": "markdown",
   "metadata": {},
   "source": [
    "Procesamos bit por bit el stream, si el bit es 0 lo ignoramos completamente. Si el bit es 1 entonces creamos una ventana de tamanio 1 para ese bit con contador = 1."
   ]
  },
  {
   "cell_type": "markdown",
   "metadata": {},
   "source": [
    "Luego debemos analizar cuantas sub-ventanas hay con 1 bit en total:\n",
    "- Si hay 1 o 2 no hacemos nada.\n",
    "- Si hay 3 entonces conbinamos las dos sub-ventanas mas viejas en una nueva sub-ventana de 2 bits. <br>"
   ]
  },
  {
   "cell_type": "markdown",
   "metadata": {},
   "source": [
    "Y luego vemos cuantas sub-ventanas de 2 bits hay:\n",
    "- Si hay 1 o 2 no hacemos nada.\n",
    "- Si 3 entonces combinamos las dos sub-ventanas mas viejas en una nueva sub-ventana mas viejas en una nueva sub-ventana de 4 bits."
   ]
  },
  {
   "cell_type": "markdown",
   "metadata": {},
   "source": [
    "Y asi sucesivamente..."
   ]
  },
  {
   "cell_type": "markdown",
   "metadata": {},
   "source": [
    "<b>Ejemplo</b>, tomando un m que suponemos grande para que no influya. <br>\n",
    "Notar que el offset de las sub-ventanas siempre apunta al bit mas reciente de las mismas y que ese bit siempre es 1. Recordar que siempre se combinan las sub-ventanas mas viejas."
   ]
  },
  {
   "cell_type": "markdown",
   "metadata": {},
   "source": [
    "Stream: [1] <br>\n",
    "[pos = 0 bits = 1] <br>\n",
    "Stream: [1] <br>\n",
    "[pos = 1 bits 1] <br>\n",
    "Stream: [1]0[1] <br>\n",
    "[pos=2 bits=1] [pos=0 bits=1]\n"
   ]
  },
  {
   "cell_type": "code",
   "execution_count": null,
   "metadata": {},
   "outputs": [],
   "source": []
  }
 ],
 "metadata": {
  "kernelspec": {
   "display_name": "Python 3",
   "language": "python",
   "name": "python3"
  },
  "language_info": {
   "codemirror_mode": {
    "name": "ipython",
    "version": 3
   },
   "file_extension": ".py",
   "mimetype": "text/x-python",
   "name": "python",
   "nbconvert_exporter": "python",
   "pygments_lexer": "ipython3",
   "version": "3.7.0"
  }
 },
 "nbformat": 4,
 "nbformat_minor": 2
}
