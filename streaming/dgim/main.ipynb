{
 "cells": [
  {
   "cell_type": "markdown",
   "metadata": {},
   "source": [
    "# DGIM"
   ]
  },
  {
   "cell_type": "markdown",
   "metadata": {},
   "source": [
    "Para el siguiente problema vamos a considerar <b>Streams binarios</b>, es decir cada dato puede ser 1 o 0. Tomamos una ventana fija de m bits con m realmente muy grande y queremos calcular cuantos bits en 1 vimos en los ultimos k bits k <= m. "
   ]
  },
  {
   "cell_type": "markdown",
   "metadata": {},
   "source": [
    "Este metodo es muy flexible y puede usarse en muchisimas situaciones. Por <b>ejemplo</b> podemos tener un stream por producto y agregar un bit por cada venta realizada indicando con 1 si vendimos el producto y con 0 si fue otro. De esta forma podriamos saber cuantas veces se vendio un cierto producto en las ultimas 100000 ventas o cuantas se uso un cierto termino en Google en las utlimas n busquedas. Etc."
   ]
  },
  {
   "cell_type": "markdown",
   "metadata": {},
   "source": [
    "Para comprender que el algoritmo no es trivial debemos entender que m puede ser un numero muy grande y necesitamos poder calcular la cantidad de unos en cualquier ventana de k <= m. <b>Contar cuantos unos tenemos por cada consulta no es entonces una opcion viable.</b>"
   ]
  },
  {
   "cell_type": "markdown",
   "metadata": {},
   "source": [
    "El algoritmo que usaremos fue desarrollado por <b>Datar, Gionis, Indyk y Motwani</b>. A partir de ahora lo llamaremos <b>DGIM</b>. Es un algoritmo cuyo funcionamiento es realmente muy extranio y de todos los que presentamos en el capitulo es el mas complejo de entender sin embargo una ves entendido es un algoritmo bastante simple. Podriamos decir que es algo asi como andar en bicicleta, aprender parece dificil pero una vez que lo hacemos no nos olvidamos mas."
   ]
  },
  {
   "cell_type": "markdown",
   "metadata": {},
   "source": [
    "Sobre la ventana de m bits el algoritmo va a mantener k sub-ventanas que no pueden superponerse. Por cada sub-ventana va a llevar 2 valores: la <b>posicion</b> donde comienza la sub-ventana y la <b>cantidad de unos</b> que hay en la misma. Por cada bit procesado a la posicion de cada sub-ventana le sumamos uno (para mantener el offset)."
   ]
  },
  {
   "cell_type": "markdown",
   "metadata": {},
   "source": [
    "Se sabe donde termina cada sub-ventana porque se sabe donde comienza la anterior y la ultima sub-ventana esta acotada a por el fin de la ventana grande m. La posicion donde comienza la ventana se calcula modulo m. En el apunte no lo haremos para no confundir."
   ]
  },
  {
   "cell_type": "markdown",
   "metadata": {},
   "source": [
    "<b>Para ver como se construyen estas sub-ventanas veamos como funciona el algoritmo</b>."
   ]
  },
  {
   "cell_type": "markdown",
   "metadata": {},
   "source": [
    "Procesamos bit por bit el stream, si el bit es 0 lo ignoramos completamente. Si el bit es 1 entonces creamos una ventana de tamanio 1 para ese bit con contador = 1."
   ]
  },
  {
   "cell_type": "markdown",
   "metadata": {},
   "source": [
    "Luego debemos analizar cuantas sub-ventanas hay con 1 bit en total:\n",
    "- Si hay 1 o 2 no hacemos nada.\n",
    "- Si hay 3 entonces combinamos las dos sub-ventanas mas viejas en una nueva sub-ventana de 2 bits. <br>"
   ]
  },
  {
   "cell_type": "markdown",
   "metadata": {},
   "source": [
    "Y luego vemos cuantas sub-ventanas de 2 bits hay:\n",
    "- Si hay 1 o 2 no hacemos nada.\n",
    "- Si hay 3 entonces combinamos las dos sub-ventanas mas viejas en una nueva sub-ventana de 4 bits."
   ]
  },
  {
   "cell_type": "markdown",
   "metadata": {},
   "source": [
    "Y asi sucesivamente..."
   ]
  },
  {
   "cell_type": "markdown",
   "metadata": {},
   "source": [
    "<b>Ejemplo</b>, tomando un m que suponemos grande para que no influya. <br>\n",
    "Notar que el offset de las sub-ventanas siempre apunta al bit mas reciente de las mismas y que ese bit siempre es 1. Recordar que siempre se combinan las sub-ventanas mas viejas."
   ]
  },
  {
   "cell_type": "markdown",
   "metadata": {},
   "source": [
    "Stream: [1] <br>\n",
    "[pos = 0; bits = 1] <br>\n",
    "<br>\n",
    "Stream: [1]0 <br>\n",
    "[pos = 1; bits = 1] <br>\n",
    "<br>\n",
    "Stream: [1]0[1] <br>\n",
    "[pos = 2; bits = 1] [pos = 0; bits = 1] <br>\n",
    "<br>\n",
    "Stream: [1]0[1]00 <br>\n",
    "[pos = 4; bits = 1] [pos = 2; bits = 1] <br>\n",
    "<br>\n",
    "Stream: [1]0[1]00[1] <br>\n",
    "[pos = 5; bits = 1] [pos = 3; bits = 1] [pos = 0; bits = 1] <br>"
   ]
  },
  {
   "cell_type": "markdown",
   "metadata": {},
   "source": [
    "Aqui tenemos 3 sub-ventanas con 1 bit, combinamos las dos mas viejas"
   ]
  },
  {
   "cell_type": "markdown",
   "metadata": {},
   "source": [
    "Stream: [101]00[1] <br>\n",
    "[pos = 3; bits = 2] [pos = 0; bits = 1] <br>\n",
    "<br>\n",
    "Stream: [101]00[1][1] <br>\n",
    "[pos = 4; bits = 2] [pos = 1; bits = 1] [pos = 0; bits = 1] <br>\n",
    "<br>\n",
    "Stream: [101]00[1][1]0 <br>\n",
    "[pos = 5; bits = 2] [pos = 2; bits = 1] [pos = 1; bits = 1] <br>\n",
    "<br>\n",
    "Stream: [101]00[1][1]0[1] (combinar) <br>\n",
    "<br>\n",
    "Stream: [101]00[11]0[1] <br>\n",
    "[pos = 6 bits; bits = 2] [pos = 2; bits = 2] [pos = 0; bits = 1] <br>\n",
    "<br>\n",
    "Stream: [101]00[11]0[1][1] <br>\n",
    "[pos = 7 bits = 2] [pos = 3; bits = 2] [pos = 1; bits = 1] [pos = 0; bits = 1] <br>\n",
    "<br>\n",
    "Stream: [101]00[11]0[1][1]0 <br>\n",
    "[pos = 8; bits = 2] [pos = 4; bits = 2] [pos = 2; bits = 1] [pos = 1; bits = 1] <br>\n",
    "<br>\n",
    "Stream: [101]00[11]0[1][1]0[1] (combinar) <br>\n",
    "<br>\n",
    "Stream: [101]00[11]0[11]0[1] (combinar, hay 3 de longitud 2) <br>\n",
    "<br>\n",
    "Stream: [1010011]0[11]0[1] <br>\n",
    "[pos = 5; bits = 4] [pos = 2; bits = 2] [pos = 0; bits = 1] <br>"
   ]
  },
  {
   "cell_type": "markdown",
   "metadata": {},
   "source": [
    "Con la estrategia de sub-ventanas para calcular cuantos 1s hay en una cierta sub-ventana de longitud k lo que hacemos es sumar la cantidad de bits de todas las sub-ventanas comprendidas y la mitad de la ultima."
   ]
  },
  {
   "cell_type": "markdown",
   "metadata": {},
   "source": [
    "Ejemplo si tenemos la salida de nuestro seguimiento: <br>\n",
    "[pos = 5; bits = 4] [pos = 2; bits = 2] [pos = 0; bits = 1] <br>"
   ]
  },
  {
   "cell_type": "markdown",
   "metadata": {},
   "source": [
    "Y queremos saber cuantos 1s hay en los ultimos 6 bits del stream notamos que las ventanas de pos = 2 y pos = 0 quedan dentro de estos 6 bits y la ventana de pos = 5 parcialmente. Entonces estimamos 1 + 2 + 4/2 = 5 bits. Si recordamos el stream: 101001101101. Vemos que la cantidad real de 1s en los ultimos 6 bits era 4, la estimacion es cercana."
   ]
  },
  {
   "cell_type": "markdown",
   "metadata": {},
   "source": [
    "Sin embargo para este caso particular como sabemos que buscamos 6 bits y la tercer sub-ventana justo comienza en el sexto bit podemos saber que ese bit es un uno pues todas las ventanas comienzan con 1. Por lo tanto podemos  calcular 1 + 2 + 1 = 4 bits (es un caso particular)."
   ]
  },
  {
   "cell_type": "markdown",
   "metadata": {},
   "source": [
    "El <b>error</b> de DGIM es de aproximadamente un 50%, esto es bastante alto. Para reducirlo lo que hacemos en lugar de admitir 2 sub-ventanas como maximo de cada tamanio, admitir \"r\". Haciendo esto el error de DGIM es de 1/r. Es decir que si queremos un error de 10% admitimos hasta 10 ventanas de cada longitud pero necesitamos almacenar mayor cantidad de sub ventanas con mayor consumo de memoria."
   ]
  }
 ],
 "metadata": {
  "kernelspec": {
   "display_name": "Python 3",
   "language": "python",
   "name": "python3"
  },
  "language_info": {
   "codemirror_mode": {
    "name": "ipython",
    "version": 3
   },
   "file_extension": ".py",
   "mimetype": "text/x-python",
   "name": "python",
   "nbconvert_exporter": "python",
   "pygments_lexer": "ipython3",
   "version": "3.6.4"
  }
 },
 "nbformat": 4,
 "nbformat_minor": 2
}
