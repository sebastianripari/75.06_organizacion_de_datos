{
 "cells": [
  {
   "cell_type": "markdown",
   "metadata": {},
   "source": [
    "# Momentos de un Stream (Frecuency Moments)"
   ]
  },
  {
   "cell_type": "markdown",
   "metadata": {},
   "source": [
    "Ya sabemos que un Stream es una coleccion de elementos. Llamemos M sub i a la cantidad de veces que elemento i ocurrio en el Stream. Osea M sub i es la <b>frecuencia</b> de i."
   ]
  },
  {
   "cell_type": "markdown",
   "metadata": {},
   "source": [
    "#### Ejemplo Frecuency:"
   ]
  },
  {
   "cell_type": "code",
   "execution_count": 1,
   "metadata": {},
   "outputs": [],
   "source": [
    "# S = (1,2,3,2,4)\n",
    "# M1 = 1\n",
    "# M2 = 2\n",
    "# M3 = 1\n",
    "# M4 = 1"
   ]
  },
  {
   "cell_type": "markdown",
   "metadata": {},
   "source": [
    "Ahora si definamos el <b>momento de orden k de un Stream (Frecuency Moments)</b>:"
   ]
  },
  {
   "cell_type": "markdown",
   "metadata": {},
   "source": [
    "<img src=\"momento_de_orden_k_stream.png\">"
   ]
  },
  {
   "cell_type": "markdown",
   "metadata": {},
   "source": [
    "<b>Observacion</b>: Es hacer la sumatoria de los M sub i elevados a la k."
   ]
  },
  {
   "cell_type": "markdown",
   "metadata": {},
   "source": [
    "### Casos de interes: "
   ]
  },
  {
   "cell_type": "markdown",
   "metadata": {},
   "source": [
    "<b>k = 0</b> Cuenta la cantidad de elementos diferentes que hay en el Stream."
   ]
  },
  {
   "cell_type": "markdown",
   "metadata": {},
   "source": [
    "<b>k = 1</b> Cuenta la cantidad de elementos que hay en el Stream."
   ]
  },
  {
   "cell_type": "markdown",
   "metadata": {},
   "source": [
    "<b>k = 2</b> es usado para estimar el tamanio de un <b>self join</b>"
   ]
  },
  {
   "cell_type": "markdown",
   "metadata": {},
   "source": [
    "#### Ejemplos Frecuency Moments:"
   ]
  },
  {
   "cell_type": "code",
   "execution_count": null,
   "metadata": {},
   "outputs": [],
   "source": [
    "# S1 = (1,2,3,4,5,6,7,8,9,1)\n",
    "# S2 = (1,1,2,3,1,1,4,5,1,7)\n",
    "\n",
    "# M0(S1) = 9\n",
    "# M1(S1) = 10\n",
    "# M2(S1) = 2^2 + 8 = 12\n",
    "\n",
    "# M0(S2) = 6\n",
    "# M1(S2) = 10\n",
    "# M2(S2) = 2^5 + 1 + 1 + 1 + 1 + 1 = 37"
   ]
  }
 ],
 "metadata": {
  "kernelspec": {
   "display_name": "Python 3",
   "language": "python",
   "name": "python3"
  },
  "language_info": {
   "codemirror_mode": {
    "name": "ipython",
    "version": 3
   },
   "file_extension": ".py",
   "mimetype": "text/x-python",
   "name": "python",
   "nbconvert_exporter": "python",
   "pygments_lexer": "ipython3",
   "version": "3.6.4"
  }
 },
 "nbformat": 4,
 "nbformat_minor": 2
}
