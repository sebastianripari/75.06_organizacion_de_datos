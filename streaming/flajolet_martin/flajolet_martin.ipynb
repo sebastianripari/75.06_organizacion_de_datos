{
 "cells": [
  {
   "cell_type": "markdown",
   "metadata": {},
   "source": [
    "# Flajolet-Martin"
   ]
  },
  {
   "cell_type": "markdown",
   "metadata": {},
   "source": [
    "Es un algoritmo para estimar el <b>frecuency moment</b> de orden 0. Osea para estimar la cantidad de elementos diferentes del Stream."
   ]
  },
  {
   "cell_type": "markdown",
   "metadata": {},
   "source": [
    "El algoritmo aplica una funcion de hashing a cada elemento del stream y cuenta la cantidad de bits en cero consecutivos a partir del bit 0. Y se va quedando con el maximo (r)."
   ]
  },
  {
   "cell_type": "markdown",
   "metadata": {},
   "source": [
    "<b>Luego</b>:"
   ]
  },
  {
   "cell_type": "markdown",
   "metadata": {},
   "source": [
    "<img src=\"flajolet_martin.png\">"
   ]
  },
  {
   "cell_type": "markdown",
   "metadata": {},
   "source": [
    "#### Ejemplo:"
   ]
  },
  {
   "cell_type": "code",
   "execution_count": null,
   "metadata": {},
   "outputs": [],
   "source": [
    "# S = a,b,a,c,b,c,d\n",
    "\n",
    "# h(a) = 01000101 => r = 1\n",
    "# h(b) = 10010111 => r = 0\n",
    "# h(a) = 01000101 => r = 1\n",
    "# h(c) = 00101101 => r = 2\n",
    "# h(b) = 10010111 => r = 0\n",
    "# h(c) = 00101101 => r = 2\n",
    "# h(d) = 01010011 => r = 1\n",
    "\n",
    "# M0(S) = 2^r = 2^2 = 4"
   ]
  }
 ],
 "metadata": {
  "kernelspec": {
   "display_name": "Python 3",
   "language": "python",
   "name": "python3"
  },
  "language_info": {
   "codemirror_mode": {
    "name": "ipython",
    "version": 3
   },
   "file_extension": ".py",
   "mimetype": "text/x-python",
   "name": "python",
   "nbconvert_exporter": "python",
   "pygments_lexer": "ipython3",
   "version": "3.6.4"
  }
 },
 "nbformat": 4,
 "nbformat_minor": 2
}
