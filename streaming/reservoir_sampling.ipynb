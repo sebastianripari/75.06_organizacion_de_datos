{
 "cells": [
  {
   "cell_type": "markdown",
   "metadata": {},
   "source": [
    "# Reservoir Sampling"
   ]
  },
  {
   "cell_type": "markdown",
   "metadata": {},
   "source": [
    "La idea de este algoritmo es tomar del stream una muestra finita, un <b>sample</b>. Para calcular las estadisiticas que necesitemos del Stream, usando nuestro sample."
   ]
  },
  {
   "cell_type": "markdown",
   "metadata": {},
   "source": [
    "<b>k</b> es la cantidad de elementos del sample. <br> \n",
    "<b>N</b> es la cantidad de elemento del Stream."
   ]
  },
  {
   "cell_type": "markdown",
   "metadata": {},
   "source": [
    "<b>Observaciones importanes sobre k y N:</b>"
   ]
  },
  {
   "cell_type": "markdown",
   "metadata": {},
   "source": [
    "<b>k</b> es fijo. <br>\n",
    "<b>N</b> es variable, va creciendo ya que el Stream es creciente."
   ]
  },
  {
   "cell_type": "markdown",
   "metadata": {},
   "source": [
    "#### Probabilidad de que un dato que este en el Stream pertenezca a la muestra:"
   ]
  },
  {
   "cell_type": "markdown",
   "metadata": {},
   "source": [
    "<img src=\"prob_sample.png\">"
   ]
  },
  {
   "cell_type": "markdown",
   "metadata": {},
   "source": [
    "### Algoritmo"
   ]
  },
  {
   "cell_type": "markdown",
   "metadata": {},
   "source": [
    "Por cada dato nuevo en el Stream, calculamos la probabilidad de que el dato ingrese a la muestra, esto es p = k/N. Luego generamos un numero random y de acuerdo a p decidimos si el dato ingresa o no a la muestra. Ejemplo si p = 0.6, generamos un random entre 0 y 1, el dato ingresara a la muestra si el numero es menor a 0.6. Este nuevo dato reemplazara en la muestra a alguno, cualquiera. En cambio si el numero es mayor a 0.6 la muestra queda igual."
   ]
  },
  {
   "cell_type": "markdown",
   "metadata": {},
   "source": [
    "### Ejemplo"
   ]
  },
  {
   "cell_type": "code",
   "execution_count": 3,
   "metadata": {},
   "outputs": [],
   "source": [
    "# Stream = 1,6,2,3\n",
    "# k = 3"
   ]
  },
  {
   "cell_type": "markdown",
   "metadata": {},
   "source": [
    "Los primeros k numeros entran directo a la muestra, osea los primeros 3. Por lo tanto:"
   ]
  },
  {
   "cell_type": "code",
   "execution_count": 4,
   "metadata": {},
   "outputs": [],
   "source": [
    "# Muestra = 1,6,2"
   ]
  },
  {
   "cell_type": "markdown",
   "metadata": {},
   "source": [
    "Ahora llega el turno del 3. La muestra esta llena, asi que no entra directo. Calculamos p = k/N = 3/4."
   ]
  },
  {
   "cell_type": "markdown",
   "metadata": {},
   "source": [
    "La probabilidad de que 1 siga en la muestra se calcula como probabilidad de que 3 no ingrese (1 - 3/4 = 1/4) mas la probabilidad de que 3 ingrese pero 1 no sea reemplazado es decir (3/4*2/3). Por lo tanto la probabilidad de que 1 siga es entonces 1/4 + 1/2 = 3/4. La misma cuenta es para el 6 y el 2."
   ]
  }
 ],
 "metadata": {
  "kernelspec": {
   "display_name": "Python 3",
   "language": "python",
   "name": "python3"
  },
  "language_info": {
   "codemirror_mode": {
    "name": "ipython",
    "version": 3
   },
   "file_extension": ".py",
   "mimetype": "text/x-python",
   "name": "python",
   "nbconvert_exporter": "python",
   "pygments_lexer": "ipython3",
   "version": "3.6.4"
  }
 },
 "nbformat": 4,
 "nbformat_minor": 2
}
