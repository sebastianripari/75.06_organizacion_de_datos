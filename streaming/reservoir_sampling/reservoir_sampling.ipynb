{
 "cells": [
  {
   "cell_type": "markdown",
   "metadata": {},
   "source": [
    "# Reservoir Sampling"
   ]
  },
  {
   "cell_type": "markdown",
   "metadata": {},
   "source": [
    "Nuestro primer algoritmo es muy importante porque permite convertir un stream infinito en un conjunto de datos finito. La idea es tener en cada momento una muestra (<b>sample</b>) del stream en memoria. Luego podemos calcular los datos y estidisticas que nos interesen sobre el stream a partir de la muestra usando algoritmos tradicionales. El algoritmo necesita mentener en memoria una cantidad fija <b>k</b> de elementos. Para que las estadisticas tengan sentido debemos garantizar que la probabilidad de que un dato del stream este en memoria sea igual a:"
   ]
  },
  {
   "cell_type": "markdown",
   "metadata": {},
   "source": [
    "<img src=\"prob_sample.png\">"
   ]
  },
  {
   "cell_type": "markdown",
   "metadata": {},
   "source": [
    "Donde <b>N</b> es la cantidad de elementos del stream hasta el momento. Notemos que la probabilidad es dinamica es decir que a medida que observamos mas datos la probabilidad de que un dato este en la muestra debe ser menor. A su vez tambien es importante entender que la probabilidad de todos los elementos independientemente de cuando los observemos debe ser igual. "
   ]
  },
  {
   "cell_type": "markdown",
   "metadata": {},
   "source": [
    "El algoritmo funciona de la siguiente manera: Por cada dato que genera nuestro stream calculamos <b>p = k/n</b>, la probabilidad de que el dato ingrese a la muestra. Luego generamos un numero random y de acuerdo a p decidimos si el dato ingresa o no a la muestra. Por ejemplo si resulta p = 0.6, generamos un random entre 0 y 1 y el dato ingresara a la muestra si el numero es menor a 0.6. Si el dato no ingresa, la muestra no cambia. Si el dato ingresa entonces elegimos al azar un dato de la muestra y lo reemplazamos por nuestro dato."
   ]
  },
  {
   "cell_type": "markdown",
   "metadata": {},
   "source": [
    "Consideremos el siguiente ejemplo: k = 3 y nuestro stream consiste en numeros y observamos: 1,6,2,3. Los primeros k (tres) numeros ingresan a la muestra, por lo que tenemos en la muestra a 1,6,2. La probabilidad de que el 3 ingrese es ahora 3/4 y la probabilidad de que no ingrese es 1/4."
   ]
  },
  {
   "cell_type": "markdown",
   "metadata": {},
   "source": [
    "La probabilidad de que 1 siga en la muestra es la probabilidad de que no ingrese un nuevo elemento mas la probabilidad de que ingrese un nuevo elemento pero que no lo reemplace a 1. Esto es 1/4 + 3/4*2/3 = 3/4. Lo mismo pasa para el 6 y para el 2. Por lo tanto se cumple lo que queriamos, que la probabilidad de que el elemento pertenesca a la muestra es k/n."
   ]
  }
 ],
 "metadata": {
  "kernelspec": {
   "display_name": "Python 3",
   "language": "python",
   "name": "python3"
  },
  "language_info": {
   "codemirror_mode": {
    "name": "ipython",
    "version": 3
   },
   "file_extension": ".py",
   "mimetype": "text/x-python",
   "name": "python",
   "nbconvert_exporter": "python",
   "pygments_lexer": "ipython3",
   "version": "3.7.0"
  }
 },
 "nbformat": 4,
 "nbformat_minor": 2
}
