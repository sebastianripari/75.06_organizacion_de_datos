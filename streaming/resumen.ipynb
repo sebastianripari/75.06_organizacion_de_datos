{
 "cells": [
  {
   "cell_type": "markdown",
   "metadata": {},
   "source": [
    "# Streaming"
   ]
  },
  {
   "cell_type": "markdown",
   "metadata": {},
   "source": [
    "Un <b>Stream</b> es un flujo de datos que no tiene fin. Como los paquetes en una red, las publicaciones en redes sociales como Twitter, Facebook, las ventas en sitios como Amazon. Son flujos de datos continuos. Para realizar consultas o calcular estadisticas, metricas a estos flujos se necesitan algoritmos especiales."
   ]
  },
  {
   "cell_type": "markdown",
   "metadata": {},
   "source": [
    "## Reservoir Sampling"
   ]
  },
  {
   "cell_type": "markdown",
   "metadata": {},
   "source": [
    "Es un algoritmo que permite convertir un <b>stream</b>, que es un conjunto de datos infinitos, en un conjunto de datos finitos, que se denomina <b>sample</b> o <b>muestra</b>. Y asi luego poder aplicar las metricas o las consultas a esta muestra en lugar de hacerlo al <b>stream</b> original."
   ]
  },
  {
   "cell_type": "markdown",
   "metadata": {},
   "source": [
    "- Llamamos <b>N</b> a la cantidad de datos del Stream hasta el momento.\n",
    "- El algoritmo mantiente una cantidad <b>k</b> de datos en el sample."
   ]
  },
  {
   "cell_type": "markdown",
   "metadata": {},
   "source": [
    "Se tiene que cumplir que la probabilidad de que un dato del stream ($X_i$) este en el stream sea:"
   ]
  },
  {
   "cell_type": "markdown",
   "metadata": {},
   "source": [
    "\\begin{equation}\n",
    "P(X_i \\in sample) = \\frac{k}{N}\n",
    "\\end{equation}"
   ]
  },
  {
   "cell_type": "markdown",
   "metadata": {},
   "source": [
    "Para lograr que la probabilidad sea esa el algoritmo hace lo siguiente:\n",
    "Por cada dato que genera nuestro Stream, el algoritmo genera un numero aleatorio entre 0 y 1. Si el numero generado es menor a $p=\\frac{k}{N}$ entonces el algoritmo ingresa a la muestra. Si tenia menos de <b>k</b> elementos se agrega sin reemplazar a ninguno, en cambio si tenia <b>k</b> elementos, reemplaza aleatoriamente a cualquiera. Si el numero generado es mayor a p entonces no entra a la muestra."
   ]
  },
  {
   "cell_type": "markdown",
   "metadata": {},
   "source": [
    "## Momentos de un Stream"
   ]
  },
  {
   "cell_type": "code",
   "execution_count": null,
   "metadata": {},
   "outputs": [],
   "source": []
  }
 ],
 "metadata": {
  "kernelspec": {
   "display_name": "Python 3",
   "language": "python",
   "name": "python3"
  },
  "language_info": {
   "codemirror_mode": {
    "name": "ipython",
    "version": 3
   },
   "file_extension": ".py",
   "mimetype": "text/x-python",
   "name": "python",
   "nbconvert_exporter": "python",
   "pygments_lexer": "ipython3",
   "version": "3.6.4"
  }
 },
 "nbformat": 4,
 "nbformat_minor": 2
}
