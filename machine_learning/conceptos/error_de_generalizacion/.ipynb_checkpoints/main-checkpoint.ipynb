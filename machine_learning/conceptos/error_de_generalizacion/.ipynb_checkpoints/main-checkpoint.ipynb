{
 "cells": [
  {
   "cell_type": "markdown",
   "metadata": {},
   "source": [
    "# Error de Generalizacion"
   ]
  },
  {
   "cell_type": "markdown",
   "metadata": {},
   "source": [
    "Este error muestra que tan probable es que un algortimo prediga el resultado de un caso que no existe en el set de entrenamiento, osea un caso nuevo. Este error es clave, es el muestra que tan bueno es nuestro algortimo de machine learning. Cuando este error de generalizacion es bajo se dice que nuestro algoritmo generaliza bien, y si el error es alto, se dice que nuestro algoritmo no generaliza, que es lo mismo que decir que es un mal predictor y por lo tanto no sirve."
   ]
  },
  {
   "cell_type": "markdown",
   "metadata": {},
   "source": [
    "### Definicion Matematica:"
   ]
  },
  {
   "cell_type": "markdown",
   "metadata": {},
   "source": [
    "<img src=\"error_de_generalizacion.png\">"
   ]
  }
 ],
 "metadata": {
  "kernelspec": {
   "display_name": "Python 3",
   "language": "python",
   "name": "python3"
  },
  "language_info": {
   "codemirror_mode": {
    "name": "ipython",
    "version": 3
   },
   "file_extension": ".py",
   "mimetype": "text/x-python",
   "name": "python",
   "nbconvert_exporter": "python",
   "pygments_lexer": "ipython3",
   "version": "3.6.4"
  }
 },
 "nbformat": 4,
 "nbformat_minor": 2
}
