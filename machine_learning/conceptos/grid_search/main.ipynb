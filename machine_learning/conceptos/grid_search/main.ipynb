{
 "cells": [
  {
   "cell_type": "markdown",
   "metadata": {},
   "source": [
    "# Grid Search"
   ]
  },
  {
   "cell_type": "markdown",
   "metadata": {},
   "source": [
    "Es un metodo para encontrar el <b>hiperparametro</b> que mejor funcione en nuestro algoritmo de machine learning"
   ]
  },
  {
   "cell_type": "markdown",
   "metadata": {},
   "source": [
    "El metodo es muy simple, solo consiste en probar todas las conbinaciones de hiperparametros hasta dar con la mejor."
   ]
  },
  {
   "cell_type": "markdown",
   "metadata": {},
   "source": [
    "Para agilizar la busqueda es posible al principio dar pasos gruesos y luego para refinar si ir con pasos mas cortos. Por ejemplo probar C = 1, 5, 10, 15, 20. Y si el optimo fue 10, luego probar C = 6, 7, 8, 9, 10, 11, 12, 13, 14."
   ]
  }
 ],
 "metadata": {
  "kernelspec": {
   "display_name": "Python 3",
   "language": "python",
   "name": "python3"
  },
  "language_info": {
   "codemirror_mode": {
    "name": "ipython",
    "version": 3
   },
   "file_extension": ".py",
   "mimetype": "text/x-python",
   "name": "python",
   "nbconvert_exporter": "python",
   "pygments_lexer": "ipython3",
   "version": "3.6.4"
  }
 },
 "nbformat": 4,
 "nbformat_minor": 2
}
