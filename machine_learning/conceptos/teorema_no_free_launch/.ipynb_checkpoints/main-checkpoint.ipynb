{
 "cells": [
  {
   "cell_type": "markdown",
   "metadata": {},
   "source": [
    "# Teorema No Free Launch"
   ]
  },
  {
   "cell_type": "markdown",
   "metadata": {},
   "source": [
    "#### Creado por Wolpert."
   ]
  },
  {
   "cell_type": "markdown",
   "metadata": {},
   "source": [
    "### Teorema"
   ]
  },
  {
   "cell_type": "markdown",
   "metadata": {},
   "source": [
    "Dos algoritmos de optimizacion cualesquiera son equivalentes si los promediamos sobre el set de  todos los problemas posibles."
   ]
  },
  {
   "cell_type": "markdown",
   "metadata": {},
   "source": [
    "### Colorario"
   ]
  },
  {
   "cell_type": "markdown",
   "metadata": {},
   "source": [
    "Dado un problema de optimizacion, si un algoritmo funciona muy bien, entonces existe un problema en el cual es algoritmo funciona igual de mal."
   ]
  },
  {
   "cell_type": "markdown",
   "metadata": {},
   "source": [
    "### Colorario del Colorario "
   ]
  },
  {
   "cell_type": "markdown",
   "metadata": {},
   "source": [
    "No existe un algoritmo que sea optimo para cualquier problema de optimizacion."
   ]
  },
  {
   "cell_type": "markdown",
   "metadata": {},
   "source": [
    "### Ejemplo"
   ]
  },
  {
   "cell_type": "markdown",
   "metadata": {},
   "source": [
    "Set de Entrenamiento:\n",
    "(0,0,0) -> 0\n",
    "(0,1,0) -> 0\n",
    "(0,1,1) -> 1\n",
    "(1,0,0) -> 0\n",
    "(1,0,1) -> 1\n",
    "(1,1,1) -> 1\n"
   ]
  }
 ],
 "metadata": {
  "kernelspec": {
   "display_name": "Python 3",
   "language": "python",
   "name": "python3"
  },
  "language_info": {
   "codemirror_mode": {
    "name": "ipython",
    "version": 3
   },
   "file_extension": ".py",
   "mimetype": "text/x-python",
   "name": "python",
   "nbconvert_exporter": "python",
   "pygments_lexer": "ipython3",
   "version": "3.6.4"
  }
 },
 "nbformat": 4,
 "nbformat_minor": 2
}
