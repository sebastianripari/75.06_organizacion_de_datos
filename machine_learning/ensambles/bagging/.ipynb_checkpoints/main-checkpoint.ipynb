{
 "cells": [
  {
   "cell_type": "markdown",
   "metadata": {},
   "source": [
    "# Bagging"
   ]
  },
  {
   "cell_type": "markdown",
   "metadata": {},
   "source": [
    "Bagging implica aplicar el mismo clasificador n veces y luego promediar sus resultados para obtener el resultado final. El problema es que aplicar el mimso clasificador n veces al mismo set de datos nos daria n veecs el mismo resultado. Es por esto que <b>bagging</b> siempre se usa en conjunto con <b>bootstrappting</b>. "
   ]
  },
  {
   "cell_type": "markdown",
   "metadata": {},
   "source": [
    "<b>Bootstrapping</b> consiste en tomar una muestra del set de entrenamiento del mismo tamanio del set de entrenamineto pero con reemplazo. Es decir que un dato puede estar varias veces en la muestra."
   ]
  },
  {
   "cell_type": "markdown",
   "metadata": {},
   "source": [
    "#### Ejemplo Bootstrapping"
   ]
  },
  {
   "cell_type": "code",
   "execution_count": null,
   "metadata": {},
   "outputs": [],
   "source": [
    "# Set             = [0,1,2,3,4,5,6,7,8,9]\n",
    "# Bootstrapping 1 = [4,7,2,3,4,2,7,8,7,9]\n",
    "# Bootstrapping 2 = [2,6,5,5,4,9,9,7,2,6]"
   ]
  },
  {
   "cell_type": "markdown",
   "metadata": {},
   "source": [
    "Entonces a nuestro clasificador le damos cada bootstrapping y luego los clasificadores van a obtener diferentes resultados, luego procedemos a promediar los resultados para llegar a la conclucion final."
   ]
  }
 ],
 "metadata": {
  "kernelspec": {
   "display_name": "Python 3",
   "language": "python",
   "name": "python3"
  },
  "language_info": {
   "codemirror_mode": {
    "name": "ipython",
    "version": 3
   },
   "file_extension": ".py",
   "mimetype": "text/x-python",
   "name": "python",
   "nbconvert_exporter": "python",
   "pygments_lexer": "ipython3",
   "version": "3.6.4"
  }
 },
 "nbformat": 4,
 "nbformat_minor": 2
}
