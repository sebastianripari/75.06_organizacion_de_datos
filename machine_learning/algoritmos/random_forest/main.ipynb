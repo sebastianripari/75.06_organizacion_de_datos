{
 "cells": [
  {
   "cell_type": "markdown",
   "metadata": {},
   "source": [
    "# Random Forest (RF)"
   ]
  },
  {
   "cell_type": "markdown",
   "metadata": {},
   "source": [
    "Es de los algoritmos mas pupulares de clasificacion porque ofrece buenos resultados para la mayoria de los sets de datos, ya que tiene una gran habilidad para evitar el Overfitting."
   ]
  },
  {
   "cell_type": "markdown",
   "metadata": {},
   "source": [
    "Es una aplicacion directa de <b>bagging</b> de <b>Arboles de Decision</b> pero con la diferencia que cada arbol usa un subconjunto del conjunto de todos los atributos. Es decir un arbol usa algunos atributos y otro arbol usa otros atributos."
   ]
  },
  {
   "cell_type": "markdown",
   "metadata": {},
   "source": [
    "Los RF tienen dos <b>hiperparametros</b> la <b>cantidad de arboles a crear</b> y la <b>cantidad de atributos en cada uno</b>"
   ]
  },
  {
   "cell_type": "markdown",
   "metadata": {},
   "source": [
    "Para el primer hiperparametro no hay mucho que decir a mayor cantidad de arboles, mejor sera el resultado, pero llega un momento que la mejora es inapreciable y se comienza a perdemos performance."
   ]
  },
  {
   "cell_type": "markdown",
   "metadata": {},
   "source": [
    "Para entrontrar el valor adecuado en el segundo parametro debemos usar <b>grid-search</b> usando la precision <b>OOB (out of bounds)</b>"
   ]
  }
 ],
 "metadata": {
  "kernelspec": {
   "display_name": "Python 3",
   "language": "python",
   "name": "python3"
  },
  "language_info": {
   "codemirror_mode": {
    "name": "ipython",
    "version": 3
   },
   "file_extension": ".py",
   "mimetype": "text/x-python",
   "name": "python",
   "nbconvert_exporter": "python",
   "pygments_lexer": "ipython3",
   "version": "3.6.4"
  }
 },
 "nbformat": 4,
 "nbformat_minor": 2
}
