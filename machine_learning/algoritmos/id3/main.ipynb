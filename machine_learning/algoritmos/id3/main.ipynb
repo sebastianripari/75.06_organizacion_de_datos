{
 "cells": [
  {
   "cell_type": "markdown",
   "metadata": {},
   "source": [
    "# ID3 (iterative dichotomiser tree)"
   ]
  },
  {
   "cell_type": "markdown",
   "metadata": {},
   "source": [
    "#### Creado por Ross Quinlan en 1979. "
   ]
  },
  {
   "cell_type": "markdown",
   "metadata": {},
   "source": [
    "El algoritmo crea un arbol de decision colocando los diferentes atributos. La logica que usa para ir colocando los atributos es fijarse que atributos son los mas determinantes, para la final clasificacion. Esto es, por ejemplo, supongamos que tenemos ciertos candidatos a un trabajo, y supongamos que si hay un atributo que es \"recibido\", que en caso de ser afirmativo el cantidato es contratado sin importar ningun otro atributo, entonces en ese ejemplo el atributo \"recibido\" es determinante, entonces se lo coloca en la raiz del arbol, y en la flecha \"si\" ya el algoritmo responde \"contratado\" en cambio en la flecha \"no\" se tendra que fijar en algun otro atributo, devuelta, el que mas <b>ganancia de informacion</b> proporcione."
   ]
  },
  {
   "cell_type": "markdown",
   "metadata": {},
   "source": [
    "<img src=\"imagenes/ID3_algorithm_decision_tree.png\">"
   ]
  },
  {
   "cell_type": "markdown",
   "metadata": {},
   "source": [
    "### Ejemplo"
   ]
  },
  {
   "cell_type": "markdown",
   "metadata": {},
   "source": [
    "Tenemos los siguientes candidatos a un trabajo, cada uno ellos tienen diferentes caracteristicas. En base a estos datos queremos construir un modelo predictor usando el algoritmo ID3."
   ]
  },
  {
   "cell_type": "code",
   "execution_count": null,
   "metadata": {},
   "outputs": [],
   "source": [
    "# candidato | presencia | estudios | experiencia | contratado\n",
    "# -----------------------------------------------------------\n",
    "# 1         | buena     | univ     | alta        | si\n",
    "# 2         | mala      | univ     | media       | no\n",
    "# 3         | buena     | sec      | alta        | si\n",
    "# 4         | mala      | univ     | baja        | no\n",
    "# 5         | buena     | sec      | media       | si\n",
    "# 6         | buena     | univ     | media       | si\n",
    "# 7         | reg       | pri      | baja        | no\n",
    "# 8         | reg       | univ     | media       | si"
   ]
  },
  {
   "cell_type": "code",
   "execution_count": 6,
   "metadata": {},
   "outputs": [],
   "source": [
    "# 8 cantidatos\n",
    "# 5 contratados\n",
    "# 3 no contratados\n",
    "\n",
    "# Entropia del Set:\n",
    "# H[5/8;3/8] = -((5/8*log2(5/8))+(3/8*log2(3/8))) = 0.9544"
   ]
  },
  {
   "cell_type": "markdown",
   "metadata": {},
   "source": [
    "#### Presencia"
   ]
  },
  {
   "cell_type": "code",
   "execution_count": 1,
   "metadata": {},
   "outputs": [],
   "source": [
    "# presencia | contratado | no contratado | total\n",
    "# ----------------------------------------------\n",
    "# buena     | 4          | 0             | 4 \n",
    "# mala      | 0          | 2             | 2\n",
    "# regular   | 1          | 1             | 2"
   ]
  },
  {
   "cell_type": "code",
   "execution_count": 7,
   "metadata": {},
   "outputs": [],
   "source": [
    "# Entropia de \"presencia\"\n",
    "# H(presencia = buena) = H[4/4;0/4] = 0\n",
    "# H(presencia = mala) = H[0/2;2/2] = 0\n",
    "# H(presencia = regular) = H[1/2;1/2] = 1\n",
    "# H(presencia) = P(buena)*H(buena) + P(mala)*H(mala) + P(regular)*H(regular)\n",
    "# H(presencia) = (4/8)*0 + (2/8)*0 + (2/8)*1 = 2/8 = 0.25"
   ]
  },
  {
   "cell_type": "code",
   "execution_count": 8,
   "metadata": {},
   "outputs": [],
   "source": [
    "# GI(presencia) = H(Set) - H(presencia) = 0.9544 - 0.25 = 0.7044"
   ]
  },
  {
   "cell_type": "markdown",
   "metadata": {},
   "source": [
    "#### Estudios"
   ]
  },
  {
   "cell_type": "code",
   "execution_count": null,
   "metadata": {},
   "outputs": [],
   "source": [
    "# estudios  | contratado | no contratado | total\n",
    "# ----------------------------------------------\n",
    "# univ      | 3          | 2             | 5 \n",
    "# sec       | 2          | 0             | 2\n",
    "# pri       | 0          | 1             | 1"
   ]
  },
  {
   "cell_type": "code",
   "execution_count": null,
   "metadata": {},
   "outputs": [],
   "source": [
    "# GI(estudios) = H(Set) - H(estudios) \n",
    "#              = 0.9544 - [P(univ)*H(univ) + P(sec)*H(sec) + P(pri)*H(pri)]\n",
    "#              = 0.9544 - [5/8*H(univ) + 2/8*H(sec) + 1/8*H(pri)]\n",
    "#              = 0.9544 - [5/8*H[3/5;2/5] + 2/8*H[2/2;0/2] + 1/8*H[0/2;1/2]]\n",
    "#              = 0.9544 - [5/8*(-(3/5*log2(3/5) + 2/5*log2(2/5)))] = 0.3476"
   ]
  },
  {
   "cell_type": "markdown",
   "metadata": {},
   "source": [
    "#### Experiencia "
   ]
  },
  {
   "cell_type": "code",
   "execution_count": null,
   "metadata": {},
   "outputs": [],
   "source": [
    "# experiencia  | contratado | no contratado | total\n",
    "# ----------------------------------------------\n",
    "# alta         | 2          | 0             | 2 \n",
    "# media        | 1          | 3             | 4\n",
    "# baja         | 0          | 2             | 2"
   ]
  },
  {
   "cell_type": "code",
   "execution_count": null,
   "metadata": {},
   "outputs": [],
   "source": [
    "# GI(experiencia) = H(Set) - H(experiencia) \n",
    "#                 = 0.9544 - [P(alta)*H(alta) + P(media)*H(media) + P(baja)*H(baja)]\n",
    "#                 = 0.9544 - [2/8*H(alta) + 4/8*H(media) + 2/8*H(baja)]\n",
    "#                 = 0.9544 - [2/8*H[2/2;0/2] + 4/8*H[1/4;3/4] + 2/8*H[0/2;2/2]]\n",
    "#                 = 0.9544 - [1/2*(-(1/4*log2(1/4) + 3/4*log2(3/4)))] = 0.5488"
   ]
  },
  {
   "cell_type": "markdown",
   "metadata": {},
   "source": [
    "#### Ganancias de Informacion "
   ]
  },
  {
   "cell_type": "code",
   "execution_count": 1,
   "metadata": {},
   "outputs": [],
   "source": [
    "# GI(presencia) = 0.7044   |\n",
    "# GI(estudios) = 0.3476    | => La que mayor ganancia de informacion tiene es la \"presencia\" \n",
    "# GI(experiencia) = 0.5488 |"
   ]
  },
  {
   "cell_type": "code",
   "execution_count": null,
   "metadata": {},
   "outputs": [],
   "source": [
    "# => Sera la raiz de nuestro arbol de decision."
   ]
  },
  {
   "cell_type": "markdown",
   "metadata": {},
   "source": [
    "#### Arbol de decision ID3 primer split"
   ]
  },
  {
   "cell_type": "markdown",
   "metadata": {},
   "source": [
    "<img src=\"imagenes/arbol_de_decision_primer_split.png\">"
   ]
  },
  {
   "cell_type": "code",
   "execution_count": null,
   "metadata": {},
   "outputs": [],
   "source": [
    "# Cuando la presencia es buena, el arbol clasifica como \"contratado\".\n",
    "# Cuando la presencia es mala, el arbol clasifica como \"no contratado\"\n",
    "# Cuando la presencia es regular, todabia no podemos clasificar. Porque tenemos casos en el set de entrenamiento\n",
    "# donde se clasifico como contratado y casos donde no."
   ]
  },
  {
   "cell_type": "code",
   "execution_count": null,
   "metadata": {},
   "outputs": [],
   "source": [
    "# Observando nuestra informacion vemos que cuando la presencia es regular, lo que determina si el candidato es\n",
    "# contratado o no, puede ser los estudios o la experiencia, deberiamos ver que cual de estas dos caracteristicas\n",
    "# nos proporcionan una mayor ganancia de informacion, la cuestion es que ambas tienen la misma ganancia, esto \n",
    "# se deduce porque ambas caracteristicas cuentan con la misma proporcion contratados, que es 1/2."
   ]
  },
  {
   "cell_type": "code",
   "execution_count": null,
   "metadata": {},
   "outputs": [],
   "source": [
    "# por lo tanto sin hacer cuentas elegimos cualquiera de las dos caracteristicas para hacer el split."
   ]
  },
  {
   "cell_type": "markdown",
   "metadata": {},
   "source": [
    "#### Arbol de decision ID3 segundo split"
   ]
  },
  {
   "cell_type": "markdown",
   "metadata": {},
   "source": [
    "<img src=\"imagenes/arbol_de_decision_segundo_split.png\">"
   ]
  },
  {
   "cell_type": "markdown",
   "metadata": {},
   "source": [
    "## Cuestion a tener en cuenta para no caer en Underfitting o Overfitting"
   ]
  },
  {
   "cell_type": "markdown",
   "metadata": {},
   "source": [
    "Para no caer en <b>Overfitting</b>, ramificando demasiado, armando todos los caminos, para cada caso del set de entrenamiento es conveniente, establecer un minimo de registros en cada hoja del arbol, este es un <b>hiper-parametro</b>, que se lo denomica <b>minbucket</b>. Y hay que tener cuidado de no poner un numero demasiado grande de minbucket para no caer en un modelo muy simple y que eso conlleve a <b>Underfitting</b>."
   ]
  }
 ],
 "metadata": {
  "kernelspec": {
   "display_name": "Python 3",
   "language": "python",
   "name": "python3"
  },
  "language_info": {
   "codemirror_mode": {
    "name": "ipython",
    "version": 3
   },
   "file_extension": ".py",
   "mimetype": "text/x-python",
   "name": "python",
   "nbconvert_exporter": "python",
   "pygments_lexer": "ipython3",
   "version": "3.6.4"
  }
 },
 "nbformat": 4,
 "nbformat_minor": 2
}
