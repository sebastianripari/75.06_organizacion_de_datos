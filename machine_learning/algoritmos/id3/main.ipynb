{
 "cells": [
  {
   "cell_type": "markdown",
   "metadata": {},
   "source": [
    "# ID3 (iterative dichotomiser tree)"
   ]
  },
  {
   "cell_type": "markdown",
   "metadata": {},
   "source": [
    "#### Creado por Ross Quinlan en 1979. "
   ]
  },
  {
   "cell_type": "markdown",
   "metadata": {},
   "source": [
    "El algoritmo crea un arbol de decision colocando los diferentes atributos."
   ]
  },
  {
   "cell_type": "markdown",
   "metadata": {},
   "source": [
    "<img src=\"ID3_algorithm_decision_tree.png\">"
   ]
  },
  {
   "cell_type": "markdown",
   "metadata": {},
   "source": [
    "### Ejemplo"
   ]
  },
  {
   "cell_type": "markdown",
   "metadata": {},
   "source": [
    "Tenemos los siguientes candidatos a un trabajo, cada uno ellos tienen diferentes caracteristicas. En base a estos datos queremos construir un modelo predictor usando el algoritmo ID3."
   ]
  },
  {
   "cell_type": "code",
   "execution_count": null,
   "metadata": {},
   "outputs": [],
   "source": [
    "# candidato | presencia | estudios | experiencia | contratado\n",
    "# -----------------------------------------------------------\n",
    "# 1         | buena     | univ     | alta        | si\n",
    "# 2         | mala      | univ     | media       | no\n",
    "# 3         | buena     | sec      | alta        | si\n",
    "# 4         | mala      | univ     | baja        | no\n",
    "# 5         | buena     | sec      | media       | si\n",
    "# 6         | buena     | univ     | media       | si\n",
    "# 7         | reg       | pri      | baja        | no\n",
    "# 8         | reg       | univ     | media       | si"
   ]
  },
  {
   "cell_type": "code",
   "execution_count": 6,
   "metadata": {},
   "outputs": [],
   "source": [
    "# 8 cantidatos\n",
    "# 5 contratados\n",
    "# 3 no contratados\n",
    "\n",
    "# Entropia del Set:\n",
    "# H[5/8;3/8] = -((5/8*log2(5/8))+(3/8*log2(3/8))) = 0.9544"
   ]
  },
  {
   "cell_type": "markdown",
   "metadata": {},
   "source": [
    "#### Presencia"
   ]
  },
  {
   "cell_type": "code",
   "execution_count": 1,
   "metadata": {},
   "outputs": [],
   "source": [
    "# presencia | contratado | no contratado | total\n",
    "# ----------------------------------------------\n",
    "# buena     | 4          | 0             | 4 \n",
    "# mala      | 0          | 2             | 2\n",
    "# regular   | 1          | 1             | 2"
   ]
  },
  {
   "cell_type": "code",
   "execution_count": null,
   "metadata": {},
   "outputs": [],
   "source": [
    "# Entropia de \"presencia\"\n",
    "# H(presencia = buena) = H[4/4;0/4] = 0\n",
    "# H(presencia = mala) = H[0/2;2/2] = 0\n",
    "# H(presencia = mala) = H[0/2;2/2] = 0"
   ]
  },
  {
   "cell_type": "code",
   "execution_count": null,
   "metadata": {},
   "outputs": [],
   "source": []
  }
 ],
 "metadata": {
  "kernelspec": {
   "display_name": "Python 3",
   "language": "python",
   "name": "python3"
  },
  "language_info": {
   "codemirror_mode": {
    "name": "ipython",
    "version": 3
   },
   "file_extension": ".py",
   "mimetype": "text/x-python",
   "name": "python",
   "nbconvert_exporter": "python",
   "pygments_lexer": "ipython3",
   "version": "3.6.4"
  }
 },
 "nbformat": 4,
 "nbformat_minor": 2
}
