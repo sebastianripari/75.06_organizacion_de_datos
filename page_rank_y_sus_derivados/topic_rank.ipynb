{
 "cells": [
  {
   "cell_type": "markdown",
   "metadata": {},
   "source": [
    "# Topic Rank"
   ]
  },
  {
   "cell_type": "markdown",
   "metadata": {},
   "source": [
    "El concepto de <b>teletransportacion</b> en PageRank es muy importante y permite varias <b>variantes</b> interesantes. En el algoritmo tradicional nos teletransportamos con igual probabilidad a cualquier pagina, pero esto lo podemos cambiar. Si decidimos, por ejemplo, teletransportarnos solo a aquellas paginas qe tratan sobre un determinado <b>tema</b> tenemos una variante de PageRank llamada <b>TopicRank</b> en donde las busquedas sobre un cierto tema van a darnos como resultado paginas que tratan sobre dicho tema. Esto se logra manipulando el concepto de teletransportacion."
   ]
  },
  {
   "cell_type": "markdown",
   "metadata": {},
   "source": [
    "Supongamos que sabemos, de alguna forma, cuales son las paginas que tratan sobre un determinado tema, necesitamos entonces correr una verison de PageRank para dicho tema, tendremos un PakeRank por cada tema. Para realizar, el PageRank tematico en lugar de sumar (1-beta)/N a cada pagina sumamos (1-beta)/|C| en donde |C| es la cardinalidad del tema, es decir la cantida de paginas que estan clasificadas dentro del tema que nos interesa."
   ]
  },
  {
   "cell_type": "markdown",
   "metadata": {},
   "source": [
    "### Ejemplo"
   ]
  },
  {
   "cell_type": "markdown",
   "metadata": {},
   "source": [
    "<img src=\"imagenes/topic_rank.png\">"
   ]
  },
  {
   "cell_type": "markdown",
   "metadata": {},
   "source": [
    "Tomemos el siguiente ejemplo, si aplicamos PR trandicional con beta = 0.8 llegaremos al siguiente resultado: A=0.2028, B=0.3821, C=0.2840, D=0.1311. "
   ]
  },
  {
   "cell_type": "markdown",
   "metadata": {},
   "source": [
    "Supongamos ahora que las paginas tematicas son A y D entonces tenemos:"
   ]
  },
  {
   "cell_type": "markdown",
   "metadata": {},
   "source": [
    "El calculo del PR en este caso se realiza mediante la siguiente formula:"
   ]
  },
  {
   "cell_type": "code",
   "execution_count": 2,
   "metadata": {},
   "outputs": [],
   "source": [
    "#      | 0   1/2 0 0 |                |1/2|\n",
    "# beta | 0   0   1 1 | r + (1 - beta) | 0 |\n",
    "#      | 1/2 1/2 0 0 |                | 0 |\n",
    "#      | 1/2 0   0 0 |                |1/2|"
   ]
  },
  {
   "cell_type": "markdown",
   "metadata": {},
   "source": [
    "Iterando llegamos a A = 0.2358, B=0.3396, C=0.2302, D=0.1943. Podemos ver que el PageRank de A y D es mayor al calculado antes."
   ]
  },
  {
   "cell_type": "markdown",
   "metadata": {},
   "source": [
    "<img src=\"imagenes/topic_rank_2.png\">"
   ]
  }
 ],
 "metadata": {
  "kernelspec": {
   "display_name": "Python 3",
   "language": "python",
   "name": "python3"
  },
  "language_info": {
   "codemirror_mode": {
    "name": "ipython",
    "version": 3
   },
   "file_extension": ".py",
   "mimetype": "text/x-python",
   "name": "python",
   "nbconvert_exporter": "python",
   "pygments_lexer": "ipython3",
   "version": "3.7.0"
  }
 },
 "nbformat": 4,
 "nbformat_minor": 2
}
