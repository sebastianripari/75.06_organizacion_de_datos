{
 "cells": [
  {
   "cell_type": "markdown",
   "metadata": {},
   "source": [
    "# Spider Traps y Teletransportacion"
   ]
  },
  {
   "cell_type": "markdown",
   "metadata": {},
   "source": [
    "Consideremos ahora el siguiente grafo y su matriz asociada:"
   ]
  },
  {
   "cell_type": "code",
   "execution_count": 1,
   "metadata": {},
   "outputs": [],
   "source": [
    "#     0   1/2 0 0 0\n",
    "#     0   0   1 0 1\n",
    "# A = 1/2 0   0 0 0\n",
    "#     1/2 1/2 0 0 1\n",
    "#     0   0   0 1 0"
   ]
  },
  {
   "cell_type": "markdown",
   "metadata": {},
   "source": [
    "<img src=\"spider_traps.png\">"
   ]
  },
  {
   "cell_type": "markdown",
   "metadata": {},
   "source": [
    "Podemos ver en el grafo que una vez que nuestro navegante aleatorio llegue a D va a quedar atrapado en D y E sin poder salir. Por lo tanto el PageRank va a distribuirse entre de D y E y el resto de las paginas va a quedar en cero. Esto es lo que llamamos <b>Spider Trap</b>. El termino hace alusion a los robots indexadores de los buscadores que se llaman <b>Spiders</b>. Una vez que un robot encuentre el link A-D o B-D y lo navege no va a poder salir del ciclo D-E-D-E... es decir que queda encerrado en una trampa."
   ]
  },
  {
   "cell_type": "markdown",
   "metadata": {},
   "source": [
    "Si observamos la matriz asociada al grafo veremos que es estocastica por lo que en prinicipio no hace falta hacerle ninguna correcion. La solucion a este problema fue el gran descubrimiento del algoritmos PageRank y se llama <b>teletransportacion</b>."
   ]
  },
  {
   "cell_type": "markdown",
   "metadata": {},
   "source": [
    "Cada vez que nuestro navegante aleatorio llegue a una pagina vamos a darle dos posibilidades. Con probabilidad beta le vamos hacer elegir un link al azar y navegarlo como venimos trabajando hasta el momento y con probabildiad 1 - beta vamos a teletransportarlo a cualquier otra pagina al azar (siendo todas equiprobables)."
   ]
  },
  {
   "cell_type": "markdown",
   "metadata": {},
   "source": [
    "En nuestro grafo de navegante aleatorio va a llegar a D y puede que haga alguans veces el ciclo D-E-D-E... pero eventualmente se va a teletransportar a otra pagina del grafo y va a poder salir del loop."
   ]
  },
  {
   "cell_type": "markdown",
   "metadata": {},
   "source": [
    "La forma de aplicar teletransportacion a la matriz de PageRank es algo muy simple, como puede verse a continuacion reformulando A:"
   ]
  },
  {
   "cell_type": "code",
   "execution_count": 2,
   "metadata": {},
   "outputs": [],
   "source": [
    "#     0   1/2 0 0 0              1/5 1/5 1/5 1/5 1/5\n",
    "#     0   0   1 0 1              1/5 1/5 1/5 1/5 1/5\n",
    "# A = 1/2 0   0 0 0 + (1 - beta) 1/5 1/5 1/5 1/5 1/5\n",
    "#     1/2 1/2 0 0 1              1/5 1/5 1/5 1/5 1/5\n",
    "#     0   0   0 1 0              1/5 1/5 1/5 1/5 1/5"
   ]
  },
  {
   "cell_type": "markdown",
   "metadata": {},
   "source": [
    "Si usamos PageRank ahora con nuestra nueva matriz A usando beta = 0.8 obtenemos [0.07;0.09;0.07;0.39;0.35] teniendo las paginas D y E el mayor PageRank. Esto es logico pero ahora el PageRank de las otras paginas no es cero."
   ]
  },
  {
   "cell_type": "markdown",
   "metadata": {},
   "source": [
    "A su vez, <b>teletransportacion</b> soluciona otro problema que es el caso de los grafos periodicos."
   ]
  },
  {
   "cell_type": "markdown",
   "metadata": {},
   "source": [
    "<img src=\"grafo_periodico.png\">"
   ]
  },
  {
   "cell_type": "markdown",
   "metadata": {},
   "source": [
    "#### Interpretando Beta"
   ]
  },
  {
   "cell_type": "markdown",
   "metadata": {},
   "source": [
    "El parametro Beta es la probabilidad de seguir un link es decir de no teletransportarse. En general se usa beta = 0.8 o similar."
   ]
  },
  {
   "cell_type": "markdown",
   "metadata": {},
   "source": [
    "Analicemos el efecto de beta en nuestro navegante aleatorio. Cuando b = 1 tenemos el caso sin teletransportacion. En este caso hay un unico Random Walk infinito sobre nuestra cadena de Markov. Si beta < 1 entonces la cadena se reinicia cada tanto, cuanto menor sea beta mas random walks vamos atener y mas cortos van a ser estos. En el limite beta -> 0 tenemos infinitos random walks de longitud 0 es decir que simplemente tomamos nodos al azar de nuestro grafo para visitarlos y el resutlado sera que el PageRank de cada uno va a ser 1/N."
   ]
  },
  {
   "cell_type": "markdown",
   "metadata": {},
   "source": [
    "Con el agregado de la teletransportacion y recordando que es necesario arreglar los dead-ends tenemos desarrollado el algoritmo de PageRank de forma completa."
   ]
  },
  {
   "cell_type": "markdown",
   "metadata": {},
   "source": [
    "En la siguiente secion vamos a hacer una introduccion a como hacer para que PageRank funcione cuando el grafi tiene billones de nodos, el caso de Google en la Web."
   ]
  }
 ],
 "metadata": {
  "kernelspec": {
   "display_name": "Python 3",
   "language": "python",
   "name": "python3"
  },
  "language_info": {
   "codemirror_mode": {
    "name": "ipython",
    "version": 3
   },
   "file_extension": ".py",
   "mimetype": "text/x-python",
   "name": "python",
   "nbconvert_exporter": "python",
   "pygments_lexer": "ipython3",
   "version": "3.6.4"
  }
 },
 "nbformat": 4,
 "nbformat_minor": 2
}
