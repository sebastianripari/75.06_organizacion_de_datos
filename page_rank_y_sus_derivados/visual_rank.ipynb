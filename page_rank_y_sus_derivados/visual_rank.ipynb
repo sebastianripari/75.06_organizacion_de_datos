{
 "cells": [
  {
   "cell_type": "markdown",
   "metadata": {},
   "source": [
    "# Visual Rank"
   ]
  },
  {
   "cell_type": "markdown",
   "metadata": {},
   "source": [
    "<b>VisualRank</b> es un algoritmo para rankear imagenes en un buscador de imagenes. Supongamos que un usuario busca \"Mona Lisa\" en un buscador de imagenes, podemos buscar imagenes en las cuales aparezca la frase \"Mona Lisa\", ya sea en su titulo, o en algun metadato. El resultado es una gran cantidad de imagenes que parecen responder a la consulta \"Mona Lisa\" pero no tenemos idea cual es la mas relevante. En imagenes no tenemos TF-IDF ni nada por el estilo, entre las imagenes que tienen en su titulo la frase buscada podemos tener las mas relevantes y las menos relevantes al mismo tiempo."
   ]
  },
  {
   "cell_type": "markdown",
   "metadata": {},
   "source": [
    "<img src=\"visual_rank.png\">"
   ]
  },
  {
   "cell_type": "markdown",
   "metadata": {},
   "source": [
    "El algoritmo VisualRank se encarga de resolver este problema mediante una ingeniosa idea: la imagen relevante debe ser aquella que mas se parece a todas las demas. Si podemos rankear las imagenes de acuerdo a su semejanza contra todo el resto tendremos un orden muy efectivo para presentarle los resultados al usuario."
   ]
  },
  {
   "cell_type": "markdown",
   "metadata": {},
   "source": [
    "VisualRank comienza armando un grafo entre todas las imagenes recuperadas, un grafo completo en donde cada arista representa la semejanza entre las imagenes. Luego corriendo PageRank en el grafo, usando la semejanza entre imagenes como la probabilidad de visitar una luego de otra, podemos rankear las imagenes y presentar el resultado final. El problema es como calcular la semejanza entre las imagenes."
   ]
  },
  {
   "cell_type": "markdown",
   "metadata": {},
   "source": [
    "Para calcular la semejanza entre dos imagenes <b>VisualRank</b> hace uso del algoritmo <b>SIFT (Scale Invariant Feature Transform)</b>. Este algoritmo extrae de cada imagen un conjunto de puntos que no se modifican con <b>diferentes escalas</b>, <b>rotaciones</b> o <b>iluminacion</b>."
   ]
  },
  {
   "cell_type": "markdown",
   "metadata": {},
   "source": [
    "Cada punto extraido por SIFT tiene un descriptor de 128 elementos (un vector). La semejanza entre dos imagenes se calcula mediante la distancia entre todos los puntos SIFT de una imagen contra todos los puntos SIFT de la otra."
   ]
  },
  {
   "cell_type": "markdown",
   "metadata": {},
   "source": [
    "Ocurre que comparar todos los puntos SIFT contra todos por cada par de imagenes es una tarea muy costosa por lo que <b>VisualRank</b> usa LSH para poder realizar estas comparaciones en O(1). Aplicamos una funcion LSH a los puntos SIFT de dos imagenes y la semejanza es simplemente la cantidad de colisiones que tuvimos en total dividiendo por el total de puntos SIFT."
   ]
  },
  {
   "cell_type": "markdown",
   "metadata": {},
   "source": [
    "<img src=\"SIFT.png\">"
   ]
  }
 ],
 "metadata": {
  "kernelspec": {
   "display_name": "Python 3",
   "language": "python",
   "name": "python3"
  },
  "language_info": {
   "codemirror_mode": {
    "name": "ipython",
    "version": 3
   },
   "file_extension": ".py",
   "mimetype": "text/x-python",
   "name": "python",
   "nbconvert_exporter": "python",
   "pygments_lexer": "ipython3",
   "version": "3.6.4"
  }
 },
 "nbformat": 4,
 "nbformat_minor": 2
}
