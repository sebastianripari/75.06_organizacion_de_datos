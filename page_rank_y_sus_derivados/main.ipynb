{
 "cells": [
  {
   "cell_type": "markdown",
   "metadata": {},
   "source": [
    "# PageRank y sus Derivados"
   ]
  },
  {
   "cell_type": "markdown",
   "metadata": {},
   "source": [
    "<b>PageRank</b> es uno de los algoritmos mas importantes en la historia de la computacion. Es el algoritmo que dio origen a Google y permitio que los <b>Search Engines</b> le ganen la pulseada a los spammers en una batalla que continua hasta el dia de hoy."
   ]
  },
  {
   "cell_type": "markdown",
   "metadata": {},
   "source": [
    "PageRank esta basado en principios matematicos muy simples y elegantes. Es un algoritmo que tiene muchisimas variantes y este capitulo vamos a estudiar el fascinante mundo de PageRank y muchos de sus derivados."
   ]
  },
  {
   "cell_type": "markdown",
   "metadata": {},
   "source": [
    "Es interesante entender como funcionaban antiguamente los <b>Search Engines</b>. Basicamente buscaban en el contenido de las paginas webs, es decir el rankeo, dependia de los matches de contenido de la pagina con las palabras que habiamos introducido en la busqueda. El problema de esto es que los Spammers podian sacar probecho de esto poniendo texto oculto, y haciendo que sus paginas matchen con las busquedas mas comunes. Otra forma es agarrar contenido que hacia a una pagina quedar primera, y copiarlo tal cual en nuestra pagina de forma oculta."
   ]
  },
  {
   "cell_type": "markdown",
   "metadata": {},
   "source": [
    "El <b>gran exito de Google</b> fue lograr ranquear los resultados de busquedas de forma independiente del contenido de las mismas mediante el algoritmo <b>PageRank</b>."
   ]
  },
  {
   "cell_type": "markdown",
   "metadata": {},
   "source": [
    "<b>PageRank</b> se basa en la <b>estructura de links</b> que existe entre las paginas de la web. El concepto basico es que cada pagina tiene una cierta importancia que es intrinseca y depende de los links que lleven a dicha pagina. Cuantos mas links nos puedan llevar a una cierta pagina mas importante sera la misma."
   ]
  },
  {
   "cell_type": "markdown",
   "metadata": {},
   "source": [
    "Para entender la idea detras de PageRank vamos a comenzar con el modelo matematico detras de PageRank, el modelo de <b>Random Surfers</b>."
   ]
  }
 ],
 "metadata": {
  "kernelspec": {
   "display_name": "Python 3",
   "language": "python",
   "name": "python3"
  },
  "language_info": {
   "codemirror_mode": {
    "name": "ipython",
    "version": 3
   },
   "file_extension": ".py",
   "mimetype": "text/x-python",
   "name": "python",
   "nbconvert_exporter": "python",
   "pygments_lexer": "ipython3",
   "version": "3.7.0"
  }
 },
 "nbformat": 4,
 "nbformat_minor": 2
}
