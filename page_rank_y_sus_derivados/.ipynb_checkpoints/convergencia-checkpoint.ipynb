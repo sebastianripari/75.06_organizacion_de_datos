{
 "cells": [
  {
   "cell_type": "markdown",
   "metadata": {},
   "source": [
    "# Convergencia"
   ]
  },
  {
   "cell_type": "markdown",
   "metadata": {},
   "source": [
    "### Teorema (Distribucion Estacionaria) "
   ]
  },
  {
   "cell_type": "markdown",
   "metadata": {},
   "source": [
    "Si A es una <b>matriz estocastica</b> entonces existe v tal que: Av = v"
   ]
  },
  {
   "cell_type": "markdown",
   "metadata": {},
   "source": [
    "<b>Observaciones: </b>Una <b>matriz estocastica</b> es aquella que todas sus filas o columnas suman 1. En el caso de PageRank por definicion todas las columnas suman 1 y por lo tanto la matriz es, en principio, estocastica. Esto demostraria que existe una distribucion de probabilidades estacionaria, es decir que no cambia al pre-multiplicarla por la matriz A."
   ]
  },
  {
   "cell_type": "markdown",
   "metadata": {},
   "source": [
    "### Teorema (Perron-Frobenius) "
   ]
  },
  {
   "cell_type": "markdown",
   "metadata": {},
   "source": [
    "El <b>autovalor</b> principal de una matriz estocastica es igual a 1."
   ]
  },
  {
   "cell_type": "markdown",
   "metadata": {},
   "source": [
    "### Power Method"
   ]
  },
  {
   "cell_type": "markdown",
   "metadata": {},
   "source": [
    "Sea A una matriz diagonalizable y sea x0 un vector aleatorio si repetimos x0 = A x0 en el limite x0 es el autovector asociado al autovalor de mayor valor absoluto de la matriz."
   ]
  },
  {
   "cell_type": "markdown",
   "metadata": {},
   "source": [
    "<hr>"
   ]
  },
  {
   "cell_type": "markdown",
   "metadata": {},
   "source": [
    "Usando lo anterior se llega a que el metodo iterativo que estamos revisando converge. En conclusion la matriz de PageRank tiene un unico autovalor principal igual a 1 y el metodo iterativo converge a un autovector asociado a dicho autovalor."
   ]
  }
 ],
 "metadata": {
  "kernelspec": {
   "display_name": "Python 3",
   "language": "python",
   "name": "python3"
  },
  "language_info": {
   "codemirror_mode": {
    "name": "ipython",
    "version": 3
   },
   "file_extension": ".py",
   "mimetype": "text/x-python",
   "name": "python",
   "nbconvert_exporter": "python",
   "pygments_lexer": "ipython3",
   "version": "3.6.4"
  }
 },
 "nbformat": 4,
 "nbformat_minor": 2
}
