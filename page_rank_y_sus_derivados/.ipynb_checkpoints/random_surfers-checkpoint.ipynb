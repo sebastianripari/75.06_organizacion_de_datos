{
 "cells": [
  {
   "cell_type": "markdown",
   "metadata": {},
   "source": [
    "# Random Surfers"
   ]
  },
  {
   "cell_type": "markdown",
   "metadata": {},
   "source": [
    "Un <b>Random Surfer</b> es un navegante aleatorio en la web. Este navegante comienza en cualquier pagina al azar de todas las disponibles. Desde esa pagina nuestro navegante elige un link al azar de la pagina en la que se encuentra y navega a la pagina seleccionada, repitiendo este proceso en la nueva pagina que ha visitado. Este proceso se repite indefinidamente en las sucesivas iteraciones del navegante aleatorio."
   ]
  },
  {
   "cell_type": "markdown",
   "metadata": {},
   "source": [
    "El concepto detras de PageRank consiste en darle a cada pagina un peso que es igual a la probabilidad de que nuestro Random Surfer termine su recorrido en esa pagina luego de n saltos."
   ]
  },
  {
   "cell_type": "markdown",
   "metadata": {},
   "source": [
    "El modelo de Random Surfer noes ni mas ni menos que un <b>modelo de Markov</b> en donde tenemos tantos <b>nodos</b> como <b>paginas</b> y <b>aristas</b> como <b>links</b>. La probabilidad de cada arista es 1 sobre el total de links en la pagina. A modo de ejemplo, si una pagina tiene dos links cada uno tiene una probabilidad 1/2. "
   ]
  },
  {
   "cell_type": "markdown",
   "metadata": {},
   "source": [
    "<b>Ejemplo: </b>Supongamos que tenemos tres paginas: A,B y C. La pagina A tiene links B y C. La pagina B solo linkea a A y la pagina C solo linkea a B. Nuestra <b>cadena de Markov</b> tiene el siguiente aspecto:"
   ]
  },
  {
   "cell_type": "markdown",
   "metadata": {},
   "source": [
    "<img src=\"imagenes/markov.png\">"
   ]
  },
  {
   "cell_type": "markdown",
   "metadata": {},
   "source": [
    "Inicialemente la probabilidad de cada pagina es 1/3 ya que nuestro navegador aleatorio puede empezar en cualquier pagina, esto lo reprosentamos mediante el vector [1/3;1/3;1/3]."
   ]
  },
  {
   "cell_type": "markdown",
   "metadata": {},
   "source": [
    "La matriz de la cadena de Markov es la siguiente:"
   ]
  },
  {
   "cell_type": "code",
   "execution_count": 1,
   "metadata": {},
   "outputs": [],
   "source": [
    "#         A   B  C\n",
    "#     A | 0   1  0 |\n",
    "# A = B | 1/2 0  1 |\n",
    "#     C | 1/2 0  0 |"
   ]
  },
  {
   "cell_type": "markdown",
   "metadata": {},
   "source": [
    "Nuestro objetivo ahora es calcular la probabilidad de cada pagina luego del primer salto. Si comenzamos en A (prob 1/3) podemos ir a B o a C entonces la probabilidad luego del primer salto de A va a ser cero, la de B sera 1/6 y la de C sera tambien 1/6."
   ]
  },
  {
   "cell_type": "markdown",
   "metadata": {},
   "source": [
    "Por otro lado si comenzamos en B (prob 1/3) solo podemos ir a A entonces la probabilidad luego del primer salto de A va a ser 1/3, la de B sera 0 y la de C tambien."
   ]
  },
  {
   "cell_type": "markdown",
   "metadata": {},
   "source": [
    "Finalmente empezando desde C las probabilidades luego de primer salto de llegar a A,B,C seran respectivamente 0, 1/3 y 0."
   ]
  },
  {
   "cell_type": "markdown",
   "metadata": {},
   "source": [
    "Para poder calcular la probabilidad de llegar a una determinada pagina luego del primer salto, considerando todos los casos posibles debemos operar de la siguiente forma: La probabilidad de llegar a A luego del primer salto es igual a la probabilidad de empezar en A y quedarse en A(0) mas la probabilidad de empezar en B e ir a A (1/3) mas la probabilidad de empezar en C y pasar a A (0). Por lo tanto la probabilidad de A luego de 1 salto es 1/3."
   ]
  },
  {
   "cell_type": "markdown",
   "metadata": {},
   "source": [
    "Observemos que esto es igual al producto de la fila 1 de la matriz por la probabilidad de A, ya que la fila 1 de la matriz tiene las probabilidades con las cuales se puede llegar desde otras paginas hasta a A."
   ]
  },
  {
   "cell_type": "markdown",
   "metadata": {},
   "source": [
    "<b>Por lo tanto</b> luego de un salto las probabilidades de cada pagina se pueden calcular como el producto de la matriz de Markov por las probabilidades iniciales. Esto es:"
   ]
  },
  {
   "cell_type": "code",
   "execution_count": 2,
   "metadata": {},
   "outputs": [],
   "source": [
    "# | 0   1  0 | |1/3|   |1/3|\n",
    "# | 1/2 0  1 | |1/3| = |1/2|\n",
    "# | 1/2 0  0 | |1/3|   |1/6|"
   ]
  },
  {
   "cell_type": "markdown",
   "metadata": {},
   "source": [
    "Si queremos averiguar las probabilidades luego de <b>2 saltos</b> tomamos el resultado anterior [1/3;1/2;1/6] y lo usamos como las probabilidades iniciales, es decir que volvemos a multiplicar:"
   ]
  },
  {
   "cell_type": "code",
   "execution_count": 3,
   "metadata": {},
   "outputs": [],
   "source": [
    "# | 0   1  0 | |1/3|   |1/2|\n",
    "# | 1/2 0  1 | |1/2| = |1/3|\n",
    "# | 1/2 0  0 | |1/6|   |1/6|"
   ]
  },
  {
   "cell_type": "markdown",
   "metadata": {},
   "source": [
    "Segun parece luego de dos saltos la probabilidad de la pagina A es del 50% ."
   ]
  },
  {
   "cell_type": "markdown",
   "metadata": {},
   "source": [
    "El PageRank se define como las probabilidades luego de infinitos saltos. Esto nos lleva a pensar si PageRank converge y si converge a que valor lo hace, por lo tanto vamos a tener que desarrollar algo de teoria."
   ]
  },
  {
   "cell_type": "markdown",
   "metadata": {},
   "source": [
    "<hr>"
   ]
  },
  {
   "cell_type": "markdown",
   "metadata": {},
   "source": [
    "Si repetimos este metodo iterativo la suficiente cantidad de veces, llegamos a que P(A) = 0.4, P(B) = 0.4 y P(C) = 0.2."
   ]
  },
  {
   "cell_type": "markdown",
   "metadata": {},
   "source": [
    "Si observamos el modelo de Markov podemos analizar que esto tiene sentido ya que podemos ir de A hacia B o de B hacia A pero a C solo podemos llegar desde A, es decir que es logico que la probabilidad de A sea igual a la de B y que estas probabilidades sean mayores a las de C."
   ]
  },
  {
   "cell_type": "markdown",
   "metadata": {},
   "source": [
    "### Teorema Fundamental de las Cadenas de Markov"
   ]
  },
  {
   "cell_type": "markdown",
   "metadata": {},
   "source": [
    "Para un <b>Random Walk</b> suficientemente largo en una cadena de Markov la probabilidad de terminar en un cierto vertice v es independiente del vertice en el cual se inicio el Random Walk."
   ]
  }
 ],
 "metadata": {
  "kernelspec": {
   "display_name": "Python 3",
   "language": "python",
   "name": "python3"
  },
  "language_info": {
   "codemirror_mode": {
    "name": "ipython",
    "version": 3
   },
   "file_extension": ".py",
   "mimetype": "text/x-python",
   "name": "python",
   "nbconvert_exporter": "python",
   "pygments_lexer": "ipython3",
   "version": "3.7.0"
  }
 },
 "nbformat": 4,
 "nbformat_minor": 2
}
