{
 "cells": [
  {
   "cell_type": "markdown",
   "metadata": {},
   "source": [
    "# Redes Sociales"
   ]
  },
  {
   "cell_type": "markdown",
   "metadata": {},
   "source": [
    "Una <b>red social</b> es un grafo, donde los <b>nodos</b> son los <b>usuarios</b> y las <b>aristas</b> son las relaciones entre ellos. Estas pueden ser <b>direccionales</b> como en el caso de <b>Twitter</b> donde un usuario puede seguir a otro pero este no lo sigue. En cambio en <b>Facebook</b> las relaciones no tienen direccion."
   ]
  },
  {
   "cell_type": "markdown",
   "metadata": {},
   "source": [
    "<hr>"
   ]
  },
  {
   "cell_type": "markdown",
   "metadata": {},
   "source": [
    "## Propiedades de los Grafos"
   ]
  },
  {
   "cell_type": "markdown",
   "metadata": {},
   "source": [
    "### Propiedades Basicas"
   ]
  },
  {
   "cell_type": "markdown",
   "metadata": {},
   "source": [
    "- Se llama <b>N</b> a la cantidad de <b>nodos</b> del grafo.\n",
    "- Se llama <b>E</b> a la cantidad de <b>aristas</b> del grafo.\n",
    "- Se llama $\\bf k_i$ al <b>grado</b> de cada nodo.\n",
    "- Se llama <b>k</b> al <b>grado</b> promedio de cada nodo."
   ]
  },
  {
   "cell_type": "markdown",
   "metadata": {},
   "source": [
    "Si el grafo es no dirigido entonces $k = \\frac{2E}{N}$"
   ]
  },
  {
   "cell_type": "markdown",
   "metadata": {},
   "source": [
    "Un grafo <b>completo</b> es aquel que tiene todas sus aristas, en un grafo no dirigido esto quiere decir <b>k = N - 1</b>"
   ]
  },
  {
   "cell_type": "markdown",
   "metadata": {},
   "source": [
    "### Almacenamiento de un Grafo"
   ]
  },
  {
   "cell_type": "markdown",
   "metadata": {},
   "source": [
    "La forma optima de almacenar un grafo es guardando por cada nodo la lista de <b>adyacencias</b>. "
   ]
  },
  {
   "cell_type": "markdown",
   "metadata": {},
   "source": [
    "### Componentes Conexos"
   ]
  },
  {
   "cell_type": "markdown",
   "metadata": {},
   "source": [
    "Generalmente el grafo de una red social es conexo. El porque de esto es porque en un grafo con muchos nodos, supogamos que existen dos componentes conexas. En el momento de una nueva arista es muy probable que conecte estos dos componentes conexos."
   ]
  },
  {
   "cell_type": "markdown",
   "metadata": {},
   "source": [
    "### Diametro"
   ]
  },
  {
   "cell_type": "markdown",
   "metadata": {},
   "source": [
    "En un grafo, la <b>distancia</b> entre dos vértices es el menor número de aristas de un recorrido entre ellos. El <b>diámetro</b> es la mayor distancia entre todos los pares de nodos. Las Redes Sociales tienen un diametro muy bajo, lo cual da origen al fenomeno del <b>mundo pequenio</b>: los famosos 6 grados de separacion."
   ]
  },
  {
   "cell_type": "markdown",
   "metadata": {},
   "source": [
    "### Coeficiente de Clustering"
   ]
  },
  {
   "cell_type": "markdown",
   "metadata": {},
   "source": [
    "El <b>coeficiente de clustering</b> mide que tan conectados estan los <b>vecinos</b> de un nodo."
   ]
  },
  {
   "cell_type": "markdown",
   "metadata": {},
   "source": [
    "\\begin{equation}\n",
    "\\large C_i = \\frac{2 e_i}{k_i (k_i - 1)}\n",
    "\\end{equation}"
   ]
  },
  {
   "cell_type": "markdown",
   "metadata": {},
   "source": [
    "Donde $e_i$ es la cantidad de aristas entre los vecinos del nodo <b>i</b>."
   ]
  },
  {
   "cell_type": "markdown",
   "metadata": {},
   "source": [
    "<b>Observacion: </b>En una red social el coeficiente de clustering es en general un numero alto. Ya que los vecinos de un nodo tienden a estar conectados entre si precisamente por tener en comun su relacion con ese nodo."
   ]
  },
  {
   "cell_type": "markdown",
   "metadata": {},
   "source": [
    "#### Coeficiente de Clustering promedio de la red"
   ]
  },
  {
   "cell_type": "markdown",
   "metadata": {},
   "source": [
    "\\begin{equation}\n",
    "\\large C = \\frac{\\sum_i c_i}{N} \n",
    "\\end{equation}"
   ]
  },
  {
   "cell_type": "markdown",
   "metadata": {},
   "source": [
    "<hr>"
   ]
  },
  {
   "cell_type": "markdown",
   "metadata": {},
   "source": [
    "## Modelos de Grafos"
   ]
  },
  {
   "cell_type": "markdown",
   "metadata": {},
   "source": [
    "Caracteristicas de un grafo en una red social:\n",
    "- Diametro: Muy pequenio\n",
    "- Coeficiente de Clustering: Muy alto\n",
    "- Componentes Conexos: 1\n",
    "- Distribucion del Grado: Power Law\n",
    "- Camino minimo promedio: Bajo"
   ]
  },
  {
   "cell_type": "markdown",
   "metadata": {},
   "source": [
    "### Modelo de Erdos-Renyi"
   ]
  },
  {
   "cell_type": "markdown",
   "metadata": {},
   "source": [
    "El modelo de <b>Erdos-Renyi</b> es un <b>grafo aleatorio</b> con <b>N</b> nodos y probabilidad <b>p</b> para cada arista. A estos grafos se los llamara $\\bf G_{np}$. Una forma eficiente de armar un grafo que siga este modelo es, siendo N la cantidad de nodos, es calcular la cantidad de aristas como $p\\frac{N(N-1)}{2}$ y luego formar cada una de estas aristas tomando dos nodos al azar."
   ]
  },
  {
   "cell_type": "markdown",
   "metadata": {},
   "source": [
    "#### Diametro"
   ]
  },
  {
   "cell_type": "markdown",
   "metadata": {},
   "source": [
    "Esta en el orden de <b>O(log(N))</b>. Igual que el grafo de Facebook, asi que podriamos decir que el Diametro del grafo de una red social es una propiedad que se da de igual manera en un grafo aleatorio. "
   ]
  },
  {
   "cell_type": "markdown",
   "metadata": {},
   "source": [
    "#### Distribucion del grado"
   ]
  },
  {
   "cell_type": "markdown",
   "metadata": {},
   "source": [
    "El grado promedio de los nodos es $\\bf p(n-1)$ lo cual es logico porque la cantidad maxima de aristas que puede tener un grafo es <b>(n-1)</b> y la probabilidad de que exista cada una es <b>p</b>. Asi que la distribucion de grado tiene forma <b>normal</b> y por lo tanto difiere de la de un grafo de una red social que tiene <b>ley de potencias</b>."
   ]
  },
  {
   "cell_type": "markdown",
   "metadata": {},
   "source": [
    "#### Coeficiente de Clustering"
   ]
  },
  {
   "cell_type": "markdown",
   "metadata": {},
   "source": [
    "Sabemos que el <b>coeficiente de clustering</b> en cualquier grafo es:"
   ]
  },
  {
   "cell_type": "markdown",
   "metadata": {},
   "source": [
    "\\begin{equation}\n",
    "\\large c_i = \\frac{2e_i}{k_i(k_i - 1)}\n",
    "\\end{equation}"
   ]
  },
  {
   "cell_type": "markdown",
   "metadata": {},
   "source": [
    "Y para un grafo que sigue este modelo la cantidad de aristas entre los vecinos del nodo ($e_i$) es:"
   ]
  },
  {
   "cell_type": "markdown",
   "metadata": {},
   "source": [
    "\\begin{equation}\n",
    "\\large e_i = p \\frac{k_i (k_i - 1)}{2}\n",
    "\\end{equation}"
   ]
  },
  {
   "cell_type": "markdown",
   "metadata": {},
   "source": [
    "Por lo tanto:"
   ]
  },
  {
   "cell_type": "markdown",
   "metadata": {},
   "source": [
    "\\begin{equation}\n",
    "\\large C_i = p = \\frac{k_i}{n - 1} \\approx \\frac{k_i}{N}\n",
    "\\end{equation}"
   ]
  },
  {
   "cell_type": "markdown",
   "metadata": {},
   "source": [
    "Lo cual es un <b>coeficiente</b> resulta ultra bajo, nada que ver con el de una red social."
   ]
  },
  {
   "cell_type": "markdown",
   "metadata": {},
   "source": [
    "### Modelo de Barabasi-Albert"
   ]
  },
  {
   "cell_type": "markdown",
   "metadata": {},
   "source": [
    "En este modelo a diferencia del anterior, las aristas no son aleatorias, sino que utiliza el modelo llamado <b>preferential attachment</b> donde la probabilidad de agregar una arista entre dos nodos depende del grado de cada nodo, mientras de mayor grado sean estos, mas probable es que se agrege la arista entre ellos. Es el fenomeno <b>los ricos son cada ves mas ricos</b>."
   ]
  },
  {
   "cell_type": "markdown",
   "metadata": {},
   "source": [
    "#### Diametro"
   ]
  },
  {
   "cell_type": "markdown",
   "metadata": {},
   "source": [
    "Es <b>O(log(log(N)))</b> que es compatible con el de una red social."
   ]
  },
  {
   "cell_type": "markdown",
   "metadata": {},
   "source": [
    "#### Distribucion de Grado"
   ]
  },
  {
   "cell_type": "markdown",
   "metadata": {},
   "source": [
    "Es una <b>ley de potencias</b> como en una red social."
   ]
  },
  {
   "cell_type": "markdown",
   "metadata": {},
   "source": [
    "### Modelo de Jackson-Rodgers"
   ]
  },
  {
   "cell_type": "markdown",
   "metadata": {},
   "source": [
    "Este modelo es una combinacion de los dos anteriores. Ya que se crea una nueva arista siguiendo lo siguiente:\n",
    "- Probabilidad $\\alpha$ de que se cree al azar la arista.\n",
    "- Probabilidad $1 - \\alpha$ de que se cree la arista usando el modelo de <b>preferential attachment<b/>"
   ]
  },
  {
   "cell_type": "markdown",
   "metadata": {},
   "source": [
    "Por lo tanto si $\\alpha$ es 1 el modelo se tranforma en el de <b>Erdos-Renyi</b> y si $\\alpha$ es 0 el modelo es el de <b>Jackson-Rodgers</b>."
   ]
  },
  {
   "cell_type": "markdown",
   "metadata": {},
   "source": [
    "<b>Empiricamente se puede mostrar que este modelo representa muy bien la creacion de aristas que tienen las redes sociales, cada una con un $\\alpha$ diferente.</b>"
   ]
  },
  {
   "cell_type": "markdown",
   "metadata": {},
   "source": [
    "<hr>"
   ]
  },
  {
   "cell_type": "markdown",
   "metadata": {},
   "source": [
    "## La Clausura Triangular"
   ]
  },
  {
   "cell_type": "markdown",
   "metadata": {},
   "source": [
    "Este es el <b>fenomeno</b> que origina que las redes sociales tengan un alto <b>coeficiente de clustering</b>. Lo que dice este fenomeno es muy simple, \"si A conoce a B y C, tarde o temprano B y C se conocen\". Esto hace que forme una cantidad inusual de <b>triangulos</b> que genera un alto coeficiente de clustering."
   ]
  },
  {
   "cell_type": "markdown",
   "metadata": {},
   "source": [
    "De esto, se desprende una forma facil de darnos cuenta si un grafo corresponde al de una red social, la forma es contando triangulos."
   ]
  },
  {
   "cell_type": "markdown",
   "metadata": {},
   "source": [
    "### Contando triangulos en un grafo"
   ]
  },
  {
   "cell_type": "markdown",
   "metadata": {},
   "source": [
    "La forma de contar triangulos en un grafo es con la matriz de adyansencias, que es la tiene un 1 si existe una arista entre el elemento <b>i</b>, <b>j</b> de la matriz. Que exista una arista es lo mismo que decir que exista un camino de longitud 1. Las matrices de adyacencias tienen la increible propiedad de cuando las elevamos a la <b>n</b>, nos dan la informacion de la cantidad de caminos de longitud <b>n</b> que van de <b>i</b> a <b>j</b>. A nosotros nos interesa contar triangulos, osea caminos de longitud 3 que nos llevan del elemento <b>i</b> al elemento <b>i</b>. Por lo tanto necesitamos la matriz de adyacencias elevada al cubo, y sumar todos los elementos de la diagonal que son los que salen de un nodo y vuelven al mismo nodo. Luego, para evitar contar el camino dos veces por las dos orientaciones del recorrido divimos por 2 y luego dividimos por 3 para evitar contar 3 veces el mismo triangulo partiendo de cada uno de los tres nodos."
   ]
  },
  {
   "cell_type": "markdown",
   "metadata": {},
   "source": [
    "<hr>"
   ]
  },
  {
   "cell_type": "markdown",
   "metadata": {},
   "source": [
    "## Centralidad"
   ]
  },
  {
   "cell_type": "markdown",
   "metadata": {},
   "source": [
    "El concepto de <b>centralidad</b> es una <b>medida</b> que se le asigna a un <b>nodo</b> que habla de la importancia que tiene este nodo para el grafo. Veremos varias <b>metricas</b> que calculan la centralidad, cada una con un significado diferente."
   ]
  },
  {
   "cell_type": "markdown",
   "metadata": {},
   "source": [
    "## Grado"
   ]
  },
  {
   "cell_type": "markdown",
   "metadata": {},
   "source": [
    "La <b>metrica</b>: <b>grado</b> de un nodo es la medida mas simple de centralidad. A mayor grado, mayor cantidad de conexiones con otros nodos, mayor centralidad."
   ]
  },
  {
   "cell_type": "markdown",
   "metadata": {},
   "source": [
    "## Betweenness"
   ]
  },
  {
   "cell_type": "markdown",
   "metadata": {},
   "source": [
    "La <b>metrica</b>: Betweenness no le interesa el grado del nodo, sino la importancia que tiene este uniendo partes conexas. Imaginemos un nodo que por medio de una arista mantiene unida dos componentes que sino fuera por el serian disconexas, este entonces cumple un rol importante, el de mantener las piesas unidas. Esta metrica se puede aplicar tanto a nodos como a aristas."
   ]
  },
  {
   "cell_type": "markdown",
   "metadata": {},
   "source": [
    "<b>Definicion</b> de centralidad del nodo i:"
   ]
  },
  {
   "cell_type": "markdown",
   "metadata": {},
   "source": [
    "\\begin{equation}\n",
    "\\large C_B(i) = \\sum_{j < k} \\frac{g_{jk}(i)}{g_{jk}}\n",
    "\\end{equation}"
   ]
  },
  {
   "cell_type": "markdown",
   "metadata": {},
   "source": [
    "Donde:\n",
    "- $g_{jk}$: Es la cantidad de caminos de longitud minima de <b>j</b> a <b>k</b>.\n",
    "- $g_{jk}(i)$: Es la cantidad de caminos de longitud minima que pasan por <b>i</b> de <b>j</b> a <b>k</b>."
   ]
  },
  {
   "cell_type": "markdown",
   "metadata": {},
   "source": [
    "## Closeness"
   ]
  },
  {
   "cell_type": "markdown",
   "metadata": {},
   "source": [
    "La <b>metrica</b>: Closeness establece la centralidad fijandose la distancia que tiene el nodo con todos los demas nodos, mientra menor sean estas mayor sera la centralidad. Esto matematicamente es sumar las distancias del nodo i con cada uno de los demas nodos. Y calcular la inversa. A mayor suma de distancias menor centridad, y a menor suma de distancias mayor centralidad."
   ]
  },
  {
   "cell_type": "markdown",
   "metadata": {},
   "source": [
    "\\begin{equation}\n",
    "\\large C_c(i) = \\frac{1}{\\sum^N_{j=1} d(i,j)}\n",
    "\\end{equation}"
   ]
  },
  {
   "cell_type": "markdown",
   "metadata": {},
   "source": [
    "## Eigenvector Centrality y PageRank"
   ]
  },
  {
   "cell_type": "markdown",
   "metadata": {},
   "source": [
    "Este <b>concepto</b> habla de que la centralidad de un nodo depende de la centralidad de los vecinos a este nodo. Es analogo al concepto de page rank."
   ]
  },
  {
   "cell_type": "markdown",
   "metadata": {},
   "source": [
    "## Centralidad de la Red"
   ]
  },
  {
   "cell_type": "markdown",
   "metadata": {},
   "source": [
    "Esta a diferencia de las anteriores, que eran medidas de la centralidad de un nodo, es la centralidad del grafo en su totalidad."
   ]
  },
  {
   "cell_type": "markdown",
   "metadata": {},
   "source": [
    "<b>Definicion</b>:"
   ]
  },
  {
   "cell_type": "markdown",
   "metadata": {},
   "source": [
    "\\begin{equation}\n",
    "\\large C_D = \\frac{\\sum^N_{i=1} [C_D(n^*)-C_D(i)]}{(N - 1)(N - 2)}\n",
    "\\end{equation}"
   ]
  },
  {
   "cell_type": "markdown",
   "metadata": {},
   "source": [
    "Donde:\n",
    "- N es la cantidad de nodos.\n",
    "- $C_D(i)$ es la centralidad del nodo <b>i</b> usando la metrica que querramos.\n",
    "- $C_D(n^*)$ es la centralidad maxima. "
   ]
  },
  {
   "cell_type": "markdown",
   "metadata": {},
   "source": [
    "<hr>"
   ]
  },
  {
   "cell_type": "markdown",
   "metadata": {},
   "source": [
    "## Deteccion de Comunidades "
   ]
  },
  {
   "cell_type": "markdown",
   "metadata": {},
   "source": [
    "### Uniones Fuertes y Debiles"
   ]
  },
  {
   "cell_type": "markdown",
   "metadata": {},
   "source": [
    "Las <b>uniones</b> entre nodos que se dan por medio de aristas pueden ser fuertes o debiles. Una union debil es cuando al borrar una de las aristas que une los nodos, el camino minimo entre ellos disminuye."
   ]
  },
  {
   "cell_type": "markdown",
   "metadata": {},
   "source": [
    "Las <b>uniones debiles</b> son muy importantes en las redes ya que son a partir de estas que se <b>descubren</b> cosas. "
   ]
  },
  {
   "cell_type": "markdown",
   "metadata": {},
   "source": [
    "### Modularidad"
   ]
  },
  {
   "cell_type": "markdown",
   "metadata": {},
   "source": [
    "La <b>funcion de modularidad</b> permite evaluar que tan modular, es decir que tan separado en modulos, osea comunidades, esta separado un grafo. Es un numero que va de 0 a 1. Asi que 1 significa que todos los nodos pertenecen a una misma comunidad, y 0 que todos pertenecen a distinta comunidad."
   ]
  },
  {
   "cell_type": "markdown",
   "metadata": {},
   "source": [
    "<b>Definicion:</b>"
   ]
  },
  {
   "cell_type": "markdown",
   "metadata": {},
   "source": [
    "\\begin{equation}\n",
    "\\large Q = \\frac{1}{2m} \\sum_{vw}[A_{vw} - \\frac{K_v K_w}{wm}] \\delta(c_v, c_w)\n",
    "\\end{equation}"
   ]
  },
  {
   "cell_type": "markdown",
   "metadata": {},
   "source": [
    "Donde:\n",
    "- $\\bf \\delta(v_1, v_2)$ es una funcion que vale 1 si los vertices $v_1$ y $v_2$ estan en la misma comunidad.  Y 0 en caso contrario.\n",
    "- $\\bf A_{vw}$ es la matriz de adyacencias.\n",
    "- $\\bf K_v$ y $\\bf K_w$ son los grados de los vertices.\n",
    "- <b>m</b> es la cantidad total de aristas."
   ]
  },
  {
   "cell_type": "markdown",
   "metadata": {},
   "source": [
    "### Algoritmo de Girwan-Newman"
   ]
  },
  {
   "cell_type": "markdown",
   "metadata": {},
   "source": [
    "Es un algoritmo para a partir de un grafo detectar comunidades. Utiliza el concepto de <b>betwenness</b> para ver donde realizar los cortes de aristas. Corta aristas en las aristas con mayor <b>betwennes</b> que aqui es donde existen las uniones mas debiles. El algoritmo corta aristas hasta que llegue a la cantidad de comunidades que nosotros le especificamos."
   ]
  },
  {
   "cell_type": "markdown",
   "metadata": {},
   "source": [
    "### Analisis de comunidades en Redes Sociales"
   ]
  },
  {
   "cell_type": "markdown",
   "metadata": {},
   "source": [
    "Este analisis se basa en ver que tan bien quedo separada una comunidad S. Muestra que tan aislada quedo, si es una nube de nodos con una sola conexion hacia fuera, o con ninguna conexion hacie afuera, o si quedaron con muchas conexiones hacia fuera. "
   ]
  },
  {
   "cell_type": "markdown",
   "metadata": {},
   "source": [
    "La siguiente expresion, expresa justamente esto que dijimos. Y se la denomina <b>conductancia</b>:"
   ]
  },
  {
   "cell_type": "markdown",
   "metadata": {},
   "source": [
    "\\begin{equation}\n",
    "\\large \\phi(s) = \\frac{|(i,j) \\in E; i \\in S, j \\notin S|}{\\sum_{s \\in S} k_s}\n",
    "\\end{equation}"
   ]
  },
  {
   "cell_type": "markdown",
   "metadata": {},
   "source": [
    "Donde:\n",
    "- El numerador cuenta la cantidad de aristas que salen de un nodo <b>i</b> que pertenece al cluster S y van hacia un nodo <b>j</b> fuera del cluster S.\n",
    "- Y el denominador suma los grados de todos los nodos pertenecientes al cluster S. Esto da la pauta de que tan grande es el cluster."
   ]
  },
  {
   "cell_type": "markdown",
   "metadata": {},
   "source": [
    "<b>Observacion</b>: Mientras mas bajo el valor de <b>conductancia</b> de un cluster mejor estructura tiene, mas bueno es."
   ]
  },
  {
   "cell_type": "markdown",
   "metadata": {},
   "source": [
    "<hr>"
   ]
  },
  {
   "cell_type": "markdown",
   "metadata": {},
   "source": [
    "## Cascadas en Redes Sociales "
   ]
  },
  {
   "cell_type": "markdown",
   "metadata": {},
   "source": [
    "El fenomeno <b>cascada</b> estudia como a partir de una una informacion, nueva publicacion, de cualquier tipo, esta se <b>difunde</b> por la red. Vamos a estudiar los modelos que muestran de que manera se difunde, hasta donde llega, cuando para, en cuanto tiempo."
   ]
  },
  {
   "cell_type": "markdown",
   "metadata": {},
   "source": [
    "### Modelo de Difusion"
   ]
  },
  {
   "cell_type": "markdown",
   "metadata": {},
   "source": [
    "Si al menos <b>q%</b> de mis vecinos difunden algo yo tambien lo hago. Esto definira una cascada <b>q</b>."
   ]
  },
  {
   "cell_type": "markdown",
   "metadata": {},
   "source": [
    "### Maximizacion de Influencia"
   ]
  },
  {
   "cell_type": "markdown",
   "metadata": {},
   "source": [
    "Esto implica que difusion llegue a la mayor cantidad de nodos posibles en la red mediante el uso de la menor cantidad de nodos. Por lo tanto lo se esta buscando, es que llegue a los nodos que mas influencia produciran. Esto tiene aplicaciones en campanias de marketing."
   ]
  },
  {
   "cell_type": "markdown",
   "metadata": {},
   "source": [
    "El problema formal se llama <b>Set-Cover</b> que lo que busca es el conjunto minimo de nodos para poder llegar a todos los nodos."
   ]
  },
  {
   "cell_type": "markdown",
   "metadata": {},
   "source": [
    "La solucion de este problema es <b>NP-Completo</b>. Y se basa en usar una funcion <b>f</b> que va indicando cuanta influencia ganamos agregando cierto nodo. Entonces en cada paso del algoritmo lo que hacemos es probar con todos los nodos y nos quedamos en el que mas influencia nos haga ganar, es decir es un algoritmo de tipo <b>greedy</b>, pero ademas las funcion <b>f</b> que nos dice cuanta influencia nos da agregar un nodo no existe, pero por suerte se puede simular."
   ]
  },
  {
   "cell_type": "markdown",
   "metadata": {},
   "source": [
    "<hr>"
   ]
  },
  {
   "cell_type": "markdown",
   "metadata": {},
   "source": [
    "## Redes Sociales con Signo"
   ]
  },
  {
   "cell_type": "markdown",
   "metadata": {},
   "source": [
    "La idea es poder predecir antes de que exista la relacion que <b>signo</b> tendra, osea <b>positivo</b> o <b>negativo</b>. Poniendo ejemplos seria predecir si dos personas seran amigas o enemigas."
   ]
  },
  {
   "cell_type": "markdown",
   "metadata": {},
   "source": [
    "La forma de analizar esto es basandonos en conceptos muy simples:\n",
    "- <b>Relaciones Balanceados</b>\n",
    " - Los amigos de mis amigos son mis amigos.\n",
    " - Los enemigos de mis enemigos son mis amigos.\n",
    "- <b>Relaciones No Balanceadas</b>\n",
    " - A amigo de B y A amigo de C pero B y C no son amigos.\n",
    " - A enemigo de B y A enemigo de C y B enemigo de C."
   ]
  },
  {
   "cell_type": "markdown",
   "metadata": {},
   "source": [
    "Entonces es muy simple, cuando vemos que A es amigo de B y A es amigo de C. Entonces lo mas probable es que el B termine siendo amigo de C, esto cerraria el triangulo. Y la otra es A es enemigo de B y A es enemigo de C entonces  es muy probable que B y C sean amigos."
   ]
  },
  {
   "cell_type": "markdown",
   "metadata": {},
   "source": [
    "<hr>"
   ]
  },
  {
   "cell_type": "markdown",
   "metadata": {},
   "source": [
    "## El lenguaje en las Redes Sociales "
   ]
  },
  {
   "cell_type": "markdown",
   "metadata": {},
   "source": [
    "Las redes sociales, en el conjunto de sus textos, publicaciones, tweets, comentarios, se presenta un lenguaje de cierto tipo. El usuario apenas entra a la red social no posee este lenguaje, pero a medida que persiste en la red, se ve como generalmente su lenguaje empieza a cambiar tendiendo a ser el lenguaje general de la red. Esto se ve en sus publicaciones por ejemplo, la cuestion es que llega un momento donde puede ocurrir que el usuario se empieze a alejar el lenguaje de la red, y esto hara que este usuario tenga los dias contados dentro de la misma, osea que probablemente no falte mucho para que la deje de usar."
   ]
  },
  {
   "cell_type": "markdown",
   "metadata": {},
   "source": [
    "<hr>"
   ]
  },
  {
   "cell_type": "markdown",
   "metadata": {},
   "source": [
    "## Evolucion de una Red Social"
   ]
  },
  {
   "cell_type": "markdown",
   "metadata": {},
   "source": [
    "### Cantidad de Nodos y Aristas"
   ]
  },
  {
   "cell_type": "markdown",
   "metadata": {},
   "source": [
    "A medida que aumenta la cantidad de nodos, aumenta la cantidad de aristas de forma superior. Esto seria:"
   ]
  },
  {
   "cell_type": "markdown",
   "metadata": {},
   "source": [
    "\\begin{equation}\n",
    "\\large E(t) \\approx N(t)^a\n",
    "\\end{equation}"
   ]
  },
  {
   "cell_type": "markdown",
   "metadata": {},
   "source": [
    "### Diametro"
   ]
  },
  {
   "cell_type": "markdown",
   "metadata": {},
   "source": [
    "A medida que aumenta la cantidad nodos uno pensaria que el diametro deberia aumentar, pero todo lo contrario, disminuye. Esto quiere decir a medida que una red crece la distancia entre nodos disminuye."
   ]
  }
 ],
 "metadata": {
  "kernelspec": {
   "display_name": "Python 3",
   "language": "python",
   "name": "python3"
  },
  "language_info": {
   "codemirror_mode": {
    "name": "ipython",
    "version": 3
   },
   "file_extension": ".py",
   "mimetype": "text/x-python",
   "name": "python",
   "nbconvert_exporter": "python",
   "pygments_lexer": "ipython3",
   "version": "3.6.4"
  }
 },
 "nbformat": 4,
 "nbformat_minor": 2
}
