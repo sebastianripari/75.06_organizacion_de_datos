{
 "cells": [
  {
   "cell_type": "markdown",
   "metadata": {},
   "source": [
    "# Clasificacion"
   ]
  },
  {
   "cell_type": "markdown",
   "metadata": {},
   "source": [
    "En esta seccion veremos <b>algortimos de clasificacion</b>, que lo que hacen es clasificar objetos. Si la salida del clasificador son dos opciones posibles, entonces el algoritmo es de clasificacion <b>binaria</b>, en cambio si la salida son mas de dos opciones el algoritmo de de <b>clasificacion multiclase</b>. Para que el algoritmo <b>aprenda</b> a clasificar, debemos entrenarlo con datos, para los cuales conocemos la salida. "
   ]
  },
  {
   "cell_type": "markdown",
   "metadata": {},
   "source": [
    "<hr>"
   ]
  },
  {
   "cell_type": "markdown",
   "metadata": {},
   "source": [
    "## ID3"
   ]
  },
  {
   "cell_type": "markdown",
   "metadata": {},
   "source": [
    "Es un algoritmo de tipo <b>greedy</b> en cual en cada paso realiza el mejor split del set de datos, el split que mayor <b>ganancia de informacion</b> le proporcione. Armando asi un <b>arbol de decision</b>."
   ]
  },
  {
   "cell_type": "markdown",
   "metadata": {},
   "source": [
    "<img src=\"imagenes/arbol_de_decision.png\">"
   ]
  },
  {
   "cell_type": "markdown",
   "metadata": {},
   "source": [
    "Definicion de <b>Ganancia de Informacion</b>:"
   ]
  },
  {
   "cell_type": "markdown",
   "metadata": {},
   "source": [
    "\\begin{equation}\n",
    "\\large GI(S,A) = H(S) - \\sum_{v \\in V(A)}{\\frac{|S_v|}{|S|}H(S_v)}\n",
    "\\end{equation}"
   ]
  },
  {
   "cell_type": "markdown",
   "metadata": {},
   "source": [
    "<b>Hiper-parametros</b>: Ninguno"
   ]
  },
  {
   "cell_type": "markdown",
   "metadata": {},
   "source": [
    "<hr>"
   ]
  },
  {
   "cell_type": "markdown",
   "metadata": {},
   "source": [
    "<b>Ejemplo:</b>"
   ]
  },
  {
   "cell_type": "markdown",
   "metadata": {},
   "source": [
    "candidato | presencia | estudios | experiencia | contratado\n",
    "----------|-----------|----------|-------------|-----------\n",
    "1         | buena     | univ     | alta        | si\n",
    "2         | mala      | univ     | media       | no\n",
    "3         | buena     | sec      | alta        | si\n",
    "4         | mala      | univ     | baja        | no\n",
    "5         | buena     | sec      | media       | si\n",
    "6         | buena     | univ     | media       | si\n",
    "7         | reg       | pri      | baja        | no\n",
    "8         | reg       | univ     | media       | si"
   ]
  },
  {
   "cell_type": "markdown",
   "metadata": {},
   "source": [
    "Como dijimos el algoritmo en cada paso realiza el mejor split del set de datos. Asi que hagamos esto, elijamos cual es el atributo que proporciona mayor <b>ganancia de informacion</b> para saber si el cantidato va a ser contratado o no."
   ]
  },
  {
   "cell_type": "markdown",
   "metadata": {},
   "source": [
    "\\begin{equation}\n",
    "GI(Estudios) = H(Set de Datos) - \\sum \\frac{|S_v|}{|S|} H(Estudios)\n",
    "\\end{equation}\n",
    "\\begin{equation}\n",
    "GI(Presencia) = H(Set de Datos) - \\sum \\frac{|S_v|}{|S|} H(Presencia)\n",
    "\\end{equation}\n",
    "\\begin{equation}\n",
    "GI(Experiencia) = H(Set de Datos) - \\sum \\frac{|S_v|}{|S|} H(Presencia)\n",
    "\\end{equation}"
   ]
  },
  {
   "cell_type": "markdown",
   "metadata": {},
   "source": [
    "Recordar la definicion de <b>entropia</b>:"
   ]
  },
  {
   "cell_type": "markdown",
   "metadata": {},
   "source": [
    "\\begin{equation}\n",
    "\\large H(X) = -\\sum_{i = 1}^n{P_i log_2(P_i)} \n",
    "\\end{equation}"
   ]
  },
  {
   "cell_type": "markdown",
   "metadata": {},
   "source": [
    "<hr>"
   ]
  },
  {
   "cell_type": "markdown",
   "metadata": {},
   "source": [
    "- Entropia del Set:"
   ]
  },
  {
   "cell_type": "markdown",
   "metadata": {},
   "source": [
    "\\begin{equation}\n",
    "\\large H(Set) = - [P_{Contratado} log_2(P_{Contratado}) + P_{No Contratado} log_2(P_{No Contratado})] = 0.9544\n",
    "\\end{equation}"
   ]
  },
  {
   "cell_type": "markdown",
   "metadata": {},
   "source": [
    "\\begin{equation}\n",
    "\\large H(Set) = - [\\frac{5}{8} log_2(\\frac{5}{8}) + \\frac{3}{8} log_2(\\frac{3}{8})] = 0.9544 \\approx 0.95\n",
    "\\end{equation}"
   ]
  },
  {
   "cell_type": "markdown",
   "metadata": {},
   "source": [
    "- Ganancia de Informacion del campo <b>Estudios</b>:"
   ]
  },
  {
   "cell_type": "markdown",
   "metadata": {},
   "source": [
    "\\begin{equation}\n",
    "\\large GI(Set, Estudios) = H(Set) - \\sum_{v \\in V(Estudios)} {\\frac{|S_v|}{|Set|}} H(S_v)\n",
    "\\end{equation}"
   ]
  },
  {
   "cell_type": "markdown",
   "metadata": {},
   "source": [
    "\\begin{equation}\n",
    "GI(Estudios) = 0.95 - [\\frac{5}{8} H[3/5; 2/5] + \\frac{2}{8} H[2/2;0/2] + \\frac{1}{8} H[0/1; 1/1]]\n",
    "\\end{equation}"
   ]
  },
  {
   "cell_type": "markdown",
   "metadata": {},
   "source": [
    "\\begin{equation}\n",
    "GI(Estudios) = 0.95 + [\\frac{5}{8} [\\frac{3}{5} log_2(\\frac{3}{5}) + \\frac{2}{5} log_2(\\frac{2}{5})] + \\frac{2}{8} 0 + \\frac{1}{8} 0]\n",
    "\\end{equation}"
   ]
  },
  {
   "cell_type": "markdown",
   "metadata": {},
   "source": [
    "\\begin{equation}\n",
    "GI(Estudios) = 0.95 + [\\frac{5}{8} [\\frac{3}{5} log_2(\\frac{3}{5}) + \\frac{2}{5} log_2(\\frac{2}{5})]]\n",
    "\\end{equation}"
   ]
  },
  {
   "cell_type": "markdown",
   "metadata": {},
   "source": [
    "\\begin{equation}\n",
    "GI(Estudios) = 0.95 + [\\frac{3}{8} log_2(\\frac{3}{5}) + \\frac{2}{8} log_2(\\frac{2}{5})] = 0.34\n",
    "\\end{equation}"
   ]
  },
  {
   "cell_type": "markdown",
   "metadata": {},
   "source": [
    "- Idem con <b>Presencia</b> y <b>Experiencia</b>:"
   ]
  },
  {
   "cell_type": "markdown",
   "metadata": {},
   "source": [
    "\\begin{equation}\n",
    "GI(Presencia) = 0.70444\n",
    "\\end{equation}\n",
    "\\begin{equation}\n",
    "GI(Experiencia) = 0.5488\n",
    "\\end{equation}"
   ]
  },
  {
   "cell_type": "markdown",
   "metadata": {},
   "source": [
    "El campo que mas proporciona informacion es la presencia por lo tanto ira en la raiz del arbol."
   ]
  },
  {
   "cell_type": "code",
   "execution_count": 2,
   "metadata": {},
   "outputs": [],
   "source": [
    "#                                               PRESENCIA\n",
    "#                                                   |\n",
    "#                               -----------------------------------------\n",
    "#                               |                   |                    |\n",
    "#                             Buena              Regular               Mala\n",
    "#                               |                   |                    |   \n",
    "#                            Y(4,4)           Y(1,2) N(1,2)            N(2,2)"
   ]
  },
  {
   "cell_type": "markdown",
   "metadata": {},
   "source": [
    "Asi que hasta ahora asi queda nuestro arbol. Si la presencia es buena el algoritmo contestara que el candidato sera contratado y si es mala que no sera contratado. Ahora si es regular todabia no sabemos, en nuestro set tenemos dos casos con presencia regular."
   ]
  },
  {
   "cell_type": "markdown",
   "metadata": {},
   "source": [
    "Ahora para seguir por la rama del medio, recortamos el set de datos en solamente los casos que cumplen con la propiedad de ese nodo. Asi que de ocho casos que teniamos solo nos quedamos con dos:"
   ]
  },
  {
   "cell_type": "markdown",
   "metadata": {},
   "source": [
    "candidato | presencia | estudios | experiencia | contratado\n",
    "----------|-----------|----------|-------------|-----------\n",
    "7         | reg       | pri      | baja        | no\n",
    "8         | reg       | univ     | media       | si"
   ]
  },
  {
   "cell_type": "markdown",
   "metadata": {},
   "source": [
    "Y ahora solo resta decidir que campo nos da mas ganancia de informacion, las opciones que tenemos son estudios y experiencia."
   ]
  },
  {
   "cell_type": "markdown",
   "metadata": {},
   "source": [
    "\\begin{equation}\n",
    "GI(Estudios) = H(Set de Datos) - \\sum \\frac{|S_v|}{|S|} H(Estudios)\n",
    "\\end{equation}\n",
    "\\begin{equation}\n",
    "GI(Experiencia) = H(Set de Datos) - \\sum \\frac{|S_v|}{|S|} H(Presencia)\n",
    "\\end{equation}"
   ]
  },
  {
   "cell_type": "markdown",
   "metadata": {},
   "source": [
    "\\begin{equation}\n",
    "H(Set) = -[\\frac{1}{2} log_2(\\frac{1}{2}) + \\frac{1}{2} log_2(\\frac{1}{2})] = 1\n",
    "\\end{equation}"
   ]
  },
  {
   "cell_type": "markdown",
   "metadata": {},
   "source": [
    "Ganancia de Informacion de <b>Estudios</b>:"
   ]
  },
  {
   "cell_type": "markdown",
   "metadata": {},
   "source": [
    "\\begin{equation}\n",
    "GI(Estudios) = 1 - \\sum \\frac{|S_v|}{|S|} H(Estudios)\n",
    "\\end{equation}\n",
    "\\begin{equation}\n",
    "GI(Estudios) = 1 - [\\frac{1}{2} H(1/2;1/2) + \\frac{1}{2} H(1/2;1/2)] = 0\n",
    "\\end{equation}"
   ]
  },
  {
   "cell_type": "markdown",
   "metadata": {},
   "source": [
    "Ganancia de Informacion de <b>Experiencia</b>:"
   ]
  },
  {
   "cell_type": "markdown",
   "metadata": {},
   "source": [
    "\\begin{equation}\n",
    "GI(Experiencia) = 1 - \\sum \\frac{|S_v|}{|S|} H(Experiencia)\n",
    "\\end{equation}\n",
    "\\begin{equation}\n",
    "GI(Experiencia) = 1 - [\\frac{1}{2} H(1/2;1/2) + \\frac{1}{2} H(1/2;1/2)] = 0\n",
    "\\end{equation}"
   ]
  },
  {
   "cell_type": "markdown",
   "metadata": {},
   "source": [
    "Ambos campos nos proporcionan la misma cantidad de informacion asi que podemos elegir cualquiera de los dos."
   ]
  },
  {
   "cell_type": "code",
   "execution_count": 3,
   "metadata": {},
   "outputs": [],
   "source": [
    "#                                               PRESENCIA\n",
    "#                                                   |\n",
    "#                               -----------------------------------------\n",
    "#                               |                   |                    |\n",
    "#                             Buena              Regular               Mala\n",
    "#                               |                   |                    |\n",
    "#                            Y(4,4)             ESTUDIOS               N(2,2)\n",
    "#                                                   |\n",
    "#                                            ---------------\n",
    "#                                            |              |\n",
    "#                                        Primario     Universitario\n",
    "#                                            |              |\n",
    "#                                          N(1,1)         Y(1,1)"
   ]
  },
  {
   "cell_type": "markdown",
   "metadata": {},
   "source": [
    "<hr>"
   ]
  },
  {
   "cell_type": "markdown",
   "metadata": {},
   "source": [
    "## Random Forest"
   ]
  },
  {
   "cell_type": "markdown",
   "metadata": {},
   "source": [
    "El algoritmo de <b>Random Forest</b> crea un conjunto de arboles de decision, un <b>bosque</b>. Cada arbol de este bosque utiliza una cantidad de atributos, no la cantidad total, sino menos atributos, estos son elegidos de forma aleatoria. Cada arbol del bosque lo crea aplicando el mismo metodo que en ID3, es decir realizando los split segun las <b>ganancias de informacion</b>."
   ]
  },
  {
   "cell_type": "markdown",
   "metadata": {},
   "source": [
    "Luego ademas usa <b>Bagging</b> con <b>Bootstrapping</b> para tomar los datos. Recordar que esto es correr el clasificador varias veces con la misma cantidad de datos pero usando repeticion, asi que en cada corrida algunos datos quedan afuera debido a algunos de los que entraron tienen alguna repeticion."
   ]
  },
  {
   "cell_type": "markdown",
   "metadata": {},
   "source": [
    "En el <b>entrenamiento</b> del algoritmo se construira el bosque. Pero luego al momento de usarlo cada uno de los arboles clasificara de una menera diferente y la respuesta final sera la respuesta mas elegida, es la misma idea que las votaciones presidenciales por ejemplo. A esto se lo denomina <b>Majority Voting</b>."
   ]
  },
  {
   "cell_type": "markdown",
   "metadata": {},
   "source": [
    "<b>Hiper-parametros</b>: \n",
    "- Cantidad de arboles a crear.\n",
    "- Cantidad de atributos en cada uno."
   ]
  },
  {
   "cell_type": "markdown",
   "metadata": {},
   "source": [
    "<hr>"
   ]
  },
  {
   "cell_type": "markdown",
   "metadata": {},
   "source": [
    "<b>Ejemplo</b>:"
   ]
  },
  {
   "cell_type": "markdown",
   "metadata": {},
   "source": [
    "<b>Datos</b>: 1, 2, 3, 4, 5 <br>\n",
    "<b>Atributos</b>: A,B,C <br>\n",
    "<br>\n",
    "<b>Cantidad de Arboles</b>: 4 <br>\n",
    "<b>Cantidad de Atributos en cada arbol</b>: 2"
   ]
  },
  {
   "cell_type": "markdown",
   "metadata": {},
   "source": [
    "<img src=\"imagenes/ejemplo_random_forest.png\">"
   ]
  },
  {
   "cell_type": "markdown",
   "metadata": {},
   "source": [
    "<hr>"
   ]
  },
  {
   "cell_type": "markdown",
   "metadata": {},
   "source": [
    "## XGBoost"
   ]
  },
  {
   "cell_type": "markdown",
   "metadata": {},
   "source": [
    "Este algoritmo es Random Forest con una diferencia. En Random Forest, los arboles generados son independientes, es decir, uno no depende para nada del otro. En cambio en XGBoost no es asi, luego de la generacion del primer arbol, se procede a ver que tan bien clasifico, y el algoritmo mira en que casos clasifico mal, para decirle al siguiente arbol que se enfoque en esas clasificaciones que fallo. Y asi sucesivamente con el tercer, cuarto ... n arbol."
   ]
  },
  {
   "cell_type": "markdown",
   "metadata": {},
   "source": [
    "<hr>"
   ]
  },
  {
   "cell_type": "markdown",
   "metadata": {},
   "source": [
    "## Naive Bayes"
   ]
  },
  {
   "cell_type": "markdown",
   "metadata": {},
   "source": [
    "Este algoritmo esta basado en el <b>Teorema de Bayes</b>."
   ]
  },
  {
   "cell_type": "markdown",
   "metadata": {},
   "source": [
    "<b>Hiper-parametros</b>: Ninguno."
   ]
  },
  {
   "cell_type": "markdown",
   "metadata": {},
   "source": [
    "<b>Teorema de Bayes</b>: "
   ]
  },
  {
   "cell_type": "markdown",
   "metadata": {},
   "source": [
    "\\begin{equation}\n",
    "\\large P(A|B) = \\frac{P(B|A)P(A)}{P(B)}\n",
    "\\end{equation}"
   ]
  },
  {
   "cell_type": "markdown",
   "metadata": {},
   "source": [
    "Usando esto mismo podemos calcular la probabilidad de una clase para cierto documento."
   ]
  },
  {
   "cell_type": "markdown",
   "metadata": {},
   "source": [
    "\\begin{equation}\n",
    "\\large P(Clase|D) = \\frac{P(Clase)P(D|Clase)}{P(D)}\n",
    "\\end{equation}"
   ]
  },
  {
   "cell_type": "markdown",
   "metadata": {},
   "source": [
    "\\begin{equation}\n",
    "\\large P(D|Clase) = \\prod_{w_i \\in D}{P(w_i|Clase)}\n",
    "\\end{equation}"
   ]
  },
  {
   "cell_type": "markdown",
   "metadata": {},
   "source": [
    "<hr>"
   ]
  },
  {
   "cell_type": "markdown",
   "metadata": {},
   "source": [
    "<b>Ejemplo</b>:"
   ]
  },
  {
   "cell_type": "markdown",
   "metadata": {},
   "source": [
    "Clasificar el documento: D = deporte, equipo, caballo."
   ]
  },
  {
   "cell_type": "markdown",
   "metadata": {},
   "source": [
    "<b>Clases</b>: \n",
    "- Futbol\n",
    "- Polo\n",
    "- Ajedrez"
   ]
  },
  {
   "cell_type": "markdown",
   "metadata": {},
   "source": [
    "<b>Documentos</b>:\n",
    "- D1 (polo)    = pelota equipo caballo handicap equipo\n",
    "- D2 (ajedrez) = jaque caballo elo\n",
    "- D3 (futbol)  = pelota equipo foul deporte pelota\n",
    "- D4 (ajedrez) = deporte equipo elo\n",
    "- D5 (futbol)  = foul pelota equipo pelota\n",
    "- D6 (futbol)  = deporte pelota pelota\n",
    "- D7 (polo)    = caballo foul caballo deporte\n",
    "- D8 (futbol)  = caballo foul foul"
   ]
  },
  {
   "cell_type": "markdown",
   "metadata": {},
   "source": [
    "\\begin{equation}\n",
    "P(Futbol|D) = \\frac{P(Futbol)P(D|Futbol))}{P(D)}\n",
    "\\end{equation}"
   ]
  },
  {
   "cell_type": "markdown",
   "metadata": {},
   "source": [
    "\\begin{equation}\n",
    "P(Futbol) = \\frac{4}{8} = \\frac{1}{2}\n",
    "\\end{equation}"
   ]
  },
  {
   "cell_type": "markdown",
   "metadata": {},
   "source": [
    "<b>P(D|Futbol)</b>: Probabilidad de que ocurra el documento D, dado que es de clase Futbol. Es equivalente a pedir que ocurra cada una de las palabras del documento D dado que es de clase Futbol."
   ]
  },
  {
   "cell_type": "markdown",
   "metadata": {},
   "source": [
    "\\begin{equation}\n",
    "P(D|Futbol) = P(deporte|Futbol) P(equipo|Futbol) P(caballo|Futbol) \n",
    "\\end{equation}"
   ]
  },
  {
   "cell_type": "markdown",
   "metadata": {},
   "source": [
    "Palabra | Cantidad de veces que se repite\n",
    "---------|---------------------------\n",
    "pelota |6\n",
    "equipo |2\n",
    "foul | 4\n",
    "deporte |2\n",
    "caballo |1\n",
    "total|15"
   ]
  },
  {
   "cell_type": "markdown",
   "metadata": {},
   "source": [
    "<b>Observacion</b>: Para evitar que sea 0 sumamos 1 en el numerador y la cantidad de palabras diferentes en el denominador."
   ]
  },
  {
   "cell_type": "markdown",
   "metadata": {},
   "source": [
    "\\begin{equation}\n",
    "P(D|Futbol) = \\frac{2+1}{15+8}  \\frac{2+1}{15+8}  \\frac{1+1}{15+8} = 0.00148\n",
    "\\end{equation}"
   ]
  },
  {
   "cell_type": "markdown",
   "metadata": {},
   "source": [
    "\\begin{equation}\n",
    "P(Futbol|D) = \\frac{0.5 * 0.00148}{P(D)} = \\frac{0.00074}{P(D)}\n",
    "\\end{equation}"
   ]
  },
  {
   "cell_type": "markdown",
   "metadata": {},
   "source": [
    "<b>Idem</b> para Polo y Ajedrez:"
   ]
  },
  {
   "cell_type": "markdown",
   "metadata": {},
   "source": [
    "\\begin{equation}\n",
    "P(Ajedrez|D) = \\frac{0.000725}{P(D)}\n",
    "\\end{equation}"
   ]
  },
  {
   "cell_type": "markdown",
   "metadata": {},
   "source": [
    "\\begin{equation}\n",
    "P(Polo|D) = \\frac{0.0012}{P(D)}\n",
    "\\end{equation}"
   ]
  },
  {
   "cell_type": "markdown",
   "metadata": {},
   "source": [
    "Comparando los resultados vemos como el algoritmo de Bayes le asigna una mayor probabilidad a que el documento sea Polo. <b>Por lo tanto el algoritmo clasifica el documento como Polo</b>."
   ]
  },
  {
   "cell_type": "markdown",
   "metadata": {},
   "source": [
    "<hr>"
   ]
  },
  {
   "cell_type": "markdown",
   "metadata": {},
   "source": [
    "# Perceptron"
   ]
  },
  {
   "cell_type": "markdown",
   "metadata": {},
   "source": [
    "Es un algoritmo de clasifiacion <b>lineal</b>."
   ]
  },
  {
   "cell_type": "markdown",
   "metadata": {},
   "source": [
    "<img src=\"imagenes/clasificacion_lineal.png\">"
   ]
  },
  {
   "cell_type": "markdown",
   "metadata": {},
   "source": [
    " Este algoritmo surge a fines de la decada del 50 y fue desarrollado por Frank Rosenblantt. En aquel entonces se buscaba crear un algoritmo que imitara el funcionamiento del cerebro humano. La teoria era que una neurona podia programarse como una salida binaria que dependia del resultado de la combinacion lineal entre los inputs y pesos asignados a los mismos. La neurona respondia 0 o 1 segun el resultado de la combinacion lineal fuese mayor o menor a un cierto umbral."
   ]
  },
  {
   "cell_type": "markdown",
   "metadata": {},
   "source": [
    "<img src=\"imagenes/perceptron.png\">"
   ]
  },
  {
   "cell_type": "markdown",
   "metadata": {},
   "source": [
    "Como se aprecia en la imagen, recibe un input X, y se prodece a multiplicarlo con los pesos de cada input, luego pasa por una funcion de activacion que toma este producto y determina si supera el umbral para debolver 1 o 0, tambien puede ser 1 o -1."
   ]
  },
  {
   "cell_type": "markdown",
   "metadata": {},
   "source": [
    "Cuando se lo entrena a este algoritmo, lo que sucede es que va determinando los diferentes pesos (w) que son adecuados para cada valor de entrada. "
   ]
  },
  {
   "cell_type": "markdown",
   "metadata": {},
   "source": [
    "<hr>"
   ]
  },
  {
   "cell_type": "markdown",
   "metadata": {},
   "source": [
    "## Support Vector Machines (SVM) "
   ]
  },
  {
   "cell_type": "markdown",
   "metadata": {},
   "source": [
    "Este es otro algoritmo de clasificacion <b>lineal</b>. Asi como Perceptron. La diferencia es que en Perceptron buscabamos un hiperplano que separe las clases, el cual este no podia ser el que mejor lo haga. En SVM nos enfocamos en buscar el MEJOR hiperplano que separe las clases. Maximiza el margen entre las clases. Es decir logra la maxima separacion entre las clases."
   ]
  },
  {
   "cell_type": "markdown",
   "metadata": {},
   "source": [
    "<img src=\"imagenes/separacion_clases.png\">"
   ]
  }
 ],
 "metadata": {
  "kernelspec": {
   "display_name": "Python 3",
   "language": "python",
   "name": "python3"
  },
  "language_info": {
   "codemirror_mode": {
    "name": "ipython",
    "version": 3
   },
   "file_extension": ".py",
   "mimetype": "text/x-python",
   "name": "python",
   "nbconvert_exporter": "python",
   "pygments_lexer": "ipython3",
   "version": "3.6.4"
  }
 },
 "nbformat": 4,
 "nbformat_minor": 2
}
