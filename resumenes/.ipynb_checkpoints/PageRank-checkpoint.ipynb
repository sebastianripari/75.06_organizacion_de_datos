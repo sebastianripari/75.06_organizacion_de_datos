{
 "cells": [
  {
   "cell_type": "markdown",
   "metadata": {},
   "source": [
    "# Page Rank"
   ]
  },
  {
   "cell_type": "markdown",
   "metadata": {},
   "source": [
    "Este algoritmo es el que le logro ganar la carrera a los spammers. En el pasado ocurria que cuando realizabamos una busqueda, podian aparecer paginas spam, debido a que estas contenian contenido robado de otras paginas que eran relevantes o tenian repeticiones de palabras comunes como \"peliculas\" millones de veces de forma oculta, entonces lograban rankear en los proximeros puestos de google, esto es porque la busqueda solo se basaba en el contenido de la pagina. Todabia en ese entonces no existia el que ahora vamos a ver, algoritmo de <b>Page Rank</b>."
   ]
  },
  {
   "cell_type": "markdown",
   "metadata": {},
   "source": [
    "La idea de Page Rank es asombrosamente perfecta, y a su vez es realmente simple. Que es lo que determina si una pagina es mas importante, relevante que otra. Bueno, el algoritmo consiste en principio comenzar en una pagina cualquiera, al igual que un usuario, y saltar mediante un link de esta hacia otra pagina, y asi sucecibamente va saltando de pagina en pagina, hace <b>infinitos</b> saltos y se detiene, cuando se detiene el algoritmo pondera esta pagina como relevante. Obviamente este procedimiento lo hace muchas veces. Y luego con los resultados de donde termino cada vez realiza el rankeo de las paginas."
   ]
  },
  {
   "cell_type": "markdown",
   "metadata": {},
   "source": [
    "## Spider  Traps y Teletransportacion"
   ]
  },
  {
   "cell_type": "markdown",
   "metadata": {},
   "source": [
    "Sin embargo, los spammers podrian crear una pagina spam que tenga un solo link hacia otra pagina spam, y esta un solo link que lo lleve devuelta a la primera pagina spam. Esto haria que el algoritmo cuando caiga en una de estas dos paginas quede loopeando infinitamente y termine muriendo en una de estas dos, a esto se le llama <b>Spider Trap</b>. Esto haria que el algoritmo PageRank caiga en el error de decir que son paginas relevantes cuando ambas son spam. Por lo tanto hubo que agregarle una mejora al algoritmo para solventar esto. Que lo denominaron <b>Teletransportacion</b>. La idea de teletransportacion es sumamente sencilla, cuando el algoritmo se encuentra en cierta pagina, va a tomar dos caminos, o sigue hacia un link de esta pagina o se teletransporta hacia cualquier otra pagina cualquiera. Entonces por cada paso con probabilidad $\\beta$ el algoritmo sigue como siempre, y con probabilidad $1 - \\beta$ el <b>spider</b> se teletransporta. Esto evita que quede loopeando en una <b>spider trap</b>."
   ]
  },
  {
   "cell_type": "markdown",
   "metadata": {},
   "source": [
    "## Matematica del Page Rank"
   ]
  },
  {
   "cell_type": "markdown",
   "metadata": {},
   "source": [
    "En esta seccion se mostrara reflejada toda la cuestion de los saltos que se vio arriba usando la matematica, que a fin de cuentas es lo que utiliza el algoritmo."
   ]
  },
  {
   "cell_type": "markdown",
   "metadata": {},
   "source": [
    "Supongamos que todo nuestro universo de paginas Web es el del grafo de abajo. Es decir tenemos 3 paginas web. Y cada aristas son los links. La probabilidad de cada arista es 1 dividido la cantidad de links que tenga la pagina. El siguiente grafo se llama la <b>Cadena de Markov</b>."
   ]
  },
  {
   "cell_type": "markdown",
   "metadata": {},
   "source": [
    "<img src=\"imagenes/A_B_C.png\">"
   ]
  },
  {
   "cell_type": "markdown",
   "metadata": {},
   "source": [
    "Y a partir de esta creamos la siguiente matriz:"
   ]
  },
  {
   "cell_type": "markdown",
   "metadata": {},
   "source": [
    "\\begin{equation}\n",
    "A = \\begin{bmatrix}\n",
    "    0   & 1 & 0 \\\\\n",
    "    1/2 & 0 & 1 \\\\\n",
    "    1/2 & 0 & 0 \n",
    "    \\end{bmatrix}\n",
    "\\end{equation}"
   ]
  },
  {
   "cell_type": "markdown",
   "metadata": {},
   "source": [
    "Luego multiplicamos la matriz <b>A</b> por las probabilidades de haber caido en cualquiera de esas paginas:"
   ]
  },
  {
   "cell_type": "markdown",
   "metadata": {},
   "source": [
    "\\begin{equation}\n",
    "    \\begin{bmatrix}\n",
    "    0   & 1 & 0 \\\\\n",
    "    1/2 & 0 & 1 \\\\\n",
    "    1/2 & 0 & 0 \n",
    "    \\end{bmatrix}\n",
    "    \\begin{bmatrix}\n",
    "    1/3 \\\\\n",
    "    1/3 \\\\\n",
    "    1/3 \n",
    "    \\end{bmatrix}\n",
    "    = \n",
    "    \\begin{bmatrix}\n",
    "    1/3 \\\\\n",
    "    1/2 \\\\\n",
    "    1/6 \n",
    "    \\end{bmatrix}\n",
    "\\end{equation}"
   ]
  },
  {
   "cell_type": "markdown",
   "metadata": {},
   "source": [
    "Asi que esto lo que nos dice es que <b>luego de 1 salto</b> la probabilidad de caer en A es 1/3 la de B 1/2 y la de C 1/6."
   ]
  },
  {
   "cell_type": "markdown",
   "metadata": {},
   "source": [
    "Si a este resultado lo volvemos a multiplicar por la matriz A:"
   ]
  },
  {
   "cell_type": "markdown",
   "metadata": {},
   "source": [
    "\\begin{equation}\n",
    "    \\begin{bmatrix}\n",
    "    0   & 1 & 0 \\\\\n",
    "    1/2 & 0 & 1 \\\\\n",
    "    1/2 & 0 & 0 \n",
    "    \\end{bmatrix}\n",
    "    \\begin{bmatrix}\n",
    "    1/3 \\\\\n",
    "    1/2 \\\\\n",
    "    1/6 \n",
    "    \\end{bmatrix}\n",
    "    = \n",
    "    \\begin{bmatrix}\n",
    "    1/2 \\\\\n",
    "    1/3 \\\\\n",
    "    1/6 \n",
    "    \\end{bmatrix}\n",
    "\\end{equation}"
   ]
  },
  {
   "cell_type": "markdown",
   "metadata": {},
   "source": [
    "Nos dice que luego <b>de dos saltos</b> la probabilidad de caer en A es 1/2 la de B 1/3 y la de C 1/6."
   ]
  },
  {
   "cell_type": "markdown",
   "metadata": {},
   "source": [
    "Asi sucesivamente el algoritmo hace este producto infinitas veces hasta que llega a que la probabilidad de A es 0.4 la de B es 0.4 y la de C es 0.2. "
   ]
  },
  {
   "cell_type": "markdown",
   "metadata": {},
   "source": [
    "### Convergencia"
   ]
  },
  {
   "cell_type": "markdown",
   "metadata": {},
   "source": [
    "Vemos que llegamos finalmente a los valores finales, es el vector [0.4,0.4,0.2]. Luego de cierta cantidad producto de matrices como la que se vio arriba se llegan a esos valores. Y es intersante observar que cuando hacemos nuevamente el producto de la matriz A por ese vector. Da como resultado el mismo vector. Por lo tanto tenemos una <b>convergencia</b>. "
   ]
  },
  {
   "cell_type": "markdown",
   "metadata": {},
   "source": [
    "\\begin{equation}\n",
    "    \\begin{bmatrix}\n",
    "    0   & 1 & 0 \\\\\n",
    "    1/2 & 0 & 1 \\\\\n",
    "    1/2 & 0 & 0 \n",
    "    \\end{bmatrix}\n",
    "    \\begin{bmatrix}\n",
    "    0.4 \\\\\n",
    "    0.4 \\\\\n",
    "    0.2 \n",
    "    \\end{bmatrix}\n",
    "    = \n",
    "    \\begin{bmatrix}\n",
    "    0.4 \\\\\n",
    "    0.4 \\\\\n",
    "    0.2 \n",
    "    \\end{bmatrix}\n",
    "\\end{equation}"
   ]
  },
  {
   "cell_type": "markdown",
   "metadata": {},
   "source": [
    "Esto es realmente bueno, ahora sabemos que el metodo <b>converge</b> esto es clave, sino no terminaria nunca. El porque converge es porque la matriz A es <b>estocastica</b>. Y las matrices estocasticas tienen un autovalor que vale 1 entonces. Se cumple que existe un vector que:"
   ]
  },
  {
   "cell_type": "markdown",
   "metadata": {},
   "source": [
    "\\begin{equation}\n",
    "\\large A v = v\n",
    "\\end{equation}"
   ]
  },
  {
   "cell_type": "markdown",
   "metadata": {},
   "source": [
    "Recordar que una <b>matriz estocastica</b> es aquella que todas sus filas o columnas suman 1."
   ]
  },
  {
   "cell_type": "markdown",
   "metadata": {},
   "source": [
    "### Ejemplo con Teletransportacion"
   ]
  },
  {
   "cell_type": "markdown",
   "metadata": {},
   "source": [
    "Cadena de Markov:"
   ]
  },
  {
   "cell_type": "markdown",
   "metadata": {},
   "source": [
    "<img src=\"imagenes/cadena_de_markov_con_spider_trap.png\">"
   ]
  },
  {
   "cell_type": "markdown",
   "metadata": {},
   "source": [
    "Matriz que se desprende de la cadena de Markov:"
   ]
  },
  {
   "cell_type": "markdown",
   "metadata": {},
   "source": [
    "\\begin{equation}\n",
    "A = \n",
    "\\begin{bmatrix}\n",
    "0 & 1/2 & 0 & 0 & 0 \\\\\n",
    "0 & 0 & 1 & 0 & 0 \\\\\n",
    "1/2 & 0 & 0 & 0 & 0 \\\\\n",
    "1/2 & 1/2 & 0 & 0 & 1 \\\\\n",
    "0 & 0 & 0 & 1 & 0 \n",
    "\\end{bmatrix}\n",
    "\\end{equation}"
   ]
  },
  {
   "cell_type": "markdown",
   "metadata": {},
   "source": [
    "Ahora le agregamos la <b>teletransportacion</b>:"
   ]
  },
  {
   "cell_type": "markdown",
   "metadata": {},
   "source": [
    "\\begin{equation}\n",
    "A = \\beta \n",
    "\\begin{bmatrix}\n",
    "0 & 1/2 & 0 & 0 & 0 \\\\\n",
    "0 & 0 & 1 & 0 & 0 \\\\\n",
    "1/2 & 0 & 0 & 0 & 0 \\\\\n",
    "1/2 & 1/2 & 0 & 0 & 1 \\\\\n",
    "0 & 0 & 0 & 1 & 0 \n",
    "\\end{bmatrix}\n",
    "+ (1 - \\beta)\n",
    "\\begin{bmatrix}\n",
    "1/5 & 1/5 & 1/5 & 1/5 & 1/5 \\\\\n",
    "1/5 & 1/5 & 1/5 & 1/5 & 1/5 \\\\\n",
    "1/5 & 1/5 & 1/5 & 1/5 & 1/5 \\\\\n",
    "1/5 & 1/5 & 1/5 & 1/5 & 1/5 \\\\\n",
    "1/5 & 1/5 & 1/5 & 1/5 & 1/5 \n",
    "\\end{bmatrix}\n",
    "\\end{equation}"
   ]
  },
  {
   "cell_type": "markdown",
   "metadata": {},
   "source": [
    "## Dead Ends"
   ]
  },
  {
   "cell_type": "markdown",
   "metadata": {},
   "source": [
    "Un Dead End es una pagina que no tiene links hacia otras paginas entonces un <b>spider</b> quedaria atrapado y por lo tanto haria que esta pagina sea relevante. Asi que lo que hace el algoritmo para solventar esto es agregar links a esta pagina, agrega un link por cada pagina que existe, para que la probabilidad de cada una sea la misma. "
   ]
  },
  {
   "cell_type": "markdown",
   "metadata": {},
   "source": [
    "Ahora miremos este mismo problema, por el lado matematico. Cuando una pagina no tiene links entonces la matriz que se desprende de la cadena de Markov va a tener una columna que esta llena de ceros. Por lo tanto esta matriz no es estocastica. Y nosotros habiamos pedido que la matriz sea estocastica para que converja."
   ]
  },
  {
   "cell_type": "markdown",
   "metadata": {},
   "source": [
    "## Topic Rank"
   ]
  },
  {
   "cell_type": "markdown",
   "metadata": {},
   "source": [
    "Es una variante de <b>teletransportacion</b>. Lo que cambia es que la teletransportacion es hacia paginas que tengan el <b>topic</b> que querramos. "
   ]
  },
  {
   "cell_type": "markdown",
   "metadata": {},
   "source": [
    "<b>Ejemplo</b> teletransportacion comun: "
   ]
  },
  {
   "cell_type": "markdown",
   "metadata": {},
   "source": [
    "<img src=\"imagenes/topic_rank_1.png\">"
   ]
  },
  {
   "cell_type": "markdown",
   "metadata": {},
   "source": [
    "\\begin{equation}\n",
    "r = \\beta \\begin{bmatrix}\n",
    "    0 & 1/2 & 0 & 0 \\\\\n",
    "    0 & 0 & 1 & 1 \\\\\n",
    "    1/2 & 1/2 & 0 & 0 \\\\\n",
    "    1/2 & 0 & 0 & 0\n",
    "    \\end{bmatrix}\n",
    "    + (1 - \\beta) \\begin{bmatrix}\n",
    "    1/4 & 1/4 & 1/4 & 1/4 \\\\\n",
    "    1/4 & 1/4 & 1/4 & 1/4 \\\\\n",
    "    1/4 & 1/4 & 1/4 & 1/4 \\\\\n",
    "    1/4 & 1/4 & 1/4 & 1/4\n",
    "    \\end{bmatrix}\n",
    "\\end{equation}"
   ]
  },
  {
   "cell_type": "markdown",
   "metadata": {},
   "source": [
    "<b>Ejemplo ahora si usando <b>Topic Rank</b>:"
   ]
  },
  {
   "cell_type": "markdown",
   "metadata": {},
   "source": [
    "<img src=\"imagenes/topic_rank_2.png\">"
   ]
  },
  {
   "cell_type": "markdown",
   "metadata": {},
   "source": [
    "\\begin{equation}\n",
    "r = \\beta \\begin{bmatrix}\n",
    "    0 & 1/2 & 0 & 0 \\\\\n",
    "    0 & 0 & 1 & 1 \\\\\n",
    "    1/2 & 1/2 & 0 & 0 \\\\\n",
    "    1/2 & 0 & 0 & 0\n",
    "    \\end{bmatrix}\n",
    "    + (1 - \\beta) \\begin{bmatrix}\n",
    "    1/2 & 1/2 & 1/2 & 1/2 \\\\\n",
    "    0 & 0 & 0 & 0 \\\\\n",
    "    0 & 0 & 0 & 0 \\\\\n",
    "    1/2 & 1/2 & 1/2 & 1/2\n",
    "    \\end{bmatrix}\n",
    "\\end{equation}"
   ]
  }
 ],
 "metadata": {
  "kernelspec": {
   "display_name": "Python 3",
   "language": "python",
   "name": "python3"
  },
  "language_info": {
   "codemirror_mode": {
    "name": "ipython",
    "version": 3
   },
   "file_extension": ".py",
   "mimetype": "text/x-python",
   "name": "python",
   "nbconvert_exporter": "python",
   "pygments_lexer": "ipython3",
   "version": "3.6.4"
  }
 },
 "nbformat": 4,
 "nbformat_minor": 2
}
