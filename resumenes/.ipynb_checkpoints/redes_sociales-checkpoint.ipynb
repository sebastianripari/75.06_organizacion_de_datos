{
 "cells": [
  {
   "cell_type": "markdown",
   "metadata": {},
   "source": [
    "# Redes Sociales"
   ]
  },
  {
   "cell_type": "markdown",
   "metadata": {},
   "source": [
    "Una <b>red social</b> es un grafo, donde los <b>nodos</b> son los <b>usuarios</b> y las <b>aristas</b> son las relaciones entre ellos. Estas pueden ser <b>direccionales</b> como en el caso de <b>Twitter</b> donde un usuario puede seguir a otro pero este no lo sigue. En cambio en <b>Facebook</b> las relaciones no tienen direccion."
   ]
  },
  {
   "cell_type": "markdown",
   "metadata": {},
   "source": [
    "<hr>"
   ]
  },
  {
   "cell_type": "markdown",
   "metadata": {},
   "source": [
    "## Propiedades de los Grafos"
   ]
  },
  {
   "cell_type": "markdown",
   "metadata": {},
   "source": [
    "### Propiedades Basicas"
   ]
  },
  {
   "cell_type": "markdown",
   "metadata": {},
   "source": [
    "- Se llama <b>N</b> a la cantidad de <b>nodos</b> del grafo.\n",
    "- Se llama <b>E</b> a la cantidad de <b>aristas</b> del grafo.\n",
    "- Se llama $\\bf k_i$ al <b>grado</b> de cada nodo.\n",
    "- Se llama <b>k</b> al <b>grado</b> promedio de cada nodo."
   ]
  },
  {
   "cell_type": "markdown",
   "metadata": {},
   "source": [
    "Si el grafo es no dirigido entonces $k = \\frac{2E}{N}$"
   ]
  },
  {
   "cell_type": "markdown",
   "metadata": {},
   "source": [
    "Un grafo <b>completo</b> es aquel que tiene todas sus aristas, en un grafo no dirigido esto quiere decir <b>k = N - 1</b>"
   ]
  },
  {
   "cell_type": "markdown",
   "metadata": {},
   "source": [
    "### Almacenamiento de un Grafo"
   ]
  },
  {
   "cell_type": "markdown",
   "metadata": {},
   "source": [
    "La forma optima de almacenar un grafo es guardando por cada nodo la lista de <b>adyacencias</b>. "
   ]
  },
  {
   "cell_type": "markdown",
   "metadata": {},
   "source": [
    "### Componentes Conexos"
   ]
  },
  {
   "cell_type": "markdown",
   "metadata": {},
   "source": [
    "Generalmente el grafo de una red social es conexo. El porque de esto es porque en un grafo con muchos nodos, supogamos que existen dos componentes conexas. En el momento de una nueva arista es muy probable que conecte estos dos componentes conexos."
   ]
  },
  {
   "cell_type": "markdown",
   "metadata": {},
   "source": [
    "### Diametro"
   ]
  },
  {
   "cell_type": "markdown",
   "metadata": {},
   "source": [
    "El <b>diametro</b> de un grafo es la cantidad maxima de aristas que tenemos que visitar para llegar de un lado del grafo al otro. Las Redes Sociales tienen un diametro muy bajo, lo cual da origen al fenomeno del <b>mundo pequenio</b>: los famosos 6 grados de separacion."
   ]
  },
  {
   "cell_type": "markdown",
   "metadata": {},
   "source": [
    "### Coeficiente de Clustering"
   ]
  },
  {
   "cell_type": "markdown",
   "metadata": {},
   "source": [
    "El <b>coeficiente de clustering</b> mide que tan conectados estan los <b>vecinos</b> de un nodo."
   ]
  },
  {
   "cell_type": "markdown",
   "metadata": {},
   "source": [
    "\\begin{equation}\n",
    "\\large C_i = \\frac{2 e_i}{k_i (k_i - 1)}\n",
    "\\end{equation}"
   ]
  },
  {
   "cell_type": "markdown",
   "metadata": {},
   "source": [
    "Donde $e_i$ es la cantidad de aristas entre los vecinos del nodo <b>i</b>."
   ]
  },
  {
   "cell_type": "markdown",
   "metadata": {},
   "source": [
    "<b>Observacion: </b>En una red social el coeficiente de clustering es en general un numero alto. Ya que los vecinos de un nodo tienden a estar conectados entre si precisamente por tener en comun su relacion con ese nodo."
   ]
  },
  {
   "cell_type": "markdown",
   "metadata": {},
   "source": [
    "#### Coeficiente de Clustering promedio de la red"
   ]
  },
  {
   "cell_type": "markdown",
   "metadata": {},
   "source": [
    "\\begin{equation}\n",
    "\\large C = \\frac{\\sum_i c_i}{N} \n",
    "\\end{equation}"
   ]
  },
  {
   "cell_type": "markdown",
   "metadata": {},
   "source": [
    "<hr>"
   ]
  },
  {
   "cell_type": "markdown",
   "metadata": {},
   "source": [
    "## Modelos de Grafos"
   ]
  },
  {
   "cell_type": "markdown",
   "metadata": {},
   "source": [
    "Caracteristicas de un grafo en una red social:\n",
    "- Diametro: Muy pequenio\n",
    "- Coeficiente de Clustering: Muy alto\n",
    "- Componentes Conexos: 1\n",
    "- Distribucion del Grado: Power Law\n",
    "- Camino minimo promedio: Bajo"
   ]
  },
  {
   "cell_type": "markdown",
   "metadata": {},
   "source": [
    "La <b>cuestion</b> es, dado un grafo como podemos saber cuando estos valores son altos o bajos. La <b>respuesta</b> es <b>comparandolos</b> con cierto <b>modelo</b> de grafo con la misma cantidad de <b>nodos</b>. "
   ]
  },
  {
   "cell_type": "code",
   "execution_count": null,
   "metadata": {},
   "outputs": [],
   "source": []
  }
 ],
 "metadata": {
  "kernelspec": {
   "display_name": "Python 3",
   "language": "python",
   "name": "python3"
  },
  "language_info": {
   "codemirror_mode": {
    "name": "ipython",
    "version": 3
   },
   "file_extension": ".py",
   "mimetype": "text/x-python",
   "name": "python",
   "nbconvert_exporter": "python",
   "pygments_lexer": "ipython3",
   "version": "3.6.4"
  }
 },
 "nbformat": 4,
 "nbformat_minor": 2
}
