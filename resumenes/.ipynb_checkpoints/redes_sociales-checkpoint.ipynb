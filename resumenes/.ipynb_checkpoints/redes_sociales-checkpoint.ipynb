{
 "cells": [
  {
   "cell_type": "markdown",
   "metadata": {},
   "source": [
    "# Redes Sociales"
   ]
  },
  {
   "cell_type": "markdown",
   "metadata": {},
   "source": [
    "Una <b>red social</b> es un grafo, donde los <b>nodos</b> son los <b>usuarios</b> y las <b>aristas</b> son las relaciones entre ellos. Estas pueden ser <b>direccionales</b> como en el caso de <b>Twitter</b> donde un usuario puede seguir a otro pero este no lo sigue. En cambio en <b>Facebook</b> las relaciones no tienen direccion."
   ]
  },
  {
   "cell_type": "markdown",
   "metadata": {},
   "source": [
    "<hr>"
   ]
  },
  {
   "cell_type": "markdown",
   "metadata": {},
   "source": [
    "## Propiedades de los Grafos"
   ]
  },
  {
   "cell_type": "markdown",
   "metadata": {},
   "source": [
    "### Propiedades Basicas"
   ]
  },
  {
   "cell_type": "markdown",
   "metadata": {},
   "source": [
    "- Se llama <b>N</b> a la cantidad de <b>nodos</b> del grafo.\n",
    "- Se llama <b>E</b> a la cantidad de <b>aristas</b> del grafo.\n",
    "- Se llama $\\bf k_i$ al <b>grado</b> de cada nodo.\n",
    "- Se llama <b>k</b> al <b>grado</b> promedio de cada nodo."
   ]
  },
  {
   "cell_type": "markdown",
   "metadata": {},
   "source": [
    "Si el grafo es no dirigido entonces $k = \\frac{2E}{N}$"
   ]
  },
  {
   "cell_type": "markdown",
   "metadata": {},
   "source": [
    "Un grafo <b>completo</b> es aquel que tiene todas sus aristas, en un grafo no dirigido esto quiere decir <b>k = N - 1</b>"
   ]
  },
  {
   "cell_type": "markdown",
   "metadata": {},
   "source": [
    "### Almacenamiento de un Grafo"
   ]
  },
  {
   "cell_type": "markdown",
   "metadata": {},
   "source": [
    "La forma optima de almacenar un grafo es guardando por cada nodo la lista de <b>adyacencias</b>. "
   ]
  },
  {
   "cell_type": "markdown",
   "metadata": {},
   "source": [
    "### Componentes Conexos"
   ]
  },
  {
   "cell_type": "markdown",
   "metadata": {},
   "source": [
    "Generalmente el grafo de una red social es conexo. El porque de esto es porque en un grafo con muchos nodos, supogamos que existen dos componentes conexas. En el momento de una nueva arista es muy probable que conecte estos dos componentes conexos."
   ]
  },
  {
   "cell_type": "markdown",
   "metadata": {},
   "source": [
    "### Diametro"
   ]
  },
  {
   "cell_type": "markdown",
   "metadata": {},
   "source": [
    "En un grafo, la <b>distancia</b> entre dos vértices es el menor número de aristas de un recorrido entre ellos. El <b>diámetro</b> es la mayor distancia entre todos los pares de nodos. Las Redes Sociales tienen un diametro muy bajo, lo cual da origen al fenomeno del <b>mundo pequenio</b>: los famosos 6 grados de separacion."
   ]
  },
  {
   "cell_type": "markdown",
   "metadata": {},
   "source": [
    "### Coeficiente de Clustering"
   ]
  },
  {
   "cell_type": "markdown",
   "metadata": {},
   "source": [
    "El <b>coeficiente de clustering</b> mide que tan conectados estan los <b>vecinos</b> de un nodo."
   ]
  },
  {
   "cell_type": "markdown",
   "metadata": {},
   "source": [
    "\\begin{equation}\n",
    "\\large C_i = \\frac{2 e_i}{k_i (k_i - 1)}\n",
    "\\end{equation}"
   ]
  },
  {
   "cell_type": "markdown",
   "metadata": {},
   "source": [
    "Donde $e_i$ es la cantidad de aristas entre los vecinos del nodo <b>i</b>."
   ]
  },
  {
   "cell_type": "markdown",
   "metadata": {},
   "source": [
    "<b>Observacion: </b>En una red social el coeficiente de clustering es en general un numero alto. Ya que los vecinos de un nodo tienden a estar conectados entre si precisamente por tener en comun su relacion con ese nodo."
   ]
  },
  {
   "cell_type": "markdown",
   "metadata": {},
   "source": [
    "#### Coeficiente de Clustering promedio de la red"
   ]
  },
  {
   "cell_type": "markdown",
   "metadata": {},
   "source": [
    "\\begin{equation}\n",
    "\\large C = \\frac{\\sum_i c_i}{N} \n",
    "\\end{equation}"
   ]
  },
  {
   "cell_type": "markdown",
   "metadata": {},
   "source": [
    "<hr>"
   ]
  },
  {
   "cell_type": "markdown",
   "metadata": {},
   "source": [
    "## Modelos de Grafos"
   ]
  },
  {
   "cell_type": "markdown",
   "metadata": {},
   "source": [
    "Caracteristicas de un grafo en una red social:\n",
    "- Diametro: Muy pequenio\n",
    "- Coeficiente de Clustering: Muy alto\n",
    "- Componentes Conexos: 1\n",
    "- Distribucion del Grado: Power Law\n",
    "- Camino minimo promedio: Bajo"
   ]
  },
  {
   "cell_type": "markdown",
   "metadata": {},
   "source": [
    "### Modelo de Erdos-Renyi"
   ]
  },
  {
   "cell_type": "markdown",
   "metadata": {},
   "source": [
    "El modelo de <b>Erdos-Renyi</b> es un <b>grafo aleatorio</b> con <b>N</b> nodos y probabilidad <b>p</b> para cada arista. A estos grafos se los llamara $\\bf G_{np}$. Una forma eficiente de armar un grafo que siga este modelo es, siendo N la cantidad de nodos, es calcular la cantidad de aristas como $p\\frac{N(N-1)}{2}$ y luego formar cada una de estas aristas tomando dos nodos al azar."
   ]
  },
  {
   "cell_type": "markdown",
   "metadata": {},
   "source": [
    "#### Diametro"
   ]
  },
  {
   "cell_type": "markdown",
   "metadata": {},
   "source": [
    "Esta en el orden de <b>O(log(N))</b>. Igual que el grafo de Facebook, asi que podriamos decir que el Diametro del grafo de una red social es una propiedad que se da de igual manera en un grafo aleatorio. "
   ]
  },
  {
   "cell_type": "markdown",
   "metadata": {},
   "source": [
    "#### Distribucion del grado"
   ]
  },
  {
   "cell_type": "markdown",
   "metadata": {},
   "source": [
    "El grado promedio de los nodos es $\\bf p(n-1)$ lo cual es logico porque la cantidad maxima de aristas que puede tener un grafo es <b>(n-1)</b> y la probabilidad de que exista cada una es <b>p</b>. Asi que la distribucion de grado tiene forma <b>normal</b> y por lo tanto difiere de la de un grafo de una red social que tiene <b>ley de potencias</b>."
   ]
  },
  {
   "cell_type": "markdown",
   "metadata": {},
   "source": [
    "#### Coeficiente de Clustering"
   ]
  },
  {
   "cell_type": "markdown",
   "metadata": {},
   "source": [
    "Sabemos que el <b>coeficiente de clustering</b> en cualquier grafo es:"
   ]
  },
  {
   "cell_type": "markdown",
   "metadata": {},
   "source": [
    "\\begin{equation}\n",
    "\\large c_i = \\frac{2e_i}{k_i(k_i - 1)}\n",
    "\\end{equation}"
   ]
  },
  {
   "cell_type": "markdown",
   "metadata": {},
   "source": [
    "Y para un grafo que sigue este modelo la cantidad de aristas entre los vecinos del nodo ($e_i$) es:"
   ]
  },
  {
   "cell_type": "markdown",
   "metadata": {},
   "source": [
    "\\begin{equation}\n",
    "\\large e_i = p \\frac{k_i (k_i - 1)}{2}\n",
    "\\end{equation}"
   ]
  },
  {
   "cell_type": "markdown",
   "metadata": {},
   "source": [
    "Por lo tanto:"
   ]
  },
  {
   "cell_type": "markdown",
   "metadata": {},
   "source": [
    "\\begin{equation}\n",
    "\\large C_i = p = \\frac{k_i}{n - 1} \\approx \\frac{k_i}{N}\n",
    "\\end{equation}"
   ]
  },
  {
   "cell_type": "markdown",
   "metadata": {},
   "source": [
    "Lo cual es un <b>coeficiente</b> resulta ultra bajo, nada que ver con el de una red social."
   ]
  },
  {
   "cell_type": "markdown",
   "metadata": {},
   "source": [
    "### Modelo de Barabasi-Albert"
   ]
  },
  {
   "cell_type": "markdown",
   "metadata": {},
   "source": [
    "En este modelo a diferencia del anterior, las aristas no son aleatorias, sino que utiliza el modelo llamado <b>preferential attachment</b> donde la probabilidad de agregar una arista entre dos nodos depende del grado de cada nodo, mientras de mayor grado sean estos, mas probable es que se agrege la arista entre ellos. Es el fenomeno <b>los ricos son cada ves mas ricos</b>."
   ]
  },
  {
   "cell_type": "markdown",
   "metadata": {},
   "source": [
    "#### Diametro"
   ]
  },
  {
   "cell_type": "markdown",
   "metadata": {},
   "source": [
    "Es <b>O(log(log(N)))</b> que es compatible con el de una red social."
   ]
  },
  {
   "cell_type": "markdown",
   "metadata": {},
   "source": [
    "#### Distribucion de Grado"
   ]
  },
  {
   "cell_type": "markdown",
   "metadata": {},
   "source": [
    "Es una <b>ley de potencias</b> como en una red social."
   ]
  },
  {
   "cell_type": "markdown",
   "metadata": {},
   "source": [
    "### Modelo de Jackson-Rodgers"
   ]
  },
  {
   "cell_type": "markdown",
   "metadata": {},
   "source": [
    "Este modelo es una combinacion de los dos anteriores. Ya que se crea una nueva arista siguiendo lo siguiente:\n",
    "- Probabilidad $\\alpha$ de que se cree al azar la arista.\n",
    "- Probabilidad $1 - \\alpha$ de que se cree la arista usando el modelo de <b>preferential attachment<b/>"
   ]
  },
  {
   "cell_type": "markdown",
   "metadata": {},
   "source": [
    "Por lo tanto si $\\alpha$ es 1 el modelo se tranforma en el de <b>Erdos-Renyi</b> y si $\\alpha$ es 0 el modelo es el de <b>Jackson-Rodgers</b>."
   ]
  },
  {
   "cell_type": "markdown",
   "metadata": {},
   "source": [
    "<b>Empiricamente se puede mostrar que este modelo representa muy bien la creacion de aristas que tienen las redes sociales, cada una con un $\\alpha$ diferente.</b>"
   ]
  },
  {
   "cell_type": "markdown",
   "metadata": {},
   "source": [
    "<hr>"
   ]
  },
  {
   "cell_type": "markdown",
   "metadata": {},
   "source": [
    "## La Clausura Triangular"
   ]
  },
  {
   "cell_type": "markdown",
   "metadata": {},
   "source": [
    "Este es el <b>fenomeno</b> que origina que las redes sociales tengan un alto <b>coeficiente de clustering</b>. Lo que dice este fenomeno es muy simple, \"si A conoce a B y C, tarde o temprano B y C se conocen\". Esto hace que forme una cantidad inusual de <b>triangulos</b> que genera un alto coeficiente de clustering."
   ]
  },
  {
   "cell_type": "markdown",
   "metadata": {},
   "source": [
    "De esto, se desprende una forma facil de darnos cuenta si un grafo corresponde al de una red social, la forma es contando triangulos."
   ]
  },
  {
   "cell_type": "markdown",
   "metadata": {},
   "source": [
    "### Contando triangulos en un grafo"
   ]
  },
  {
   "cell_type": "markdown",
   "metadata": {},
   "source": [
    "La forma de contar triangulos en un grafo es con la matriz de adyansencias, que es la tiene un 1 si existe una arista entre el elemento <b>i</b>, <b>j</b> de la matriz. Que exista una arista es lo mismo que decir que exista un camino de longitud 1. Las matrices de adyacencias tienen la increible propiedad de cuando las elevamos a la <b>n</b>, nos dan la informacion de la cantidad de caminos de longitud <b>n</b> que van de <b>i</b> a <b>j</b>. A nosotros nos interesa contar triangulos, osea caminos de longitud 3 que nos llevan del elemento <b>i</b> al elemento <b>i</b>. Por lo tanto necesitamos la matriz de adyacencias elevada al cubo, y sumar todos los elementos de la diagonal que son los que salen de un nodo y vuelven al mismo nodo. Luego, para evitar contar el camino dos veces por las dos orientaciones del recorrido divimos por 2 y luego dividimos por 3 para evitar contar 3 veces el mismo triangulo partiendo de cada uno de los tres nodos."
   ]
  },
  {
   "cell_type": "markdown",
   "metadata": {},
   "source": [
    "<hr>"
   ]
  }
 ],
 "metadata": {
  "kernelspec": {
   "display_name": "Python 3",
   "language": "python",
   "name": "python3"
  },
  "language_info": {
   "codemirror_mode": {
    "name": "ipython",
    "version": 3
   },
   "file_extension": ".py",
   "mimetype": "text/x-python",
   "name": "python",
   "nbconvert_exporter": "python",
   "pygments_lexer": "ipython3",
   "version": "3.6.4"
  }
 },
 "nbformat": 4,
 "nbformat_minor": 2
}
