{
 "cells": [
  {
   "cell_type": "markdown",
   "metadata": {},
   "source": [
    "# Clasificacion"
   ]
  },
  {
   "cell_type": "markdown",
   "metadata": {},
   "source": [
    "En esta seccion veremos <b>algortimos de clasificacion</b>, que lo que hacen es clasificar objetos. Si la salida del clasificador son dos opciones posibles, entonces el algoritmo es de clasificacion <b>binaria</b>, en cambio si la salida son mas de dos opciones el algoritmo de de <b>clasificacion multiclase</b>. Para que el algoritmo <b>aprenda</b> a clasificar, debemos entrenarlo con datos, para los cuales conocemos la salida. "
   ]
  },
  {
   "cell_type": "markdown",
   "metadata": {},
   "source": [
    "<hr>"
   ]
  },
  {
   "cell_type": "markdown",
   "metadata": {},
   "source": [
    "## ID3"
   ]
  },
  {
   "cell_type": "markdown",
   "metadata": {},
   "source": [
    "Es un algoritmo de tipo <b>greedy</b> en cual en cada paso realiza el mejor split del set de datos, el split que mayor <b>ganancia de informacion</b> le proporcione. Armando asi un <b>arbol de decision</b>."
   ]
  },
  {
   "cell_type": "markdown",
   "metadata": {},
   "source": [
    "<img src=\"imagenes/arbol_de_decision.png\">"
   ]
  },
  {
   "cell_type": "markdown",
   "metadata": {},
   "source": [
    "Definicion de <b>Ganancia de Informacion</b>:"
   ]
  },
  {
   "cell_type": "markdown",
   "metadata": {},
   "source": [
    "\\begin{equation}\n",
    "\\large GI(S,A) = H(S) - \\sum_{v \\in V(A)}{\\frac{|S_v|}{|S|}H(S_v)}\n",
    "\\end{equation}"
   ]
  },
  {
   "cell_type": "markdown",
   "metadata": {},
   "source": [
    "<b>Hiper-parametros</b>: Ninguno"
   ]
  },
  {
   "cell_type": "markdown",
   "metadata": {},
   "source": [
    "<hr>"
   ]
  },
  {
   "cell_type": "markdown",
   "metadata": {},
   "source": [
    "<b>Ejemplo:</b>"
   ]
  },
  {
   "cell_type": "markdown",
   "metadata": {},
   "source": [
    "candidato | presencia | estudios | experiencia | contratado\n",
    "----------|-----------|----------|-------------|-----------\n",
    "1         | buena     | univ     | alta        | si\n",
    "2         | mala      | univ     | media       | no\n",
    "3         | buena     | sec      | alta        | si\n",
    "4         | mala      | univ     | baja        | no\n",
    "5         | buena     | sec      | media       | si\n",
    "6         | buena     | univ     | media       | si\n",
    "7         | reg       | pri      | baja        | no\n",
    "8         | reg       | univ     | media       | si"
   ]
  },
  {
   "cell_type": "markdown",
   "metadata": {},
   "source": [
    "Como dijimos el algoritmo en cada paso realiza el mejor split del set de datos. Asi que hagamos esto, elijamos cual es el atributo que proporciona mayor <b>ganancia de informacion</b> para saber si el cantidato va a ser contratado o no."
   ]
  },
  {
   "cell_type": "markdown",
   "metadata": {},
   "source": [
    "\\begin{equation}\n",
    "GI(Estudios) = H(Set de Datos) - H(Estudios)\n",
    "\\end{equation}\n",
    "\\begin{equation}\n",
    "GI(Presencia) = H(Set de Datos) - H(Presencia)\n",
    "\\end{equation}\n",
    "\\begin{equation}\n",
    "GI(Experiencia) = H(Set de Datos) - H(Presencia)\n",
    "\\end{equation}"
   ]
  },
  {
   "cell_type": "markdown",
   "metadata": {},
   "source": [
    "Recordar la definicion de <b>entropia</b>:"
   ]
  },
  {
   "cell_type": "markdown",
   "metadata": {},
   "source": [
    "\\begin{equation}\n",
    "\\large H(X) = -\\sum_{i = 1}^n{P_i log_2(P_i)} \n",
    "\\end{equation}"
   ]
  },
  {
   "cell_type": "markdown",
   "metadata": {},
   "source": [
    "<hr>"
   ]
  },
  {
   "cell_type": "markdown",
   "metadata": {},
   "source": [
    "- Entropia del Set:"
   ]
  },
  {
   "cell_type": "markdown",
   "metadata": {},
   "source": [
    "\\begin{equation}\n",
    "\\large H(Set) = - [P_{Contratado} log_2(P_{Contratado}) + P_{No Contratado} log_2(P_{No Contratado})] = 0.9544\n",
    "\\end{equation}"
   ]
  },
  {
   "cell_type": "markdown",
   "metadata": {},
   "source": [
    "\\begin{equation}\n",
    "\\large H(Set) = - [\\frac{5}{8} log_2(\\frac{5}{8}) + \\frac{3}{8} log_2(\\frac{3}{8})] = 0.9544 \\approx 0.95\n",
    "\\end{equation}"
   ]
  },
  {
   "cell_type": "markdown",
   "metadata": {},
   "source": [
    "- Ganancia de Informacion del campo <b>Estudios</b>:"
   ]
  },
  {
   "cell_type": "markdown",
   "metadata": {},
   "source": [
    "\\begin{equation}\n",
    "\\large GI(Set, Estudios) = H(Set) - \\sum_{v \\in V(Estudios)} {\\frac{|S_v|}{|Set|}} H(S_v)\n",
    "\\end{equation}"
   ]
  },
  {
   "cell_type": "markdown",
   "metadata": {},
   "source": [
    "\\begin{equation}\n",
    "GI(Estudios) = 0.95 - [\\frac{5}{8} H[3/5; 2/5] + \\frac{2}{8} H[2/2;0/2] + \\frac{1}{8} H[0/1; 1/1]]\n",
    "\\end{equation}"
   ]
  },
  {
   "cell_type": "markdown",
   "metadata": {},
   "source": [
    "\\begin{equation}\n",
    "GI(Estudios) = 0.95 + [\\frac{5}{8} [\\frac{3}{5} log_2(\\frac{3}{5}) + \\frac{2}{5} log_2(\\frac{2}{5})] + \\frac{2}{8} 0 + \\frac{1}{8} 0]\n",
    "\\end{equation}"
   ]
  },
  {
   "cell_type": "markdown",
   "metadata": {},
   "source": [
    "\\begin{equation}\n",
    "GI(Estudios) = 0.95 + [\\frac{5}{8} [\\frac{3}{5} log_2(\\frac{3}{5}) + \\frac{2}{5} log_2(\\frac{2}{5})]]\n",
    "\\end{equation}"
   ]
  },
  {
   "cell_type": "markdown",
   "metadata": {},
   "source": [
    "\\begin{equation}\n",
    "GI(Estudios) = 0.95 + [\\frac{3}{8} log_2(\\frac{3}{5}) + \\frac{2}{8} log_2(\\frac{2}{5})] = 0.34\n",
    "\\end{equation}"
   ]
  },
  {
   "cell_type": "markdown",
   "metadata": {},
   "source": [
    "- Idem con <b>Presencia</b> y <b>Experiencia</b>:"
   ]
  },
  {
   "cell_type": "markdown",
   "metadata": {},
   "source": [
    "\\begin{equation}\n",
    "GI(Presencia) = 0.70444\n",
    "\\end{equation}\n",
    "\\begin{equation}\n",
    "GI(Experiencia) = 0.5488\n",
    "\\end{equation}"
   ]
  },
  {
   "cell_type": "markdown",
   "metadata": {},
   "source": [
    "El campo que mas proporciona informacion es la presencia por lo tanto ira en la raiz del arbol."
   ]
  },
  {
   "cell_type": "markdown",
   "metadata": {},
   "source": [
    "<hr>"
   ]
  },
  {
   "cell_type": "markdown",
   "metadata": {},
   "source": [
    "## Random Forest"
   ]
  },
  {
   "cell_type": "markdown",
   "metadata": {},
   "source": [
    "El algoritmo de <b>Random Forest</b> crea un conjunto de arboles de decision, un <b>bosque</b>. Cada arbol de este bosque utiliza una cantidad de atributos, no la cantidad total, sino menos atributos, estos son elegidos de forma aleatoria. Cada arbol del bosque lo crea aplicando el mismo metodo que en ID3, es decir realizando los split segun las <b>ganancias de informacion</b>."
   ]
  },
  {
   "cell_type": "markdown",
   "metadata": {},
   "source": [
    "Luego ademas usa <b>Bagging</b> con <b>Bootstrapping</b> para tomar los datos. Recordar que esto es correr el clasificador varias veces con la misma cantidad de datos pero usando repeticion, asi que en cada corrida algunos datos quedan afuera debido a algunos de los que entraron tienen alguna repeticion."
   ]
  },
  {
   "cell_type": "markdown",
   "metadata": {},
   "source": [
    "En el <b>entrenamiento</b> del algoritmo se construira el bosque. Pero luego al momento de usarlo cada uno de los arboles clasificara de una menera diferente y la respuesta final sera la respuesta mas elegida, es la misma idea que las votaciones presidenciales por ejemplo. A esto se lo denomina <b>Majority Voting</b>."
   ]
  },
  {
   "cell_type": "markdown",
   "metadata": {},
   "source": [
    "<b>Hiper-parametros</b>: \n",
    "- Cantidad de arboles a crear.\n",
    "- Cantidad de atributos en cada uno."
   ]
  },
  {
   "cell_type": "markdown",
   "metadata": {},
   "source": [
    "<hr>"
   ]
  },
  {
   "cell_type": "markdown",
   "metadata": {},
   "source": [
    "<b>Ejemplo</b>:"
   ]
  },
  {
   "cell_type": "markdown",
   "metadata": {},
   "source": [
    "<b>Datos</b>: 1, 2, 3, 4, 5 <br>\n",
    "<b>Atributos</b>: A,B,C <br>\n",
    "<br>\n",
    "<b>Cantidad de Arboles</b>: 4 <br>\n",
    "<b>Cantidad de Atributos en cada arbol</b>: 2"
   ]
  },
  {
   "cell_type": "markdown",
   "metadata": {},
   "source": [
    "<img src=\"imagenes/ejemplo_random_forest.png\">"
   ]
  },
  {
   "cell_type": "markdown",
   "metadata": {},
   "source": [
    "<hr>"
   ]
  },
  {
   "cell_type": "markdown",
   "metadata": {},
   "source": [
    "## XGBoost"
   ]
  },
  {
   "cell_type": "markdown",
   "metadata": {},
   "source": [
    "Este algoritmo es Random Forest con una diferencia. En Random Forest, los arboles generados son independientes, es decir, uno no depende para nada del otro. En cambio en XGBoost no es asi, luego de la generacion del primer arbol, se procede a ver que tan bien clasifico, y el algoritmo mira en que casos clasifico mal, para decirle al siguiente arbol que se enfoque en esas clasificaciones que fallo. Y asi sucesivamente con el tercer, cuarto ... n arbol."
   ]
  },
  {
   "cell_type": "markdown",
   "metadata": {},
   "source": [
    "<hr>"
   ]
  }
 ],
 "metadata": {
  "kernelspec": {
   "display_name": "Python 3",
   "language": "python",
   "name": "python3"
  },
  "language_info": {
   "codemirror_mode": {
    "name": "ipython",
    "version": 3
   },
   "file_extension": ".py",
   "mimetype": "text/x-python",
   "name": "python",
   "nbconvert_exporter": "python",
   "pygments_lexer": "ipython3",
   "version": "3.6.4"
  }
 },
 "nbformat": 4,
 "nbformat_minor": 2
}
