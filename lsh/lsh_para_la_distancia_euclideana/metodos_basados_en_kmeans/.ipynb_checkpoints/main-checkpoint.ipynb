{
 "cells": [
  {
   "cell_type": "markdown",
   "metadata": {},
   "source": [
    "# Metodos basados en K-Means (KLSH)"
   ]
  },
  {
   "cell_type": "markdown",
   "metadata": {},
   "source": [
    "K-Means es un algoritmo de clustering que veremos mas adelante. Dado un conjunto de m puntos en d dimensiones y una cierta cantida de clusters k, que el usuario debe especificar, K-Means genera k clusters. Devuelve cuales son los k centroides correspondientes a cada cluster y a que centroide queda asignado cada uno de los m puntos. El algoritmo lo vamos a desarrollar cuando veamos clustering, lo tomaremos aqui como un modelo de caja engra que nos genera k centroides."
   ]
  },
  {
   "cell_type": "markdown",
   "metadata": {},
   "source": [
    "<img src=\"klsh.png\">"
   ]
  },
  {
   "cell_type": "markdown",
   "metadata": {},
   "source": [
    "El <b>punto circular</b> es nuestro <b>query</b> y nos interesa encontrar su vecino mas cercano (el <b>punto cuadrado</b>). Podemos ver que en la segunda clusterizacion de K-Means el query queda dentro del mismo cluster que su vecino mas cercano, por lo que accediendo al mismo vamos a poder encontrarlo. En los otros casos encontramos otros puntos pero no el mas cercano. Este es un ejemplo de usar r = 1 y b = 4 lo cual nos da muy buena precision. Notar que cualquier punto dentro del mismo cluster que el query debe ser comparado para poder encontrar el verdadero vecino mas cercano."
   ]
  },
  {
   "cell_type": "markdown",
   "metadata": {},
   "source": [
    "El centroide al cual queda asignado cada punto es un numero entre 1 y k y nos sirve como minhash. Para generar varios minhashes podemos usar K-Means n veces con diferentes inicializaciones. Como el algoritmo converge a un minimo local que es dependiente de la inicializacion tendremos valores diferentes en cada caso."
   ]
  },
  {
   "cell_type": "markdown",
   "metadata": {},
   "source": [
    "Con estos minhash podemos proceder exactamente como lo haciamos antes, generando b tablas de hash y usando r minshashes por cada tabla en donde el valor de cada minshash es el numero de <b>cluster (centroide)</b> al cual fue asignado el punto."
   ]
  },
  {
   "cell_type": "markdown",
   "metadata": {},
   "source": [
    "Cuando queremos buscar los vecinos mas cercanos a un <b>query</b> q simplemente buscamos el centroide mas cercano de cada corrida de K-Means y eso nos da el minshash correspondiente al query. Luego procedemos como siempre."
   ]
  }
 ],
 "metadata": {
  "kernelspec": {
   "display_name": "Python 3",
   "language": "python",
   "name": "python3"
  },
  "language_info": {
   "codemirror_mode": {
    "name": "ipython",
    "version": 3
   },
   "file_extension": ".py",
   "mimetype": "text/x-python",
   "name": "python",
   "nbconvert_exporter": "python",
   "pygments_lexer": "ipython3",
   "version": "3.6.4"
  }
 },
 "nbformat": 4,
 "nbformat_minor": 2
}
