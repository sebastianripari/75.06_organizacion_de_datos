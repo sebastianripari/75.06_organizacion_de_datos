{
 "cells": [
  {
   "cell_type": "markdown",
   "metadata": {},
   "source": [
    "# Minhashes"
   ]
  },
  {
   "cell_type": "markdown",
   "metadata": {},
   "source": [
    "Ahora veremos como construir esta funcion de hashing \"magica\" que cumpla con las propiedades."
   ]
  },
  {
   "cell_type": "markdown",
   "metadata": {},
   "source": [
    "Necesitamos una funcion para la cual la probabilidad de que dos claves colisionen dependa de la distancia entre las claves."
   ]
  },
  {
   "cell_type": "markdown",
   "metadata": {},
   "source": [
    "<img src=\"probabilidad_lsh.png\">"
   ]
  },
  {
   "cell_type": "markdown",
   "metadata": {},
   "source": [
    "A estas funciones las vamos a llamar <b>minhashes</b>."
   ]
  },
  {
   "cell_type": "markdown",
   "metadata": {},
   "source": [
    "En concreto para que una funcion de hashing sea un minhash vamos a pedirle las siguientes condiciones:"
   ]
  },
  {
   "cell_type": "markdown",
   "metadata": {},
   "source": [
    "- La probabilidad de que dos claves colisionen debe depender de la distancia entre las claves.\n",
    "- La funcion debe ser monotona y continua.\n",
    "- Debe existir una forma eficiente de calcular la funcion.\n",
    "- Debe ser posible randomizar la funcion de forma tal de poder obtener muchos minhash diferentes para la misma clave."
   ]
  },
  {
   "cell_type": "markdown",
   "metadata": {},
   "source": [
    "La <b>primer</b> propiedad es la que habı́amos enunciado antes. Una función de\n",
    "hashing convencional no sirve como minhash dado que el resultado de la función\n",
    "no depende de la distancia a la cual están las claves. En una función de hashing\n",
    "convencional la probabilidad de que dos claves cercanas o distantes colisionen\n",
    "es la misma. Esto era un requisito necesario para que sea una buena función de\n",
    "hashing!"
   ]
  },
  {
   "cell_type": "markdown",
   "metadata": {},
   "source": [
    "La <b>segunda</b> propiedad es importante ya que necesitamos que a medida que\n",
    "las claves estén más cerca la probabilidad de colisionar sea mayor."
   ]
  },
  {
   "cell_type": "markdown",
   "metadata": {},
   "source": [
    "La <b>tercera</b> propiedad implica que la funcion de hashing debe ser rapida. Ya justamente esto es lo que buscamos al usar LSH, sino simplemente calculariamos las distancias contra todos los demas elementos y nos quedariamos con el mas cercano, o los mas cercanos."
   ]
  },
  {
   "cell_type": "markdown",
   "metadata": {},
   "source": [
    "La <b>cuarta</b> propiedad es por el hecho de que nos va a interezar armar una familia de funciones."
   ]
  }
 ],
 "metadata": {
  "kernelspec": {
   "display_name": "Python 3",
   "language": "python",
   "name": "python3"
  },
  "language_info": {
   "codemirror_mode": {
    "name": "ipython",
    "version": 3
   },
   "file_extension": ".py",
   "mimetype": "text/x-python",
   "name": "python",
   "nbconvert_exporter": "python",
   "pygments_lexer": "ipython3",
   "version": "3.6.4"
  }
 },
 "nbformat": 4,
 "nbformat_minor": 2
}
