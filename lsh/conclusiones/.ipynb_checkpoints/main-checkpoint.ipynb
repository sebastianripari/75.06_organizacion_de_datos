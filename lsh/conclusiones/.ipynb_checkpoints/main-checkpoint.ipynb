{
 "cells": [
  {
   "cell_type": "markdown",
   "metadata": {},
   "source": [
    "# LSH Conclusiones"
   ]
  },
  {
   "cell_type": "markdown",
   "metadata": {},
   "source": [
    "Es hora de cerrar esta parte del capitulo haciendo un resumen de lo visto hasta ahora. "
   ]
  },
  {
   "cell_type": "markdown",
   "metadata": {},
   "source": [
    "<b>LSH tiene como objetivo resolver el problema de los k vecinos mas cercanos de forma eficiente</b>, idealmente en O(1) o similar usando la menor cantidad de espacio posible. En muchos casos estos implica una aproximacion al problema ya que la solucion que devolvemos puede no ser exacta. Esta inexactitud puede deberse a la presencia de puntos superfluos (<b>falsos positivos</b>) o la ausencia de puntos relevantes (<b>falsos negativos</b>)."
   ]
  },
  {
   "cell_type": "markdown",
   "metadata": {},
   "source": [
    "Un <b>falso positivo</b> es un punto que no es cercano al que estamos buscando pero que LSH devuelve como similar. Los falsos positivos se filtran facilmente simpliemente calculando la distancia real entre el punto query q y los puntos candidatos a ser similares devueltos por LSH. Estas distancias siempre las tenemos que calcular para saber cuales son los k vecinos mas cercanos. El problema de los falsos positivos es entonces de <b>performance</b>."
   ]
  },
  {
   "cell_type": "markdown",
   "metadata": {},
   "source": [
    "Un <b>falso negativo</b> es un punto que es cercano al query pero que LSH no puede encontrar. Esto afecta la <b>precision</b> del metodo. Los faltos negativos no tienen solucion ya que la unica forma de buscarlos seria recorrer todos los datos, y si hacemos eso, entonces estamos en KNN por fuerza bruta y no necesitamos LSH."
   ]
  },
  {
   "cell_type": "markdown",
   "metadata": {},
   "source": [
    "En general todas las funciones LSH que definimos se caracterizan por tener una forma de calcular un minhash a partir del dato y luego definir los siguientes parametros:\n",
    "- b: la cantidad de tablas de hash a usar.\n",
    "- r: la cantidad de minshash a usar por tabla.\n",
    "- T: la cantidad de buckets a probar en cada tabla (multi-probing)."
   ]
  },
  {
   "cell_type": "markdown",
   "metadata": {},
   "source": [
    "Si queremos disminuir los falsos negativos, es decir, ganar precision, podemos aumentar b sacrificando memoria o aumentar T sacrificando velocidad. En general vamos a definir b en funcion de la memoria que tengamos disponible. Cuanto mayor es b mayor precision va a tener el algoritmo. Luego una vez fijado b tenemos que definir r y T en funcion de la cantidad de falsos positivos y falsos negativos que podamos manejar y la performance (velocidad) de las consultas. "
   ]
  },
  {
   "cell_type": "markdown",
   "metadata": {},
   "source": [
    "Para un b fijo aumentar r disminuye los falsos positivos y tambien disminuye la precision. Aumentar T mejora la precision pero disminuye la performance."
   ]
  }
 ],
 "metadata": {
  "kernelspec": {
   "display_name": "Python 3",
   "language": "python",
   "name": "python3"
  },
  "language_info": {
   "codemirror_mode": {
    "name": "ipython",
    "version": 3
   },
   "file_extension": ".py",
   "mimetype": "text/x-python",
   "name": "python",
   "nbconvert_exporter": "python",
   "pygments_lexer": "ipython3",
   "version": "3.6.4"
  }
 },
 "nbformat": 4,
 "nbformat_minor": 2
}
