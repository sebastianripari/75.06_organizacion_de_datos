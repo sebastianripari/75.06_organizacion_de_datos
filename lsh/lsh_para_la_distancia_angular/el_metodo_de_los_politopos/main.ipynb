{
 "cells": [
  {
   "cell_type": "markdown",
   "metadata": {},
   "source": [
    "# El metodo de los politopos"
   ]
  },
  {
   "cell_type": "markdown",
   "metadata": {},
   "source": [
    "En este metodo, si nuestros puntos estan en d dimensiones, primero aplicamos a nuestro punto una rotacion al azar de <b>d</b> a <b>d'</b> dimensiones. Es decir, multiplicamos el punto que queremos hashear por una matrix aleatoria de <b>d x d'</b>. Una ves que hicimos esto buscamos cual es el vertice del politopo de d' dimensiones mas cercano y ese es el valor del minhash."
   ]
  },
  {
   "cell_type": "markdown",
   "metadata": {},
   "source": [
    "Un politopo esta delimitado por los vectores de la base unitaria con y sin signo. En 2d la base unitaria es {(1,0),(0,1)}, por lo tanto el politopo es {(0,1),(O,-1),(1,0),(-1,0)}, es decir, un cuadrado rotado. Numerando los vertices, por ejemplo, 0, 1, 2, 3, si el"
   ]
  },
  {
   "cell_type": "markdown",
   "metadata": {},
   "source": [
    ".................................................."
   ]
  }
 ],
 "metadata": {
  "kernelspec": {
   "display_name": "Python 3",
   "language": "python",
   "name": "python3"
  },
  "language_info": {
   "codemirror_mode": {
    "name": "ipython",
    "version": 3
   },
   "file_extension": ".py",
   "mimetype": "text/x-python",
   "name": "python",
   "nbconvert_exporter": "python",
   "pygments_lexer": "ipython3",
   "version": "3.6.4"
  }
 },
 "nbformat": 4,
 "nbformat_minor": 2
}
