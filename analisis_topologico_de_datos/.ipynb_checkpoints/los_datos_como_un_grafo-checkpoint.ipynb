{
 "cells": [
  {
   "cell_type": "markdown",
   "metadata": {},
   "source": [
    "# Los datos como un Grafo"
   ]
  },
  {
   "cell_type": "markdown",
   "metadata": {},
   "source": [
    "A la <b>topologia</b> le interesa la <b>forma</b> de los datos y no otras <b>propiedades</b>. Por ejemplo las <b>distancias</b> entre los puntos no es algo que interese, una <b>esfera</b> de radio 1 o de radio 1 millon tienen exactamente las mismas propiedades topologicas."
   ]
  },
  {
   "cell_type": "markdown",
   "metadata": {},
   "source": [
    "Para <b>estudiar</b> la <b>forma</b> de los datos tenemos que construir un <b>complejo simplicial</b> a partir de los mismos."
   ]
  },
  {
   "cell_type": "markdown",
   "metadata": {},
   "source": [
    "<img src=\"simplices.png\">"
   ]
  },
  {
   "cell_type": "markdown",
   "metadata": {},
   "source": [
    "Un <b>punto</b> es un <b>simplice</b> de <b>dimension 0</b> <br>\n",
    "Dos <b>puntos</b> forma un <b>segmento</b> que es un <b>simplice</b> de <b>dimension 1</b> <br>\n",
    "Tres <b>puntos</b> forma un <b>triangulo</b> que es un <b>simplice</b> de <b>2 dimensiones</b> <br>\n",
    "Cuatro <b>puntos </b> forma un <b>tetraedro</b> que es un <b>simplice</b> de <b>3 dimensiones</b>"
   ]
  },
  {
   "cell_type": "markdown",
   "metadata": {},
   "source": [
    "<b>Observacion: </b> en un grafo de 3 nodos con 3 aristas como se ve en la imagen, la <b>cara</b> no esta incluida obviamente, bueno, pero en el simplice si."
   ]
  },
  {
   "cell_type": "markdown",
   "metadata": {},
   "source": [
    "El <b>triangulo</b> se puede caracterizar como el siguiente <b>complejo simplicial</b> {A,B,C,{A,B},{B,C},{C,A},{A,B,C}}. Que son los tres simplices de una dimension que son los puntos, los tres simplices de dos dimensiones que son los lados y el simplice de tres dimensions que es la cara."
   ]
  },
  {
   "cell_type": "markdown",
   "metadata": {},
   "source": [
    "El <b>tetraedro</b> se puede caracterizar como el <b>complejo simplicial</b> {A,B,C,D,{A,B},{B,C},{A,C},{A,D},{D,C},{B,D},{A,B,C,D}}. Que son los puntos, las aristas, y el volumen."
   ]
  }
 ],
 "metadata": {
  "kernelspec": {
   "display_name": "Python 3",
   "language": "python",
   "name": "python3"
  },
  "language_info": {
   "codemirror_mode": {
    "name": "ipython",
    "version": 3
   },
   "file_extension": ".py",
   "mimetype": "text/x-python",
   "name": "python",
   "nbconvert_exporter": "python",
   "pygments_lexer": "ipython3",
   "version": "3.6.4"
  }
 },
 "nbformat": 4,
 "nbformat_minor": 2
}
