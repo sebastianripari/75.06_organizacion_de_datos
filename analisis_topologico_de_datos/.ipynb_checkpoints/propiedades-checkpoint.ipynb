{
 "cells": [
  {
   "cell_type": "markdown",
   "metadata": {},
   "source": [
    "# Propiedades"
   ]
  },
  {
   "cell_type": "markdown",
   "metadata": {},
   "source": [
    "Hay 3 propiedades fundamentales del analisis topologico de datos:"
   ]
  },
  {
   "cell_type": "markdown",
   "metadata": {},
   "source": [
    "- Independencia del sistema de coordenadas.\n",
    "- Invarianza a deformaciones.\n",
    "- Representacion compacta de los datos."
   ]
  },
  {
   "cell_type": "markdown",
   "metadata": {},
   "source": [
    "### Independencia del sistema de coordenadas"
   ]
  },
  {
   "cell_type": "markdown",
   "metadata": {},
   "source": [
    "Esta caracteristica habla de que no importa cuales sean las coordenadas que se utilicen, lo unico que importa es la forma de los objetos, y para la forma lo unico que importa es que se respeten las distancias entre los puntos y no su ubicacion."
   ]
  },
  {
   "cell_type": "markdown",
   "metadata": {},
   "source": [
    "### Invarianza a deformaciones"
   ]
  },
  {
   "cell_type": "markdown",
   "metadata": {},
   "source": [
    "Esta caracteristica establece que si aplicacmos una deformacion continua e inversible a nustros datos el resultado es topologicamente identico al original. Esto se denomina holomorfismo."
   ]
  },
  {
   "cell_type": "markdown",
   "metadata": {},
   "source": [
    "### Representacion compacta de los datos"
   ]
  },
  {
   "cell_type": "markdown",
   "metadata": {},
   "source": [
    "Esta caracteristica implica que vamos a representar los datos, el grafo, con menos cantidad de nodos y aristas, esto es porque podemos hacerlo y seguir manteniendo la forma topologica. Ejemplo, un circulo y un hexagono tienen la misma forma topologica son holomorfos, pero el circulo tiene muchos mas puntos, infinitos, es mucho mas complejo. "
   ]
  }
 ],
 "metadata": {
  "kernelspec": {
   "display_name": "Python 3",
   "language": "python",
   "name": "python3"
  },
  "language_info": {
   "codemirror_mode": {
    "name": "ipython",
    "version": 3
   },
   "file_extension": ".py",
   "mimetype": "text/x-python",
   "name": "python",
   "nbconvert_exporter": "python",
   "pygments_lexer": "ipython3",
   "version": "3.6.4"
  }
 },
 "nbformat": 4,
 "nbformat_minor": 2
}
