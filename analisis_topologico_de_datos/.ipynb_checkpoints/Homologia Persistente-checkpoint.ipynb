{
 "cells": [
  {
   "cell_type": "markdown",
   "metadata": {},
   "source": [
    "# Homologia Persistente"
   ]
  },
  {
   "cell_type": "markdown",
   "metadata": {},
   "source": [
    "Como hemos visto, el complejo simplicial que podemos construir depende mucho de que parametro \"e\" elijamos, la cuestion es que lo que tenemoes que lograr es que el complejo simplicial dependa solamente de los datos y no del parametro \"e\". Asi que lo que se debe hacer es probar con todos los valores de \"e\" e ir viendo la forma que se observa, y quedarnos con la forma que mas <b>persista</b> a medida que vamos variando \"e\". "
   ]
  },
  {
   "cell_type": "markdown",
   "metadata": {},
   "source": [
    "<img src=\"homologia_persistente.png\">"
   ]
  }
 ],
 "metadata": {
  "kernelspec": {
   "display_name": "Python 3",
   "language": "python",
   "name": "python3"
  },
  "language_info": {
   "codemirror_mode": {
    "name": "ipython",
    "version": 3
   },
   "file_extension": ".py",
   "mimetype": "text/x-python",
   "name": "python",
   "nbconvert_exporter": "python",
   "pygments_lexer": "ipython3",
   "version": "3.6.4"
  }
 },
 "nbformat": 4,
 "nbformat_minor": 2
}
