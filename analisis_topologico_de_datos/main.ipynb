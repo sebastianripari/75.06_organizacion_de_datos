{
 "cells": [
  {
   "cell_type": "markdown",
   "metadata": {},
   "source": [
    "# Analisis Topologico de Datos"
   ]
  },
  {
   "cell_type": "markdown",
   "metadata": {},
   "source": [
    "<i>Data has shape and shape has meaning - Gunnar</i>"
   ]
  },
  {
   "cell_type": "markdown",
   "metadata": {},
   "source": [
    "El <b>analisis topologico de datos</b> es una ciencia nueva que aplica los conceptos de <b>topologia algebraica</b> al <b>anlisis de datos</b>."
   ]
  },
  {
   "cell_type": "markdown",
   "metadata": {},
   "source": [
    "La <b>topologia</b> es una rama del <b>algebra</b> que se dedica a estudiar la forma de los objetos de forma <b>independiente</b> de sus caracteristicas geometricas."
   ]
  },
  {
   "cell_type": "markdown",
   "metadata": {},
   "source": [
    "<b>Ejemplo</b>"
   ]
  },
  {
   "cell_type": "markdown",
   "metadata": {},
   "source": [
    "<img src=\"topologia.png\">"
   ]
  },
  {
   "cell_type": "markdown",
   "metadata": {},
   "source": [
    "A la izquierda vemos una rosca, y a la derecha vemos una tasa, estos dos objetos desde el punto de vista topologico son la misma cosa. Son un <b>holomorfismo</b> ya que existe una <b>deformacion continua</b> que permite transformar una dona en una taza y esta transformacion tiene una inversa que tambien es continua."
   ]
  }
 ],
 "metadata": {
  "kernelspec": {
   "display_name": "Python 3",
   "language": "python",
   "name": "python3"
  },
  "language_info": {
   "codemirror_mode": {
    "name": "ipython",
    "version": 3
   },
   "file_extension": ".py",
   "mimetype": "text/x-python",
   "name": "python",
   "nbconvert_exporter": "python",
   "pygments_lexer": "ipython3",
   "version": "3.6.4"
  }
 },
 "nbformat": 4,
 "nbformat_minor": 2
}
