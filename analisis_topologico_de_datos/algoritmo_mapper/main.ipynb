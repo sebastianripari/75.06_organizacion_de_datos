{
 "cells": [
  {
   "cell_type": "markdown",
   "metadata": {},
   "source": [
    "# Algoritmo Mapper"
   ]
  },
  {
   "cell_type": "markdown",
   "metadata": {},
   "source": [
    "Es un <b>algoritmo</b> para el analisis <b>topologico</b> de los datos, se basa en la creacion de un grafo, similar a lo que hemos visto pero con caracteristicas diferentes. El algoritmo cuenta con varios pasos, el primer paso es plicar un filtro a los datos de forma tal que cada dato quede representado por un numero real. Se puede usar cualquier tipo de filtro siempre y cuand ocada dato quede representado por un numero. A estos filtros se los llama \"lentes\" ya que, haciendo una analogica, equivalente a cambiar de lente en una camara para ver las cosas de formas diferentes."
   ]
  }
 ],
 "metadata": {
  "kernelspec": {
   "display_name": "Python 3",
   "language": "python",
   "name": "python3"
  },
  "language_info": {
   "codemirror_mode": {
    "name": "ipython",
    "version": 3
   },
   "file_extension": ".py",
   "mimetype": "text/x-python",
   "name": "python",
   "nbconvert_exporter": "python",
   "pygments_lexer": "ipython3",
   "version": "3.6.4"
  }
 },
 "nbformat": 4,
 "nbformat_minor": 2
}
