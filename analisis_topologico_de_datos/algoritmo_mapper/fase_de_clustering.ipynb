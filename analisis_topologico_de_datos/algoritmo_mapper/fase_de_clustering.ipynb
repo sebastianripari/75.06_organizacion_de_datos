{
 "cells": [
  {
   "cell_type": "markdown",
   "metadata": {},
   "source": [
    "# Fase de Clustering"
   ]
  },
  {
   "cell_type": "markdown",
   "metadata": {},
   "source": [
    "En la fase de <b>clustering</b> vamos a aplicar dentro de cada grupo un algoritmo de clustering. Es necesario poder detectar de forma automatica el numero de clusters dentro de cada grupo ya que lo desconocemos. Puede usarse cualquier algoritmo de clustering y cualqueir metodo para seleccionar la cantidad de clusters. En nuestro codigo hemos elegido clustering jerarquico como algoritmo de clustering. Para seleccionar la cantida de clusters a crear hemos elegido el siguiente metodo:"
   ]
  },
  {
   "cell_type": "markdown",
   "metadata": {},
   "source": [
    "- En cada paso clustering jerarquico une dos clusters y nos devuelve la distancia entre los mismos.\n",
    "- Es decir que tenemos como resultado un vector de distancias.\n",
    "- Estas distancias las discretizamos en una cierta cantidad de buckets (sin solapamiento).\n",
    "- El primer bucket vacio nos da la cantidad de clusters a usar."
   ]
  },
  {
   "cell_type": "markdown",
   "metadata": {},
   "source": [
    "Este metodo ya lo vimos en detalle al estudiar clustering jerarquico.\n",
    "El resultado es que por cada grupo de nuestros datos tenemos una cierta cantidad de clusters formados"
   ]
  },
  {
   "cell_type": "code",
   "execution_count": null,
   "metadata": {},
   "outputs": [],
   "source": []
  }
 ],
 "metadata": {
  "kernelspec": {
   "display_name": "Python 3",
   "language": "python",
   "name": "python3"
  },
  "language_info": {
   "codemirror_mode": {
    "name": "ipython",
    "version": 3
   },
   "file_extension": ".py",
   "mimetype": "text/x-python",
   "name": "python",
   "nbconvert_exporter": "python",
   "pygments_lexer": "ipython3",
   "version": "3.6.4"
  }
 },
 "nbformat": 4,
 "nbformat_minor": 2
}
