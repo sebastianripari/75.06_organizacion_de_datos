{
 "cells": [
  {
   "cell_type": "markdown",
   "metadata": {},
   "source": [
    "# Lentes Topologicos Comunes"
   ]
  },
  {
   "cell_type": "markdown",
   "metadata": {},
   "source": [
    "Entre los <b>filtros</b> mas comunes podemos mencionar los siguientes:"
   ]
  },
  {
   "cell_type": "markdown",
   "metadata": {},
   "source": [
    "- <b>i-esima dimension</b>\n",
    "- <b>proyeccion aleatoria</b>: (proyectamos cada punto mediante un mismo vector aleatorio)\n",
    "- <b>eccentricidad</b>: promedio de las distancias entre el punto y todos los demas\n",
    "- <b>centralidad</b>: distancia maxima desde el punto a cualquier otro punto del set de datos\n",
    "- <b>distancia al k-vecino mas cercano</b>: distancia entre el punto y el k-esimo vecino. (k>1 de lo contrario vale 0 para todos los puntos\n",
    "- <b>distancia to measure</b>: Promedio de las distancias entre el punto y sus k-vecinos mas cercanos(si k=m entonces es eccentricidad)\n",
    "- <b>n-esimo autovector de la SVD</b> (un filtro muy popular)"
   ]
  },
  {
   "cell_type": "markdown",
   "metadata": {},
   "source": [
    "Asi como se definio estos Lentos / Filtros se pueden definir docenas o incluso cientos mas, el unico requisito es obtener un vector de \"m\" valores reales correspondientes a los \"m\" puntos de nuestro set de datos."
   ]
  },
  {
   "cell_type": "markdown",
   "metadata": {},
   "source": [
    "Como se aprecia en la siguiente imagen, diferentes lentes generan un mapeo de los datos completamente diferente por lo que es muy importante probar este algoritmo con diferentes lentes para ver cual nos da los resultados que son mas logicos y sencillos de interpretar."
   ]
  },
  {
   "cell_type": "markdown",
   "metadata": {},
   "source": [
    "<img src=\"ejemplo_diferentes_lentes.png\">"
   ]
  }
 ],
 "metadata": {
  "kernelspec": {
   "display_name": "Python 3",
   "language": "python",
   "name": "python3"
  },
  "language_info": {
   "codemirror_mode": {
    "name": "ipython",
    "version": 3
   },
   "file_extension": ".py",
   "mimetype": "text/x-python",
   "name": "python",
   "nbconvert_exporter": "python",
   "pygments_lexer": "ipython3",
   "version": "3.6.4"
  }
 },
 "nbformat": 4,
 "nbformat_minor": 2
}
