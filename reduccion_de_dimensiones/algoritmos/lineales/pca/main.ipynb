{
 "cells": [
  {
   "cell_type": "markdown",
   "metadata": {},
   "source": [
    "# PCA"
   ]
  },
  {
   "cell_type": "markdown",
   "metadata": {},
   "source": [
    "<b>PCA</b> es uno de los algoritmos mas usados en el mundo de Data Science y se puede demostrar que es identico a la <b>SVD</b>."
   ]
  },
  {
   "cell_type": "markdown",
   "metadata": {},
   "source": [
    "La siguiente figura muestra una nube de puntos en dos dimensiones y la idea de PCA es encontrar las <b>direcciones</b> principales de los datos, es decir, aquellas direcciones sobre las cuales podemos proyectar los datos <b>reteniendo su variabildad</b>. En la figura hay dos direcciones principales y el eje mas largo es aquel que podria dar la mayor variabilidad si proyectaramos los datos sobre el mismo."
   ]
  },
  {
   "cell_type": "markdown",
   "metadata": {},
   "source": [
    "<img src=\"pca.png\">"
   ]
  },
  {
   "cell_type": "markdown",
   "metadata": {},
   "source": [
    "En concreto, PCA ajusta una hiper-elipse a los datos y devuelve los ejes que la componen tambien conocidos como <b>componentes principales</b>. Luego, los datos se podran proyectar sobre estas componentes logrando asi una reduccion de dimensiones."
   ]
  }
 ],
 "metadata": {
  "kernelspec": {
   "display_name": "Python 3",
   "language": "python",
   "name": "python3"
  },
  "language_info": {
   "codemirror_mode": {
    "name": "ipython",
    "version": 3
   },
   "file_extension": ".py",
   "mimetype": "text/x-python",
   "name": "python",
   "nbconvert_exporter": "python",
   "pygments_lexer": "ipython3",
   "version": "3.7.0"
  }
 },
 "nbformat": 4,
 "nbformat_minor": 2
}
