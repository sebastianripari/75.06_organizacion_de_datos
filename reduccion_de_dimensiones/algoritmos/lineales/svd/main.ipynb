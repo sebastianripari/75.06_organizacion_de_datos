{
 "cells": [
  {
   "cell_type": "markdown",
   "metadata": {},
   "source": [
    "# SVD (Singular value decomposition)"
   ]
  },
  {
   "cell_type": "markdown",
   "metadata": {},
   "source": [
    "La <b>SVD (Singular Value Descomposition)</b> es una de las herramientas mas importantes para la reduccion de dimensiones de un set de datos y surge de realizar una descomposicion de una matriz. La SVD esta intimamente relacionada con el hecho de diagonalizar una matriz dimetrica."
   ]
  },
  {
   "cell_type": "markdown",
   "metadata": {},
   "source": [
    "Sea <b>A</b> una matriz de nxm, se puede demostrar que existen tres matrices U,V y sigma tales que:"
   ]
  },
  {
   "cell_type": "markdown",
   "metadata": {},
   "source": [
    "<img src=\"imagenes/diagonalizar.png\">"
   ]
  },
  {
   "cell_type": "markdown",
   "metadata": {},
   "source": [
    "Donde:\n",
    "- U es una matriz unitaria nxn.\n",
    "- V es otra matriz unitaria en mxm.\n",
    "- Sigma es una <b>matriz diagonal</b> de nxm."
   ]
  },
  {
   "cell_type": "markdown",
   "metadata": {},
   "source": [
    "A continuacion, se muestra un metodo para obtener dichas matrices:<br>\n",
    "1) Calcular los <b>autovalores</b> y <b>autovectores</b> de A transpuesta por A. <br>\n",
    "2) La matriz sigma se compone de la raiz cuadrada de los autovalores de A transpuesta por A de forma diagonal y ordenados de forma descendiente. <br>\n",
    "3) La matriz U se compone con los autovalores normalizados como columnas. <br>\n",
    "4) La matriz V se puede obtener resolviendo el sistema AV=USigma sabiendo que V transpuesta por V es la matriz identidad.<br>"
   ]
  },
  {
   "cell_type": "markdown",
   "metadata": {},
   "source": [
    "#### Ejemplo:"
   ]
  },
  {
   "cell_type": "markdown",
   "metadata": {},
   "source": [
    "Sea A:"
   ]
  },
  {
   "cell_type": "markdown",
   "metadata": {},
   "source": [
    "<img src=\"imagenes/A.png\">"
   ]
  },
  {
   "cell_type": "markdown",
   "metadata": {},
   "source": [
    "At * A:"
   ]
  },
  {
   "cell_type": "markdown",
   "metadata": {},
   "source": [
    "<img src=\"imagenes/ATA.png\">"
   ]
  },
  {
   "cell_type": "markdown",
   "metadata": {},
   "source": [
    "Los autovalores son 9 y 4 entonces la matriz sigma estara compuesta de 3 y 2."
   ]
  },
  {
   "cell_type": "markdown",
   "metadata": {},
   "source": [
    "<img src=\"imagenes/sigma.png\">"
   ]
  },
  {
   "cell_type": "markdown",
   "metadata": {},
   "source": [
    "Por otro lado, los autovector normalizado de At A asociado a el autovalor 9 es (1,0) y el asociado al otro autovalor es (0,1). Entonces:"
   ]
  },
  {
   "cell_type": "markdown",
   "metadata": {},
   "source": [
    "<img src=\"imagenes/U.png\">"
   ]
  },
  {
   "cell_type": "markdown",
   "metadata": {},
   "source": [
    "Para encontrar la matriz V solo basta con resolver el sistema de ecuaciones dado por AV=USigma. Realizando cuentas, se obtiene que la matriz V es:"
   ]
  },
  {
   "cell_type": "markdown",
   "metadata": {},
   "source": [
    "<img src=\"imagenes/V.png\">"
   ]
  },
  {
   "cell_type": "markdown",
   "metadata": {},
   "source": [
    "Finalmente, se puede expresar la matriz A de la siguiente forma:"
   ]
  },
  {
   "cell_type": "markdown",
   "metadata": {},
   "source": [
    "<img src=\"imagenes/A_final.png\">"
   ]
  }
 ],
 "metadata": {
  "kernelspec": {
   "display_name": "Python 3",
   "language": "python",
   "name": "python3"
  },
  "language_info": {
   "codemirror_mode": {
    "name": "ipython",
    "version": 3
   },
   "file_extension": ".py",
   "mimetype": "text/x-python",
   "name": "python",
   "nbconvert_exporter": "python",
   "pygments_lexer": "ipython3",
   "version": "3.7.0"
  }
 },
 "nbformat": 4,
 "nbformat_minor": 2
}
