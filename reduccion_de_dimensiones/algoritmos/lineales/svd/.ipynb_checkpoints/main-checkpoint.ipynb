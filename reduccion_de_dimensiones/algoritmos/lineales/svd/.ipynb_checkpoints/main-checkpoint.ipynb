{
 "cells": [
  {
   "cell_type": "markdown",
   "metadata": {},
   "source": [
    "# SVD (Singular value decomposition)"
   ]
  },
  {
   "cell_type": "markdown",
   "metadata": {},
   "source": [
    "La <b>SVD (Singular Value Descomposition)</b> es una de las herramientas mas importantes para la reduccion de dimensiones de un set de datos y surge de realizar una descomposicion de una matriz. La SVD esta intimamente relacionada con el hecho de diagonalizar una matriz dimetrica."
   ]
  },
  {
   "cell_type": "markdown",
   "metadata": {},
   "source": [
    "Sea <b>A</b> una matriz de nxm, se puede demostrar que existen tres matrices U,V y sigma tales que:"
   ]
  },
  {
   "cell_type": "markdown",
   "metadata": {},
   "source": [
    "<img src=\"imagenes/diagonalizar.png\">"
   ]
  },
  {
   "cell_type": "markdown",
   "metadata": {},
   "source": [
    "Donde:\n",
    "- U es una matriz unitaria nxn.\n",
    "- V es otra matriz unitaria en mxm.\n",
    "- Sigma es una <b>matriz diagonal</b> de nxm."
   ]
  },
  {
   "cell_type": "markdown",
   "metadata": {},
   "source": [
    "A continuacion, se muestra un metodo para obtener dichas matrices:<br>\n",
    "1) Calcular los <b>autovalores</b> y <b>autovectores</b> de A transpuesta por A. <br>\n",
    "2) La matriz sigma se compone de la raiz cuadrada de los autovalores de A transpuesta por A de forma diagonal y ordenados de forma descendiente. <br>\n",
    "3) La matriz U se compone con los autovalores normalizados como columnas. <br>\n",
    "4) La matriz V se puede obtener resolviendo el sistema AV=USigma sabiendo que V transpuesta por V es la matriz identidad.<br>"
   ]
  },
  {
   "cell_type": "markdown",
   "metadata": {},
   "source": [
    "#### Ejemplo:"
   ]
  },
  {
   "cell_type": "markdown",
   "metadata": {},
   "source": [
    "Sea A:"
   ]
  },
  {
   "cell_type": "markdown",
   "metadata": {},
   "source": [
    "<img src=\"imagenes/A.png\">"
   ]
  },
  {
   "cell_type": "markdown",
   "metadata": {},
   "source": [
    "At * A:"
   ]
  },
  {
   "cell_type": "markdown",
   "metadata": {},
   "source": [
    "<img src=\"imagenes/ATA.png\">"
   ]
  },
  {
   "cell_type": "markdown",
   "metadata": {},
   "source": [
    "Los autovalores son 9 y 4 entonces la matriz sigma estara compuesta de 3 y 2."
   ]
  },
  {
   "cell_type": "markdown",
   "metadata": {},
   "source": [
    "<img src=\"imagenes/sigma.png\">"
   ]
  },
  {
   "cell_type": "markdown",
   "metadata": {},
   "source": [
    "Por otro lado, los autovector normalizado de At A asociado a el autovalor 9 es (1,0) y el asociado al otro autovalor es (0,1). Entonces:"
   ]
  },
  {
   "cell_type": "markdown",
   "metadata": {},
   "source": [
    "<img src=\"imagenes/U.png\">"
   ]
  },
  {
   "cell_type": "markdown",
   "metadata": {},
   "source": [
    "Para encontrar la matriz V solo basta con resolver el sistema de ecuaciones dado por AV=USigma. Realizando cuentas, se obtiene que la matriz V es:"
   ]
  },
  {
   "cell_type": "markdown",
   "metadata": {},
   "source": [
    "<img src=\"imagenes/V.png\">"
   ]
  },
  {
   "cell_type": "markdown",
   "metadata": {},
   "source": [
    "Finalmente, se puede expresar la matriz A de la siguiente forma:"
   ]
  },
  {
   "cell_type": "markdown",
   "metadata": {},
   "source": [
    "<img src=\"imagenes/A_final.png\">"
   ]
  },
  {
   "cell_type": "markdown",
   "metadata": {},
   "source": [
    "### Aproximacion de Rango k"
   ]
  },
  {
   "cell_type": "markdown",
   "metadata": {},
   "source": [
    "Se ha visto con la SVD reducida que una matriz A se puede representar de una forma compacta donde utilizabamos aquellos <b>r</b> valores singulares no nulos puesto que eran los unicos que aportaban informacion y entonces permitia tambien descartar ciertos vectores de U y V."
   ]
  },
  {
   "cell_type": "markdown",
   "metadata": {},
   "source": [
    "Dicho de otra forma, se puede pensar que como los valores de la matriz sigma se encuentran ordenados de mayor a menor entonces estos valores representan un grado de importancia de los datos. Esto podria dar a entender que la matriz V es una base en donde los vectores de la base estan ordenados por su grado de importancia. En consecuencia, se podria ir mas alla de quedarse con los r valores no nulos, es decir, podria ser posible quedarse con los k valores no nulos de sigma, k menor que r, y aproximar bastante bien a la matriz A, es decir ademas de sacar los nulos, nos quedamos con los k mas importantes."
   ]
  }
 ],
 "metadata": {
  "kernelspec": {
   "display_name": "Python 3",
   "language": "python",
   "name": "python3"
  },
  "language_info": {
   "codemirror_mode": {
    "name": "ipython",
    "version": 3
   },
   "file_extension": ".py",
   "mimetype": "text/x-python",
   "name": "python",
   "nbconvert_exporter": "python",
   "pygments_lexer": "ipython3",
   "version": "3.7.0"
  }
 },
 "nbformat": 4,
 "nbformat_minor": 2
}
