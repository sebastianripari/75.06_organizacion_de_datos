{
 "cells": [
  {
   "cell_type": "markdown",
   "metadata": {},
   "source": [
    "# Sistema de Recomendacion"
   ]
  },
  {
   "cell_type": "markdown",
   "metadata": {},
   "source": [
    "Un <b>Sistema de Recomendacion</b> tiene como objetivo recomendarle al usuario cosas que le interesen, pero que todabia no conoce. Es algo muy util y novedoso, ya que a diferencia de un <b>Sistema de Busqueda</b> como el de Google el usuario tiene que conocer lo que esta buscando. Esto le abre mucho el abanico al usuario ya que lo lleva a por lugares desconocidos que tal ves jamas conoceria. Tiene muchisimas aplicaciones como por ejemplo en una tienda online ofrecerle al usuario productos que desconoce pero que le interesarian conocer y de esa manera aumentar las ventas. Otra aplicacion seria recomendarle peliculas al usuario en una plataforma como Netflix. Y muchas aplicaciones mas."
   ]
  },
  {
   "cell_type": "markdown",
   "metadata": {},
   "source": [
    "## Caracteristicas "
   ]
  },
  {
   "cell_type": "markdown",
   "metadata": {},
   "source": [
    "Un buen sistema de recomendacion tiene que tener los siguientes condimentos:\n",
    "- <b>Precision</b>: Indica que debe recomendarle al usuario lo que le gusta y interesa, si falla en esto, no las recomendaciones van a ser ignoradas, o van a causar un impacto negativo en el usuario y dejara de confiar en las recomendaciones que de el sistema.\n",
    "- <b>Serendipity</b>: Habla de recomendar las cosas no obvias, no populares, ya que las cosas que son populares son faciles de encontrar o de que nos topemos, por lo tanto que el sistema lo recomiende no cambia nada. En cambio si el sistema recomienda cosas que muy probablemente no encontrariamos sino fuera por el seria mucho mas probechoso. Segun la ley <b>long tail</b> hay una minoria de cosas populares y una gran cantidad de cosas que no son populares.\n",
    "- <b>Diversidad</b>: Consiste en el que el sistema recomiende cosas de diferentes categorias, que no se quede con uan cosa en especifica, que lo haga explorar al usuario en diferentes cosas."
   ]
  },
  {
   "cell_type": "markdown",
   "metadata": {},
   "source": [
    "## Dificultades y Desafios"
   ]
  },
  {
   "cell_type": "markdown",
   "metadata": {},
   "source": [
    "Los <b>gustos de los usuarios a veces cambian</b> y esto es <b>dificil</b> detectarlo con precision, ya que si el usuario viene viendo cosas de cierto tipo pero en luego empieza a ver cosas de otro tipo puede que sea porque esta cambiando de gusto o simplemente porque tuvo que hacerlo obligadamente por cierto motivo, asi que aqui el sistema puede tomar dos caminos, recomendarle cosas del nuevo tipo o asumir que no cambio de gusto y seguir mostrandole cosas del viejo tipo. Lo que ayuda mucho a resolver esta situacion es que el sistema sea <b>diverso</b>."
   ]
  },
  {
   "cell_type": "markdown",
   "metadata": {},
   "source": [
    "Otro factor que <b>lo complica todo es el tiempo</b>, hace que las cosas vallan perdiendo relevancia, esto se da mucho en la tecnologia por ejemplo, donde va mejorando y avanzando todo el tiempo no podemos recomendarle a un usuario que compra cosas de ultimo modelo, modelos viejos."
   ]
  },
  {
   "cell_type": "markdown",
   "metadata": {},
   "source": [
    "## Sistemas Basados en Contenidos (Content Based)"
   ]
  },
  {
   "cell_type": "markdown",
   "metadata": {},
   "source": [
    "Este sistema de recomendacion esta basado en <b>mostrarle al usuario contenido similar al que le ha gustado antiguamente</b>."
   ]
  },
  {
   "cell_type": "markdown",
   "metadata": {},
   "source": [
    "La forma en que funciona es construyendo un <b>vector</b> para cada item, y un <b>vector</b> para cada usuario. Donde cada <b>feature</b> de este vector representa una caracteristica. Por <b>ejemplo</b> supongamos que se trata de un sistema de recomendacion de peliculas. Ejemplos de features podrian ser \"es de accion\", \"es larga\", \"trabaja Bruce Willis\", etc. Entonces en cada una de estas dimensiones abra un 1 o un 0 dependiendo de si la pelicula posee la caracteristica o no. Luego el usuario puntua una cierta pelicula con un 5 por ejemplo, entonces le sumamos 5 a cada feature del vector del usuario para las caracteristicas que tienen un 1 en el vector de la pelicula. De esta manera se va construyendo el vector de los gustos del usuario."
   ]
  },
  {
   "cell_type": "markdown",
   "metadata": {},
   "source": [
    "Luego, podemos estimar la calificacion que le daria un usuario a un cierto item, calculando el coseno del angulo entre el <b>vector usuario</b> y el <b>vector profile</b>:"
   ]
  },
  {
   "cell_type": "markdown",
   "metadata": {},
   "source": [
    "\\begin{equation}\n",
    "cos(\\theta) = \\frac{xy}{||x|| ||y||}\n",
    "\\end{equation}"
   ]
  }
 ],
 "metadata": {
  "kernelspec": {
   "display_name": "Python 3",
   "language": "python",
   "name": "python3"
  },
  "language_info": {
   "codemirror_mode": {
    "name": "ipython",
    "version": 3
   },
   "file_extension": ".py",
   "mimetype": "text/x-python",
   "name": "python",
   "nbconvert_exporter": "python",
   "pygments_lexer": "ipython3",
   "version": "3.7.0"
  }
 },
 "nbformat": 4,
 "nbformat_minor": 2
}
