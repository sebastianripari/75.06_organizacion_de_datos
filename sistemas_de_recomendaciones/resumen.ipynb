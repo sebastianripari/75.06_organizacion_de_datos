{
 "cells": [
  {
   "cell_type": "markdown",
   "metadata": {},
   "source": [
    "# Sistema de Recomendacion"
   ]
  },
  {
   "cell_type": "markdown",
   "metadata": {},
   "source": [
    "Un <b>Sistema de Recomendacion</b> tiene como objetivo recomendarle al usuario cosas que le interesen, pero que todabia no conoce. Es algo muy util y novedoso, ya que a diferencia de un <b>Sistema de Busqueda</b> como el de Google el usuario tiene que conocer lo que esta buscando. Esto le abre mucho el abanico al usuario ya que lo lleva a por lugares desconocidos que tal ves jamas conoceria. Tiene muchisimas aplicaciones como por ejemplo en una tienda online ofrecerle al usuario productos que desconoce pero que le interesarian conocer y de esa manera aumentar las ventas. Otra aplicacion seria recomendarle peliculas al usuario en una plataforma como Netflix. Y muchas aplicaciones mas."
   ]
  },
  {
   "cell_type": "markdown",
   "metadata": {},
   "source": [
    "## Caracteristicas "
   ]
  },
  {
   "cell_type": "markdown",
   "metadata": {},
   "source": [
    "Un buen sistema de recomendacion tiene que tener los siguientes condimentos:\n",
    "- <b>Precision</b>: Indica que debe recomendarle al usuario lo que le gusta y interesa, si falla en esto, no las recomendaciones van a ser ignoradas, o van a causar un impacto negativo en el usuario y dejara de confiar en las recomendaciones que de el sistema.\n",
    "- <b>Serendipity</b>: Habla de recomendar las cosas no obvias, no populares, ya que las cosas que son populares son faciles de encontrar o de que nos topemos, por lo tanto que el sistema lo recomiende no cambia nada. En cambio si el sistema recomienda cosas que muy probablemente no encontrariamos sino fuera por el seria mucho mas probechoso. Segun la ley <b>long tail</b> hay una minoria de cosas populares y una gran cantidad de cosas que no son populares.\n",
    "- <b>Diversidad</b>: Consiste en el que el sistema recomiende cosas de diferentes categorias, que no se quede con uan cosa en especifica, que lo haga explorar al usuario en diferentes cosas."
   ]
  },
  {
   "cell_type": "markdown",
   "metadata": {},
   "source": [
    "## Dificultades y Desafios"
   ]
  },
  {
   "cell_type": "markdown",
   "metadata": {},
   "source": [
    "Los <b>gustos de los usuarios a veces cambian</b> y esto es <b>dificil</b> detectarlo con precision, ya que si el usuario viene viendo cosas de cierto tipo pero en luego empieza a ver cosas de otro tipo puede que sea porque esta cambiando de gusto o simplemente porque tuvo que hacerlo obligadamente por cierto motivo, asi que aqui el sistema puede tomar dos caminos, recomendarle cosas del nuevo tipo o asumir que no cambio de gusto y seguir mostrandole cosas del viejo tipo. Lo que ayuda mucho a resolver esta situacion es que el sistema sea <b>diverso</b>."
   ]
  },
  {
   "cell_type": "markdown",
   "metadata": {},
   "source": [
    "Otro factor que <b>lo complica todo es el tiempo</b>, hace que las cosas vallan perdiendo relevancia, esto se da mucho en la tecnologia por ejemplo, donde va mejorando y avanzando todo el tiempo no podemos recomendarle a un usuario que compra cosas de ultimo modelo, modelos viejos."
   ]
  },
  {
   "cell_type": "markdown",
   "metadata": {},
   "source": [
    "## Sistemas Basados en Contenidos (Content Based)"
   ]
  },
  {
   "cell_type": "markdown",
   "metadata": {},
   "source": [
    "Este sistema de recomendacion esta basado en <b>mostrarle al usuario contenido similar al que le ha gustado antiguamente</b>."
   ]
  },
  {
   "cell_type": "markdown",
   "metadata": {},
   "source": [
    "La forma en que funciona es construyendo un <b>vector</b> para cada item, y un <b>vector</b> para cada usuario. Donde cada <b>feature</b> de este vector representa una caracteristica. Por <b>ejemplo</b> supongamos que se trata de un sistema de recomendacion de peliculas. Ejemplos de features podrian ser \"es de accion\", \"es larga\", \"trabaja Bruce Willis\", etc. Entonces en cada una de estas dimensiones abra un 1 o un 0 dependiendo de si la pelicula posee la caracteristica o no. Luego el usuario puntua una cierta pelicula con un 5 por ejemplo, entonces le sumamos 5 a cada feature del vector del usuario para las caracteristicas que tienen un 1 en el vector de la pelicula. De esta manera se va construyendo el vector de los gustos del usuario."
   ]
  },
  {
   "cell_type": "markdown",
   "metadata": {},
   "source": [
    "Luego, podemos estimar la calificacion que le daria un usuario a un cierto item, calculando el coseno del angulo entre el <b>vector usuario</b> y el <b>vector profile</b>:"
   ]
  },
  {
   "cell_type": "markdown",
   "metadata": {},
   "source": [
    "\\begin{equation}\n",
    "\\large cos(\\theta) = \\frac{xy}{||x|| ||y||}\n",
    "\\end{equation}"
   ]
  },
  {
   "cell_type": "markdown",
   "metadata": {},
   "source": [
    "## Collaborative Filtering"
   ]
  },
  {
   "cell_type": "markdown",
   "metadata": {},
   "source": [
    "La idea de este sistema de recomendaciones, es recomendar productos en base a si a el usuario le gustaron items parecidos, o si a usuarios parecidos le gusto ese item. Por eso el nombre de <b>collaborative</b>, porque los colaboradores para una buena recomendacion son los demas usuarios y los demas items."
   ]
  },
  {
   "cell_type": "markdown",
   "metadata": {},
   "source": [
    "El algoritmo trabaja con una <b>matriz de utilidad</b> de <b>n x m</b>, donde <b>n</b> es la cantidad de usuarios y <b>m</b> es la cantidad de items. En esta encontraremos las puntuaciones que realiza el usuario <b>i</b> en el item <b>j</b>. Y los lugares vacios son donde el sistema tiene que trabajar para predecirlos, y si precide un buen puntaje entonces realizar la recomendacion al usuario."
   ]
  },
  {
   "cell_type": "markdown",
   "metadata": {},
   "source": [
    "### Recomendacion basada en semejansa entre usuarios"
   ]
  },
  {
   "cell_type": "markdown",
   "metadata": {},
   "source": [
    "La calificacion de un usuario a un cierto item se calcula como un promedio ponderado de las calificaciones de los demas usuario ponderadamente por la semejanza que tengan entre ellos. Entonces para los usuarios que no son para nada semejantes sus calificaciones no van a influir. Una de las funciones mas usadas para calcular la similitud entre usuarios es la funcion de <b>correlacion de Pearson</b>."
   ]
  },
  {
   "cell_type": "markdown",
   "metadata": {},
   "source": [
    "### Recomendacion basada en semejanza entre items"
   ]
  },
  {
   "cell_type": "markdown",
   "metadata": {},
   "source": [
    "La califiacion de un usuario a un cierto item se calcula como un promedio ponderado de las calificaciones este usuario le dio a los demas items poderadamente por la semejanza entre items. Nuevamente para la semejanza se usa la <b>correlacion de Pearson</b>."
   ]
  },
  {
   "cell_type": "markdown",
   "metadata": {},
   "source": [
    "## Evaluacion de Sistemas de Recomendacion"
   ]
  },
  {
   "cell_type": "markdown",
   "metadata": {},
   "source": [
    "Podemos realizar evaluacion de que tan bueno predice nuestro sistema de recomendacion en cuanto a si las cosas que nosotros recomendamos son las que al usuario le gusta. Ya lo que hacemos separar el set de datos en set de entrenamiento y set de test, como con los algoritmos de machine learning, y ver si las predicciones que hacemos coinciden con los datos del set de test. Pero esto no es del todo indicativo de que nuestro sistema de recomendacion es bueno o malo. Ya que no se esta teniendo en cuenta las recomendaciones que el sistema no hizo, y que podrian haber sido buenas. Asi que evaluar un sistema de recomendaciones una tarea muy dificil."
   ]
  },
  {
   "cell_type": "markdown",
   "metadata": {},
   "source": [
    "### Evaluacion basada en predicciones"
   ]
  },
  {
   "cell_type": "markdown",
   "metadata": {},
   "source": [
    "Este tipo de evaluacion es separar del set de datos un pequenio porcentaje, por ejemplo 20%, entonces entrenamos nuestro sistema de recomendacion con el 80% restante, y luego evaluamos que tan bien predice con el 20% que separamos. "
   ]
  },
  {
   "cell_type": "markdown",
   "metadata": {},
   "source": [
    "El calculo para calcular la efectividad del sistema seria: <b>Root Mean Media Square</b>:"
   ]
  },
  {
   "cell_type": "markdown",
   "metadata": {},
   "source": [
    "\\begin{equation}\n",
    "\\large J = \\sqrt{\\frac{1}{N} \\sum_{ij}(\\hat{r}_{ij}-r_{ij})^2}\n",
    "\\end{equation}"
   ]
  },
  {
   "cell_type": "markdown",
   "metadata": {},
   "source": [
    "## Modelos Latentes"
   ]
  },
  {
   "cell_type": "markdown",
   "metadata": {},
   "source": [
    "Estos modelos son los que se dan cuenta de los <b>gustos del usuario</b> en base a datos pasados. Por <b>ejemplo</b> en peliculas, si al usuario le gusto Star Wars, Star Strek y Superman entonces muy probablemente al usuario le gusten las peliculas de ciencia ficcion. Esto es algo mas poderoso de lo que hacia <b>Collaborative Filtering</b> ya que este ultimo no llegaba a generalizar sobre los gustos del usuario sino que lo hace es simplemente hacer comparativas de caracteristicas."
   ]
  },
  {
   "cell_type": "markdown",
   "metadata": {},
   "source": [
    "Hay dos metodos que funcionan bien para <b>modelos latentes</b>: <b>SVD++</b> y <b>RBMs</b>."
   ]
  },
  {
   "cell_type": "markdown",
   "metadata": {},
   "source": [
    "## SVD++"
   ]
  },
  {
   "cell_type": "markdown",
   "metadata": {},
   "source": [
    "El algoritmo <b>SVD++</b> fue presentado en una competencia de <b>Netflix</b> por un premio de un millon de usd. Y fue un gran salto en el avance de un sistema de recomendacion, hoy en dia se usa mucho. Esta basado en <b>descomponer la matriz de utilidad</b> para encontrar los <b>factores latentes</b>."
   ]
  },
  {
   "cell_type": "markdown",
   "metadata": {},
   "source": [
    "<b>Descomposicion</b>:"
   ]
  },
  {
   "cell_type": "markdown",
   "metadata": {},
   "source": [
    "\\begin{equation}\n",
    "\\large U_{mxn} = Q_{mxr} P^t_{nxr}\n",
    "\\end{equation}"
   ]
  },
  {
   "cell_type": "markdown",
   "metadata": {},
   "source": [
    "Donde:\n",
    "- <b>r</b> es la cantidad de <b>factores latentes</b>. Es un parametro que debemos fijar.\n",
    "- <b>m</b> es la cantidad de <b>items</b>.\n",
    "- <b>n</b> es la cantidad de <b>usuarios</b>."
   ]
  },
  {
   "cell_type": "markdown",
   "metadata": {},
   "source": [
    "Por lo tanto:\n",
    "- La matriz <b>Q</b>: Expresa la <b>relacion</b> entre los items y los factores latentes.\n",
    "- La matriz <b>P</b>: Expresa la <b>relacion</b> entre los factores y los usuarios."
   ]
  },
  {
   "cell_type": "markdown",
   "metadata": {},
   "source": [
    "## Factorization Machines "
   ]
  },
  {
   "cell_type": "markdown",
   "metadata": {},
   "source": [
    "Es uno de los algoritmos que mejores resultados suele dar en competencias de sistemas de recomendacion, se basa en encontrar los <b>factores latentes</b>."
   ]
  },
  {
   "cell_type": "markdown",
   "metadata": {},
   "source": [
    "Supongamos que tenemos calficaciones en triplas del estilo {userid, movieid, rating}. El <b>modelo</b>, de regresion, es el siguiente:"
   ]
  },
  {
   "cell_type": "markdown",
   "metadata": {},
   "source": [
    "\\begin{equation}\n",
    "\\large \\hat{y} = w_0 + w_1 userid + w_2 movieid \n",
    "\\end{equation}"
   ]
  },
  {
   "cell_type": "markdown",
   "metadata": {},
   "source": [
    "Donde <b>y</b> seria la calificacion. El problema es que no tiene sentido usar variables numericas como user id o el movie id para la estimacion de la calificacion por claramente movie id o user id podrian ser numeros muy grandes. La solucion a este problema es convertir userid y movieid en n y m variables binarias mediante <b>one-hot encoding</b>. Esto es, si tenemos 4 usuarios el usuario dos es (0,1,0,0) y si tenemos 5 peliculas la pelicula 3 es (0,0,1,0,0). Llevamos todo a un mismo vector (0,<b>1</b>,0,0,0,0,<b>1</b>,0,0,<b>4</b>) que indica que el usuario 2 califico a la pelicula 3 con un 4."
   ]
  },
  {
   "cell_type": "markdown",
   "metadata": {},
   "source": [
    "Entonces ahora el <b>modelo</b> queda: "
   ]
  },
  {
   "cell_type": "markdown",
   "metadata": {},
   "source": [
    "\\begin{equation}\n",
    "\\large \\hat{y} = w_0 + \\sum^n_{i = 1} {w_i * x_i} + \\sum^{m + n}_{j = 1 + n} {w_j * x_j}\n",
    "\\end{equation}"
   ]
  },
  {
   "cell_type": "markdown",
   "metadata": {},
   "source": [
    "Luego el algoritmo se encarga de buscar los pesos <b>w</b> y luego los usara para la prediccion."
   ]
  }
 ],
 "metadata": {
  "kernelspec": {
   "display_name": "Python 3",
   "language": "python",
   "name": "python3"
  },
  "language_info": {
   "codemirror_mode": {
    "name": "ipython",
    "version": 3
   },
   "file_extension": ".py",
   "mimetype": "text/x-python",
   "name": "python",
   "nbconvert_exporter": "python",
   "pygments_lexer": "ipython3",
   "version": "3.6.4"
  }
 },
 "nbformat": 4,
 "nbformat_minor": 2
}
