{
 "cells": [
  {
   "cell_type": "markdown",
   "metadata": {},
   "source": [
    "# Collaborative Filtering"
   ]
  },
  {
   "cell_type": "markdown",
   "metadata": {},
   "source": [
    "Sean <b>n</b> usuarios y <b>m</b> items. Los usuarios califican los items con un numero de 1 a 5. Podemos representar esto en una matriz de: <b>n x m</b> que denominaremos <b>matriz de utilidad</b>."
   ]
  },
  {
   "cell_type": "markdown",
   "metadata": {},
   "source": [
    "<img src=\"imagenes/matriz_de_utilidad.png\">"
   ]
  },
  {
   "cell_type": "markdown",
   "metadata": {},
   "source": [
    "Notemos que la matriz tiene muchos <b>huecos</b>. Esto se debe a que de todas las calificaciones posibles solo existen algunas pocas. Esto es en cierta forma similar a decir que la matriz es <b>dispersa</b> pero no es exactamente lo mismo: Los elementos que faltan <b>no son ceros sino que son numeros desconocidos</b>."
   ]
  },
  {
   "cell_type": "markdown",
   "metadata": {},
   "source": [
    "El objetivo de <b>Collaborative Filtering (CF)</b> es estimar las calificaciones que nos faltan en la matriz de utilidad. "
   ]
  },
  {
   "cell_type": "markdown",
   "metadata": {},
   "source": [
    "<b>CF</b> tiene dos formas de estimar las calificaciones que faltan:\n",
    "- Semejanza entre usuarios.\n",
    "- Semejanza entre items."
   ]
  },
  {
   "cell_type": "markdown",
   "metadata": {},
   "source": [
    "### Semejanza entre usuarios (User User)"
   ]
  },
  {
   "cell_type": "markdown",
   "metadata": {},
   "source": [
    "Supongamos que queremos <b>estimar las calificaciones</b> que le faltan al usuario <b>i</b>. Lo que hacemos es buscar los usuarios mas similares a <b>i</b> y luego estimar las calificaciones faltantes en base a un promedio ponderado de las calificaciones de los demas usuarios ponderadas de acuerdo a la semejanza que tengan con nuestro usuario <b>i</b>."
   ]
  },
  {
   "cell_type": "markdown",
   "metadata": {},
   "source": [
    "Necesitamos entonces una <b>funcion de semejanza</b> entre usuarios <b>sim(u,v)</b> que calcule cuan similares son dos usuarios en base a las calificaciones que han realizado los mismos. Cuanto mas parecidas sean estas calificaciones mas parecidos seran los usuarios. Usuarios que han calificado conjuntos de items disjuntos tendran semejanza nula."
   ]
  },
  {
   "cell_type": "markdown",
   "metadata": {},
   "source": [
    "Una de las funciones mas usadas para calcular la semejanza es la funcion de <b>correlacion de Pearson</b>:"
   ]
  },
  {
   "cell_type": "markdown",
   "metadata": {},
   "source": [
    "<img src=\"imagenes/correlacion_de_pearson.png\">"
   ]
  },
  {
   "cell_type": "markdown",
   "metadata": {},
   "source": [
    "\\begin{equation}\n",
    "\\bar{r_x}\n",
    "\\end{equation}"
   ]
  },
  {
   "cell_type": "markdown",
   "metadata": {},
   "source": [
    "Es el promedio de calificacion del usuario x. Notemos que si estos promedios fueran cero entonces las cuentas se simplifican mucho. Por lo tanto hagamos esto, logremos que el primedio sea cero, restandole el primedio a todas las calificaciones."
   ]
  },
  {
   "cell_type": "markdown",
   "metadata": {},
   "source": [
    "Para el primer usuario: <br> \n",
    "<b>x = (2,NA,2,4,5,NA)</b> => <b>la media es 3.25</b> <br>\n",
    "Ahora restemosle la media cada componente del vector. <br>\n",
    "<b>x = (-1.25,NA,-1.25,0.75,1.75,NA)</b>"
   ]
  },
  {
   "cell_type": "markdown",
   "metadata": {},
   "source": [
    "Para un usuario dado, por ejemplo el usuario 5 en nuestraz matriz podemos calcular la semejanza con todos los demas usuarios usando el coseno, luego de restar el promedio a cada calificacion."
   ]
  },
  {
   "cell_type": "markdown",
   "metadata": {},
   "source": [
    "..... me falto terminar el ejemplo ....."
   ]
  },
  {
   "cell_type": "markdown",
   "metadata": {},
   "source": [
    "### Semejanza entre items (Item Item)"
   ]
  },
  {
   "cell_type": "markdown",
   "metadata": {},
   "source": [
    "En esta variante lo que vamos a hacer para estimar la calificacion de un usuario para un item es buscar los items mas parecidos al que queremos estimar y que haya sido calificados por el usuario. Luego estimamos la calificacion haciendo un promedio ponderado entre las calificaciones del usuario para estos items y la semejanza que tienen con le item que queremos estimar."
   ]
  },
  {
   "cell_type": "markdown",
   "metadata": {},
   "source": [
    "Vamos a utilizar la siguiente matriz de utilidad:"
   ]
  },
  {
   "cell_type": "markdown",
   "metadata": {},
   "source": [
    "<img src=\"imagenes/matriz_utilidad_item_item.png\">"
   ]
  },
  {
   "cell_type": "markdown",
   "metadata": {},
   "source": [
    "Supongamos que queremos estimar la calificacion del usuario 5 para la pelicula 1. El primer paso es calcular la semejanza de todas las demas peliculas con respecto a la uno. Para esto restamos a cada calificacion el promedio de la pelicula y usamos el coseno."
   ]
  },
  {
   "cell_type": "markdown",
   "metadata": {},
   "source": [
    "Notar que el modelo <b>user-user</b> restabamos a cada calificacion el promedio del usuario y en el modelo <b>item-item</b> vamos a restar el promedio de cada item (pelicula)."
   ]
  },
  {
   "cell_type": "code",
   "execution_count": null,
   "metadata": {},
   "outputs": [],
   "source": []
  }
 ],
 "metadata": {
  "kernelspec": {
   "display_name": "Python 3",
   "language": "python",
   "name": "python3"
  },
  "language_info": {
   "codemirror_mode": {
    "name": "ipython",
    "version": 3
   },
   "file_extension": ".py",
   "mimetype": "text/x-python",
   "name": "python",
   "nbconvert_exporter": "python",
   "pygments_lexer": "ipython3",
   "version": "3.6.4"
  }
 },
 "nbformat": 4,
 "nbformat_minor": 2
}
