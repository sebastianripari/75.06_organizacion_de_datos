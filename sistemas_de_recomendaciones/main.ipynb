{
 "cells": [
  {
   "cell_type": "markdown",
   "metadata": {},
   "source": [
    "# Sistemas de Recomendaciones"
   ]
  },
  {
   "cell_type": "markdown",
   "metadata": {},
   "source": [
    "Un sistema de recomendaciones tiene el objetivo de recomendarle a usuario contenido que le interese, pero no que no sabe que existe, que no conoce. "
   ]
  },
  {
   "cell_type": "markdown",
   "metadata": {},
   "source": [
    "Hay una gran diferencia entre un sistema de recomendacion y un sistema de busquedas como Google. En el segundo el usuario sabe lo que esta buscando, en cambio en el primero no. "
   ]
  },
  {
   "cell_type": "markdown",
   "metadata": {},
   "source": [
    "Cuando se trata de busquedas, el usuario queda limitado a lo que conoce. Y se pierde todo lo que no le interesa pero que no conoce, este subespacio de lo desconocido suele ser mas grande que el subespacio de lo conocido. Por lo tanto poder brindarle lo desconocido es algo sumamente provechoso. Es algo de un gran avance."
   ]
  },
  {
   "cell_type": "markdown",
   "metadata": {},
   "source": [
    "## Caracteristicas de un Sistema de Recomendaciones"
   ]
  },
  {
   "cell_type": "markdown",
   "metadata": {},
   "source": [
    "Un sistema exitoso de recomendacion debe cumplir con las siguientes caracteristicas: <br>\n",
    "<b>Precision</b> <br>\n",
    "<b>Serendipity</b> <br>\n",
    "<b>Diversidad</b> <br>"
   ]
  },
  {
   "cell_type": "markdown",
   "metadata": {},
   "source": [
    "### Precision "
   ]
  },
  {
   "cell_type": "markdown",
   "metadata": {},
   "source": [
    "Con precision se refiere a que sea preciso en recomendar lo que le gusta al usuario. Porque si le recomienda cosas quen o le gustan el usuario terminara desconfiando del sistema."
   ]
  },
  {
   "cell_type": "markdown",
   "metadata": {},
   "source": [
    "### Serendipity"
   ]
  },
  {
   "cell_type": "markdown",
   "metadata": {},
   "source": [
    "Esta caracteristica refiere a no mostrarle al usuario contenido que ya conoce o que puede descubrir facilmente por sus propios medios. Las cosas que puede descubrir muy facilmente son las cosas muy populares, asi que lo ideal que le recomiende cosas que no son populares. "
   ]
  },
  {
   "cell_type": "markdown",
   "metadata": {},
   "source": [
    "Las distribucion de la la popularidad de cosas, esta dado por el <b>principio de Long Tail</b> que dice que hay pocos contenidos que son muy populares y una enorme cantidad de contenidos que tienen baja popularidad."
   ]
  },
  {
   "cell_type": "markdown",
   "metadata": {},
   "source": [
    "<img src=\"imagenes/long_tail.png\">"
   ]
  },
  {
   "cell_type": "markdown",
   "metadata": {},
   "source": [
    "El <b>long tail</b> hace referencia a la enorme cantidad de productos que no son muy populares y es a estos donde debe apuntar sus sugerencias un sistema de recomendaciones. "
   ]
  },
  {
   "cell_type": "markdown",
   "metadata": {},
   "source": [
    "### Diversidad "
   ]
  },
  {
   "cell_type": "markdown",
   "metadata": {},
   "source": [
    "Esta caracteristica apunta a que el sistema recomiende productos de diversos tipos, si se tratase de pelicula. Un sistema de recomendacion diverso es aquel que recomienda peliculas de varios generos."
   ]
  },
  {
   "cell_type": "markdown",
   "metadata": {},
   "source": [
    "## Dificultades / Desafios de un Sistema de Recomendaciones"
   ]
  },
  {
   "cell_type": "markdown",
   "metadata": {},
   "source": [
    "Los gustos de los usuarios pueden cambiar, entonces por ejemplo un usuario que venia comprando libros de ciencia ficcion, comienza a comprar libros de historia. En este punto el sistema de recomendaciones no sabe si al usuario ya no le gusta la ciencia ficcion, y ahora le gusta la historia. O bien le sigue gustando la ciencia ficcion y compro libros de historia solamente para estudiar para un examen."
   ]
  },
  {
   "cell_type": "markdown",
   "metadata": {},
   "source": [
    "Lo que ayuda a solucionar este problema es que el Sistema de Recomendaciones sea diverso."
   ]
  },
  {
   "cell_type": "markdown",
   "metadata": {},
   "source": [
    "### La influencia del tiempo"
   ]
  },
  {
   "cell_type": "markdown",
   "metadata": {},
   "source": [
    "Las calificaciones que posee el objeto con el pasar del tiempo pierden relevancia, por ejemplo los reviews de un producto tecnologico, luego de una decada, ya pasan a ser casi inutiles. Ya que lo excelente en ese momento no es lo excelente de ahora, ya que ahora seguramente lo excelente sea un producto con una tecnologia muy superior."
   ]
  }
 ],
 "metadata": {
  "kernelspec": {
   "display_name": "Python 3",
   "language": "python",
   "name": "python3"
  },
  "language_info": {
   "codemirror_mode": {
    "name": "ipython",
    "version": 3
   },
   "file_extension": ".py",
   "mimetype": "text/x-python",
   "name": "python",
   "nbconvert_exporter": "python",
   "pygments_lexer": "ipython3",
   "version": "3.7.0"
  }
 },
 "nbformat": 4,
 "nbformat_minor": 2
}
