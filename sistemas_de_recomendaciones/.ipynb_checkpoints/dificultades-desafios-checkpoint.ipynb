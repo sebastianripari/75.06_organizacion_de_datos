{
 "cells": [
  {
   "cell_type": "markdown",
   "metadata": {},
   "source": [
    "# Dificultades / Desafios de un Sistema de Recomendaciones"
   ]
  },
  {
   "cell_type": "markdown",
   "metadata": {},
   "source": [
    "### Los gustos de los usuarios pueden cambiar"
   ]
  },
  {
   "cell_type": "markdown",
   "metadata": {},
   "source": [
    "Los gustos de los usuarios pueden cambiar, entonces por ejemplo un usuario que venia comprando libros de ciencia ficcion, comienza a comprar libros de historia. En este punto el sistema de recomendaciones no sabe si al usuario ya no le gusta la ciencia ficcion, y ahora le gusta la historia. O bien le sigue gustando la ciencia ficcion y compro libros de historia solamente para estudiar para un examen."
   ]
  },
  {
   "cell_type": "markdown",
   "metadata": {},
   "source": [
    "Lo que ayuda a solucionar este problema es que el Sistema de Recomendaciones sea diverso."
   ]
  },
  {
   "cell_type": "markdown",
   "metadata": {},
   "source": [
    "### La influencia del tiempo"
   ]
  },
  {
   "cell_type": "markdown",
   "metadata": {},
   "source": [
    "Las calificaciones que posee el objeto con el pasar del tiempo pierden relevancia, por ejemplo los reviews de un producto tecnologico, luego de una decada, ya pasan a ser casi inutiles. Ya que lo excelente en ese momento no es lo excelente de ahora, ya que ahora seguramente lo excelente sea un producto con una tecnologia muy superior."
   ]
  }
 ],
 "metadata": {
  "kernelspec": {
   "display_name": "Python 3",
   "language": "python",
   "name": "python3"
  },
  "language_info": {
   "codemirror_mode": {
    "name": "ipython",
    "version": 3
   },
   "file_extension": ".py",
   "mimetype": "text/x-python",
   "name": "python",
   "nbconvert_exporter": "python",
   "pygments_lexer": "ipython3",
   "version": "3.7.0"
  }
 },
 "nbformat": 4,
 "nbformat_minor": 2
}
