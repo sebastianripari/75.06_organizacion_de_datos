{
 "cells": [
  {
   "cell_type": "markdown",
   "metadata": {},
   "source": [
    "# Sistema de Recomendacion"
   ]
  },
  {
   "cell_type": "markdown",
   "metadata": {},
   "source": [
    "Un <b>Sistema de Recomendacion</b> tiene como objetivo recomendarle al usuario cosas que le interesen, pero que todabia no conoce. Es algo muy util y novedoso, ya que a diferencia de un <b>Sistema de Busqueda</b> como el de Google el usuario tiene que conocer lo que esta buscando. Esto le abre mucho el abanico al usuario ya que lo lleva a por lugares desconocidos que tal ves jamas conoceria. Tiene muchisimas aplicaciones como por ejemplo en una tienda online ofrecerle al usuario productos que desconoce pero que le interesarian conocer y de esa manera aumentar las ventas. Otra aplicacion seria recomendarle peliculas al usuario en una plataforma como Netflix. Y muchas aplicaciones mas."
   ]
  },
  {
   "cell_type": "markdown",
   "metadata": {},
   "source": [
    "## Caracteristicas "
   ]
  },
  {
   "cell_type": "markdown",
   "metadata": {},
   "source": [
    "Un buen sistema de recomendacion tiene que tener los siguientes condimentos:\n",
    "- <b>Precision</b>: Indica que debe recomendarle al usuario lo que le gusta y interesa, si falla en esto, no las recomendaciones van a ser ignoradas, o van a causar un impacto negativo en el usuario y dejara de confiar en las recomendaciones que de el sistema.\n",
    "- <b>Serendipity</b>: Habla de recomendar las cosas no obvias, no populares, ya que las cosas que son populares son faciles de encontrar o de que nos topemos, por lo tanto que el sistema lo recomiende no cambia nada. En cambio si el sistema recomienda cosas que muy probablemente no encontrariamos sino fuera por el seria mucho mas probechoso. Segun la ley <b>long tail</b> hay una minoria de cosas populares y una gran cantidad de cosas que no son populares.\n",
    "- <b>Diversidad</b>: Consiste en el que el sistema recomiende cosas de diferentes categorias, que no se quede con uan cosa en especifica, que lo haga explorar al usuario en diferentes cosas."
   ]
  },
  {
   "cell_type": "markdown",
   "metadata": {},
   "source": [
    "## Dificultades y Desafios"
   ]
  },
  {
   "cell_type": "markdown",
   "metadata": {},
   "source": []
  }
 ],
 "metadata": {
  "kernelspec": {
   "display_name": "Python 3",
   "language": "python",
   "name": "python3"
  },
  "language_info": {
   "codemirror_mode": {
    "name": "ipython",
    "version": 3
   },
   "file_extension": ".py",
   "mimetype": "text/x-python",
   "name": "python",
   "nbconvert_exporter": "python",
   "pygments_lexer": "ipython3",
   "version": "3.7.0"
  }
 },
 "nbformat": 4,
 "nbformat_minor": 2
}
