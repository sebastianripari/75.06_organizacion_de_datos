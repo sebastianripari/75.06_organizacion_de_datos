{
 "cells": [
  {
   "cell_type": "markdown",
   "metadata": {},
   "source": [
    "# Factorization Machines"
   ]
  },
  {
   "cell_type": "markdown",
   "metadata": {},
   "source": [
    "El algotimo <b>FM</b> es uno de los que mejores resultados suele dar en competencias en las cuales hay que construir un sistema de recomendaciones, este algoritmo puede usarse tanto para recomendaciones como para clasificacion o regresion y se basa en encontrar los factores latentes asociados a cada variable del sistema."
   ]
  },
  {
   "cell_type": "markdown",
   "metadata": {},
   "source": [
    "Para empezar la presentacion del algoritmo supongamos que tenemos calificaciones de usuarios en triplas del estilo {userid,movieid,rating}. Podriamos pensar en usar una simple regresion lineal para estimar la calificacion de un usuario a una pelicula de la forma:"
   ]
  },
  {
   "cell_type": "markdown",
   "metadata": {},
   "source": [
    "<img src=\"imagenes/regresion_lineal_pesos_raiting.png\">"
   ]
  },
  {
   "cell_type": "markdown",
   "metadata": {},
   "source": [
    "Por supuesto que esto no funcionaria ya que no tiene sentido usar el userid y movieid como variables numericas en una regresion lineal. Que el userid sea 10 o 20000 no deberia afectar el coeficiente para estimar la calificacion del item. La solucion a este problema es convertir el userid y movieid en n y m variables binarias mediante <b>one-hot encoding</b>. Si tenemos 4 usuarios el usuario 2 quedaria codificado como (0,1,0,0) y si tenemos 5 peliculas la pelicula 3 quedaria (0,0,1,0,0) y entonces podriamos tener vectores de la forma (0,1,0,0,0,0,1,0,0,4) indicando que si el usuario 2 de 4 califico con 4 la pelicula 3 de 5 que hay."
   ]
  },
  {
   "cell_type": "markdown",
   "metadata": {},
   "source": [
    "Esto nos lleva a un modelo de regresion lineal de la forma:"
   ]
  },
  {
   "cell_type": "markdown",
   "metadata": {},
   "source": [
    "<img src=\"imagenes/regresion_lineal_one_hot_encoding.png\">"
   ]
  },
  {
   "cell_type": "markdown",
   "metadata": {},
   "source": [
    "Este modelo captura un <b>coeficiente</b> por cada una de las variables del modelo y estima la calificacion en base a estos coeficientes. En otras palabras la calificacion va a depender del usuario y la pelicula. Es muy similar al modelo en el cual usabamos la desviacion del usuario y la pelicula para estimar la calificacion. Podemos extender este modelo agrengando otras variables codificadas mediante one-hot encoding como por ejemplo cuales son las otras peliculas calificadas por el usuario, en que momento hizo la calificacion o cual es la ultima pelicula calificada."
   ]
  },
  {
   "cell_type": "markdown",
   "metadata": {},
   "source": [
    "<img src=\"imagenes/features_codificados_one_hot_encoding.png\">"
   ]
  },
  {
   "cell_type": "markdown",
   "metadata": {},
   "source": []
  }
 ],
 "metadata": {
  "kernelspec": {
   "display_name": "Python 3",
   "language": "python",
   "name": "python3"
  },
  "language_info": {
   "codemirror_mode": {
    "name": "ipython",
    "version": 3
   },
   "file_extension": ".py",
   "mimetype": "text/x-python",
   "name": "python",
   "nbconvert_exporter": "python",
   "pygments_lexer": "ipython3",
   "version": "3.7.0"
  }
 },
 "nbformat": 4,
 "nbformat_minor": 2
}
