{
 "cells": [
  {
   "cell_type": "markdown",
   "metadata": {},
   "source": [
    "# Sistemas de Recomendaciones"
   ]
  },
  {
   "cell_type": "markdown",
   "metadata": {},
   "source": [
    "Un sistema de recomendaciones tiene el objetivo de recomendarle a usuario contenido que le interese, pero no que no sabe que existe, que no conoce. "
   ]
  },
  {
   "cell_type": "markdown",
   "metadata": {},
   "source": [
    "Hay una gran diferencia entre un sistema de recomendacion y un sistema de busquedas como Google. En el segundo el usuario sabe lo que esta buscando, en cambio en el primero no. "
   ]
  },
  {
   "cell_type": "markdown",
   "metadata": {},
   "source": [
    "Cuando se trata de busquedas, el usuario queda limitado a lo que conoce. Y se pierde todo lo que no le interesa pero que no conoce, este subespacio de lo desconocido suele ser mas grande que el subespacio de lo conocido. Por lo tanto poder brindarle lo desconocido es algo sumamente provechoso. Es algo de un gran avance."
   ]
  }
 ],
 "metadata": {
  "kernelspec": {
   "display_name": "Python 3",
   "language": "python",
   "name": "python3"
  },
  "language_info": {
   "codemirror_mode": {
    "name": "ipython",
    "version": 3
   },
   "file_extension": ".py",
   "mimetype": "text/x-python",
   "name": "python",
   "nbconvert_exporter": "python",
   "pygments_lexer": "ipython3",
   "version": "3.7.0"
  }
 },
 "nbformat": 4,
 "nbformat_minor": 2
}
