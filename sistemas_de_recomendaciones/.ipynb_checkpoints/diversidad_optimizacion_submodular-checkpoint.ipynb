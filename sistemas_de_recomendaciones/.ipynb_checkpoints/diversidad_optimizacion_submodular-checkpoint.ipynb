{
 "cells": [
  {
   "cell_type": "markdown",
   "metadata": {},
   "source": [
    "# Diversidad: Optimizacion Submodular"
   ]
  },
  {
   "cell_type": "markdown",
   "metadata": {},
   "source": [
    "Uno de los puntos importantes en un sistema de recomendaciones es realizar sugerencias que abarquen una amplia seleccion de distintas categorias para los items. No queremos recomendarle al usuario peliculas o libros que sean todas del mismo genero."
   ]
  },
  {
   "cell_type": "markdown",
   "metadata": {},
   "source": [
    "Vamos a suponer que tenemos una cierta cantidad de items que podemos recomendar y que cada item pertenece a una o varias categorias. El objetivo es que los items que vamos a recomendar cubran la mayor cantidad de temas posibles. Este problema es conocido, se llama <b>set-cover</b> y lamentablemente es <b>NP-Completo</b>, es decir no existe una solucion en tiempo polinomico. Vamos a suponer que la cantidad de items que vamos a recomendar es k."
   ]
  },
  {
   "cell_type": "markdown",
   "metadata": {},
   "source": [
    "Una aproximacion es usar un algoritmo <b>greedy</b>:"
   ]
  },
  {
   "cell_type": "markdown",
   "metadata": {},
   "source": [
    "<img src=\"imagenes/algoritmo_diversidad_greedy.png\">"
   ]
  }
 ],
 "metadata": {
  "kernelspec": {
   "display_name": "Python 3",
   "language": "python",
   "name": "python3"
  },
  "language_info": {
   "codemirror_mode": {
    "name": "ipython",
    "version": 3
   },
   "file_extension": ".py",
   "mimetype": "text/x-python",
   "name": "python",
   "nbconvert_exporter": "python",
   "pygments_lexer": "ipython3",
   "version": "3.7.0"
  }
 },
 "nbformat": 4,
 "nbformat_minor": 2
}
