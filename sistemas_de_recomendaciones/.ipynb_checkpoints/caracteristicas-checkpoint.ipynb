{
 "cells": [
  {
   "cell_type": "markdown",
   "metadata": {},
   "source": [
    "# Caracteristicas de un Sistema de Recomendaciones"
   ]
  },
  {
   "cell_type": "markdown",
   "metadata": {},
   "source": [
    "Un sistema exitoso de recomendacion debe cumplir con las siguientes caracteristicas: <br>\n",
    "<b>Precision</b> <br>\n",
    "<b>Serendipity</b> <br>\n",
    "<b>Diversidad</b> <br>"
   ]
  },
  {
   "cell_type": "markdown",
   "metadata": {},
   "source": [
    "### Precision "
   ]
  },
  {
   "cell_type": "markdown",
   "metadata": {},
   "source": [
    "Con precision se refiere a que sea preciso en recomendar lo que le gusta al usuario. Porque si le recomienda cosas quen o le gustan el usuario terminara desconfiando del sistema."
   ]
  },
  {
   "cell_type": "markdown",
   "metadata": {},
   "source": [
    "### Serendipity"
   ]
  },
  {
   "cell_type": "markdown",
   "metadata": {},
   "source": [
    "Esta caracteristica refiere a no mostrarle al usuario contenido que ya conoce o que puede descubrir facilmente por sus propios medios."
   ]
  },
  {
   "cell_type": "markdown",
   "metadata": {},
   "source": [
    "### Diversidad "
   ]
  },
  {
   "cell_type": "markdown",
   "metadata": {},
   "source": [
    "Esta caracteristica apunta a que el sistema recomiende productos de diversos tipos, si se tratase de pelicula. Un sistema de recomendacion diverso es aquel que recomienda peliculas de varios generos."
   ]
  }
 ],
 "metadata": {
  "kernelspec": {
   "display_name": "Python 3",
   "language": "python",
   "name": "python3"
  },
  "language_info": {
   "codemirror_mode": {
    "name": "ipython",
    "version": 3
   },
   "file_extension": ".py",
   "mimetype": "text/x-python",
   "name": "python",
   "nbconvert_exporter": "python",
   "pygments_lexer": "ipython3",
   "version": "3.7.0"
  }
 },
 "nbformat": 4,
 "nbformat_minor": 2
}
