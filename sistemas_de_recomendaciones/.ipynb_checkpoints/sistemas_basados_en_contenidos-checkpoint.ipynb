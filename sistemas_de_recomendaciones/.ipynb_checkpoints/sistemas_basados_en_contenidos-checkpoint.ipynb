{
 "cells": [
  {
   "cell_type": "markdown",
   "metadata": {},
   "source": [
    "# Sistemas Basados en Contenidos (Content Based)"
   ]
  },
  {
   "cell_type": "markdown",
   "metadata": {},
   "source": [
    "En un <b>sistema de recomendacion</b> basado en contenidos el objetivo es recomendarle al usuario items similares a aquellos que le han <b>gustado</b>."
   ]
  },
  {
   "cell_type": "markdown",
   "metadata": {},
   "source": [
    "Por cada item es necesario construir un <b>it profile</b>, <b>un vector</b> que representa las <b>caracteristicas del item</b>. Imaginemos que este vector es binario es decir cada feature puede ser 1 o 0. Podemos usar como features cosas del estilo \"pelicula es accion\", \"dirigida por Q.Tarantino\",\"duracion menor a 120 minutis\",\"anio de estreno 2014\", etc. El vector puede tener realmente muchas dimensiones a veces miles."
   ]
  },
  {
   "cell_type": "markdown",
   "metadata": {},
   "source": [
    "Por cada usuario podemos tambien construir un <b>profile</b> que es un vector de igual cantidad de dimensiones, luego cuando un usuario califica una pelicula sumamos el puntaje a aquellas dimensiones para las cuales la pelicula tiene un \"1\" en su feature. Por ejemplo si el usaurio califica con un \"5\" a \"Pulp Fiction\" vamos a sumar 5 a la dimension que corresponde a \"pelicula de accion\", \"dirigida por Q. Tarantino\",\"con Bruce Willis\", etc."
   ]
  },
  {
   "cell_type": "markdown",
   "metadata": {},
   "source": [
    "Teniendo el <b>profile</b> de cada item y de cada usuario podemos estimar la califiacion de un usuario para un item calculando el coseno entrelos profiles."
   ]
  },
  {
   "cell_type": "markdown",
   "metadata": {},
   "source": [
    "<img src=\"imagenes/coseno_entre_vectores.png\">"
   ]
  },
  {
   "cell_type": "markdown",
   "metadata": {},
   "source": [
    "Eventualmente hay que hacer algunas cuentas: Podemos <b>normalizar</b> a todos los vectores para que tengan norma = 1 y entonces el resultado del coseno una <b>semejanza</b> entre 0 y 1. Si la <b>semejanza</b> va de 0 a 1 podemos multiplicar por la calificacion maxima para estimar una calificacion."
   ]
  },
  {
   "cell_type": "markdown",
   "metadata": {},
   "source": [
    "Los sistemas basados en contenido poseen varias <b>ventajas</b>:"
   ]
  },
  {
   "cell_type": "markdown",
   "metadata": {},
   "source": [
    "- Solo necesitan la informacion del usuario para realizarle recomendaciones, es decir que puede haber un unico usuario y el sistema funciona.\n",
    "- Tienen la habilidad de detectar los gustos particulares de los usuarios.\n",
    "- Pueden recomendar items que sean nuevos o que no sean populares, solo se necesita tener el profile del item.\n",
    "- Pueden explicar el motivo de sus recomendaciones, listando cuales son los features que hicieron que el item sea recomendado."
   ]
  },
  {
   "cell_type": "markdown",
   "metadata": {},
   "source": [
    "Entre las <b>desventajas</b> podemos encontrar:"
   ]
  },
  {
   "cell_type": "markdown",
   "metadata": {},
   "source": [
    "- Encontrar los features necesarios para construir los profiles es algo realmente dificil.\n",
    "- No puede recomendar nada a los usuarios nuevos ya que estos no tienen profile.\n",
    "- No pueden recomendar items que no estan dentro de los gustos del usuario de forma que son sistemas que pueden quedar sobre-especializados.\n",
    "- No tienen la posibilidad de usar la opinion de otros usuarios sobre los items."
   ]
  },
  {
   "cell_type": "markdown",
   "metadata": {},
   "source": [
    "Los sistemas basados en contenidos pueden funcionar muy bien pero son bastante dificiles de crear y mantener principalmente por la necesidad de seleccionar todos los features necesarios para construir un profile. En general no son tan populares como los <b>sistemas basados en collaborative filtering</b>."
   ]
  }
 ],
 "metadata": {
  "kernelspec": {
   "display_name": "Python 3",
   "language": "python",
   "name": "python3"
  },
  "language_info": {
   "codemirror_mode": {
    "name": "ipython",
    "version": 3
   },
   "file_extension": ".py",
   "mimetype": "text/x-python",
   "name": "python",
   "nbconvert_exporter": "python",
   "pygments_lexer": "ipython3",
   "version": "3.6.4"
  }
 },
 "nbformat": 4,
 "nbformat_minor": 2
}
