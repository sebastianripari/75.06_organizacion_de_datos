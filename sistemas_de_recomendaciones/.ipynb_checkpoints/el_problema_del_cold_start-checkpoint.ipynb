{
 "cells": [
  {
   "cell_type": "markdown",
   "metadata": {},
   "source": [
    "# El problema del Cold-Start: Multi-armed Bandits"
   ]
  },
  {
   "cell_type": "markdown",
   "metadata": {},
   "source": [
    "Uno de los problemas mas dificiles en un sistema de recomendaciones es como incoporar nuevos items al sistema. Para los items que son populares podemos no hacer nada y eventualmente estos van a tener suficientes rankings como para ser recomendados. Esto es algo que a un sistema de recomendaciones no le importa porque los items populares siempre van a ser consumidos. Lo importante en un sistema de recomendaciones es poder recomendar items que no sean populares y que puedan ser del agrado de los usuarios maximizando el uso de <b>long tail</b>. Los items que son nuevos y no son populares (masivos) nunca son recomendados y por lo tanto nunca reciben <b>rankings</b> lo cual genera un circulo visioso que conocemos como <b>cold star problem</b>."
   ]
  },
  {
   "cell_type": "markdown",
   "metadata": {},
   "source": [
    "El objetivo es entonces desarrollar un algoritmo que nos permita recomendar items nuevos a los usuarios sin que estos sean populares. Algunos de estos items van a ser buenos y otros no, incluso pueden ser muy malos. El problema es similar a jugar con maquinas tragamonedas en donde sabemos que alguna maquina da mas premios que las otras pero no sabemos cual. Tenemos que descubrir esto mediante experimentacion, es por esto que los algoritmos que se encargan de esta tipo de cuestiones se denominan <b>multi-armed bandits</b>."
   ]
  },
  {
   "cell_type": "markdown",
   "metadata": {},
   "source": [
    "## Multi-Armed Bandits"
   ]
  },
  {
   "cell_type": "markdown",
   "metadata": {},
   "source": [
    "Supongamos que medimos si un usuario le gusto o no una recomendacion mediante 1 o 0, supongamos que tenemos varios items y decidimos usar un algoritmo <b>greedy</b> es decir recomendar el item que tiene mejores resultados hasta ahora. Ofrecemos el item <b>k1</b> a un usuario cualquiera y al usuario no le gusta <b>x1 = 0</b> ofrecemos el item <b>k2</b> a algun usuario y al usuario no le gusta <b>x2 = 1</b>, a partir de ahi el item <b>k1</b> no va a volver a ser recomendado nunca mas ya que tiene resultado igual a 0 y el item k2 en el peor de los casos sera 1/N > 0. <b>Greedy</b> no funciona, porque abandona rapidamente a los items que no fueron exitosos en su primer intento."
   ]
  },
  {
   "cell_type": "markdown",
   "metadata": {},
   "source": [
    "La clave consiste en combinar <b>exploracion y explotacion</b>. La exploracion consiste en ofrecer nuevas alternativas. La explotacion consiste en recomendar la mejor alternativa en base a los resultados observados. <b>El algoritmo Greedy explota pero no explora</b>."
   ]
  },
  {
   "cell_type": "markdown",
   "metadata": {},
   "source": [
    "### Algoritmo Epsilon"
   ]
  },
  {
   "cell_type": "markdown",
   "metadata": {},
   "source": [
    "En este algoritmo en cada instante con probabilidad <b>epsilon</b> elegimos el item con mejor promedio hasta ahora y con probabilidad <b>1 - episilon</b> elegimos un item cualquiera al azar (de los items que son nuevos obviamente)."
   ]
  },
  {
   "cell_type": "markdown",
   "metadata": {},
   "source": [
    "El hiper-parametro <b>epsilon</b> <b>controla el balance entre exploracion y explotacion</b>, dependiendo del valor optimo de los datos. Uno de los problemas del algoritmo epsilon es que la exploracion no tiene criterio, es completamente aleatoria."
   ]
  },
  {
   "cell_type": "markdown",
   "metadata": {},
   "source": [
    "### Algoritmo UCB1"
   ]
  },
  {
   "cell_type": "markdown",
   "metadata": {},
   "source": [
    "En cada instante <b>t</b> elegimos el mayor valor de <b>UCB(j)</b>."
   ]
  },
  {
   "cell_type": "markdown",
   "metadata": {},
   "source": [
    "<img src=\"imagenes/UCB.png\">"
   ]
  },
  {
   "cell_type": "markdown",
   "metadata": {},
   "source": [
    "Donde <b>tries</b> es la cantidad de veces que <b>itentamos el item</b> j, <b>mu j</b> es el promedio de exito del item j hasta el momento. Alfa es un hiper-parametro."
   ]
  },
  {
   "cell_type": "markdown",
   "metadata": {},
   "source": [
    "El promedio de cada item se puede estimar mediante algun algoritmo Machine Learning (regresion) por ejemplo en base a los features propios de cada item, como su director, actores, genero, presupuesto, etc. Este promedio puede usarse como <b>mu j</b> para UCB1."
   ]
  },
  {
   "cell_type": "markdown",
   "metadata": {},
   "source": [
    "Los algoritmos que vimos en esta seccion no solo se aplican al problema del <b>cold-star</b> en sistemas de recomendaciones sino a muchos otros casos, como por ejemplo colocacion de avisos en pagina web en base a su <b>CTR</b> (click through rate), posicion de los articulos en un sitio de noticias, etc."
   ]
  },
  {
   "cell_type": "markdown",
   "metadata": {},
   "source": [
    "A proposito, si alguien quiere hacerle danio a una empresa que publicita en la web lo peor que podemos hacerles es clickear sus avisos. Esto no solo hace que se les cobre sino que genera un aumento en la probabilidad de que estos avisos sean mostrados generando un gasto todabia mayor."
   ]
  }
 ],
 "metadata": {
  "kernelspec": {
   "display_name": "Python 3",
   "language": "python",
   "name": "python3"
  },
  "language_info": {
   "codemirror_mode": {
    "name": "ipython",
    "version": 3
   },
   "file_extension": ".py",
   "mimetype": "text/x-python",
   "name": "python",
   "nbconvert_exporter": "python",
   "pygments_lexer": "ipython3",
   "version": "3.7.0"
  }
 },
 "nbformat": 4,
 "nbformat_minor": 2
}
