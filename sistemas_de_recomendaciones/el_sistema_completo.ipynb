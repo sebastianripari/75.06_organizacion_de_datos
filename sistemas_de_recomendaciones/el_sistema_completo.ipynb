{
 "cells": [
  {
   "cell_type": "markdown",
   "metadata": {},
   "source": [
    "# El Sistema Completo"
   ]
  },
  {
   "cell_type": "markdown",
   "metadata": {},
   "source": [
    "Un sistema de recomendaciones tiene muchos componentes, necesitamos recolectar la mayor cantidad posible de calificaciones para poder alimentar el algoritmo de <b>collaborative filtering</b>, un muchos sistemas modernos no contamos con calificaciones sino con informacion sobre que item compro cada usuario (o consumio). Mediante <b>collaborative filtering</b> podemos predecir si un usuario va a comprar o consumir cada uno de los items que no ha consumido aun."
   ]
  },
  {
   "cell_type": "markdown",
   "metadata": {},
   "source": [
    "<b>Collaborative filtering</b> es un proceso costoso en donde uno de los puntos criticos es la busqueda de items semejantes, para esta tarea podemos usar LSH como una forma de aproximar de forma eficiente el problema de los vecinos mas cercanos. El uso de factores latentes como la <b>SVD++</b> o <b>RBMs</b> mejora los resultados de <b>Collaborative filtering</b> notablemente. "
   ]
  },
  {
   "cell_type": "markdown",
   "metadata": {},
   "source": [
    "<b>CF</b> nos da una lista de items que pensamos que pueden gustarle al usuario, de esta lista tenemos que filtrar aquellos que por su popularidad resultan \"obvios\" (serendipity) y podemos aplicar un algoritmo de diversidad para que los resultados abarquen la mayor cantidad de categorias posibles."
   ]
  },
  {
   "cell_type": "markdown",
   "metadata": {},
   "source": [
    "Finalmente mediante <b>Learning to Rank</b> ordenamos las recomendaciones y se las entregamos al usuario."
   ]
  },
  {
   "cell_type": "markdown",
   "metadata": {},
   "source": [
    "Hay muchos detalles mas que son particulares de cada sistema, estos sistemas son tremendamente importantes en el mundo moderno generando en algunos mas del 50% porciento de los ingresos de empresas como Netflix o Amazon que necesitan de buenas recomendaciones para generar mas ventas."
   ]
  }
 ],
 "metadata": {
  "kernelspec": {
   "display_name": "Python 3",
   "language": "python",
   "name": "python3"
  },
  "language_info": {
   "codemirror_mode": {
    "name": "ipython",
    "version": 3
   },
   "file_extension": ".py",
   "mimetype": "text/x-python",
   "name": "python",
   "nbconvert_exporter": "python",
   "pygments_lexer": "ipython3",
   "version": "3.7.0"
  }
 },
 "nbformat": 4,
 "nbformat_minor": 2
}
