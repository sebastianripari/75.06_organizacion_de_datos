{
 "cells": [
  {
   "cell_type": "markdown",
   "metadata": {},
   "source": [
    "# Modelo de Barabasi-Albert"
   ]
  },
  {
   "cell_type": "markdown",
   "metadata": {},
   "source": [
    "Este modelo de grafo tiene la particularidad de que <b>no</b> genera aristas de forma aleatoria sino que utiliza un modelo llamado <b>preferential attachment</b>, que dice que la probabilidad de agregar una arista depende de los  grados de los nodos. Mientras mayor sea el grado de un nodo mas probable es que se genere una nueva arista en este nodo. Este fenomeno es como la frase <b>\"los ricos son cada ves mas ricos\"</b>."
   ]
  },
  {
   "cell_type": "markdown",
   "metadata": {},
   "source": [
    "<img src=\"prob_arista.png\">"
   ]
  },
  {
   "cell_type": "markdown",
   "metadata": {},
   "source": [
    "<b>Numerador: k sub i</b> es el grado del nodo. <br>\n",
    "<b>Denominador: </b> sumatoria de los grados de todos los nodos."
   ]
  },
  {
   "cell_type": "markdown",
   "metadata": {},
   "source": [
    "Este modelo genera una distribucion de aristas que es una <b>ley de potencias</b>. Compatible con el grafo de una Red Social."
   ]
  },
  {
   "cell_type": "markdown",
   "metadata": {},
   "source": [
    "El diametro de este modelo es <b>O(log log N)</b>. Compatible con el grafo de una Red Social."
   ]
  }
 ],
 "metadata": {
  "kernelspec": {
   "display_name": "Python 3",
   "language": "python",
   "name": "python3"
  },
  "language_info": {
   "codemirror_mode": {
    "name": "ipython",
    "version": 3
   },
   "file_extension": ".py",
   "mimetype": "text/x-python",
   "name": "python",
   "nbconvert_exporter": "python",
   "pygments_lexer": "ipython3",
   "version": "3.6.4"
  }
 },
 "nbformat": 4,
 "nbformat_minor": 2
}
