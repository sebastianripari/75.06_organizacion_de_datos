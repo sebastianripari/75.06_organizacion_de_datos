{
 "cells": [
  {
   "cell_type": "markdown",
   "metadata": {},
   "source": [
    "# Uniones Fuertes y Debiles"
   ]
  },
  {
   "cell_type": "markdown",
   "metadata": {},
   "source": [
    "Se pueden caracterizar las aristas de una red segun la <b>fuerza</b> de sus uniones. En general una union es <b>debil</b> cuando al removerla el camino minimo entre los nodos que la arista unia se incrementa. Se define <b>span</b> de una arista como la distancia entre los nodos si se remueve la arista. Un <b>puente local</b> es una arista cuyos vecinos no tienen vecinos en comun. "
   ]
  },
  {
   "cell_type": "markdown",
   "metadata": {},
   "source": [
    "En la siguiente figura se ve que la arista <b>A-B</b> es un <b>puente local</b> y el <b>span</b> de esta arista es 4, ya que si se remueve esta arista el camino minimo que une los nodos es 4."
   ]
  },
  {
   "cell_type": "markdown",
   "metadata": {},
   "source": [
    "<img src=\"uniones_debiles.png\">"
   ]
  },
  {
   "cell_type": "markdown",
   "metadata": {},
   "source": [
    "Un estudio realizado por <b>Granovetter</b> comprobo que las uniones debiles son muy importantes en la Redes ya que son aquellas que permiten <b>descubrir</b> cosas. Ya que son las que nos tienen unido de forma muy debil a algo porque ese algo no lo conocemos con profundidad sino la union no seria debil. Es una union debil que a medida que nos vamos conectando mas se hara fuerte."
   ]
  }
 ],
 "metadata": {
  "kernelspec": {
   "display_name": "Python 3",
   "language": "python",
   "name": "python3"
  },
  "language_info": {
   "codemirror_mode": {
    "name": "ipython",
    "version": 3
   },
   "file_extension": ".py",
   "mimetype": "text/x-python",
   "name": "python",
   "nbconvert_exporter": "python",
   "pygments_lexer": "ipython3",
   "version": "3.6.4"
  }
 },
 "nbformat": 4,
 "nbformat_minor": 2
}
