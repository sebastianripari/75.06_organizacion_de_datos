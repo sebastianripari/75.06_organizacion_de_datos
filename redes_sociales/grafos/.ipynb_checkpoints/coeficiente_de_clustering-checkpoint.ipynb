{
 "cells": [
  {
   "cell_type": "markdown",
   "metadata": {},
   "source": [
    "# Coeficiente de Clustering"
   ]
  },
  {
   "cell_type": "markdown",
   "metadata": {},
   "source": [
    "El coeficiente de clustering mide que tan conectados estan los vecinos de un nodo."
   ]
  },
  {
   "cell_type": "markdown",
   "metadata": {},
   "source": [
    "<b>e sub i</b> es la cantidad de aristas que poseen los nodos vecinos de <b>i</b>. <br>\n",
    "<b>k sub i</b> es el grado del nodo <b>i</b>"
   ]
  },
  {
   "cell_type": "markdown",
   "metadata": {},
   "source": [
    "<img src=\"coeficiente_de_clustering_formula.png\">"
   ]
  },
  {
   "cell_type": "markdown",
   "metadata": {},
   "source": [
    "### Ejemplos"
   ]
  },
  {
   "cell_type": "code",
   "execution_count": null,
   "metadata": {},
   "outputs": [],
   "source": [
    "# Ejemplo 1\n",
    "# k sub i es 3\n",
    "# e sub i es 3 \n",
    "# => 2*3 /3*(3-1) = 6 / 3 * 2 = 6 / 6 = 1"
   ]
  },
  {
   "cell_type": "code",
   "execution_count": null,
   "metadata": {},
   "outputs": [],
   "source": [
    "# Ejemplo 2\n",
    "# k sub i es 3\n",
    "# e sub i es 1 \n",
    "# => 2*1 /3*(3-1) = 2 / 3 * 2 = 2 / 6 = 1 / 3"
   ]
  },
  {
   "cell_type": "code",
   "execution_count": null,
   "metadata": {},
   "outputs": [],
   "source": [
    "# Ejemplo 3\n",
    "# k sub i es 3\n",
    "# e sub i es 0\n",
    "# => 2*0 /3*(3-1) = 0 / 3 * 2 = 0 / 6 = 0"
   ]
  },
  {
   "cell_type": "markdown",
   "metadata": {},
   "source": [
    "<img src=\"coeficiente_de_clustering_grafico.png\">"
   ]
  },
  {
   "cell_type": "markdown",
   "metadata": {},
   "source": [
    "### Coeficiente de Clustering en una Red Social"
   ]
  },
  {
   "cell_type": "markdown",
   "metadata": {},
   "source": [
    "Es el promedio los coeficientes de clustering de todos los nodos."
   ]
  },
  {
   "cell_type": "markdown",
   "metadata": {},
   "source": [
    "<img src=\"ccrs.png\">"
   ]
  },
  {
   "cell_type": "markdown",
   "metadata": {},
   "source": [
    "<b>Observacion: </b>En una red social el coeficiente de clustering es en general un numero alto. Ya que los vecinos de un nodo tienden a estar conectados entre si precisamente por tener en comun su relacion con ese nodo."
   ]
  }
 ],
 "metadata": {
  "kernelspec": {
   "display_name": "Python 3",
   "language": "python",
   "name": "python3"
  },
  "language_info": {
   "codemirror_mode": {
    "name": "ipython",
    "version": 3
   },
   "file_extension": ".py",
   "mimetype": "text/x-python",
   "name": "python",
   "nbconvert_exporter": "python",
   "pygments_lexer": "ipython3",
   "version": "3.7.0"
  }
 },
 "nbformat": 4,
 "nbformat_minor": 2
}
