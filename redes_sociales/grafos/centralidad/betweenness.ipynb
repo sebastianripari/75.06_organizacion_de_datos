{
 "cells": [
  {
   "cell_type": "markdown",
   "metadata": {},
   "source": [
    "# Betweenness"
   ]
  },
  {
   "cell_type": "markdown",
   "metadata": {},
   "source": [
    "La definicion de <b>betweenness</b> se interpreta como la cantidad de caminos minimos que pasan por un nodo o arista."
   ]
  },
  {
   "cell_type": "markdown",
   "metadata": {},
   "source": [
    "Es decir que puede usarse tanto para calcular la <b>importancia</b> de los <b>nodos</b> como la de las <b>aristas</b>."
   ]
  },
  {
   "cell_type": "markdown",
   "metadata": {},
   "source": [
    "<b>Definicion</b> formal:"
   ]
  },
  {
   "cell_type": "markdown",
   "metadata": {},
   "source": [
    "<img src=\"betweenness.png\">"
   ]
  },
  {
   "cell_type": "markdown",
   "metadata": {},
   "source": [
    "En donde <b>Gjk</b> es la cantidad de caminos minimos que conectan <b>j</b> con <b>k</b>, y <b>Gjk(i)</b> es la cantidad de caminos minimos entre j y k de los que participa i."
   ]
  },
  {
   "cell_type": "markdown",
   "metadata": {},
   "source": [
    "<img src=\"betweenness_ejemplo.png\">"
   ]
  },
  {
   "cell_type": "code",
   "execution_count": 1,
   "metadata": {},
   "outputs": [],
   "source": [
    "# A-B = A-B\n",
    "# A-C = A-B-C (B suma 1 punto)\n",
    "# A-D = A-B-D (B suma 1 punto)\n",
    "# A-E = A-B-C-E o A-B-D-E (B suma 1 punto, C y D suman 1/2 punto)\n",
    "\n",
    "# B-C = B-C\n",
    "# B-D = B-D\n",
    "# B-E = B-C-E o B-D-E (C y D suman 1/2 punto)\n",
    "\n",
    "# C-D = C-B-D o C-E-D (B y E suman 1/2 punto)\n",
    "# C-E = C-E\n",
    "\n",
    "# E-D = E-D"
   ]
  },
  {
   "cell_type": "markdown",
   "metadata": {},
   "source": [
    "........................."
   ]
  }
 ],
 "metadata": {
  "kernelspec": {
   "display_name": "Python 3",
   "language": "python",
   "name": "python3"
  },
  "language_info": {
   "codemirror_mode": {
    "name": "ipython",
    "version": 3
   },
   "file_extension": ".py",
   "mimetype": "text/x-python",
   "name": "python",
   "nbconvert_exporter": "python",
   "pygments_lexer": "ipython3",
   "version": "3.6.4"
  }
 },
 "nbformat": 4,
 "nbformat_minor": 2
}
