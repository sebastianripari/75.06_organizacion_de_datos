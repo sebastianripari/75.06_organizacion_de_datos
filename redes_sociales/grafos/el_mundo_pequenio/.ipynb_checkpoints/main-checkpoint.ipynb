{
 "cells": [
  {
   "cell_type": "markdown",
   "metadata": {},
   "source": [
    "# El Mundo Pequenio"
   ]
  },
  {
   "cell_type": "markdown",
   "metadata": {},
   "source": [
    "Este <b>fenomeno</b> dice cualquier persona en el mundo esta conectada con cualquier otra por medio de unas pocas relaciones."
   ]
  },
  {
   "cell_type": "markdown",
   "metadata": {},
   "source": [
    "Surge en <b>1967</b> a partir de un estudio hecho por <b>Stanley Milgram</b>. Este estudio consistio en agarrar 300 personas en diversos estados de USA, y se les pidio que le hagan llegar una carta a una persona especifica de Boston, ellos solo conocian su nombre. Asi que la forma que tenian de hacerle llegar la carta era mandarsela a alguien que ellos crean que los acerca a esta persona, y a su ves esta persona que haga lo mismo, hasta llegar con la persona objetivo. El resultado de este estudio es que en promedio fue necesario <b>6.2</b> pasos, osea personas intermediarias, para llegar a la persona objetivo. <b>Un numero impresionantemente pequenio !</b>."
   ]
  }
 ],
 "metadata": {
  "kernelspec": {
   "display_name": "Python 3",
   "language": "python",
   "name": "python3"
  },
  "language_info": {
   "codemirror_mode": {
    "name": "ipython",
    "version": 3
   },
   "file_extension": ".py",
   "mimetype": "text/x-python",
   "name": "python",
   "nbconvert_exporter": "python",
   "pygments_lexer": "ipython3",
   "version": "3.6.4"
  }
 },
 "nbformat": 4,
 "nbformat_minor": 2
}
