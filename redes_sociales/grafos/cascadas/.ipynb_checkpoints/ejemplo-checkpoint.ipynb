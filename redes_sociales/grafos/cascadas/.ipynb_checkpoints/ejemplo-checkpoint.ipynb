{
 "cells": [
  {
   "cell_type": "markdown",
   "metadata": {},
   "source": [
    "# Ejemplo Cascada"
   ]
  },
  {
   "cell_type": "markdown",
   "metadata": {},
   "source": [
    "En el ejemplo de la figura se ve que los nodos <b>u</b> y <b>v</b> inician una cascada en un momento <b>t</b> y definimos a <b>q</b> en 0.5, asi que si <b>mas</b> del 50% de los vecinos comparten la publicacion el nodo tambien lo hara."
   ]
  },
  {
   "cell_type": "markdown",
   "metadata": {},
   "source": [
    "<img src=\"ejemplo_cascada.png\">"
   ]
  },
  {
   "cell_type": "code",
   "execution_count": 1,
   "metadata": {},
   "outputs": [],
   "source": [
    "# En un instante t + 1 \n",
    "\n",
    "# Vecinos de u\n",
    "# Nodo Abajo de u: 1/1 = 1 => Comparte\n",
    "# Nodo Izquierda de u: 1/2 = 0.5 => No Comparte\n",
    "# Nodo Arriba Izquierda de u: 1/2 = 0.5 => No Comparte\n",
    "# Nodo Arriba Derecha de u: 2/2 = 1 => Comparte\n",
    "\n",
    "# Vecinos de v\n",
    "# Nodo Abajo Izquierda: 1/3 = 0.33 => No Comparte\n",
    "# Nodo Abajo Izquierda: 1/3 = 0.33 => No Comparte\n",
    "# Nodo Arriba Izquierda: 2/3 = 0.66 => Comparte\n",
    "# Nodo Arriba Derecha: 1/1 = 1 => Comparte"
   ]
  },
  {
   "cell_type": "code",
   "execution_count": 3,
   "metadata": {},
   "outputs": [],
   "source": [
    "# En un instante t + 2\n",
    "\n",
    "# Vecinos de u\n",
    "# Nodo Izquierda de u: 1/2 => No Comparte\n",
    "# Nodo Arriba Izquierda de u: 1/2 = 0.5 => No Comparte\n",
    "\n",
    "# Vecinos de v\n",
    "# Nodo Abajo Izquierda: 1/3 = 0.33 => No Comparte\n",
    "# Nodo Abajo Izquierda: 2/3 = 0.66 => Comparte"
   ]
  },
  {
   "cell_type": "code",
   "execution_count": 4,
   "metadata": {},
   "outputs": [],
   "source": [
    "# En un instante t + 3\n",
    "\n",
    "# Vecinos de u\n",
    "# Nodo Izquierda de u: 1/2 => No Comparte\n",
    "# Nodo Arriba Izquierda de u: 1/2 = 0.5 => No Comparte\n",
    "\n",
    "# Vecinos de v\n",
    "# Nodo Abajo Izquierda: 2/3 = 0.66 => Comparte"
   ]
  },
  {
   "cell_type": "markdown",
   "metadata": {},
   "source": [
    "<img src=\"ejemplo_cascada_2.png\">"
   ]
  },
  {
   "cell_type": "markdown",
   "metadata": {},
   "source": [
    "Asi queda la <b>difucion</b>, quedaron dos nodos que no se contagiaron y nunca lo haran. Osea que aqui se detuvo la cascada."
   ]
  }
 ],
 "metadata": {
  "kernelspec": {
   "display_name": "Python 3",
   "language": "python",
   "name": "python3"
  },
  "language_info": {
   "codemirror_mode": {
    "name": "ipython",
    "version": 3
   },
   "file_extension": ".py",
   "mimetype": "text/x-python",
   "name": "python",
   "nbconvert_exporter": "python",
   "pygments_lexer": "ipython3",
   "version": "3.6.4"
  }
 },
 "nbformat": 4,
 "nbformat_minor": 2
}
