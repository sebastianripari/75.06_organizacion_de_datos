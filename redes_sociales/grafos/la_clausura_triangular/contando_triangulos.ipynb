{
 "cells": [
  {
   "cell_type": "markdown",
   "metadata": {},
   "source": [
    "# Contando Triangulos (en un grafo)"
   ]
  },
  {
   "cell_type": "markdown",
   "metadata": {},
   "source": [
    "El metodo <b>trivial</b> consiste en tomar cada nodo y por cada nodo tomar sus vecinos y verificar si para cada par de vecinos existen un link entre ellos."
   ]
  },
  {
   "cell_type": "markdown",
   "metadata": {},
   "source": [
    "<img src=\"matriz_adyacencia.png\"><img src=\"grafo.png\">"
   ]
  },
  {
   "cell_type": "code",
   "execution_count": 2,
   "metadata": {},
   "outputs": [],
   "source": [
    "# Triangulos\n",
    "# 1,6,7\n",
    "# 7,6,8\n",
    "# 5,2,4\n",
    "# 5,2,3\n",
    "# 9,1,7"
   ]
  },
  {
   "cell_type": "markdown",
   "metadata": {},
   "source": [
    "Para grafos grandes se necesita un metodo mas <b>eficiente</b>."
   ]
  },
  {
   "cell_type": "markdown",
   "metadata": {},
   "source": [
    "#### M al 2 representa la cantidad de caminos de longitud 2 que empiezan en i y terminan en j"
   ]
  },
  {
   "cell_type": "markdown",
   "metadata": {},
   "source": [
    "<img src=\"matriz_adyacencia_al_2.png\">"
   ]
  },
  {
   "cell_type": "markdown",
   "metadata": {},
   "source": [
    "#### M al 3 representa la cantidad de caminos de longitud 3 que empiezan en i y terminan en j"
   ]
  },
  {
   "cell_type": "markdown",
   "metadata": {},
   "source": [
    "<img src=\"matriz_adyacencia_al_3.png\">"
   ]
  },
  {
   "cell_type": "markdown",
   "metadata": {},
   "source": [
    "Por lo tanto la diagonal de <b>m al 3</b> representa la cantidad de caminos de logitud 3 que empiezan en i y terminan en i. Por ejemplo para el nodo 1. Es:"
   ]
  },
  {
   "cell_type": "code",
   "execution_count": null,
   "metadata": {},
   "outputs": [],
   "source": [
    "# Caminos de longitud 3.\n",
    "\n",
    "# 1,7,9,1\n",
    "# 1,9,7,1\n",
    "# 1,6,7,1\n",
    "# 1,7,6,1"
   ]
  },
  {
   "cell_type": "markdown",
   "metadata": {},
   "source": [
    "<b>Observacion: </b>notar como los triangulos se cuentan dos veces cada uno."
   ]
  },
  {
   "cell_type": "markdown",
   "metadata": {},
   "source": [
    "Asi que la forma de contar la <b>cantidad de triangulos</b> del <b>grafo</b> es sumando todos los valores de la diagonal de M al cubo pero diviendola por 2. Pero no solo eso, tambien se debe dividir por 3, para evitar contar 3 veces el mismo triangulo por cada nodo participante del triangulo. Asi que finalmente concluimos que la forma es sumar los elementos de la diagonal y dividir ese numero por 6."
   ]
  }
 ],
 "metadata": {
  "kernelspec": {
   "display_name": "Python 3",
   "language": "python",
   "name": "python3"
  },
  "language_info": {
   "codemirror_mode": {
    "name": "ipython",
    "version": 3
   },
   "file_extension": ".py",
   "mimetype": "text/x-python",
   "name": "python",
   "nbconvert_exporter": "python",
   "pygments_lexer": "ipython3",
   "version": "3.6.4"
  }
 },
 "nbformat": 4,
 "nbformat_minor": 2
}
