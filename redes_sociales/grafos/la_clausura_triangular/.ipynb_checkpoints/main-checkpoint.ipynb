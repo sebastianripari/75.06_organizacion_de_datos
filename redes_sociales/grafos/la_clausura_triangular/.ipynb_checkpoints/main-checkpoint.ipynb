{
 "cells": [
  {
   "cell_type": "markdown",
   "metadata": {},
   "source": [
    "# La Clausura Triangular"
   ]
  },
  {
   "cell_type": "markdown",
   "metadata": {},
   "source": [
    "La <b>clausura triangular</b> es un fenomeno que origina un <b>alto</b> coeficiente de clustering en las Redes Sociales y puede <b>enunciarse</b> de forma muy simple: \"si <b>A</b> conoce a <b>B</b> y <b>C</b> entonces tarde o temprano <b>B</b> conoce a <b>C</b>."
   ]
  },
  {
   "cell_type": "markdown",
   "metadata": {},
   "source": [
    "<b>Contar</b> triangulos dentro de un grafo es entonces una de las formas mas efectivas de determinar si el grafo responde a el de una Red Social."
   ]
  }
 ],
 "metadata": {
  "kernelspec": {
   "display_name": "Python 3",
   "language": "python",
   "name": "python3"
  },
  "language_info": {
   "codemirror_mode": {
    "name": "ipython",
    "version": 3
   },
   "file_extension": ".py",
   "mimetype": "text/x-python",
   "name": "python",
   "nbconvert_exporter": "python",
   "pygments_lexer": "ipython3",
   "version": "3.6.4"
  }
 },
 "nbformat": 4,
 "nbformat_minor": 2
}
