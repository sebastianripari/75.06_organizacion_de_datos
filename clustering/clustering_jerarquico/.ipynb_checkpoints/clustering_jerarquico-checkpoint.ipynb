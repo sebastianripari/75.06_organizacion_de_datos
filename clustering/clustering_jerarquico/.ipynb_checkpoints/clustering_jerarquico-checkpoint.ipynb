{
 "cells": [
  {
   "cell_type": "markdown",
   "metadata": {},
   "source": [
    "# Clustering Jerarquico (Hierarchical Clustering)"
   ]
  },
  {
   "cell_type": "markdown",
   "metadata": {},
   "source": [
    "Genera una descomposicion jerarquica del set de datos."
   ]
  },
  {
   "cell_type": "markdown",
   "metadata": {},
   "source": [
    "Veamos el siguiente <b>ejemplo</b>:"
   ]
  },
  {
   "cell_type": "markdown",
   "metadata": {},
   "source": [
    "<img src=\"clustering_jerarquico.png\">"
   ]
  },
  {
   "cell_type": "markdown",
   "metadata": {},
   "source": [
    "En el <b>eje y</b> se encuentran las <b>distancias</b> entres los clusters, y en el <b>eje x</b> se encuentran los nombres de los clusters."
   ]
  },
  {
   "cell_type": "markdown",
   "metadata": {},
   "source": [
    "<b>Notar</b>:\n",
    "- 1 y 3 pertenecen a un cluster. Llamemoslo <b>Cluster 1</b>\n",
    "- 2 y 5 pertenecen a un cluster. Llamemoslo <b>Cluster 2</b>\n",
    "- 4 junto al cluster 2 forman el <b>Cluster 3</b>\n",
    "- El cluster 1 junto al cluster 3 forman el <b>Cluster 4</b>\n",
    "- E cluster 4 junto al 6 forman el <b>Cluster 5</b>"
   ]
  },
  {
   "cell_type": "markdown",
   "metadata": {},
   "source": [
    "El <b>algoritmo</b> lo que hace es en cada paso unir los puntos mas proximos. En nuestro ejemplo al pricipio estos eran 1 y 3. Luego fue 2 y 5. Pero luego lo mas cercano era 4 con el cluster que tiene 2 y 5. Mas adelante veremos como calcular la distancia entre dos clusteres, que no es lo mismo que la distancia entre dos puntos."
   ]
  },
  {
   "cell_type": "markdown",
   "metadata": {},
   "source": [
    "<b>Observacion:</b> Al comienzo todos los puntos o nodos son un cluster."
   ]
  },
  {
   "cell_type": "markdown",
   "metadata": {},
   "source": [
    "#### Distancia entre clusters:"
   ]
  },
  {
   "cell_type": "markdown",
   "metadata": {},
   "source": [
    "Hay varios metodos para calcular la distancia, son los siguientes:"
   ]
  },
  {
   "cell_type": "markdown",
   "metadata": {},
   "source": [
    "- La distancia minima entre dos puntos de cada cluster.\n",
    "- La distancia maxima entre dos puntos en cada cluster.\n",
    "- El promedio de las distancias de todos los puntos de un cluster contra todos los puntos del otro cluster.\n",
    "- La distancia entre los centroides de cada cluster, donde centroide es el promedio de los puntos del cluster.\n",
    "- El metodo de Ward."
   ]
  }
 ],
 "metadata": {
  "kernelspec": {
   "display_name": "Python 3",
   "language": "python",
   "name": "python3"
  },
  "language_info": {
   "codemirror_mode": {
    "name": "ipython",
    "version": 3
   },
   "file_extension": ".py",
   "mimetype": "text/x-python",
   "name": "python",
   "nbconvert_exporter": "python",
   "pygments_lexer": "ipython3",
   "version": "3.7.0"
  }
 },
 "nbformat": 4,
 "nbformat_minor": 2
}
