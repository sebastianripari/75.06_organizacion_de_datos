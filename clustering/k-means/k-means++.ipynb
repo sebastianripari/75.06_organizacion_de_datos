{
 "cells": [
  {
   "cell_type": "markdown",
   "metadata": {},
   "source": [
    "# K-Means++"
   ]
  },
  {
   "cell_type": "markdown",
   "metadata": {},
   "source": [
    "<b>K-Means++</b> es una variante de <b>K-Means</b> en donde lo unico que cambia con respecto a K-Means es la forma en que se inicializan los centroides."
   ]
  },
  {
   "cell_type": "markdown",
   "metadata": {},
   "source": [
    "La idea de K-Means++ es <b>asignar los centroides de forma espaciada</b>."
   ]
  },
  {
   "cell_type": "markdown",
   "metadata": {},
   "source": [
    "#### Algoritmo"
   ]
  },
  {
   "cell_type": "code",
   "execution_count": null,
   "metadata": {},
   "outputs": [],
   "source": [
    "# Elegir un punto al azar como primer centroide.\n",
    "# FOR i = 2 HASTA k DO\n",
    "#     Por cada punto calcular la distancia con cada centroide y quedarnos con el minimo.\n",
    "#     Calcular la probabilidad de cada punto como su distancia "
   ]
  },
  {
   "cell_type": "markdown",
   "metadata": {},
   "source": [
    "<img src=\"comparacion_kmeans++_kmeans.png\">"
   ]
  }
 ],
 "metadata": {
  "kernelspec": {
   "display_name": "Python 3",
   "language": "python",
   "name": "python3"
  },
  "language_info": {
   "codemirror_mode": {
    "name": "ipython",
    "version": 3
   },
   "file_extension": ".py",
   "mimetype": "text/x-python",
   "name": "python",
   "nbconvert_exporter": "python",
   "pygments_lexer": "ipython3",
   "version": "3.7.0"
  }
 },
 "nbformat": 4,
 "nbformat_minor": 2
}
