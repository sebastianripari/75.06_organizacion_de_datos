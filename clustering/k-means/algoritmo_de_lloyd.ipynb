{
 "cells": [
  {
   "cell_type": "markdown",
   "metadata": {},
   "source": [
    "# Algoritmo de Lloyd (K-Means)"
   ]
  },
  {
   "cell_type": "markdown",
   "metadata": {},
   "source": [
    "Este algoritmo encuentra una solucion aproximada al problema general de clustering."
   ]
  },
  {
   "cell_type": "markdown",
   "metadata": {},
   "source": [
    "La gran virtud es que es un algoritmo sencillo."
   ]
  },
  {
   "cell_type": "markdown",
   "metadata": {},
   "source": [
    "#### Algoritmo"
   ]
  },
  {
   "cell_type": "code",
   "execution_count": 2,
   "metadata": {},
   "outputs": [],
   "source": [
    "# Inicializar Centroides\n",
    "# WHILE no hay convergencia DO\n",
    "#   |   asignarle a cada punto su centroide mas cercano.\n",
    "#   |   recalcular cada centroide como el promedio de todos sus puntos."
   ]
  },
  {
   "cell_type": "markdown",
   "metadata": {},
   "source": [
    "Lo que se hace es:\n",
    "- Simplemente inicializar k centroides al azar, por ejemplo eligiendo k puntos del set de datos.\n",
    "- Luego se asigna a cada punto del set de datos el centroide mas cercano. \n",
    "- Luego se recalculan los centroides como el promedio de todos sus puntos y se repite el proceso hasta que los centroides convergan."
   ]
  },
  {
   "cell_type": "markdown",
   "metadata": {},
   "source": [
    "La <b>convergencia</b> puede verificarse mediante la diferencia de las posiciones de los centroides del paso actual con el anterior, si se detecta que practicamente no estan cambiando de posicion, se decreta que el algoritmo <b>convergio</b>."
   ]
  }
 ],
 "metadata": {
  "kernelspec": {
   "display_name": "Python 3",
   "language": "python",
   "name": "python3"
  },
  "language_info": {
   "codemirror_mode": {
    "name": "ipython",
    "version": 3
   },
   "file_extension": ".py",
   "mimetype": "text/x-python",
   "name": "python",
   "nbconvert_exporter": "python",
   "pygments_lexer": "ipython3",
   "version": "3.7.0"
  }
 },
 "nbformat": 4,
 "nbformat_minor": 2
}
